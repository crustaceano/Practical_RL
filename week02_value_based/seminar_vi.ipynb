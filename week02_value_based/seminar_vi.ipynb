{
  "cells": [
    {
      "cell_type": "markdown",
      "metadata": {
        "id": "z1dZclSIQKwt"
      },
      "source": [
        "### Markov decision process\n",
        "\n",
        "This week's methods are all built to solve __M__arkov __D__ecision __P__rocesses. In the broadest sense, an MDP is defined by how it changes states and how rewards are computed.\n",
        "\n",
        "State transition is defined by $P(s' |s,a)$ - how likely are you to end at state $s'$ if you take action $a$ from state $s$. Now there's more than one way to define rewards, but we'll use $r(s,a,s')$ function for convenience.\n",
        "\n",
        "_This notebook is inspired by the awesome_ [CS294](https://github.com/berkeleydeeprlcourse/homework/blob/36a0b58261acde756abd55306fbe63df226bf62b/hw2/HW2.ipynb) _by Berkeley_"
      ]
    },
    {
      "cell_type": "markdown",
      "metadata": {
        "id": "Jo5emy3_QKwv"
      },
      "source": [
        "For starters, let's define a simple MDP from this picture:\n",
        "\n",
        "<img src=\"https://upload.wikimedia.org/wikipedia/commons/a/ad/Markov_Decision_Process.svg\" width=\"400px\" alt=\"Diagram by Waldoalvarez via Wikimedia Commons, CC BY-SA 4.0\"/>"
      ]
    },
    {
      "cell_type": "code",
      "execution_count": null,
      "metadata": {
        "id": "dEJHGh8lQKwv",
        "outputId": "e87962d3-5e85-479d-8bba-c84d4ef29e45",
        "colab": {
          "base_uri": "https://localhost:8080/"
        },
        "collapsed": true
      },
      "outputs": [
        {
          "output_type": "stream",
          "name": "stdout",
          "text": [
            "W: Skipping acquire of configured file 'main/source/Sources' as repository 'https://r2u.stat.illinois.edu/ubuntu jammy InRelease' does not seem to provide it (sources.list entry misspelt?)\n",
            "Starting virtual X frame buffer: Xvfb.\n"
          ]
        }
      ],
      "source": [
        "import sys, os\n",
        "if 'google.colab' in sys.modules and not os.path.exists('.setup_complete'):\n",
        "    !wget -q https://raw.githubusercontent.com/yandexdataschool/Practical_RL/master/setup_colab.sh -O- | bash\n",
        "    !wget -q https://raw.githubusercontent.com/yandexdataschool/Practical_RL/master/week02_value_based/mdp.py\n",
        "    !touch .setup_complete\n",
        "\n",
        "# This code creates a virtual display to draw game images on.\n",
        "# It will have no effect if your machine has a monitor.\n",
        "if type(os.environ.get(\"DISPLAY\")) is not str or len(os.environ.get(\"DISPLAY\")) == 0:\n",
        "    !bash ../xvfb start\n",
        "    os.environ['DISPLAY'] = ':1'"
      ]
    },
    {
      "cell_type": "code",
      "execution_count": null,
      "metadata": {
        "id": "Cj8BMsOiQKww"
      },
      "outputs": [],
      "source": [
        "transition_probs = {\n",
        "    's0': {\n",
        "        'a0': {'s0': 0.5, 's2': 0.5},\n",
        "        'a1': {'s2': 1}\n",
        "    },\n",
        "    's1': {\n",
        "        'a0': {'s0': 0.7, 's1': 0.1, 's2': 0.2},\n",
        "        'a1': {'s1': 0.95, 's2': 0.05}\n",
        "    },\n",
        "    's2': {\n",
        "        'a0': {'s0': 0.4, 's2': 0.6},\n",
        "        'a1': {'s0': 0.3, 's1': 0.3, 's2': 0.4}\n",
        "    }\n",
        "}\n",
        "rewards = {\n",
        "    's1': {'a0': {'s0': +5}},\n",
        "    's2': {'a1': {'s0': -1}}\n",
        "}\n",
        "\n",
        "from mdp import MDP\n",
        "mdp = MDP(transition_probs, rewards, initial_state='s0')"
      ]
    },
    {
      "cell_type": "markdown",
      "metadata": {
        "id": "JbaHO5rPQKwx"
      },
      "source": [
        "We can now use MDP just as any other gym environment:"
      ]
    },
    {
      "cell_type": "code",
      "execution_count": null,
      "metadata": {
        "id": "MB1K9wWIQKwx",
        "outputId": "fa0d678e-338d-4b11-a57a-009ba97de445",
        "colab": {
          "base_uri": "https://localhost:8080/"
        }
      },
      "outputs": [
        {
          "output_type": "stream",
          "name": "stdout",
          "text": [
            "initial state = s0\n",
            "next_state = s2, reward = 0.0, done = False\n"
          ]
        }
      ],
      "source": [
        "print('initial state =', mdp.reset())\n",
        "next_state, reward, done, info = mdp.step('a1')\n",
        "print('next_state = %s, reward = %s, done = %s' % (next_state, reward, done))"
      ]
    },
    {
      "cell_type": "markdown",
      "metadata": {
        "id": "M-f02J31QKwy"
      },
      "source": [
        "but it also has other methods that you'll need for Value Iteration"
      ]
    },
    {
      "cell_type": "code",
      "execution_count": null,
      "metadata": {
        "id": "XkwCJQGOQKwy",
        "outputId": "5ffc19a1-4ae1-4e0b-efe4-6a502fc5bac5",
        "colab": {
          "base_uri": "https://localhost:8080/"
        }
      },
      "outputs": [
        {
          "output_type": "stream",
          "name": "stdout",
          "text": [
            "mdp.get_all_states = ('s0', 's1', 's2')\n",
            "mdp.get_possible_actions('s1') =  ('a0', 'a1')\n",
            "mdp.get_next_states('s1', 'a0') =  {'s0': 0.7, 's1': 0.1, 's2': 0.2}\n",
            "mdp.get_reward('s1', 'a0', 's0') =  5\n",
            "mdp.get_transition_prob('s1', 'a0', 's0') =  0.7\n"
          ]
        }
      ],
      "source": [
        "print(\"mdp.get_all_states =\", mdp.get_all_states())\n",
        "print(\"mdp.get_possible_actions('s1') = \", mdp.get_possible_actions('s1'))\n",
        "print(\"mdp.get_next_states('s1', 'a0') = \", mdp.get_next_states('s1', 'a0'))\n",
        "print(\"mdp.get_reward('s1', 'a0', 's0') = \", mdp.get_reward('s1', 'a0', 's0'))\n",
        "print(\"mdp.get_transition_prob('s1', 'a0', 's0') = \", mdp.get_transition_prob('s1', 'a0', 's0'))"
      ]
    },
    {
      "cell_type": "markdown",
      "metadata": {
        "id": "DI2erRmoQKwy"
      },
      "source": [
        "### Optional: Visualizing MDPs\n",
        "\n",
        "You can also visualize any MDP with the drawing fuction donated by [neer201](https://github.com/neer201).\n",
        "\n",
        "You have to install graphviz for system and for python.\n",
        "\n",
        "1. * For ubuntu just run: `sudo apt-get install graphviz`\n",
        "   * For OSX: `brew install graphviz`\n",
        "2. `pip install graphviz`\n",
        "3. restart the notebook\n",
        "\n",
        "__Note:__ Installing graphviz on some OS (esp. Windows) may be tricky. However, you can ignore this part alltogether and use the standart vizualization."
      ]
    },
    {
      "cell_type": "code",
      "execution_count": null,
      "metadata": {
        "id": "sv4iD8wpQKwz",
        "outputId": "aa55d938-c251-4ec6-8496-63267fd7e3a6",
        "colab": {
          "base_uri": "https://localhost:8080/"
        }
      },
      "outputs": [
        {
          "output_type": "stream",
          "name": "stdout",
          "text": [
            "Graphviz available: True\n"
          ]
        }
      ],
      "source": [
        "from mdp import has_graphviz\n",
        "from IPython.display import display\n",
        "print(\"Graphviz available:\", has_graphviz)"
      ]
    },
    {
      "cell_type": "code",
      "execution_count": null,
      "metadata": {
        "id": "8CxnGVKvQKwz",
        "outputId": "e7668a1d-bd13-42be-ca47-27b0d375e664",
        "colab": {
          "base_uri": "https://localhost:8080/",
          "height": 472
        }
      },
      "outputs": [
        {
          "output_type": "display_data",
          "data": {
            "image/svg+xml": "<?xml version=\"1.0\" encoding=\"UTF-8\" standalone=\"no\"?>\n<!DOCTYPE svg PUBLIC \"-//W3C//DTD SVG 1.1//EN\"\n \"http://www.w3.org/Graphics/SVG/1.1/DTD/svg11.dtd\">\n<!-- Generated by graphviz version 2.43.0 (0)\n -->\n<!-- Title: MDP Pages: 1 -->\n<svg width=\"1027pt\" height=\"323pt\"\n viewBox=\"0.00 0.00 1027.46 323.00\" xmlns=\"http://www.w3.org/2000/svg\" xmlns:xlink=\"http://www.w3.org/1999/xlink\">\n<g id=\"graph0\" class=\"graph\" transform=\"scale(1 1) rotate(0) translate(4 319)\">\n<title>MDP</title>\n<polygon fill=\"white\" stroke=\"transparent\" points=\"-4,4 -4,-319 1023.46,-319 1023.46,4 -4,4\"/>\n<!-- s0 -->\n<g id=\"node1\" class=\"node\">\n<title>s0</title>\n<ellipse fill=\"#85ff75\" stroke=\"#85ff75\" cx=\"40\" cy=\"-116\" rx=\"36\" ry=\"36\"/>\n<ellipse fill=\"none\" stroke=\"#85ff75\" cx=\"40\" cy=\"-116\" rx=\"40\" ry=\"40\"/>\n<text text-anchor=\"middle\" x=\"40\" y=\"-109.8\" font-family=\"Arial\" font-size=\"24.00\">s0</text>\n</g>\n<!-- s0&#45;a0 -->\n<g id=\"node2\" class=\"node\">\n<title>s0&#45;a0</title>\n<ellipse fill=\"lightpink\" stroke=\"lightpink\" cx=\"193.58\" cy=\"-160\" rx=\"27.65\" ry=\"27.65\"/>\n<text text-anchor=\"middle\" x=\"193.58\" y=\"-155\" font-family=\"Arial\" font-size=\"20.00\">a0</text>\n</g>\n<!-- s0&#45;&gt;s0&#45;a0 -->\n<g id=\"edge1\" class=\"edge\">\n<title>s0&#45;&gt;s0&#45;a0</title>\n<path fill=\"none\" stroke=\"red\" stroke-width=\"2\" d=\"M79.19,-124.49C99.74,-129.34 125.44,-135.88 148,-143 151.34,-144.05 154.79,-145.22 158.23,-146.44\"/>\n<polygon fill=\"red\" stroke=\"red\" stroke-width=\"2\" points=\"157.17,-149.78 167.77,-149.95 159.59,-143.21 157.17,-149.78\"/>\n</g>\n<!-- s0&#45;a1 -->\n<g id=\"node4\" class=\"node\">\n<title>s0&#45;a1</title>\n<ellipse fill=\"lightpink\" stroke=\"lightpink\" cx=\"193.58\" cy=\"-233\" rx=\"27.65\" ry=\"27.65\"/>\n<text text-anchor=\"middle\" x=\"193.58\" y=\"-228\" font-family=\"Arial\" font-size=\"20.00\">a1</text>\n</g>\n<!-- s0&#45;&gt;s0&#45;a1 -->\n<g id=\"edge4\" class=\"edge\">\n<title>s0&#45;&gt;s0&#45;a1</title>\n<path fill=\"none\" stroke=\"red\" stroke-width=\"2\" d=\"M66.9,-145.7C76.21,-155.57 87.12,-166.26 98,-175 117.23,-190.44 140.89,-204.94 159.73,-215.59\"/>\n<polygon fill=\"red\" stroke=\"red\" stroke-width=\"2\" points=\"158.11,-218.69 168.55,-220.49 161.51,-212.57 158.11,-218.69\"/>\n</g>\n<!-- s0&#45;a0&#45;&gt;s0 -->\n<g id=\"edge2\" class=\"edge\">\n<title>s0&#45;a0&#45;&gt;s0</title>\n<path fill=\"none\" stroke=\"blue\" stroke-dasharray=\"5,2\" d=\"M166.14,-155.8C146.98,-152.42 120.58,-147.07 98,-140 94.19,-138.81 90.28,-137.45 86.39,-136.01\"/>\n<polygon fill=\"blue\" stroke=\"blue\" points=\"87.39,-132.65 76.8,-132.29 84.85,-139.17 87.39,-132.65\"/>\n<text text-anchor=\"middle\" x=\"123\" y=\"-158.2\" font-family=\"Arial\" font-size=\"16.00\">p = 0.5</text>\n</g>\n<!-- s2 -->\n<g id=\"node3\" class=\"node\">\n<title>s2</title>\n<ellipse fill=\"#85ff75\" stroke=\"#85ff75\" cx=\"433.15\" cy=\"-183\" rx=\"36\" ry=\"36\"/>\n<ellipse fill=\"none\" stroke=\"#85ff75\" cx=\"433.15\" cy=\"-183\" rx=\"40\" ry=\"40\"/>\n<text text-anchor=\"middle\" x=\"433.15\" y=\"-176.8\" font-family=\"Arial\" font-size=\"24.00\">s2</text>\n</g>\n<!-- s0&#45;a0&#45;&gt;s2 -->\n<g id=\"edge3\" class=\"edge\">\n<title>s0&#45;a0&#45;&gt;s2</title>\n<path fill=\"none\" stroke=\"blue\" stroke-dasharray=\"5,2\" d=\"M221.37,-162.59C260.57,-166.39 334.21,-173.52 383.23,-178.26\"/>\n<polygon fill=\"blue\" stroke=\"blue\" points=\"383,-181.76 393.29,-179.24 383.67,-174.79 383,-181.76\"/>\n<text text-anchor=\"middle\" x=\"307.15\" y=\"-183.2\" font-family=\"Arial\" font-size=\"16.00\">p = 0.5</text>\n</g>\n<!-- s2&#45;a0 -->\n<g id=\"node8\" class=\"node\">\n<title>s2&#45;a0</title>\n<ellipse fill=\"lightpink\" stroke=\"lightpink\" cx=\"666.73\" cy=\"-162\" rx=\"27.65\" ry=\"27.65\"/>\n<text text-anchor=\"middle\" x=\"666.73\" y=\"-157\" font-family=\"Arial\" font-size=\"20.00\">a0</text>\n</g>\n<!-- s2&#45;&gt;s2&#45;a0 -->\n<g id=\"edge13\" class=\"edge\">\n<title>s2&#45;&gt;s2&#45;a0</title>\n<path fill=\"none\" stroke=\"red\" stroke-width=\"2\" d=\"M473.31,-186.98C511.48,-189.83 570.95,-191.53 621.15,-181 624.83,-180.23 628.58,-179.15 632.26,-177.89\"/>\n<polygon fill=\"red\" stroke=\"red\" stroke-width=\"2\" points=\"633.69,-181.09 641.77,-174.24 631.18,-174.56 633.69,-181.09\"/>\n</g>\n<!-- s2&#45;a1 -->\n<g id=\"node9\" class=\"node\">\n<title>s2&#45;a1</title>\n<ellipse fill=\"lightpink\" stroke=\"lightpink\" cx=\"666.73\" cy=\"-80\" rx=\"27.65\" ry=\"27.65\"/>\n<text text-anchor=\"middle\" x=\"666.73\" y=\"-75\" font-family=\"Arial\" font-size=\"20.00\">a1</text>\n</g>\n<!-- s2&#45;&gt;s2&#45;a1 -->\n<g id=\"edge16\" class=\"edge\">\n<title>s2&#45;&gt;s2&#45;a1</title>\n<path fill=\"none\" stroke=\"red\" stroke-width=\"2\" d=\"M467.41,-161.94C475.08,-157.43 483.3,-152.87 491.15,-149 538.2,-125.86 595.06,-104.55 630.82,-91.92\"/>\n<polygon fill=\"red\" stroke=\"red\" stroke-width=\"2\" points=\"632.04,-95.2 640.32,-88.59 629.73,-88.59 632.04,-95.2\"/>\n</g>\n<!-- s0&#45;a1&#45;&gt;s2 -->\n<g id=\"edge5\" class=\"edge\">\n<title>s0&#45;a1&#45;&gt;s2</title>\n<path fill=\"none\" stroke=\"blue\" stroke-dasharray=\"5,2\" d=\"M221.08,-229.08C256.45,-223.65 320.92,-213 375.15,-200 378.37,-199.23 381.67,-198.39 384.98,-197.5\"/>\n<polygon fill=\"blue\" stroke=\"blue\" points=\"386.21,-200.79 394.91,-194.74 384.33,-194.05 386.21,-200.79\"/>\n<text text-anchor=\"middle\" x=\"307.15\" y=\"-230.2\" font-family=\"Arial\" font-size=\"16.00\">p = 1</text>\n</g>\n<!-- s1 -->\n<g id=\"node5\" class=\"node\">\n<title>s1</title>\n<ellipse fill=\"#85ff75\" stroke=\"#85ff75\" cx=\"829.31\" cy=\"-116\" rx=\"36\" ry=\"36\"/>\n<ellipse fill=\"none\" stroke=\"#85ff75\" cx=\"829.31\" cy=\"-116\" rx=\"40\" ry=\"40\"/>\n<text text-anchor=\"middle\" x=\"829.31\" y=\"-109.8\" font-family=\"Arial\" font-size=\"24.00\">s1</text>\n</g>\n<!-- s1&#45;a0 -->\n<g id=\"node6\" class=\"node\">\n<title>s1&#45;a0</title>\n<ellipse fill=\"lightpink\" stroke=\"lightpink\" cx=\"991.89\" cy=\"-92\" rx=\"27.65\" ry=\"27.65\"/>\n<text text-anchor=\"middle\" x=\"991.89\" y=\"-87\" font-family=\"Arial\" font-size=\"20.00\">a0</text>\n</g>\n<!-- s1&#45;&gt;s1&#45;a0 -->\n<g id=\"edge6\" class=\"edge\">\n<title>s1&#45;&gt;s1&#45;a0</title>\n<path fill=\"none\" stroke=\"red\" stroke-width=\"2\" d=\"M869.38,-112.27C891.95,-109.88 920.82,-106.39 946.31,-102 949,-101.54 951.77,-101.02 954.56,-100.47\"/>\n<polygon fill=\"red\" stroke=\"red\" stroke-width=\"2\" points=\"955.51,-103.84 964.57,-98.36 954.07,-96.99 955.51,-103.84\"/>\n</g>\n<!-- s1&#45;a1 -->\n<g id=\"node7\" class=\"node\">\n<title>s1&#45;a1</title>\n<ellipse fill=\"lightpink\" stroke=\"lightpink\" cx=\"991.89\" cy=\"-174\" rx=\"27.65\" ry=\"27.65\"/>\n<text text-anchor=\"middle\" x=\"991.89\" y=\"-169\" font-family=\"Arial\" font-size=\"20.00\">a1</text>\n</g>\n<!-- s1&#45;&gt;s1&#45;a1 -->\n<g id=\"edge10\" class=\"edge\">\n<title>s1&#45;&gt;s1&#45;a1</title>\n<path fill=\"none\" stroke=\"red\" stroke-width=\"2\" d=\"M867.66,-127.73C890.53,-135.12 920.3,-145.1 946.31,-155 949.82,-156.34 953.46,-157.78 957.08,-159.26\"/>\n<polygon fill=\"red\" stroke=\"red\" stroke-width=\"2\" points=\"955.93,-162.57 966.5,-163.2 958.62,-156.11 955.93,-162.57\"/>\n</g>\n<!-- s1&#45;a0&#45;&gt;s0 -->\n<g id=\"edge7\" class=\"edge\">\n<title>s1&#45;a0&#45;&gt;s0</title>\n<path fill=\"none\" stroke=\"blue\" stroke-dasharray=\"5,2\" d=\"M972.12,-72.49C944.03,-45.48 888.14,0 830.31,0 192.58,0 192.58,0 192.58,0 141.5,0 96.98,-42.06 69.63,-75.52\"/>\n<polygon fill=\"blue\" stroke=\"blue\" points=\"66.87,-73.37 63.4,-83.38 72.35,-77.72 66.87,-73.37\"/>\n<text text-anchor=\"middle\" x=\"556.15\" y=\"-5.2\" font-family=\"Arial\" font-size=\"16.00\">p = 0.7 &#160;reward =5</text>\n</g>\n<!-- s1&#45;a0&#45;&gt;s2 -->\n<g id=\"edge9\" class=\"edge\">\n<title>s1&#45;a0&#45;&gt;s2</title>\n<path fill=\"none\" stroke=\"blue\" stroke-dasharray=\"5,2\" d=\"M976.15,-114.86C972.01,-121.81 967.72,-129.58 964.31,-137 953.93,-159.61 966.27,-175.15 946.31,-190 783.96,-310.76 691.37,-229.22 491.15,-200 487.88,-199.52 484.54,-198.9 481.19,-198.17\"/>\n<polygon fill=\"blue\" stroke=\"blue\" points=\"481.76,-194.71 471.21,-195.73 480.1,-201.51 481.76,-194.71\"/>\n<text text-anchor=\"middle\" x=\"741.81\" y=\"-259.2\" font-family=\"Arial\" font-size=\"16.00\">p = 0.2</text>\n</g>\n<!-- s1&#45;a0&#45;&gt;s1 -->\n<g id=\"edge8\" class=\"edge\">\n<title>s1&#45;a0&#45;&gt;s1</title>\n<path fill=\"none\" stroke=\"blue\" stroke-dasharray=\"5,2\" d=\"M965.31,-83.53C944.06,-77.8 913.22,-72.5 887.31,-80 881.62,-81.65 875.95,-84.05 870.52,-86.84\"/>\n<polygon fill=\"blue\" stroke=\"blue\" points=\"868.63,-83.89 861.64,-91.85 872.07,-89.99 868.63,-83.89\"/>\n<text text-anchor=\"middle\" x=\"916.81\" y=\"-85.2\" font-family=\"Arial\" font-size=\"16.00\">p = 0.1</text>\n</g>\n<!-- s1&#45;a1&#45;&gt;s2 -->\n<g id=\"edge12\" class=\"edge\">\n<title>s1&#45;a1&#45;&gt;s2</title>\n<path fill=\"none\" stroke=\"blue\" stroke-dasharray=\"5,2\" d=\"M979.29,-198.86C971.84,-211.79 960.81,-226.45 946.31,-234 766.9,-327.45 679.29,-308.33 491.15,-234 482.81,-230.7 474.9,-225.59 467.78,-219.86\"/>\n<polygon fill=\"blue\" stroke=\"blue\" points=\"469.64,-216.84 459.8,-212.91 465.04,-222.12 469.64,-216.84\"/>\n<text text-anchor=\"middle\" x=\"741.81\" y=\"-302.2\" font-family=\"Arial\" font-size=\"16.00\">p = 0.05</text>\n</g>\n<!-- s1&#45;a1&#45;&gt;s1 -->\n<g id=\"edge11\" class=\"edge\">\n<title>s1&#45;a1&#45;&gt;s1</title>\n<path fill=\"none\" stroke=\"blue\" stroke-dasharray=\"5,2\" d=\"M964.16,-170.97C942.78,-167.92 912.34,-162.18 887.31,-152 881.89,-149.8 876.42,-147.08 871.11,-144.14\"/>\n<polygon fill=\"blue\" stroke=\"blue\" points=\"872.79,-141.06 862.39,-139.02 869.25,-147.1 872.79,-141.06\"/>\n<text text-anchor=\"middle\" x=\"916.81\" y=\"-173.2\" font-family=\"Arial\" font-size=\"16.00\">p = 0.95</text>\n</g>\n<!-- s2&#45;a0&#45;&gt;s0 -->\n<g id=\"edge14\" class=\"edge\">\n<title>s2&#45;a0&#45;&gt;s0</title>\n<path fill=\"none\" stroke=\"blue\" stroke-dasharray=\"5,2\" d=\"M640,-153.63C633.88,-151.88 627.33,-150.2 621.15,-149 446.29,-114.94 399.16,-130.34 221.15,-123 176.89,-121.17 126.51,-119.23 90.3,-117.85\"/>\n<polygon fill=\"blue\" stroke=\"blue\" points=\"90.14,-114.34 80.01,-117.46 89.87,-121.34 90.14,-114.34\"/>\n<text text-anchor=\"middle\" x=\"307.15\" y=\"-131.2\" font-family=\"Arial\" font-size=\"16.00\">p = 0.4</text>\n</g>\n<!-- s2&#45;a0&#45;&gt;s2 -->\n<g id=\"edge15\" class=\"edge\">\n<title>s2&#45;a0&#45;&gt;s2</title>\n<path fill=\"none\" stroke=\"blue\" stroke-dasharray=\"5,2\" d=\"M639.38,-158.06C604.93,-153.7 542.86,-148.56 491.15,-159 487.07,-159.82 482.91,-160.95 478.8,-162.27\"/>\n<polygon fill=\"blue\" stroke=\"blue\" points=\"477.59,-158.99 469.34,-165.64 479.93,-165.58 477.59,-158.99\"/>\n<text text-anchor=\"middle\" x=\"556.15\" y=\"-164.2\" font-family=\"Arial\" font-size=\"16.00\">p = 0.6</text>\n</g>\n<!-- s2&#45;a1&#45;&gt;s0 -->\n<g id=\"edge17\" class=\"edge\">\n<title>s2&#45;a1&#45;&gt;s0</title>\n<path fill=\"none\" stroke=\"blue\" stroke-dasharray=\"5,2\" d=\"M643.56,-64.64C636.68,-60.71 628.88,-57.02 621.15,-55 456.84,-12.07 407.97,-45.54 239.15,-64 175.74,-70.93 158.85,-70.84 98,-90 93.92,-91.29 89.74,-92.79 85.59,-94.42\"/>\n<polygon fill=\"blue\" stroke=\"blue\" points=\"83.93,-91.32 76.04,-98.39 86.62,-97.78 83.93,-91.32\"/>\n<text text-anchor=\"middle\" x=\"307.15\" y=\"-69.2\" font-family=\"Arial\" font-size=\"16.00\">p = 0.3 &#160;reward =&#45;1</text>\n</g>\n<!-- s2&#45;a1&#45;&gt;s2 -->\n<g id=\"edge19\" class=\"edge\">\n<title>s2&#45;a1&#45;&gt;s2</title>\n<path fill=\"none\" stroke=\"blue\" stroke-dasharray=\"5,2\" d=\"M640.47,-71.31C604.47,-60.59 537.63,-46.98 491.15,-75 469.57,-88.02 455.74,-112.24 447.11,-134.45\"/>\n<polygon fill=\"blue\" stroke=\"blue\" points=\"443.72,-133.54 443.62,-144.14 450.3,-135.92 443.72,-133.54\"/>\n<text text-anchor=\"middle\" x=\"556.15\" y=\"-80.2\" font-family=\"Arial\" font-size=\"16.00\">p = 0.4</text>\n</g>\n<!-- s2&#45;a1&#45;&gt;s1 -->\n<g id=\"edge18\" class=\"edge\">\n<title>s2&#45;a1&#45;&gt;s1</title>\n<path fill=\"none\" stroke=\"blue\" stroke-dasharray=\"5,2\" d=\"M693.89,-85.86C717.16,-91.08 751.78,-98.84 780.06,-105.18\"/>\n<polygon fill=\"blue\" stroke=\"blue\" points=\"779.64,-108.68 790.16,-107.45 781.17,-101.85 779.64,-108.68\"/>\n<text text-anchor=\"middle\" x=\"741.81\" y=\"-108.2\" font-family=\"Arial\" font-size=\"16.00\">p = 0.3</text>\n</g>\n</g>\n</svg>\n",
            "text/plain": [
              "<graphviz.graphs.Digraph at 0x7adb43f34650>"
            ]
          },
          "metadata": {}
        }
      ],
      "source": [
        "if has_graphviz:\n",
        "    from mdp import plot_graph, plot_graph_with_state_values, plot_graph_optimal_strategy_and_state_values\n",
        "    display(plot_graph(mdp))"
      ]
    },
    {
      "cell_type": "markdown",
      "metadata": {
        "id": "2Och3hEcQKwz"
      },
      "source": [
        "### Value Iteration\n",
        "\n",
        "Now let's build something to solve this MDP. The simplest algorithm so far is __V__alue __I__teration\n",
        "\n",
        "Here's the pseudo-code for VI:\n",
        "\n",
        "---\n",
        "\n",
        "`1.` Initialize $V^{(0)}(s)=0$, for all $s$\n",
        "\n",
        "`2.` For $i=0, 1, 2, \\dots$\n",
        "\n",
        "`3.` $ \\quad V_{(i+1)}(s) = \\max_a \\sum_{s'} P(s' | s,a) \\cdot [ r(s,a,s') + \\gamma V_{i}(s')]$, for all $s$\n",
        "\n",
        "---"
      ]
    },
    {
      "cell_type": "markdown",
      "metadata": {
        "id": "FCKenUdSQKwz"
      },
      "source": [
        "First, let's write a function to compute the state-action value function $Q^{\\pi}$, defined as follows\n",
        "\n",
        "$$Q_i(s, a) = \\sum_{s'} P(s' | s,a) \\cdot [ r(s,a,s') + \\gamma V_{i}(s')]$$\n"
      ]
    },
    {
      "cell_type": "code",
      "execution_count": null,
      "metadata": {
        "id": "JSaa065xQKwz"
      },
      "outputs": [],
      "source": [
        "def get_action_value(mdp, state_values, state, action, gamma):\n",
        "    \"\"\" Computes Q(s,a) as in formula above \"\"\"\n",
        "    q = 0\n",
        "    for next_state in mdp.get_next_states(state, action):\n",
        "        q += mdp.get_transition_prob(state, action, next_state) * (mdp.get_reward(state, action, next_state) + gamma * state_values[next_state])\n",
        "\n",
        "    return q"
      ]
    },
    {
      "cell_type": "code",
      "execution_count": null,
      "metadata": {
        "id": "KjMLZUQHQKw0"
      },
      "outputs": [],
      "source": [
        "import numpy as np\n",
        "test_Vs = {s: i for i, s in enumerate(sorted(mdp.get_all_states()))}\n",
        "assert np.isclose(get_action_value(mdp, test_Vs, 's2', 'a1', 0.9), 0.69)\n",
        "assert np.isclose(get_action_value(mdp, test_Vs, 's1', 'a0', 0.9), 3.95)"
      ]
    },
    {
      "cell_type": "markdown",
      "metadata": {
        "id": "KWDJt8Q5QKw0"
      },
      "source": [
        "Using $Q(s,a)$ we can now define the \"next\" V(s) for value iteration.\n",
        " $$V_{(i+1)}(s) = \\max_a \\sum_{s'} P(s' | s,a) \\cdot [ r(s,a,s') + \\gamma V_{i}(s')] = \\max_a Q_i(s,a)$$"
      ]
    },
    {
      "cell_type": "code",
      "execution_count": null,
      "metadata": {
        "id": "SilmfhuzQKw0"
      },
      "outputs": [],
      "source": [
        "from copy import deepcopy\n",
        "\n",
        "def get_new_state_value(mdp, state_values, state, gamma):\n",
        "    \"\"\" Computes next V(s) as in formula above. Please do not change state_values in process. \"\"\"\n",
        "    if mdp.is_terminal(state):\n",
        "        return 0\n",
        "\n",
        "    return max([get_action_value(mdp, state_values, state, action, gamma) for action in mdp.get_possible_actions(state)])"
      ]
    },
    {
      "cell_type": "code",
      "execution_count": null,
      "metadata": {
        "id": "mZrWNG_IQKw0"
      },
      "outputs": [],
      "source": [
        "test_Vs_copy = dict(test_Vs)\n",
        "assert np.isclose(get_new_state_value(mdp, test_Vs, 's0', 0.9), 1.8)\n",
        "assert np.isclose(get_new_state_value(mdp, test_Vs, 's2', 0.9), 1.08)\n",
        "assert np.isclose(get_new_state_value(mdp, {'s0': -1e10, 's1': 0, 's2': -2e10}, 's0', 0.9), -13500000000.0), \\\n",
        "    \"Please ensure that you handle negative Q-values of arbitrary magnitude correctly\"\n",
        "assert test_Vs == test_Vs_copy, \"Please do not change state_values in get_new_state_value\""
      ]
    },
    {
      "cell_type": "markdown",
      "metadata": {
        "id": "VHwaNg5eQKw0"
      },
      "source": [
        "Finally, let's combine everything we wrote into a working value iteration algo."
      ]
    },
    {
      "cell_type": "code",
      "execution_count": null,
      "metadata": {
        "id": "3phpJCcOQKw0",
        "outputId": "35332952-9779-4b1c-9ca7-90217f5a757e",
        "colab": {
          "base_uri": "https://localhost:8080/",
          "height": 1000
        },
        "collapsed": true
      },
      "outputs": [
        {
          "output_type": "display_data",
          "data": {
            "image/svg+xml": "<?xml version=\"1.0\" encoding=\"UTF-8\" standalone=\"no\"?>\n<!DOCTYPE svg PUBLIC \"-//W3C//DTD SVG 1.1//EN\"\n \"http://www.w3.org/Graphics/SVG/1.1/DTD/svg11.dtd\">\n<!-- Generated by graphviz version 2.43.0 (0)\n -->\n<!-- Title: MDP Pages: 1 -->\n<svg width=\"1096pt\" height=\"327pt\"\n viewBox=\"0.00 0.00 1095.72 327.00\" xmlns=\"http://www.w3.org/2000/svg\" xmlns:xlink=\"http://www.w3.org/1999/xlink\">\n<g id=\"graph0\" class=\"graph\" transform=\"scale(1 1) rotate(0) translate(4 323)\">\n<title>MDP</title>\n<polygon fill=\"white\" stroke=\"transparent\" points=\"-4,4 -4,-323 1091.72,-323 1091.72,4 -4,4\"/>\n<!-- s0 -->\n<g id=\"node1\" class=\"node\">\n<title>s0</title>\n<ellipse fill=\"#85ff75\" stroke=\"#85ff75\" cx=\"51.38\" cy=\"-116\" rx=\"47.26\" ry=\"47.26\"/>\n<ellipse fill=\"none\" stroke=\"#85ff75\" cx=\"51.38\" cy=\"-116\" rx=\"51.25\" ry=\"51.25\"/>\n<text text-anchor=\"middle\" x=\"51.38\" y=\"-122.8\" font-family=\"Arial\" font-size=\"24.00\">s0</text>\n<text text-anchor=\"middle\" x=\"51.38\" y=\"-96.8\" font-family=\"Arial\" font-size=\"24.00\">V =0</text>\n</g>\n<!-- s0&#45;a0 -->\n<g id=\"node2\" class=\"node\">\n<title>s0&#45;a0</title>\n<ellipse fill=\"lightpink\" stroke=\"lightpink\" cx=\"216.33\" cy=\"-160\" rx=\"27.65\" ry=\"27.65\"/>\n<text text-anchor=\"middle\" x=\"216.33\" y=\"-155\" font-family=\"Arial\" font-size=\"20.00\">a0</text>\n</g>\n<!-- s0&#45;&gt;s0&#45;a0 -->\n<g id=\"edge1\" class=\"edge\">\n<title>s0&#45;&gt;s0&#45;a0</title>\n<path fill=\"none\" stroke=\"red\" stroke-width=\"2\" d=\"M102.02,-125.7C123.36,-130.29 148.46,-136.24 170.75,-143 174.1,-144.02 177.56,-145.16 181.01,-146.36\"/>\n<polygon fill=\"red\" stroke=\"red\" stroke-width=\"2\" points=\"179.96,-149.71 190.55,-149.85 182.36,-143.13 179.96,-149.71\"/>\n</g>\n<!-- s0&#45;a1 -->\n<g id=\"node4\" class=\"node\">\n<title>s0&#45;a1</title>\n<ellipse fill=\"lightpink\" stroke=\"lightpink\" cx=\"216.33\" cy=\"-233\" rx=\"27.65\" ry=\"27.65\"/>\n<text text-anchor=\"middle\" x=\"216.33\" y=\"-228\" font-family=\"Arial\" font-size=\"20.00\">a1</text>\n</g>\n<!-- s0&#45;&gt;s0&#45;a1 -->\n<g id=\"edge4\" class=\"edge\">\n<title>s0&#45;&gt;s0&#45;a1</title>\n<path fill=\"none\" stroke=\"red\" stroke-width=\"2\" d=\"M90.27,-149.83C99.98,-158.03 110.57,-166.57 120.75,-174 140.77,-188.61 164.42,-203.37 183.07,-214.47\"/>\n<polygon fill=\"red\" stroke=\"red\" stroke-width=\"2\" points=\"181.39,-217.54 191.78,-219.61 184.94,-211.51 181.39,-217.54\"/>\n</g>\n<!-- s0&#45;a0&#45;&gt;s0 -->\n<g id=\"edge2\" class=\"edge\">\n<title>s0&#45;a0&#45;&gt;s0</title>\n<path fill=\"none\" stroke=\"blue\" stroke-dasharray=\"5,2\" d=\"M189.02,-155.38C169.92,-151.8 143.54,-146.38 120.75,-140 117.15,-138.99 113.46,-137.89 109.75,-136.74\"/>\n<polygon fill=\"blue\" stroke=\"blue\" points=\"110.54,-133.31 99.95,-133.58 108.39,-139.98 110.54,-133.31\"/>\n<text text-anchor=\"middle\" x=\"145.75\" y=\"-157.2\" font-family=\"Arial\" font-size=\"16.00\">p = 0.5</text>\n</g>\n<!-- s2 -->\n<g id=\"node3\" class=\"node\">\n<title>s2</title>\n<ellipse fill=\"#85ff75\" stroke=\"#85ff75\" cx=\"467.28\" cy=\"-189\" rx=\"47.26\" ry=\"47.26\"/>\n<ellipse fill=\"none\" stroke=\"#85ff75\" cx=\"467.28\" cy=\"-189\" rx=\"51.25\" ry=\"51.25\"/>\n<text text-anchor=\"middle\" x=\"467.28\" y=\"-195.8\" font-family=\"Arial\" font-size=\"24.00\">s2</text>\n<text text-anchor=\"middle\" x=\"467.28\" y=\"-169.8\" font-family=\"Arial\" font-size=\"24.00\">V =0</text>\n</g>\n<!-- s0&#45;a0&#45;&gt;s2 -->\n<g id=\"edge3\" class=\"edge\">\n<title>s0&#45;a0&#45;&gt;s2</title>\n<path fill=\"none\" stroke=\"blue\" stroke-dasharray=\"5,2\" d=\"M243.97,-163.1C282.31,-167.57 354.09,-175.93 405.73,-181.95\"/>\n<polygon fill=\"blue\" stroke=\"blue\" points=\"405.43,-185.44 415.77,-183.12 406.24,-178.48 405.43,-185.44\"/>\n<text text-anchor=\"middle\" x=\"329.91\" y=\"-186.2\" font-family=\"Arial\" font-size=\"16.00\">p = 0.5</text>\n</g>\n<!-- s2&#45;a0 -->\n<g id=\"node8\" class=\"node\">\n<title>s2&#45;a0</title>\n<ellipse fill=\"lightpink\" stroke=\"lightpink\" cx=\"712.24\" cy=\"-162\" rx=\"27.65\" ry=\"27.65\"/>\n<text text-anchor=\"middle\" x=\"712.24\" y=\"-157\" font-family=\"Arial\" font-size=\"20.00\">a0</text>\n</g>\n<!-- s2&#45;&gt;s2&#45;a0 -->\n<g id=\"edge13\" class=\"edge\">\n<title>s2&#45;&gt;s2&#45;a0</title>\n<path fill=\"none\" stroke=\"red\" stroke-width=\"2\" d=\"M518.67,-191.94C559.16,-193.12 617.23,-192.14 666.66,-181 670.32,-180.17 674.06,-179.06 677.74,-177.78\"/>\n<polygon fill=\"red\" stroke=\"red\" stroke-width=\"2\" points=\"679.18,-180.98 687.24,-174.1 676.65,-174.45 679.18,-180.98\"/>\n</g>\n<!-- s2&#45;a1 -->\n<g id=\"node9\" class=\"node\">\n<title>s2&#45;a1</title>\n<ellipse fill=\"lightpink\" stroke=\"lightpink\" cx=\"712.24\" cy=\"-77\" rx=\"27.65\" ry=\"27.65\"/>\n<text text-anchor=\"middle\" x=\"712.24\" y=\"-72\" font-family=\"Arial\" font-size=\"20.00\">a1</text>\n</g>\n<!-- s2&#45;&gt;s2&#45;a1 -->\n<g id=\"edge16\" class=\"edge\">\n<title>s2&#45;&gt;s2&#45;a1</title>\n<path fill=\"none\" stroke=\"red\" stroke-width=\"2\" d=\"M511.56,-162.48C519.79,-157.78 528.4,-153.09 536.66,-149 584.05,-125.51 641.04,-103.03 676.71,-89.62\"/>\n<polygon fill=\"red\" stroke=\"red\" stroke-width=\"2\" points=\"678.04,-92.86 686.18,-86.08 675.59,-86.3 678.04,-92.86\"/>\n</g>\n<!-- s0&#45;a1&#45;&gt;s2 -->\n<g id=\"edge5\" class=\"edge\">\n<title>s0&#45;a1&#45;&gt;s2</title>\n<path fill=\"none\" stroke=\"blue\" stroke-dasharray=\"5,2\" d=\"M243.7,-228.93C278.92,-223.43 343.22,-213.14 397.91,-203 400.75,-202.47 403.67,-201.92 406.61,-201.35\"/>\n<polygon fill=\"blue\" stroke=\"blue\" points=\"407.51,-204.74 416.66,-199.39 406.17,-197.87 407.51,-204.74\"/>\n<text text-anchor=\"middle\" x=\"329.91\" y=\"-230.2\" font-family=\"Arial\" font-size=\"16.00\">p = 1</text>\n</g>\n<!-- s1 -->\n<g id=\"node5\" class=\"node\">\n<title>s1</title>\n<ellipse fill=\"#85ff75\" stroke=\"#85ff75\" cx=\"886.19\" cy=\"-86\" rx=\"47.26\" ry=\"47.26\"/>\n<ellipse fill=\"none\" stroke=\"#85ff75\" cx=\"886.19\" cy=\"-86\" rx=\"51.25\" ry=\"51.25\"/>\n<text text-anchor=\"middle\" x=\"886.19\" y=\"-92.8\" font-family=\"Arial\" font-size=\"24.00\">s1</text>\n<text text-anchor=\"middle\" x=\"886.19\" y=\"-66.8\" font-family=\"Arial\" font-size=\"24.00\">V =0</text>\n</g>\n<!-- s1&#45;a0 -->\n<g id=\"node6\" class=\"node\">\n<title>s1&#45;a0</title>\n<ellipse fill=\"lightpink\" stroke=\"lightpink\" cx=\"1060.14\" cy=\"-62\" rx=\"27.65\" ry=\"27.65\"/>\n<text text-anchor=\"middle\" x=\"1060.14\" y=\"-57\" font-family=\"Arial\" font-size=\"20.00\">a0</text>\n</g>\n<!-- s1&#45;&gt;s1&#45;a0 -->\n<g id=\"edge6\" class=\"edge\">\n<title>s1&#45;&gt;s1&#45;a0</title>\n<path fill=\"none\" stroke=\"red\" stroke-width=\"2\" d=\"M937.58,-81.76C961.06,-79.46 989.33,-76.2 1014.57,-72 1017.26,-71.55 1020.04,-71.04 1022.82,-70.5\"/>\n<polygon fill=\"red\" stroke=\"red\" stroke-width=\"2\" points=\"1023.76,-73.88 1032.84,-68.41 1022.33,-67.02 1023.76,-73.88\"/>\n</g>\n<!-- s1&#45;a1 -->\n<g id=\"node7\" class=\"node\">\n<title>s1&#45;a1</title>\n<ellipse fill=\"lightpink\" stroke=\"lightpink\" cx=\"1060.14\" cy=\"-144\" rx=\"27.65\" ry=\"27.65\"/>\n<text text-anchor=\"middle\" x=\"1060.14\" y=\"-139\" font-family=\"Arial\" font-size=\"20.00\">a1</text>\n</g>\n<!-- s1&#45;&gt;s1&#45;a1 -->\n<g id=\"edge10\" class=\"edge\">\n<title>s1&#45;&gt;s1&#45;a1</title>\n<path fill=\"none\" stroke=\"red\" stroke-width=\"2\" d=\"M935.98,-99.62C959.86,-106.62 988.93,-115.64 1014.57,-125 1018.09,-126.29 1021.74,-127.7 1025.37,-129.16\"/>\n<polygon fill=\"red\" stroke=\"red\" stroke-width=\"2\" points=\"1024.23,-132.48 1034.8,-133.08 1026.91,-126.01 1024.23,-132.48\"/>\n</g>\n<!-- s1&#45;a0&#45;&gt;s0 -->\n<g id=\"edge7\" class=\"edge\">\n<title>s1&#45;a0&#45;&gt;s0</title>\n<path fill=\"none\" stroke=\"blue\" stroke-dasharray=\"5,2\" d=\"M1036.17,-47.93C1004.06,-29.64 943.36,0 887.19,0 215.33,0 215.33,0 215.33,0 165.66,0 120.62,-36.21 90.55,-68.17\"/>\n<polygon fill=\"blue\" stroke=\"blue\" points=\"87.78,-66.01 83.61,-75.75 92.94,-70.74 87.78,-66.01\"/>\n<text text-anchor=\"middle\" x=\"601.66\" y=\"-5.2\" font-family=\"Arial\" font-size=\"16.00\">p = 0.7 &#160;reward =5</text>\n</g>\n<!-- s1&#45;a0&#45;&gt;s2 -->\n<g id=\"edge9\" class=\"edge\">\n<title>s1&#45;a0&#45;&gt;s2</title>\n<path fill=\"none\" stroke=\"blue\" stroke-dasharray=\"5,2\" d=\"M1044.41,-84.86C1040.27,-91.81 1035.97,-99.58 1032.57,-107 1022.19,-129.61 1033.72,-144.12 1014.57,-160 873.83,-276.68 635.88,-234.29 526.48,-206.07\"/>\n<polygon fill=\"blue\" stroke=\"blue\" points=\"527.18,-202.64 516.62,-203.48 525.4,-209.41 527.18,-202.64\"/>\n<text text-anchor=\"middle\" x=\"787.31\" y=\"-242.2\" font-family=\"Arial\" font-size=\"16.00\">p = 0.2</text>\n</g>\n<!-- s1&#45;a0&#45;&gt;s1 -->\n<g id=\"edge8\" class=\"edge\">\n<title>s1&#45;a0&#45;&gt;s1</title>\n<path fill=\"none\" stroke=\"blue\" stroke-dasharray=\"5,2\" d=\"M1033.71,-54.07C1012.54,-48.65 981.75,-43.53 955.57,-50 950.27,-51.31 944.94,-53.11 939.71,-55.21\"/>\n<polygon fill=\"blue\" stroke=\"blue\" points=\"938.19,-52.05 930.44,-59.28 941.01,-58.46 938.19,-52.05\"/>\n<text text-anchor=\"middle\" x=\"985.07\" y=\"-55.2\" font-family=\"Arial\" font-size=\"16.00\">p = 0.1</text>\n</g>\n<!-- s1&#45;a1&#45;&gt;s2 -->\n<g id=\"edge12\" class=\"edge\">\n<title>s1&#45;a1&#45;&gt;s2</title>\n<path fill=\"none\" stroke=\"blue\" stroke-dasharray=\"5,2\" d=\"M1053.65,-171.13C1047.82,-192.2 1036.32,-220.12 1014.57,-234 835.53,-348.28 739.43,-297.24 536.66,-234 530.01,-231.92 523.39,-228.99 517.05,-225.61\"/>\n<polygon fill=\"blue\" stroke=\"blue\" points=\"518.38,-222.34 507.97,-220.37 514.88,-228.4 518.38,-222.34\"/>\n<text text-anchor=\"middle\" x=\"787.31\" y=\"-306.2\" font-family=\"Arial\" font-size=\"16.00\">p = 0.05</text>\n</g>\n<!-- s1&#45;a1&#45;&gt;s1 -->\n<g id=\"edge11\" class=\"edge\">\n<title>s1&#45;a1&#45;&gt;s1</title>\n<path fill=\"none\" stroke=\"blue\" stroke-dasharray=\"5,2\" d=\"M1032.62,-140.43C1011.36,-137.08 980.98,-131.19 955.57,-122 950.52,-120.18 945.38,-118.04 940.3,-115.74\"/>\n<polygon fill=\"blue\" stroke=\"blue\" points=\"941.79,-112.57 931.26,-111.45 938.79,-118.9 941.79,-112.57\"/>\n<text text-anchor=\"middle\" x=\"985.07\" y=\"-143.2\" font-family=\"Arial\" font-size=\"16.00\">p = 0.95</text>\n</g>\n<!-- s2&#45;a0&#45;&gt;s0 -->\n<g id=\"edge14\" class=\"edge\">\n<title>s2&#45;a0&#45;&gt;s0</title>\n<path fill=\"none\" stroke=\"blue\" stroke-dasharray=\"5,2\" d=\"M685.47,-153.78C679.35,-152.02 672.81,-150.3 666.66,-149 601.73,-135.23 584.82,-134.38 518.66,-129 373.47,-117.2 202.1,-115.56 113.03,-115.63\"/>\n<polygon fill=\"blue\" stroke=\"blue\" points=\"112.84,-112.13 102.84,-115.65 112.85,-119.13 112.84,-112.13\"/>\n<text text-anchor=\"middle\" x=\"329.91\" y=\"-127.2\" font-family=\"Arial\" font-size=\"16.00\">p = 0.4</text>\n</g>\n<!-- s2&#45;a0&#45;&gt;s2 -->\n<g id=\"edge15\" class=\"edge\">\n<title>s2&#45;a0&#45;&gt;s2</title>\n<path fill=\"none\" stroke=\"blue\" stroke-dasharray=\"5,2\" d=\"M684.86,-157.94C650.38,-153.45 588.28,-148.17 536.66,-159 532.18,-159.94 527.65,-161.19 523.14,-162.64\"/>\n<polygon fill=\"blue\" stroke=\"blue\" points=\"521.63,-159.47 513.39,-166.12 523.99,-166.06 521.63,-159.47\"/>\n<text text-anchor=\"middle\" x=\"601.66\" y=\"-164.2\" font-family=\"Arial\" font-size=\"16.00\">p = 0.6</text>\n</g>\n<!-- s2&#45;a1&#45;&gt;s0 -->\n<g id=\"edge17\" class=\"edge\">\n<title>s2&#45;a1&#45;&gt;s0</title>\n<path fill=\"none\" stroke=\"blue\" stroke-dasharray=\"5,2\" d=\"M688.53,-62C681.77,-58.32 674.16,-54.89 666.66,-53 610.63,-38.88 594.43,-51.84 536.66,-53 351.12,-56.71 299.47,-40.01 120.75,-90 116.94,-91.07 113.04,-92.26 109.14,-93.53\"/>\n<polygon fill=\"blue\" stroke=\"blue\" points=\"107.79,-90.29 99.45,-96.83 110.05,-96.92 107.79,-90.29\"/>\n<text text-anchor=\"middle\" x=\"329.91\" y=\"-65.2\" font-family=\"Arial\" font-size=\"16.00\">p = 0.3 &#160;reward =&#45;1</text>\n</g>\n<!-- s2&#45;a1&#45;&gt;s2 -->\n<g id=\"edge19\" class=\"edge\">\n<title>s2&#45;a1&#45;&gt;s2</title>\n<path fill=\"none\" stroke=\"blue\" stroke-dasharray=\"5,2\" d=\"M685.84,-68.74C649.98,-58.69 583.65,-46.15 536.66,-73 514.45,-85.69 498.73,-108.73 488.02,-130.94\"/>\n<polygon fill=\"blue\" stroke=\"blue\" points=\"484.83,-129.5 483.87,-140.05 491.2,-132.4 484.83,-129.5\"/>\n<text text-anchor=\"middle\" x=\"601.66\" y=\"-78.2\" font-family=\"Arial\" font-size=\"16.00\">p = 0.4</text>\n</g>\n<!-- s2&#45;a1&#45;&gt;s1 -->\n<g id=\"edge18\" class=\"edge\">\n<title>s2&#45;a1&#45;&gt;s1</title>\n<path fill=\"none\" stroke=\"blue\" stroke-dasharray=\"5,2\" d=\"M740.1,-78.41C762.66,-79.59 795.75,-81.32 824.63,-82.83\"/>\n<polygon fill=\"blue\" stroke=\"blue\" points=\"824.47,-86.33 834.64,-83.35 824.84,-79.34 824.47,-86.33\"/>\n<text text-anchor=\"middle\" x=\"787.31\" y=\"-88.2\" font-family=\"Arial\" font-size=\"16.00\">p = 0.3</text>\n</g>\n</g>\n</svg>\n",
            "text/plain": [
              "<graphviz.graphs.Digraph at 0x7adb43ec38d0>"
            ]
          },
          "metadata": {}
        },
        {
          "output_type": "stream",
          "name": "stdout",
          "text": [
            "iter    0   |   diff: 3.50000   |   V(s0) = 0.000   V(s1) = 0.000   V(s2) = 0.000\n",
            "iter    1   |   diff: 0.64500   |   V(s0) = 0.000   V(s1) = 3.500   V(s2) = 0.000\n",
            "iter    2   |   diff: 0.58050   |   V(s0) = 0.000   V(s1) = 3.815   V(s2) = 0.645\n",
            "iter    3   |   diff: 0.43582   |   V(s0) = 0.581   V(s1) = 3.959   V(s2) = 0.962\n",
            "iter    4   |   diff: 0.30634   |   V(s0) = 0.866   V(s1) = 4.395   V(s2) = 1.272\n",
            "iter    5   |   diff: 0.27571   |   V(s0) = 1.145   V(s1) = 4.670   V(s2) = 1.579\n",
            "iter    6   |   diff: 0.24347   |   V(s0) = 1.421   V(s1) = 4.926   V(s2) = 1.838\n",
            "iter    7   |   diff: 0.21419   |   V(s0) = 1.655   V(s1) = 5.169   V(s2) = 2.075\n",
            "iter    8   |   diff: 0.19277   |   V(s0) = 1.868   V(s1) = 5.381   V(s2) = 2.290\n",
            "iter    9   |   diff: 0.17327   |   V(s0) = 2.061   V(s1) = 5.573   V(s2) = 2.481\n",
            "iter   10   |   diff: 0.15569   |   V(s0) = 2.233   V(s1) = 5.746   V(s2) = 2.654\n",
            "iter   11   |   diff: 0.14012   |   V(s0) = 2.389   V(s1) = 5.902   V(s2) = 2.810\n",
            "iter   12   |   diff: 0.12610   |   V(s0) = 2.529   V(s1) = 6.042   V(s2) = 2.950\n",
            "iter   13   |   diff: 0.11348   |   V(s0) = 2.655   V(s1) = 6.168   V(s2) = 3.076\n",
            "iter   14   |   diff: 0.10213   |   V(s0) = 2.769   V(s1) = 6.282   V(s2) = 3.190\n",
            "iter   15   |   diff: 0.09192   |   V(s0) = 2.871   V(s1) = 6.384   V(s2) = 3.292\n",
            "iter   16   |   diff: 0.08272   |   V(s0) = 2.963   V(s1) = 6.476   V(s2) = 3.384\n",
            "iter   17   |   diff: 0.07445   |   V(s0) = 3.045   V(s1) = 6.558   V(s2) = 3.467\n",
            "iter   18   |   diff: 0.06701   |   V(s0) = 3.120   V(s1) = 6.633   V(s2) = 3.541\n",
            "iter   19   |   diff: 0.06031   |   V(s0) = 3.187   V(s1) = 6.700   V(s2) = 3.608\n",
            "iter   20   |   diff: 0.05428   |   V(s0) = 3.247   V(s1) = 6.760   V(s2) = 3.668\n",
            "iter   21   |   diff: 0.04885   |   V(s0) = 3.301   V(s1) = 6.814   V(s2) = 3.723\n",
            "iter   22   |   diff: 0.04396   |   V(s0) = 3.350   V(s1) = 6.863   V(s2) = 3.771\n",
            "iter   23   |   diff: 0.03957   |   V(s0) = 3.394   V(s1) = 6.907   V(s2) = 3.815\n",
            "iter   24   |   diff: 0.03561   |   V(s0) = 3.434   V(s1) = 6.947   V(s2) = 3.855\n",
            "iter   25   |   diff: 0.03205   |   V(s0) = 3.469   V(s1) = 6.982   V(s2) = 3.891\n",
            "iter   26   |   diff: 0.02884   |   V(s0) = 3.502   V(s1) = 7.014   V(s2) = 3.923\n",
            "iter   27   |   diff: 0.02596   |   V(s0) = 3.530   V(s1) = 7.043   V(s2) = 3.951\n",
            "iter   28   |   diff: 0.02336   |   V(s0) = 3.556   V(s1) = 7.069   V(s2) = 3.977\n",
            "iter   29   |   diff: 0.02103   |   V(s0) = 3.580   V(s1) = 7.093   V(s2) = 4.001\n",
            "iter   30   |   diff: 0.01892   |   V(s0) = 3.601   V(s1) = 7.114   V(s2) = 4.022\n",
            "iter   31   |   diff: 0.01703   |   V(s0) = 3.620   V(s1) = 7.133   V(s2) = 4.041\n",
            "iter   32   |   diff: 0.01533   |   V(s0) = 3.637   V(s1) = 7.150   V(s2) = 4.058\n",
            "iter   33   |   diff: 0.01380   |   V(s0) = 3.652   V(s1) = 7.165   V(s2) = 4.073\n",
            "iter   34   |   diff: 0.01242   |   V(s0) = 3.666   V(s1) = 7.179   V(s2) = 4.087\n",
            "iter   35   |   diff: 0.01117   |   V(s0) = 3.678   V(s1) = 7.191   V(s2) = 4.099\n",
            "iter   36   |   diff: 0.01006   |   V(s0) = 3.689   V(s1) = 7.202   V(s2) = 4.110\n",
            "iter   37   |   diff: 0.00905   |   V(s0) = 3.699   V(s1) = 7.212   V(s2) = 4.121\n",
            "iter   38   |   diff: 0.00815   |   V(s0) = 3.708   V(s1) = 7.221   V(s2) = 4.130\n",
            "iter   39   |   diff: 0.00733   |   V(s0) = 3.717   V(s1) = 7.230   V(s2) = 4.138\n",
            "iter   40   |   diff: 0.00660   |   V(s0) = 3.724   V(s1) = 7.237   V(s2) = 4.145\n",
            "iter   41   |   diff: 0.00594   |   V(s0) = 3.731   V(s1) = 7.244   V(s2) = 4.152\n",
            "iter   42   |   diff: 0.00534   |   V(s0) = 3.736   V(s1) = 7.249   V(s2) = 4.158\n",
            "iter   43   |   diff: 0.00481   |   V(s0) = 3.742   V(s1) = 7.255   V(s2) = 4.163\n",
            "iter   44   |   diff: 0.00433   |   V(s0) = 3.747   V(s1) = 7.260   V(s2) = 4.168\n",
            "iter   45   |   diff: 0.00390   |   V(s0) = 3.751   V(s1) = 7.264   V(s2) = 4.172\n",
            "iter   46   |   diff: 0.00351   |   V(s0) = 3.755   V(s1) = 7.268   V(s2) = 4.176\n",
            "iter   47   |   diff: 0.00316   |   V(s0) = 3.758   V(s1) = 7.271   V(s2) = 4.179\n",
            "iter   48   |   diff: 0.00284   |   V(s0) = 3.762   V(s1) = 7.275   V(s2) = 4.183\n",
            "iter   49   |   diff: 0.00256   |   V(s0) = 3.764   V(s1) = 7.277   V(s2) = 4.185\n",
            "iter   50   |   diff: 0.00230   |   V(s0) = 3.767   V(s1) = 7.280   V(s2) = 4.188\n",
            "iter   51   |   diff: 0.00207   |   V(s0) = 3.769   V(s1) = 7.282   V(s2) = 4.190\n",
            "iter   52   |   diff: 0.00186   |   V(s0) = 3.771   V(s1) = 7.284   V(s2) = 4.192\n",
            "iter   53   |   diff: 0.00168   |   V(s0) = 3.773   V(s1) = 7.286   V(s2) = 4.194\n",
            "iter   54   |   diff: 0.00151   |   V(s0) = 3.775   V(s1) = 7.288   V(s2) = 4.196\n",
            "iter   55   |   diff: 0.00136   |   V(s0) = 3.776   V(s1) = 7.289   V(s2) = 4.197\n",
            "iter   56   |   diff: 0.00122   |   V(s0) = 3.778   V(s1) = 7.291   V(s2) = 4.199\n",
            "iter   57   |   diff: 0.00110   |   V(s0) = 3.779   V(s1) = 7.292   V(s2) = 4.200\n",
            "iter   58   |   diff: 0.00099   |   V(s0) = 3.780   V(s1) = 7.293   V(s2) = 4.201\n",
            "Terminated\n"
          ]
        }
      ],
      "source": [
        "# parameters\n",
        "gamma = 0.9            # discount for MDP\n",
        "num_iter = 100         # maximum iterations, excluding initialization\n",
        "# stop VI if new values are this close to old values (or closer)\n",
        "min_difference = 0.001\n",
        "\n",
        "# initialize V(s)\n",
        "state_values = {s: 0 for s in mdp.get_all_states()}\n",
        "\n",
        "if has_graphviz:\n",
        "    display(plot_graph_with_state_values(mdp, state_values))\n",
        "\n",
        "for i in range(num_iter):\n",
        "\n",
        "    # Compute new state values using the functions you defined above.\n",
        "    # It must be a dict {state : float V_new(state)}\n",
        "    new_state_values = {state: get_new_state_value(mdp, state_values, state, gamma) for state in mdp.get_all_states()}\n",
        "\n",
        "    assert isinstance(new_state_values, dict)\n",
        "\n",
        "    # Compute difference\n",
        "    diff = max(abs(new_state_values[s] - state_values[s])\n",
        "               for s in mdp.get_all_states())\n",
        "    print(\"iter %4i   |   diff: %6.5f   |   \" % (i, diff), end=\"\")\n",
        "    print('   '.join(\"V(%s) = %.3f\" % (s, v) for s, v in state_values.items()))\n",
        "    state_values = new_state_values\n",
        "\n",
        "    if diff < min_difference:\n",
        "        print(\"Terminated\")\n",
        "        break"
      ]
    },
    {
      "cell_type": "code",
      "execution_count": null,
      "metadata": {
        "id": "UNfErTkBQKw0",
        "outputId": "2cb3f84d-f547-486f-c2a2-a16a7d21e3fe",
        "colab": {
          "base_uri": "https://localhost:8080/",
          "height": 455
        }
      },
      "outputs": [
        {
          "output_type": "display_data",
          "data": {
            "image/svg+xml": "<?xml version=\"1.0\" encoding=\"UTF-8\" standalone=\"no\"?>\n<!DOCTYPE svg PUBLIC \"-//W3C//DTD SVG 1.1//EN\"\n \"http://www.w3.org/Graphics/SVG/1.1/DTD/svg11.dtd\">\n<!-- Generated by graphviz version 2.43.0 (0)\n -->\n<!-- Title: MDP Pages: 1 -->\n<svg width=\"1240pt\" height=\"310pt\"\n viewBox=\"0.00 0.00 1239.97 310.00\" xmlns=\"http://www.w3.org/2000/svg\" xmlns:xlink=\"http://www.w3.org/1999/xlink\">\n<g id=\"graph0\" class=\"graph\" transform=\"scale(1 1) rotate(0) translate(4 306)\">\n<title>MDP</title>\n<polygon fill=\"white\" stroke=\"transparent\" points=\"-4,4 -4,-306 1235.97,-306 1235.97,4 -4,4\"/>\n<!-- s0 -->\n<g id=\"node1\" class=\"node\">\n<title>s0</title>\n<ellipse fill=\"#85ff75\" stroke=\"#85ff75\" cx=\"75.42\" cy=\"-110\" rx=\"71.34\" ry=\"71.34\"/>\n<ellipse fill=\"none\" stroke=\"#85ff75\" cx=\"75.42\" cy=\"-110\" rx=\"75.34\" ry=\"75.34\"/>\n<text text-anchor=\"middle\" x=\"75.42\" y=\"-116.8\" font-family=\"Arial\" font-size=\"24.00\">s0</text>\n<text text-anchor=\"middle\" x=\"75.42\" y=\"-90.8\" font-family=\"Arial\" font-size=\"24.00\">V =3.78</text>\n</g>\n<!-- s0&#45;a0 -->\n<g id=\"node2\" class=\"node\">\n<title>s0&#45;a0</title>\n<ellipse fill=\"lightpink\" stroke=\"lightpink\" cx=\"264.41\" cy=\"-154\" rx=\"27.65\" ry=\"27.65\"/>\n<text text-anchor=\"middle\" x=\"264.41\" y=\"-149\" font-family=\"Arial\" font-size=\"20.00\">a0</text>\n</g>\n<!-- s0&#45;&gt;s0&#45;a0 -->\n<g id=\"edge1\" class=\"edge\">\n<title>s0&#45;&gt;s0&#45;a0</title>\n<path fill=\"none\" stroke=\"red\" stroke-width=\"2\" d=\"M150.18,-121.42C172.44,-125.55 196.8,-130.76 218.84,-137 222.21,-137.95 225.68,-139.06 229.13,-140.23\"/>\n<polygon fill=\"red\" stroke=\"red\" stroke-width=\"2\" points=\"228.09,-143.58 238.68,-143.68 230.46,-136.99 228.09,-143.58\"/>\n</g>\n<!-- s0&#45;a1 -->\n<g id=\"node4\" class=\"node\">\n<title>s0&#45;a1</title>\n<ellipse fill=\"lightpink\" stroke=\"lightpink\" cx=\"264.41\" cy=\"-227\" rx=\"27.65\" ry=\"27.65\"/>\n<text text-anchor=\"middle\" x=\"264.41\" y=\"-222\" font-family=\"Arial\" font-size=\"20.00\">a1</text>\n</g>\n<!-- s0&#45;&gt;s0&#45;a1 -->\n<g id=\"edge4\" class=\"edge\">\n<title>s0&#45;&gt;s0&#45;a1</title>\n<path fill=\"none\" stroke=\"red\" stroke-width=\"2\" d=\"M139.73,-149.61C170.68,-168.98 206.57,-191.44 231.7,-207.16\"/>\n<polygon fill=\"red\" stroke=\"red\" stroke-width=\"2\" points=\"230.1,-210.29 240.44,-212.62 233.82,-204.35 230.1,-210.29\"/>\n</g>\n<!-- s0&#45;a0&#45;&gt;s0 -->\n<g id=\"edge2\" class=\"edge\">\n<title>s0&#45;a0&#45;&gt;s0</title>\n<path fill=\"none\" stroke=\"blue\" stroke-dasharray=\"5,2\" d=\"M237.25,-148.8C218.22,-144.94 191.87,-139.42 168.84,-134 165.42,-133.2 161.95,-132.36 158.44,-131.51\"/>\n<polygon fill=\"blue\" stroke=\"blue\" points=\"159.03,-128.05 148.48,-129.05 157.36,-134.85 159.03,-128.05\"/>\n<text text-anchor=\"middle\" x=\"193.84\" y=\"-150.2\" font-family=\"Arial\" font-size=\"16.00\">p = 0.5</text>\n</g>\n<!-- s2 -->\n<g id=\"node3\" class=\"node\">\n<title>s2</title>\n<ellipse fill=\"#85ff75\" stroke=\"#85ff75\" cx=\"539.41\" cy=\"-201\" rx=\"71.34\" ry=\"71.34\"/>\n<ellipse fill=\"none\" stroke=\"#85ff75\" cx=\"539.41\" cy=\"-201\" rx=\"75.34\" ry=\"75.34\"/>\n<text text-anchor=\"middle\" x=\"539.41\" y=\"-207.8\" font-family=\"Arial\" font-size=\"24.00\">s2</text>\n<text text-anchor=\"middle\" x=\"539.41\" y=\"-181.8\" font-family=\"Arial\" font-size=\"24.00\">V =4.20</text>\n</g>\n<!-- s0&#45;a0&#45;&gt;s2 -->\n<g id=\"edge3\" class=\"edge\">\n<title>s0&#45;a0&#45;&gt;s2</title>\n<path fill=\"none\" stroke=\"blue\" stroke-dasharray=\"5,2\" d=\"M292.09,-158.59C329.49,-165.03 399.18,-177.03 454.91,-186.63\"/>\n<polygon fill=\"blue\" stroke=\"blue\" points=\"454.34,-190.08 464.79,-188.33 455.53,-183.18 454.34,-190.08\"/>\n<text text-anchor=\"middle\" x=\"377.99\" y=\"-190.2\" font-family=\"Arial\" font-size=\"16.00\">p = 0.5</text>\n</g>\n<!-- s2&#45;a0 -->\n<g id=\"node8\" class=\"node\">\n<title>s2&#45;a0</title>\n<ellipse fill=\"lightpink\" stroke=\"lightpink\" cx=\"808.4\" cy=\"-162\" rx=\"27.65\" ry=\"27.65\"/>\n<text text-anchor=\"middle\" x=\"808.4\" y=\"-157\" font-family=\"Arial\" font-size=\"20.00\">a0</text>\n</g>\n<!-- s2&#45;&gt;s2&#45;a0 -->\n<g id=\"edge13\" class=\"edge\">\n<title>s2&#45;&gt;s2&#45;a0</title>\n<path fill=\"none\" stroke=\"red\" stroke-width=\"2\" d=\"M615.01,-200.1C658.66,-198.14 714.51,-193.15 762.83,-181 766.47,-180.08 770.19,-178.91 773.86,-177.6\"/>\n<polygon fill=\"red\" stroke=\"red\" stroke-width=\"2\" points=\"775.33,-180.78 783.36,-173.87 772.77,-174.27 775.33,-180.78\"/>\n</g>\n<!-- s2&#45;a1 -->\n<g id=\"node9\" class=\"node\">\n<title>s2&#45;a1</title>\n<ellipse fill=\"lightpink\" stroke=\"lightpink\" cx=\"808.4\" cy=\"-80\" rx=\"27.65\" ry=\"27.65\"/>\n<text text-anchor=\"middle\" x=\"808.4\" y=\"-75\" font-family=\"Arial\" font-size=\"20.00\">a1</text>\n</g>\n<!-- s2&#45;&gt;s2&#45;a1 -->\n<g id=\"edge16\" class=\"edge\">\n<title>s2&#45;&gt;s2&#45;a1</title>\n<path fill=\"none\" stroke=\"red\" stroke-width=\"2\" d=\"M604.95,-163.22C614.2,-158.24 623.68,-153.35 632.83,-149 680.16,-126.46 736.95,-105 772.61,-92.16\"/>\n<polygon fill=\"red\" stroke=\"red\" stroke-width=\"2\" points=\"773.84,-95.44 782.08,-88.78 771.49,-88.85 773.84,-95.44\"/>\n</g>\n<!-- s0&#45;a1&#45;&gt;s2 -->\n<g id=\"edge5\" class=\"edge\">\n<title>s0&#45;a1&#45;&gt;s2</title>\n<path fill=\"none\" stroke=\"blue\" stroke-dasharray=\"5,2\" d=\"M292.09,-224.46C329.28,-220.92 398.42,-214.33 454,-209.04\"/>\n<polygon fill=\"blue\" stroke=\"blue\" points=\"454.59,-212.5 464.21,-208.07 453.92,-205.53 454.59,-212.5\"/>\n<text text-anchor=\"middle\" x=\"377.99\" y=\"-227.2\" font-family=\"Arial\" font-size=\"16.00\">p = 1</text>\n</g>\n<!-- s1 -->\n<g id=\"node5\" class=\"node\">\n<title>s1</title>\n<ellipse fill=\"#85ff75\" stroke=\"#85ff75\" cx=\"1006.4\" cy=\"-110\" rx=\"71.34\" ry=\"71.34\"/>\n<ellipse fill=\"none\" stroke=\"#85ff75\" cx=\"1006.4\" cy=\"-110\" rx=\"75.34\" ry=\"75.34\"/>\n<text text-anchor=\"middle\" x=\"1006.4\" y=\"-116.8\" font-family=\"Arial\" font-size=\"24.00\">s1</text>\n<text text-anchor=\"middle\" x=\"1006.4\" y=\"-90.8\" font-family=\"Arial\" font-size=\"24.00\">V =7.29</text>\n</g>\n<!-- s1&#45;a0 -->\n<g id=\"node6\" class=\"node\">\n<title>s1&#45;a0</title>\n<ellipse fill=\"lightpink\" stroke=\"lightpink\" cx=\"1204.39\" cy=\"-86\" rx=\"27.65\" ry=\"27.65\"/>\n<text text-anchor=\"middle\" x=\"1204.39\" y=\"-81\" font-family=\"Arial\" font-size=\"20.00\">a0</text>\n</g>\n<!-- s1&#45;&gt;s1&#45;a0 -->\n<g id=\"edge6\" class=\"edge\">\n<title>s1&#45;&gt;s1&#45;a0</title>\n<path fill=\"none\" stroke=\"red\" stroke-width=\"2\" d=\"M1081.95,-105.02C1106.52,-102.87 1133.91,-99.93 1158.82,-96 1161.51,-95.57 1164.29,-95.08 1167.08,-94.55\"/>\n<polygon fill=\"red\" stroke=\"red\" stroke-width=\"2\" points=\"1168.01,-97.93 1177.1,-92.49 1166.6,-91.08 1168.01,-97.93\"/>\n</g>\n<!-- s1&#45;a1 -->\n<g id=\"node7\" class=\"node\">\n<title>s1&#45;a1</title>\n<ellipse fill=\"lightpink\" stroke=\"lightpink\" cx=\"1204.39\" cy=\"-168\" rx=\"27.65\" ry=\"27.65\"/>\n<text text-anchor=\"middle\" x=\"1204.39\" y=\"-163\" font-family=\"Arial\" font-size=\"20.00\">a1</text>\n</g>\n<!-- s1&#45;&gt;s1&#45;a1 -->\n<g id=\"edge10\" class=\"edge\">\n<title>s1&#45;&gt;s1&#45;a1</title>\n<path fill=\"none\" stroke=\"red\" stroke-width=\"2\" d=\"M1080.07,-126.35C1105.25,-132.64 1133.5,-140.4 1158.82,-149 1162.37,-150.21 1166.04,-151.57 1169.68,-153\"/>\n<polygon fill=\"red\" stroke=\"red\" stroke-width=\"2\" points=\"1168.55,-156.32 1179.13,-156.87 1171.2,-149.84 1168.55,-156.32\"/>\n</g>\n<!-- s1&#45;a0&#45;&gt;s0 -->\n<g id=\"edge7\" class=\"edge\">\n<title>s1&#45;a0&#45;&gt;s0</title>\n<path fill=\"none\" stroke=\"blue\" stroke-dasharray=\"5,2\" d=\"M1182.11,-69.62C1147.5,-44.67 1075.95,0 1007.4,0 263.41,0 263.41,0 263.41,0 217.21,0 172.35,-25.26 138.16,-51.56\"/>\n<polygon fill=\"blue\" stroke=\"blue\" points=\"135.82,-48.95 130.14,-57.9 140.16,-54.44 135.82,-48.95\"/>\n<text text-anchor=\"middle\" x=\"697.83\" y=\"-5.2\" font-family=\"Arial\" font-size=\"16.00\">p = 0.7 &#160;reward =5</text>\n</g>\n<!-- s1&#45;a0&#45;&gt;s2 -->\n<g id=\"edge9\" class=\"edge\">\n<title>s1&#45;a0&#45;&gt;s2</title>\n<path fill=\"none\" stroke=\"blue\" stroke-dasharray=\"5,2\" d=\"M1188.69,-108.88C1184.55,-115.83 1180.24,-123.59 1176.82,-131 1166.55,-153.2 1177.68,-167.44 1158.82,-183 1132.15,-205 1116.26,-191.06 1081.82,-194 920.76,-207.73 731.8,-206.17 625.08,-203.67\"/>\n<polygon fill=\"blue\" stroke=\"blue\" points=\"625.1,-200.17 615.01,-203.43 624.93,-207.17 625.1,-200.17\"/>\n<text text-anchor=\"middle\" x=\"883.48\" y=\"-209.2\" font-family=\"Arial\" font-size=\"16.00\">p = 0.2</text>\n</g>\n<!-- s1&#45;a0&#45;&gt;s1 -->\n<g id=\"edge8\" class=\"edge\">\n<title>s1&#45;a0&#45;&gt;s1</title>\n<path fill=\"none\" stroke=\"blue\" stroke-dasharray=\"5,2\" d=\"M1177.7,-77.85C1171.57,-76.25 1165.01,-74.82 1158.82,-74 1132.82,-70.56 1125.59,-69.16 1099.82,-74 1095.09,-74.89 1090.3,-76.01 1085.51,-77.3\"/>\n<polygon fill=\"blue\" stroke=\"blue\" points=\"1084.32,-74.01 1075.71,-80.18 1086.29,-80.72 1084.32,-74.01\"/>\n<text text-anchor=\"middle\" x=\"1129.32\" y=\"-79.2\" font-family=\"Arial\" font-size=\"16.00\">p = 0.1</text>\n</g>\n<!-- s1&#45;a1&#45;&gt;s2 -->\n<g id=\"edge12\" class=\"edge\">\n<title>s1&#45;a1&#45;&gt;s2</title>\n<path fill=\"none\" stroke=\"blue\" stroke-dasharray=\"5,2\" d=\"M1193.43,-193.31C1186.2,-208 1174.85,-225.27 1158.82,-234 985.97,-328.1 744.14,-270.76 620.34,-230.44\"/>\n<polygon fill=\"blue\" stroke=\"blue\" points=\"621.14,-227.02 610.55,-227.21 618.95,-233.67 621.14,-227.02\"/>\n<text text-anchor=\"middle\" x=\"883.48\" y=\"-289.2\" font-family=\"Arial\" font-size=\"16.00\">p = 0.05</text>\n</g>\n<!-- s1&#45;a1&#45;&gt;s1 -->\n<g id=\"edge11\" class=\"edge\">\n<title>s1&#45;a1&#45;&gt;s1</title>\n<path fill=\"none\" stroke=\"blue\" stroke-dasharray=\"5,2\" d=\"M1177.13,-163.64C1156.02,-159.84 1125.71,-153.74 1099.82,-146 1095.26,-144.64 1090.61,-143.15 1085.95,-141.58\"/>\n<polygon fill=\"blue\" stroke=\"blue\" points=\"1086.96,-138.23 1076.36,-138.26 1084.66,-144.84 1086.96,-138.23\"/>\n<text text-anchor=\"middle\" x=\"1129.32\" y=\"-166.2\" font-family=\"Arial\" font-size=\"16.00\">p = 0.95</text>\n</g>\n<!-- s2&#45;a0&#45;&gt;s0 -->\n<g id=\"edge14\" class=\"edge\">\n<title>s2&#45;a0&#45;&gt;s0</title>\n<path fill=\"none\" stroke=\"blue\" stroke-dasharray=\"5,2\" d=\"M781.88,-154.02C745.32,-143.06 675.72,-123.91 614.83,-117 455.33,-98.9 267.57,-101.93 161.21,-105.89\"/>\n<polygon fill=\"blue\" stroke=\"blue\" points=\"161.04,-102.4 151.18,-106.28 161.31,-109.39 161.04,-102.4\"/>\n<text text-anchor=\"middle\" x=\"377.99\" y=\"-111.2\" font-family=\"Arial\" font-size=\"16.00\">p = 0.4</text>\n</g>\n<!-- s2&#45;a0&#45;&gt;s2 -->\n<g id=\"edge15\" class=\"edge\">\n<title>s2&#45;a0&#45;&gt;s2</title>\n<path fill=\"none\" stroke=\"blue\" stroke-dasharray=\"5,2\" d=\"M781.01,-157.84C746.5,-153.23 684.38,-147.84 632.83,-159 627.44,-160.17 622,-161.67 616.58,-163.42\"/>\n<polygon fill=\"blue\" stroke=\"blue\" points=\"615.18,-160.2 606.9,-166.8 617.49,-166.81 615.18,-160.2\"/>\n<text text-anchor=\"middle\" x=\"697.83\" y=\"-164.2\" font-family=\"Arial\" font-size=\"16.00\">p = 0.6</text>\n</g>\n<!-- s2&#45;a1&#45;&gt;s0 -->\n<g id=\"edge17\" class=\"edge\">\n<title>s2&#45;a1&#45;&gt;s0</title>\n<path fill=\"none\" stroke=\"blue\" stroke-dasharray=\"5,2\" d=\"M784.63,-65.62C777.87,-62.09 770.27,-58.81 762.83,-57 706.68,-43.37 690.6,-56.91 632.83,-57 489.34,-57.22 452.86,-44.73 309.99,-58 246.47,-63.9 230.97,-69.57 168.84,-84 165.26,-84.83 161.61,-85.71 157.93,-86.63\"/>\n<polygon fill=\"blue\" stroke=\"blue\" points=\"156.97,-83.26 148.15,-89.12 158.7,-90.04 156.97,-83.26\"/>\n<text text-anchor=\"middle\" x=\"377.99\" y=\"-63.2\" font-family=\"Arial\" font-size=\"16.00\">p = 0.3 &#160;reward =&#45;1</text>\n</g>\n<!-- s2&#45;a1&#45;&gt;s2 -->\n<g id=\"edge19\" class=\"edge\">\n<title>s2&#45;a1&#45;&gt;s2</title>\n<path fill=\"none\" stroke=\"blue\" stroke-dasharray=\"5,2\" d=\"M781.77,-72.02C746.2,-62.49 680.83,-50.67 632.83,-75 611.02,-86.05 593.11,-104.94 579.06,-124.77\"/>\n<polygon fill=\"blue\" stroke=\"blue\" points=\"575.98,-123.07 573.27,-133.31 581.78,-127 575.98,-123.07\"/>\n<text text-anchor=\"middle\" x=\"697.83\" y=\"-80.2\" font-family=\"Arial\" font-size=\"16.00\">p = 0.4</text>\n</g>\n<!-- s2&#45;a1&#45;&gt;s1 -->\n<g id=\"edge18\" class=\"edge\">\n<title>s2&#45;a1&#45;&gt;s1</title>\n<path fill=\"none\" stroke=\"blue\" stroke-dasharray=\"5,2\" d=\"M835.84,-84.05C857.99,-87.44 890.88,-92.47 921.81,-97.21\"/>\n<polygon fill=\"blue\" stroke=\"blue\" points=\"921.35,-100.68 931.77,-98.73 922.41,-93.76 921.35,-100.68\"/>\n<text text-anchor=\"middle\" x=\"883.48\" y=\"-100.2\" font-family=\"Arial\" font-size=\"16.00\">p = 0.3</text>\n</g>\n</g>\n</svg>\n",
            "text/plain": [
              "<graphviz.graphs.Digraph at 0x7adb442ea650>"
            ]
          },
          "metadata": {}
        }
      ],
      "source": [
        "if has_graphviz:\n",
        "    display(plot_graph_with_state_values(mdp, state_values))"
      ]
    },
    {
      "cell_type": "code",
      "execution_count": null,
      "metadata": {
        "id": "4UINhy1wQKw0",
        "outputId": "e113c73a-3fdf-41f0-be47-95def365191f",
        "colab": {
          "base_uri": "https://localhost:8080/"
        }
      },
      "outputs": [
        {
          "output_type": "stream",
          "name": "stdout",
          "text": [
            "Final state values: {'s0': 3.7810348735476405, 's1': 7.294006423867229, 's2': 4.202140275227048}\n"
          ]
        }
      ],
      "source": [
        "print(\"Final state values:\", state_values)\n",
        "\n",
        "assert abs(state_values['s0'] - 3.781) < 0.01\n",
        "assert abs(state_values['s1'] - 7.294) < 0.01\n",
        "assert abs(state_values['s2'] - 4.202) < 0.01"
      ]
    },
    {
      "cell_type": "markdown",
      "metadata": {
        "id": "GIfLb3ExQKw0"
      },
      "source": [
        "Now let's use those $V^{*}(s)$ to find optimal actions in each state\n",
        "\n",
        " $$\\pi^*(s) = argmax_a \\sum_{s'} P(s' | s,a) \\cdot [ r(s,a,s') + \\gamma V_{i}(s')] = argmax_a Q_i(s,a)$$\n",
        "\n",
        "The only difference vs V(s) is that here we take not max but argmax: find action such with maximum Q(s,a)."
      ]
    },
    {
      "cell_type": "code",
      "execution_count": null,
      "metadata": {
        "id": "h4QARn6AQKw0"
      },
      "outputs": [],
      "source": [
        "def get_optimal_action(mdp, state_values, state, gamma=0.9):\n",
        "    \"\"\" Finds optimal action using formula above. \"\"\"\n",
        "    if mdp.is_terminal(state):\n",
        "        return None\n",
        "\n",
        "    return mdp.get_possible_actions(state)[np.argmax([get_action_value(mdp, state_values, state, action, gamma) for action in mdp.get_possible_actions(state)])]"
      ]
    },
    {
      "cell_type": "code",
      "execution_count": null,
      "metadata": {
        "id": "5W-OV2NLQKw1"
      },
      "outputs": [],
      "source": [
        "assert get_optimal_action(mdp, state_values, 's0', gamma) == 'a1'\n",
        "assert get_optimal_action(mdp, state_values, 's1', gamma) == 'a0'\n",
        "assert get_optimal_action(mdp, state_values, 's2', gamma) == 'a1'\n",
        "\n",
        "assert get_optimal_action(mdp, {'s0': -1e10, 's1': 0, 's2': -2e10}, 's0', 0.9) == 'a0', \\\n",
        "    \"Please ensure that you handle negative Q-values of arbitrary magnitude correctly\"\n",
        "assert get_optimal_action(mdp, {'s0': -2e10, 's1': 0, 's2': -1e10}, 's0', 0.9) == 'a1', \\\n",
        "    \"Please ensure that you handle negative Q-values of arbitrary magnitude correctly\""
      ]
    },
    {
      "cell_type": "code",
      "execution_count": null,
      "metadata": {
        "id": "UMaNPEQYQKw1",
        "outputId": "d8e62dc6-8369-44ab-a981-5f148c2cb062",
        "colab": {
          "base_uri": "https://localhost:8080/",
          "height": 491
        }
      },
      "outputs": [
        {
          "output_type": "display_data",
          "data": {
            "image/svg+xml": "<?xml version=\"1.0\" encoding=\"UTF-8\" standalone=\"no\"?>\n<!DOCTYPE svg PUBLIC \"-//W3C//DTD SVG 1.1//EN\"\n \"http://www.w3.org/Graphics/SVG/1.1/DTD/svg11.dtd\">\n<!-- Generated by graphviz version 2.43.0 (0)\n -->\n<!-- Title: MDP Pages: 1 -->\n<svg width=\"1240pt\" height=\"337pt\"\n viewBox=\"0.00 0.00 1239.97 337.00\" xmlns=\"http://www.w3.org/2000/svg\" xmlns:xlink=\"http://www.w3.org/1999/xlink\">\n<g id=\"graph0\" class=\"graph\" transform=\"scale(1 1) rotate(0) translate(4 333)\">\n<title>MDP</title>\n<polygon fill=\"white\" stroke=\"transparent\" points=\"-4,4 -4,-333 1235.97,-333 1235.97,4 -4,4\"/>\n<!-- s0 -->\n<g id=\"node1\" class=\"node\">\n<title>s0</title>\n<ellipse fill=\"#85ff75\" stroke=\"#85ff75\" cx=\"75.42\" cy=\"-129\" rx=\"71.34\" ry=\"71.34\"/>\n<ellipse fill=\"none\" stroke=\"#85ff75\" cx=\"75.42\" cy=\"-129\" rx=\"75.34\" ry=\"75.34\"/>\n<text text-anchor=\"middle\" x=\"75.42\" y=\"-135.8\" font-family=\"Arial\" font-size=\"24.00\">s0</text>\n<text text-anchor=\"middle\" x=\"75.42\" y=\"-109.8\" font-family=\"Arial\" font-size=\"24.00\">V =3.78</text>\n</g>\n<!-- s0&#45;a0 -->\n<g id=\"node2\" class=\"node\">\n<title>s0&#45;a0</title>\n<ellipse fill=\"lightpink\" stroke=\"lightpink\" cx=\"264.41\" cy=\"-160\" rx=\"27.65\" ry=\"27.65\"/>\n<text text-anchor=\"middle\" x=\"264.41\" y=\"-155\" font-family=\"Arial\" font-size=\"20.00\">a0</text>\n</g>\n<!-- s0&#45;&gt;s0&#45;a0 -->\n<g id=\"edge1\" class=\"edge\">\n<title>s0&#45;&gt;s0&#45;a0</title>\n<path fill=\"none\" stroke=\"red\" stroke-width=\"2\" d=\"M150.95,-132.56C173.01,-134.63 197.07,-137.88 218.84,-143 222.24,-143.8 225.74,-144.8 229.21,-145.92\"/>\n<polygon fill=\"red\" stroke=\"red\" stroke-width=\"2\" points=\"228.19,-149.27 238.79,-149.27 230.51,-142.66 228.19,-149.27\"/>\n</g>\n<!-- s0&#45;a1 -->\n<g id=\"node4\" class=\"node\">\n<title>s0&#45;a1</title>\n<ellipse fill=\"lightpink\" stroke=\"lightpink\" cx=\"264.41\" cy=\"-233\" rx=\"27.65\" ry=\"27.65\"/>\n<text text-anchor=\"middle\" x=\"264.41\" y=\"-228\" font-family=\"Arial\" font-size=\"20.00\">a1</text>\n</g>\n<!-- s0&#45;&gt;s0&#45;a1 -->\n<g id=\"edge4\" class=\"edge\">\n<title>s0&#45;&gt;s0&#45;a1</title>\n<path fill=\"none\" stroke=\"red\" stroke-width=\"2\" d=\"M144.19,-160.18C174.78,-176.62 209.34,-196.31 233.35,-211.16\"/>\n<polygon fill=\"red\" stroke=\"red\" stroke-width=\"2\" points=\"231.67,-214.25 242,-216.6 235.4,-208.32 231.67,-214.25\"/>\n</g>\n<!-- s0&#45;&gt;s0&#45;a1 -->\n<g id=\"edge20\" class=\"edge\">\n<title>s0&#45;&gt;s0&#45;a1</title>\n<path fill=\"none\" stroke=\"green\" stroke-width=\"6\" d=\"M138.94,-170.18C169.07,-187.63 204.03,-206.72 229.22,-219.34\"/>\n<polygon fill=\"green\" stroke=\"green\" stroke-width=\"6\" points=\"227.07,-224.14 238.36,-223.84 231.71,-214.72 227.07,-224.14\"/>\n</g>\n<!-- s0&#45;a0&#45;&gt;s0 -->\n<g id=\"edge2\" class=\"edge\">\n<title>s0&#45;a0&#45;&gt;s0</title>\n<path fill=\"none\" stroke=\"blue\" stroke-dasharray=\"5,2\" d=\"M236.97,-155.62C216.84,-152.28 187.94,-147.49 160.2,-142.89\"/>\n<polygon fill=\"blue\" stroke=\"blue\" points=\"160.49,-139.39 150.05,-141.21 159.35,-146.3 160.49,-139.39\"/>\n<text text-anchor=\"middle\" x=\"193.84\" y=\"-158.2\" font-family=\"Arial\" font-size=\"16.00\">p = 0.5</text>\n</g>\n<!-- s2 -->\n<g id=\"node3\" class=\"node\">\n<title>s2</title>\n<ellipse fill=\"#85ff75\" stroke=\"#85ff75\" cx=\"539.41\" cy=\"-207\" rx=\"71.34\" ry=\"71.34\"/>\n<ellipse fill=\"none\" stroke=\"#85ff75\" cx=\"539.41\" cy=\"-207\" rx=\"75.34\" ry=\"75.34\"/>\n<text text-anchor=\"middle\" x=\"539.41\" y=\"-213.8\" font-family=\"Arial\" font-size=\"24.00\">s2</text>\n<text text-anchor=\"middle\" x=\"539.41\" y=\"-187.8\" font-family=\"Arial\" font-size=\"24.00\">V =4.20</text>\n</g>\n<!-- s0&#45;a0&#45;&gt;s2 -->\n<g id=\"edge3\" class=\"edge\">\n<title>s0&#45;a0&#45;&gt;s2</title>\n<path fill=\"none\" stroke=\"blue\" stroke-dasharray=\"5,2\" d=\"M292.09,-164.59C329.49,-171.03 399.18,-183.03 454.91,-192.63\"/>\n<polygon fill=\"blue\" stroke=\"blue\" points=\"454.34,-196.08 464.79,-194.33 455.53,-189.18 454.34,-196.08\"/>\n<text text-anchor=\"middle\" x=\"377.99\" y=\"-196.2\" font-family=\"Arial\" font-size=\"16.00\">p = 0.5</text>\n</g>\n<!-- s2&#45;a0 -->\n<g id=\"node8\" class=\"node\">\n<title>s2&#45;a0</title>\n<ellipse fill=\"lightpink\" stroke=\"lightpink\" cx=\"808.4\" cy=\"-181\" rx=\"27.65\" ry=\"27.65\"/>\n<text text-anchor=\"middle\" x=\"808.4\" y=\"-176\" font-family=\"Arial\" font-size=\"20.00\">a0</text>\n</g>\n<!-- s2&#45;&gt;s2&#45;a0 -->\n<g id=\"edge13\" class=\"edge\">\n<title>s2&#45;&gt;s2&#45;a0</title>\n<path fill=\"none\" stroke=\"red\" stroke-width=\"2\" d=\"M614.83,-210.72C658.41,-211.32 714.26,-209.34 762.83,-199 766.28,-198.26 769.8,-197.28 773.29,-196.15\"/>\n<polygon fill=\"red\" stroke=\"red\" stroke-width=\"2\" points=\"774.69,-199.37 782.89,-192.67 772.3,-192.79 774.69,-199.37\"/>\n</g>\n<!-- s2&#45;a1 -->\n<g id=\"node9\" class=\"node\">\n<title>s2&#45;a1</title>\n<ellipse fill=\"lightpink\" stroke=\"lightpink\" cx=\"808.4\" cy=\"-108\" rx=\"27.65\" ry=\"27.65\"/>\n<text text-anchor=\"middle\" x=\"808.4\" y=\"-103\" font-family=\"Arial\" font-size=\"20.00\">a1</text>\n</g>\n<!-- s2&#45;&gt;s2&#45;a1 -->\n<g id=\"edge16\" class=\"edge\">\n<title>s2&#45;&gt;s2&#45;a1</title>\n<path fill=\"none\" stroke=\"red\" stroke-width=\"2\" d=\"M605.62,-170.76C614.72,-167.01 623.99,-163.36 632.83,-160 680.22,-141.99 735.57,-122.99 771.03,-113.18\"/>\n<polygon fill=\"red\" stroke=\"red\" stroke-width=\"2\" points=\"772.15,-116.51 780.92,-110.56 770.36,-109.74 772.15,-116.51\"/>\n</g>\n<!-- s2&#45;&gt;s2&#45;a1 -->\n<g id=\"edge22\" class=\"edge\">\n<title>s2&#45;&gt;s2&#45;a1</title>\n<path fill=\"none\" stroke=\"green\" stroke-width=\"6\" d=\"M611.9,-186.12C618.95,-183.35 626.01,-180.59 632.83,-178 681.93,-159.34 739.58,-139.62 774.79,-125.46\"/>\n<polygon fill=\"green\" stroke=\"green\" stroke-width=\"6\" points=\"776.86,-130.29 784.1,-121.62 772.86,-120.58 776.86,-130.29\"/>\n</g>\n<!-- s0&#45;a1&#45;&gt;s2 -->\n<g id=\"edge5\" class=\"edge\">\n<title>s0&#45;a1&#45;&gt;s2</title>\n<path fill=\"none\" stroke=\"blue\" stroke-dasharray=\"5,2\" d=\"M292.09,-230.46C329.28,-226.92 398.42,-220.33 454,-215.04\"/>\n<polygon fill=\"blue\" stroke=\"blue\" points=\"454.59,-218.5 464.21,-214.07 453.92,-211.53 454.59,-218.5\"/>\n<text text-anchor=\"middle\" x=\"377.99\" y=\"-233.2\" font-family=\"Arial\" font-size=\"16.00\">p = 1</text>\n</g>\n<!-- s1 -->\n<g id=\"node5\" class=\"node\">\n<title>s1</title>\n<ellipse fill=\"#85ff75\" stroke=\"#85ff75\" cx=\"1006.4\" cy=\"-127\" rx=\"71.34\" ry=\"71.34\"/>\n<ellipse fill=\"none\" stroke=\"#85ff75\" cx=\"1006.4\" cy=\"-127\" rx=\"75.34\" ry=\"75.34\"/>\n<text text-anchor=\"middle\" x=\"1006.4\" y=\"-133.8\" font-family=\"Arial\" font-size=\"24.00\">s1</text>\n<text text-anchor=\"middle\" x=\"1006.4\" y=\"-107.8\" font-family=\"Arial\" font-size=\"24.00\">V =7.29</text>\n</g>\n<!-- s1&#45;a0 -->\n<g id=\"node6\" class=\"node\">\n<title>s1&#45;a0</title>\n<ellipse fill=\"lightpink\" stroke=\"lightpink\" cx=\"1204.39\" cy=\"-126\" rx=\"27.65\" ry=\"27.65\"/>\n<text text-anchor=\"middle\" x=\"1204.39\" y=\"-121\" font-family=\"Arial\" font-size=\"20.00\">a0</text>\n</g>\n<!-- s1&#45;&gt;s1&#45;a0 -->\n<g id=\"edge6\" class=\"edge\">\n<title>s1&#45;&gt;s1&#45;a0</title>\n<path fill=\"none\" stroke=\"red\" stroke-width=\"2\" d=\"M1081.49,-120.05C1110.77,-119.45 1143.07,-119.68 1167.07,-120.8\"/>\n<polygon fill=\"red\" stroke=\"red\" stroke-width=\"2\" points=\"1166.96,-124.3 1177.13,-121.36 1167.34,-117.31 1166.96,-124.3\"/>\n</g>\n<!-- s1&#45;&gt;s1&#45;a0 -->\n<g id=\"edge21\" class=\"edge\">\n<title>s1&#45;&gt;s1&#45;a0</title>\n<path fill=\"none\" stroke=\"green\" stroke-width=\"6\" d=\"M1081.77,-133.19C1111.02,-133.49 1143.24,-132.93 1167.17,-131.56\"/>\n<polygon fill=\"green\" stroke=\"green\" stroke-width=\"6\" points=\"1167.58,-136.8 1177.21,-130.9 1166.89,-126.32 1167.58,-136.8\"/>\n</g>\n<!-- s1&#45;a1 -->\n<g id=\"node7\" class=\"node\">\n<title>s1&#45;a1</title>\n<ellipse fill=\"lightpink\" stroke=\"lightpink\" cx=\"1204.39\" cy=\"-199\" rx=\"27.65\" ry=\"27.65\"/>\n<text text-anchor=\"middle\" x=\"1204.39\" y=\"-194\" font-family=\"Arial\" font-size=\"20.00\">a1</text>\n</g>\n<!-- s1&#45;&gt;s1&#45;a1 -->\n<g id=\"edge10\" class=\"edge\">\n<title>s1&#45;&gt;s1&#45;a1</title>\n<path fill=\"none\" stroke=\"red\" stroke-width=\"2\" d=\"M1078.88,-149.2C1104.35,-157.6 1133.08,-167.64 1158.82,-178 1162.46,-179.47 1166.23,-181.08 1169.97,-182.75\"/>\n<polygon fill=\"red\" stroke=\"red\" stroke-width=\"2\" points=\"1168.54,-185.95 1179.09,-186.93 1171.46,-179.58 1168.54,-185.95\"/>\n</g>\n<!-- s1&#45;a0&#45;&gt;s0 -->\n<g id=\"edge7\" class=\"edge\">\n<title>s1&#45;a0&#45;&gt;s0</title>\n<path fill=\"none\" stroke=\"blue\" stroke-dasharray=\"5,2\" d=\"M1186.11,-104.91C1154.62,-69.04 1084.05,0 1007.4,0 263.41,0 263.41,0 263.41,0 213,0 166.3,-32.17 132.19,-64.37\"/>\n<polygon fill=\"blue\" stroke=\"blue\" points=\"129.41,-62.19 124.67,-71.67 134.28,-67.22 129.41,-62.19\"/>\n<text text-anchor=\"middle\" x=\"697.83\" y=\"-5.2\" font-family=\"Arial\" font-size=\"16.00\">p = 0.7 &#160;reward =5</text>\n</g>\n<!-- s1&#45;a0&#45;&gt;s2 -->\n<g id=\"edge9\" class=\"edge\">\n<title>s1&#45;a0&#45;&gt;s2</title>\n<path fill=\"none\" stroke=\"blue\" stroke-dasharray=\"5,2\" d=\"M1186.25,-147C1182.84,-151.76 1179.49,-156.91 1176.82,-162 1165.42,-183.64 1178.65,-199.69 1158.82,-214 1075.72,-273.95 772.78,-240.62 624,-219.77\"/>\n<polygon fill=\"blue\" stroke=\"blue\" points=\"624.38,-216.29 613.99,-218.36 623.4,-223.22 624.38,-216.29\"/>\n<text text-anchor=\"middle\" x=\"883.48\" y=\"-252.2\" font-family=\"Arial\" font-size=\"16.00\">p = 0.2</text>\n</g>\n<!-- s1&#45;a0&#45;&gt;s1 -->\n<g id=\"edge8\" class=\"edge\">\n<title>s1&#45;a0&#45;&gt;s1</title>\n<path fill=\"none\" stroke=\"blue\" stroke-dasharray=\"5,2\" d=\"M1180.03,-112.64C1173.38,-109.5 1166,-106.61 1158.82,-105 1136.35,-99.97 1111.74,-100.87 1089.01,-104.26\"/>\n<polygon fill=\"blue\" stroke=\"blue\" points=\"1088.35,-100.82 1079.06,-105.92 1089.49,-107.73 1088.35,-100.82\"/>\n<text text-anchor=\"middle\" x=\"1129.32\" y=\"-110.2\" font-family=\"Arial\" font-size=\"16.00\">p = 0.1</text>\n</g>\n<!-- s1&#45;a1&#45;&gt;s2 -->\n<g id=\"edge12\" class=\"edge\">\n<title>s1&#45;a1&#45;&gt;s2</title>\n<path fill=\"none\" stroke=\"blue\" stroke-dasharray=\"5,2\" d=\"M1190.04,-222.71C1182.44,-233.74 1171.83,-245.78 1158.82,-252 947.9,-352.82 860.02,-307.08 632.83,-252 627.05,-250.6 621.21,-248.8 615.42,-246.73\"/>\n<polygon fill=\"blue\" stroke=\"blue\" points=\"616.34,-243.34 605.75,-243.02 613.83,-249.87 616.34,-243.34\"/>\n<text text-anchor=\"middle\" x=\"883.48\" y=\"-316.2\" font-family=\"Arial\" font-size=\"16.00\">p = 0.05</text>\n</g>\n<!-- s1&#45;a1&#45;&gt;s1 -->\n<g id=\"edge11\" class=\"edge\">\n<title>s1&#45;a1&#45;&gt;s1</title>\n<path fill=\"none\" stroke=\"blue\" stroke-dasharray=\"5,2\" d=\"M1176.87,-195.13C1155.6,-191.56 1125.22,-185.36 1099.82,-176 1093.83,-173.8 1087.75,-171.27 1081.71,-168.56\"/>\n<polygon fill=\"blue\" stroke=\"blue\" points=\"1082.82,-165.22 1072.28,-164.17 1079.87,-171.56 1082.82,-165.22\"/>\n<text text-anchor=\"middle\" x=\"1129.32\" y=\"-197.2\" font-family=\"Arial\" font-size=\"16.00\">p = 0.95</text>\n</g>\n<!-- s2&#45;a0&#45;&gt;s0 -->\n<g id=\"edge14\" class=\"edge\">\n<title>s2&#45;a0&#45;&gt;s0</title>\n<path fill=\"none\" stroke=\"blue\" stroke-dasharray=\"5,2\" d=\"M782.4,-170.89C746.17,-156.84 676.66,-132.11 614.83,-123 455.58,-99.54 266.96,-110.35 160.54,-119.95\"/>\n<polygon fill=\"blue\" stroke=\"blue\" points=\"160.14,-116.47 150.5,-120.87 160.78,-123.44 160.14,-116.47\"/>\n<text text-anchor=\"middle\" x=\"377.99\" y=\"-116.2\" font-family=\"Arial\" font-size=\"16.00\">p = 0.4</text>\n</g>\n<!-- s2&#45;a0&#45;&gt;s2 -->\n<g id=\"edge15\" class=\"edge\">\n<title>s2&#45;a0&#45;&gt;s2</title>\n<path fill=\"none\" stroke=\"blue\" stroke-dasharray=\"5,2\" d=\"M780.88,-177.46C746.5,-173.54 684.78,-168.78 632.83,-177 628.7,-177.65 624.51,-178.46 620.31,-179.38\"/>\n<polygon fill=\"blue\" stroke=\"blue\" points=\"619.4,-176 610.49,-181.74 621.03,-182.81 619.4,-176\"/>\n<text text-anchor=\"middle\" x=\"697.83\" y=\"-182.2\" font-family=\"Arial\" font-size=\"16.00\">p = 0.6</text>\n</g>\n<!-- s2&#45;a1&#45;&gt;s0 -->\n<g id=\"edge17\" class=\"edge\">\n<title>s2&#45;a1&#45;&gt;s0</title>\n<path fill=\"none\" stroke=\"blue\" stroke-dasharray=\"5,2\" d=\"M784.02,-94.34C777.37,-91.05 769.99,-87.94 762.83,-86 568.3,-33.44 510.65,-45.67 309.99,-64 246.46,-69.8 229.95,-71.71 168.84,-90 163.96,-91.46 158.98,-93.1 154.01,-94.85\"/>\n<polygon fill=\"blue\" stroke=\"blue\" points=\"152.64,-91.62 144.45,-98.34 155.04,-98.2 152.64,-91.62\"/>\n<text text-anchor=\"middle\" x=\"377.99\" y=\"-69.2\" font-family=\"Arial\" font-size=\"16.00\">p = 0.3 &#160;reward =&#45;1</text>\n</g>\n<!-- s2&#45;a1&#45;&gt;s2 -->\n<g id=\"edge19\" class=\"edge\">\n<title>s2&#45;a1&#45;&gt;s2</title>\n<path fill=\"none\" stroke=\"blue\" stroke-dasharray=\"5,2\" d=\"M781.76,-100.32C746.47,-91.22 681.74,-79.89 632.83,-102 615.83,-109.68 600.72,-122.2 587.89,-135.96\"/>\n<polygon fill=\"blue\" stroke=\"blue\" points=\"585.03,-133.92 581,-143.71 590.26,-138.57 585.03,-133.92\"/>\n<text text-anchor=\"middle\" x=\"697.83\" y=\"-107.2\" font-family=\"Arial\" font-size=\"16.00\">p = 0.4</text>\n</g>\n<!-- s2&#45;a1&#45;&gt;s1 -->\n<g id=\"edge18\" class=\"edge\">\n<title>s2&#45;a1&#45;&gt;s1</title>\n<path fill=\"none\" stroke=\"blue\" stroke-dasharray=\"5,2\" d=\"M836.24,-110.6C858.19,-112.73 890.47,-115.86 920.96,-118.81\"/>\n<polygon fill=\"blue\" stroke=\"blue\" points=\"920.92,-122.33 931.21,-119.81 921.6,-115.36 920.92,-122.33\"/>\n<text text-anchor=\"middle\" x=\"883.48\" y=\"-123.2\" font-family=\"Arial\" font-size=\"16.00\">p = 0.3</text>\n</g>\n</g>\n</svg>\n",
            "text/plain": [
              "<graphviz.graphs.Digraph at 0x7adb465f40d0>"
            ]
          },
          "metadata": {}
        }
      ],
      "source": [
        "if has_graphviz:\n",
        "    display(plot_graph_optimal_strategy_and_state_values(mdp, state_values, get_action_value))"
      ]
    },
    {
      "cell_type": "code",
      "execution_count": null,
      "metadata": {
        "id": "eRISkHKoQKw1",
        "outputId": "c64ab0c6-fa62-4221-b6ce-72f4179c7f08",
        "colab": {
          "base_uri": "https://localhost:8080/"
        }
      },
      "outputs": [
        {
          "output_type": "stream",
          "name": "stdout",
          "text": [
            "average reward:  0.4683\n"
          ]
        }
      ],
      "source": [
        "# Measure agent's average reward\n",
        "\n",
        "s = mdp.reset()\n",
        "rewards = []\n",
        "for _ in range(10000):\n",
        "    s, r, done, _ = mdp.step(get_optimal_action(mdp, state_values, s, gamma))\n",
        "    rewards.append(r)\n",
        "\n",
        "print(\"average reward: \", np.mean(rewards))\n",
        "\n",
        "assert(0.40 < np.mean(rewards) < 0.55)"
      ]
    },
    {
      "cell_type": "markdown",
      "metadata": {
        "id": "-aPkG-8zQKw1"
      },
      "source": [
        "### Frozen lake"
      ]
    },
    {
      "cell_type": "code",
      "execution_count": null,
      "metadata": {
        "id": "mEy8OcjJQKw1",
        "outputId": "b45dc039-06b2-4356-f3c5-d2b9277e51b2",
        "colab": {
          "base_uri": "https://localhost:8080/"
        }
      },
      "outputs": [
        {
          "output_type": "stream",
          "name": "stdout",
          "text": [
            "*FFF\n",
            "FHFH\n",
            "FFFH\n",
            "HFFG\n",
            "\n"
          ]
        }
      ],
      "source": [
        "from mdp import FrozenLakeEnv\n",
        "mdp = FrozenLakeEnv(slip_chance=0)\n",
        "\n",
        "mdp.render()"
      ]
    },
    {
      "cell_type": "code",
      "execution_count": 33,
      "metadata": {
        "id": "zY4omsvcQKw1"
      },
      "outputs": [],
      "source": [
        "def value_iteration(mdp, state_values=None, gamma=0.9, num_iter=1000, min_difference=1e-5, log=True):\n",
        "    \"\"\" performs num_iter value iteration steps starting from state_values. Same as before but in a function \"\"\"\n",
        "    state_values = state_values or {s: 0 for s in mdp.get_all_states()}\n",
        "    for i in range(num_iter):\n",
        "\n",
        "        # Compute new state values using the functions you defined above. It must be a dict {state : new_V(state)}\n",
        "        new_state_values = {state: get_new_state_value(mdp, state_values, state, gamma) for state in mdp.get_all_states()}\n",
        "\n",
        "\n",
        "        assert isinstance(new_state_values, dict)\n",
        "\n",
        "        # Compute difference\n",
        "        diff = max(abs(new_state_values[s] - state_values[s])\n",
        "                   for s in mdp.get_all_states())\n",
        "\n",
        "        if log:\n",
        "          print(\"iter %4i   |   diff: %6.5f   |   V(start): %.3f \" %\n",
        "                (i, diff, new_state_values[mdp._initial_state]))\n",
        "\n",
        "        state_values = new_state_values\n",
        "        if diff < min_difference:\n",
        "            break\n",
        "\n",
        "    return state_values"
      ]
    },
    {
      "cell_type": "code",
      "execution_count": 34,
      "metadata": {
        "id": "9GPP8FDnQKw1",
        "outputId": "fbfda670-5046-4d97-e05c-6d47044bf565",
        "colab": {
          "base_uri": "https://localhost:8080/"
        },
        "collapsed": true
      },
      "outputs": [
        {
          "output_type": "stream",
          "name": "stdout",
          "text": [
            "iter    0   |   diff: 10000000.00000   |   V(start): 0.000 \n",
            "iter    1   |   diff: 9000000.00000   |   V(start): 0.000 \n",
            "iter    2   |   diff: 8100000.00000   |   V(start): 0.000 \n",
            "iter    3   |   diff: 7290000.00000   |   V(start): 0.000 \n",
            "iter    4   |   diff: 6561000.00000   |   V(start): 0.000 \n",
            "iter    5   |   diff: 5904900.00000   |   V(start): 0.000 \n",
            "iter    6   |   diff: 5314410.00000   |   V(start): 0.000 \n",
            "iter    7   |   diff: 4782969.00000   |   V(start): 0.000 \n",
            "iter    8   |   diff: 4304672.10000   |   V(start): 0.000 \n",
            "iter    9   |   diff: 3874204.89000   |   V(start): 0.000 \n",
            "iter   10   |   diff: 3486784.40100   |   V(start): 0.000 \n",
            "iter   11   |   diff: 3138105.96090   |   V(start): 0.000 \n",
            "iter   12   |   diff: 2824295.36481   |   V(start): 0.000 \n",
            "iter   13   |   diff: 2541865.82833   |   V(start): 0.000 \n",
            "iter   14   |   diff: 2287679.24550   |   V(start): 0.000 \n",
            "iter   15   |   diff: 2058911.32095   |   V(start): 0.000 \n",
            "iter   16   |   diff: 1853020.18885   |   V(start): 0.000 \n",
            "iter   17   |   diff: 1667718.16997   |   V(start): 0.000 \n",
            "iter   18   |   diff: 1500946.35297   |   V(start): 0.000 \n",
            "iter   19   |   diff: 1350851.71767   |   V(start): 0.000 \n",
            "iter   20   |   diff: 1215766.54591   |   V(start): 0.000 \n",
            "iter   21   |   diff: 1094189.89132   |   V(start): 0.000 \n",
            "iter   22   |   diff: 984770.90218   |   V(start): 0.000 \n",
            "iter   23   |   diff: 886293.81197   |   V(start): 0.000 \n",
            "iter   24   |   diff: 797664.43077   |   V(start): 0.000 \n",
            "iter   25   |   diff: 717897.98769   |   V(start): 0.000 \n",
            "iter   26   |   diff: 646108.18892   |   V(start): 0.000 \n",
            "iter   27   |   diff: 581497.37003   |   V(start): 0.000 \n",
            "iter   28   |   diff: 523347.63303   |   V(start): 0.000 \n",
            "iter   29   |   diff: 471012.86972   |   V(start): 0.000 \n",
            "iter   30   |   diff: 423911.58275   |   V(start): 0.000 \n",
            "iter   31   |   diff: 381520.42448   |   V(start): 0.000 \n",
            "iter   32   |   diff: 343368.38203   |   V(start): 0.000 \n",
            "iter   33   |   diff: 309031.54383   |   V(start): 0.000 \n",
            "iter   34   |   diff: 278128.38944   |   V(start): 0.000 \n",
            "iter   35   |   diff: 250315.55050   |   V(start): 0.000 \n",
            "iter   36   |   diff: 225283.99545   |   V(start): 0.000 \n",
            "iter   37   |   diff: 202755.59590   |   V(start): 0.000 \n",
            "iter   38   |   diff: 182480.03631   |   V(start): 0.000 \n",
            "iter   39   |   diff: 164232.03268   |   V(start): 0.000 \n",
            "iter   40   |   diff: 147808.82941   |   V(start): 0.000 \n",
            "iter   41   |   diff: 133027.94647   |   V(start): 0.000 \n",
            "iter   42   |   diff: 119725.15183   |   V(start): 0.000 \n",
            "iter   43   |   diff: 107752.63664   |   V(start): 0.000 \n",
            "iter   44   |   diff: 96977.37298   |   V(start): 0.000 \n",
            "iter   45   |   diff: 87279.63568   |   V(start): 0.000 \n",
            "iter   46   |   diff: 78551.67211   |   V(start): 0.000 \n",
            "iter   47   |   diff: 70696.50490   |   V(start): 0.000 \n",
            "iter   48   |   diff: 63626.85441   |   V(start): 0.000 \n",
            "iter   49   |   diff: 57264.16897   |   V(start): 0.000 \n",
            "iter   50   |   diff: 51537.75207   |   V(start): 0.000 \n",
            "iter   51   |   diff: 46383.97687   |   V(start): 0.000 \n",
            "iter   52   |   diff: 41745.57918   |   V(start): 0.000 \n",
            "iter   53   |   diff: 37571.02126   |   V(start): 0.000 \n",
            "iter   54   |   diff: 33813.91914   |   V(start): 0.000 \n",
            "iter   55   |   diff: 30432.52722   |   V(start): 0.000 \n",
            "iter   56   |   diff: 27389.27450   |   V(start): 0.000 \n",
            "iter   57   |   diff: 24650.34705   |   V(start): 0.000 \n",
            "iter   58   |   diff: 22185.31234   |   V(start): 22185.312 \n",
            "iter   59   |   diff: 0.00000   |   V(start): 22185.312 \n"
          ]
        }
      ],
      "source": [
        "state_values = value_iteration(mdp)"
      ]
    },
    {
      "cell_type": "code",
      "execution_count": 35,
      "metadata": {
        "id": "X1C4duFfQKw1",
        "outputId": "79d1673b-1f93-4d79-d0d0-a0ab97f8febe",
        "colab": {
          "base_uri": "https://localhost:8080/"
        },
        "collapsed": true
      },
      "outputs": [
        {
          "output_type": "stream",
          "name": "stdout",
          "text": [
            "Currently at s1\n",
            "a1\n",
            "\n",
            "Currently at s2\n",
            "a1\n",
            "\n",
            "Currently at s3\n",
            "a1\n",
            "\n",
            "Currently at s4\n",
            "a1\n",
            "\n",
            "Currently at s5\n",
            "a1\n",
            "\n",
            "Currently at s6\n",
            "a1\n",
            "\n",
            "Currently at s7\n",
            "a1\n",
            "\n",
            "Currently at s8\n",
            "a1\n",
            "\n",
            "Currently at s9\n",
            "a1\n",
            "\n",
            "Currently at s10\n",
            "a1\n",
            "\n",
            "Currently at s11\n",
            "a1\n",
            "\n",
            "Currently at s12\n",
            "a1\n",
            "\n",
            "Currently at s13\n",
            "a1\n",
            "\n",
            "Currently at s14\n",
            "a1\n",
            "\n",
            "Currently at s15\n",
            "a1\n",
            "\n",
            "Currently at s16\n",
            "a1\n",
            "\n",
            "Currently at s17\n",
            "a1\n",
            "\n",
            "Currently at s18\n",
            "a1\n",
            "\n",
            "Currently at s19\n",
            "a1\n",
            "\n",
            "Currently at s20\n",
            "a1\n",
            "\n",
            "Currently at s21\n",
            "a1\n",
            "\n",
            "Currently at s22\n",
            "a1\n",
            "\n",
            "Currently at s23\n",
            "a1\n",
            "\n",
            "Currently at s24\n",
            "a1\n",
            "\n",
            "Currently at s25\n",
            "a1\n",
            "\n",
            "Currently at s26\n",
            "a1\n",
            "\n",
            "Currently at s27\n",
            "a1\n",
            "\n",
            "Currently at s28\n",
            "a1\n",
            "\n",
            "Currently at s29\n",
            "a1\n",
            "\n",
            "Currently at s30\n",
            "a1\n",
            "\n",
            "Currently at s31\n",
            "a1\n",
            "\n",
            "Currently at s32\n",
            "a1\n",
            "\n",
            "Currently at s33\n",
            "a1\n",
            "\n",
            "Currently at s34\n",
            "a1\n",
            "\n",
            "Currently at s35\n",
            "a1\n",
            "\n",
            "Currently at s36\n",
            "a1\n",
            "\n",
            "Currently at s37\n",
            "a1\n",
            "\n",
            "Currently at s38\n",
            "a1\n",
            "\n",
            "Currently at s39\n",
            "a1\n",
            "\n",
            "Currently at s40\n",
            "a1\n",
            "\n",
            "Currently at s41\n",
            "a1\n",
            "\n",
            "Currently at s42\n",
            "a1\n",
            "\n",
            "Currently at s43\n",
            "a1\n",
            "\n",
            "Currently at s44\n",
            "a1\n",
            "\n",
            "Currently at s45\n",
            "a1\n",
            "\n",
            "Currently at s46\n",
            "a1\n",
            "\n",
            "Currently at s47\n",
            "a1\n",
            "\n",
            "Currently at s48\n",
            "a1\n",
            "\n",
            "Currently at s49\n",
            "a1\n",
            "\n",
            "Currently at s50\n",
            "a1\n",
            "\n",
            "Currently at s51\n",
            "a1\n",
            "\n",
            "Currently at s52\n",
            "a1\n",
            "\n",
            "Currently at s53\n",
            "a1\n",
            "\n",
            "Currently at s54\n",
            "a1\n",
            "\n",
            "Currently at s55\n",
            "a1\n",
            "\n",
            "Currently at s56\n",
            "a1\n",
            "\n",
            "Currently at s57\n",
            "a1\n",
            "\n",
            "Currently at s58\n",
            "a1\n",
            "\n",
            "Currently at s59\n",
            "a1\n",
            "\n",
            "Currently at s60\n",
            "a1\n",
            "\n",
            "Currently at s60\n",
            "a1\n",
            "\n",
            "Currently at s60\n",
            "a1\n",
            "\n",
            "Currently at s60\n",
            "a1\n",
            "\n",
            "Currently at s60\n",
            "a1\n",
            "\n",
            "Currently at s60\n",
            "a1\n",
            "\n",
            "Currently at s60\n",
            "a1\n",
            "\n",
            "Currently at s60\n",
            "a1\n",
            "\n",
            "Currently at s60\n",
            "a1\n",
            "\n",
            "Currently at s60\n",
            "a1\n",
            "\n",
            "Currently at s60\n",
            "a1\n",
            "\n",
            "Currently at s60\n",
            "a1\n",
            "\n",
            "Currently at s60\n",
            "a1\n",
            "\n",
            "Currently at s60\n",
            "a1\n",
            "\n",
            "Currently at s60\n",
            "a1\n",
            "\n",
            "Currently at s60\n",
            "a1\n",
            "\n",
            "Currently at s60\n",
            "a1\n",
            "\n",
            "Currently at s60\n",
            "a1\n",
            "\n",
            "Currently at s60\n",
            "a1\n",
            "\n",
            "Currently at s60\n",
            "a1\n",
            "\n",
            "Currently at s60\n",
            "a1\n",
            "\n",
            "Currently at s60\n",
            "a1\n",
            "\n",
            "Currently at s60\n",
            "a1\n",
            "\n",
            "Currently at s60\n",
            "a1\n",
            "\n",
            "Currently at s60\n",
            "a1\n",
            "\n",
            "Currently at s60\n",
            "a1\n",
            "\n",
            "Currently at s60\n",
            "a1\n",
            "\n",
            "Currently at s60\n",
            "a1\n",
            "\n",
            "Currently at s60\n",
            "a1\n",
            "\n",
            "Currently at s60\n",
            "a1\n",
            "\n",
            "Currently at s60\n",
            "a1\n",
            "\n",
            "Currently at s60\n",
            "a1\n",
            "\n",
            "Currently at s60\n",
            "a1\n",
            "\n",
            "Currently at s60\n",
            "a1\n",
            "\n",
            "Currently at s60\n",
            "a1\n",
            "\n",
            "Currently at s60\n",
            "a1\n",
            "\n",
            "Currently at s60\n",
            "a1\n",
            "\n",
            "Currently at s60\n",
            "a1\n",
            "\n",
            "Currently at s60\n",
            "a1\n",
            "\n",
            "Currently at s60\n",
            "a1\n",
            "\n",
            "Currently at s60\n",
            "a1\n",
            "\n",
            "Currently at s60\n"
          ]
        }
      ],
      "source": [
        "s = mdp.reset()\n",
        "mdp.render()\n",
        "for t in range(100):\n",
        "    a = get_optimal_action(mdp, state_values, s, gamma)\n",
        "    print(a, end='\\n\\n')\n",
        "    s, r, done, _ = mdp.step(a)\n",
        "    mdp.render()\n",
        "    if done:\n",
        "        break"
      ]
    },
    {
      "cell_type": "markdown",
      "metadata": {
        "id": "qa6rMWp1QKw1"
      },
      "source": [
        "### Let's visualize!\n",
        "\n",
        "It's usually interesting to see what your algorithm actually learned under the hood. To do so, we'll plot state value functions and optimal actions at each VI step."
      ]
    },
    {
      "cell_type": "code",
      "execution_count": 36,
      "metadata": {
        "id": "zBfo1aSyQKw1"
      },
      "outputs": [],
      "source": [
        "import matplotlib.pyplot as plt\n",
        "%matplotlib inline\n",
        "\n",
        "\n",
        "def draw_policy(mdp, state_values):\n",
        "    plt.figure(figsize=(3, 3))\n",
        "    h, w = mdp.desc.shape\n",
        "    states = sorted(mdp.get_all_states())\n",
        "    V = np.array([state_values[s] for s in states])\n",
        "    Pi = {s: get_optimal_action(mdp, state_values, s, gamma) for s in states}\n",
        "    plt.imshow(V.reshape(w, h), cmap='gray', interpolation='none', clim=(0, 1))\n",
        "    ax = plt.gca()\n",
        "    ax.set_xticks(np.arange(h)-.5)\n",
        "    ax.set_yticks(np.arange(w)-.5)\n",
        "    ax.set_xticklabels([])\n",
        "    ax.set_yticklabels([])\n",
        "    Y, X = np.mgrid[0:4, 0:4]\n",
        "    a2uv = {'left': (-1, 0), 'down': (0, -1), 'right': (1, 0), 'up': (0, 1)}\n",
        "    for y in range(h):\n",
        "        for x in range(w):\n",
        "            plt.text(x, y, str(mdp.desc[y, x].item()),\n",
        "                     color='g', size=12,  verticalalignment='center',\n",
        "                     horizontalalignment='center', fontweight='bold')\n",
        "            a = Pi[y, x]\n",
        "            if a is None:\n",
        "                continue\n",
        "            u, v = a2uv[a]\n",
        "            plt.arrow(x, y, u*.3, -v*.3, color='m',\n",
        "                      head_width=0.1, head_length=0.1)\n",
        "    plt.grid(color='b', lw=2, ls='-')\n",
        "    plt.show()"
      ]
    },
    {
      "cell_type": "code",
      "execution_count": 115,
      "metadata": {
        "id": "3Qm67MZ0QKw1",
        "outputId": "dfa67945-5cc0-487e-e331-bd801431c3f7",
        "colab": {
          "base_uri": "https://localhost:8080/",
          "height": 1000
        }
      },
      "outputs": [
        {
          "output_type": "stream",
          "name": "stdout",
          "text": [
            "after iteration 0\n",
            "iter    0   |   diff: 0.80000   |   V(start): 0.000 \n"
          ]
        },
        {
          "output_type": "display_data",
          "data": {
            "text/plain": [
              "<Figure size 300x300 with 1 Axes>"
            ],
            "image/png": "[encoded data removed]"
          },
          "metadata": {}
        },
        {
          "output_type": "stream",
          "name": "stdout",
          "text": [
            "after iteration 1\n",
            "iter    0   |   diff: 0.57600   |   V(start): 0.000 \n"
          ]
        },
        {
          "output_type": "display_data",
          "data": {
            "text/plain": [
              "<Figure size 300x300 with 1 Axes>"
            ],
            "image/png": "[encoded data removed]"
          },
          "metadata": {}
        },
        {
          "output_type": "stream",
          "name": "stdout",
          "text": [
            "after iteration 2\n",
            "iter    0   |   diff: 0.41472   |   V(start): 0.000 \n"
          ]
        },
        {
          "output_type": "display_data",
          "data": {
            "text/plain": [
              "<Figure size 300x300 with 1 Axes>"
            ],
            "image/png": "[encoded data removed]"
          },
          "metadata": {}
        },
        {
          "output_type": "stream",
          "name": "stdout",
          "text": [
            "after iteration 3\n",
            "iter    0   |   diff: 0.29860   |   V(start): 0.000 \n"
          ]
        },
        {
          "output_type": "display_data",
          "data": {
            "text/plain": [
              "<Figure size 300x300 with 1 Axes>"
            ],
            "image/png": "[encoded data removed]"
          },
          "metadata": {}
        },
        {
          "output_type": "stream",
          "name": "stdout",
          "text": [
            "after iteration 4\n",
            "iter    0   |   diff: 0.24186   |   V(start): 0.000 \n"
          ]
        },
        {
          "output_type": "display_data",
          "data": {
            "text/plain": [
              "<Figure size 300x300 with 1 Axes>"
            ],
            "image/png": "[encoded data removed]"
          },
          "metadata": {}
        },
        {
          "output_type": "stream",
          "name": "stdout",
          "text": [
            "after iteration 5\n",
            "iter    0   |   diff: 0.19349   |   V(start): 0.000 \n"
          ]
        },
        {
          "output_type": "display_data",
          "data": {
            "text/plain": [
              "<Figure size 300x300 with 1 Axes>"
            ],
            "image/png": "[encoded data removed]"
          },
          "metadata": {}
        },
        {
          "output_type": "stream",
          "name": "stdout",
          "text": [
            "after iteration 6\n",
            "iter    0   |   diff: 0.15325   |   V(start): 0.000 \n"
          ]
        },
        {
          "output_type": "display_data",
          "data": {
            "text/plain": [
              "<Figure size 300x300 with 1 Axes>"
            ],
            "image/png": "[encoded data removed]"
          },
          "metadata": {}
        },
        {
          "output_type": "stream",
          "name": "stdout",
          "text": [
            "after iteration 7\n",
            "iter    0   |   diff: 0.12288   |   V(start): 0.000 \n"
          ]
        },
        {
          "output_type": "display_data",
          "data": {
            "text/plain": [
              "<Figure size 300x300 with 1 Axes>"
            ],
            "image/png": "[encoded data removed]"
          },
          "metadata": {}
        },
        {
          "output_type": "stream",
          "name": "stdout",
          "text": [
            "after iteration 8\n",
            "iter    0   |   diff: 0.09930   |   V(start): 0.000 \n"
          ]
        },
        {
          "output_type": "display_data",
          "data": {
            "text/plain": [
              "<Figure size 300x300 with 1 Axes>"
            ],
            "image/png": "[encoded data removed]"
          },
          "metadata": {}
        },
        {
          "output_type": "stream",
          "name": "stdout",
          "text": [
            "after iteration 9\n",
            "iter    0   |   diff: 0.08037   |   V(start): 0.000 \n"
          ]
        },
        {
          "output_type": "display_data",
          "data": {
            "text/plain": [
              "<Figure size 300x300 with 1 Axes>"
            ],
            "image/png": "[encoded data removed]"
          },
          "metadata": {}
        }
      ],
      "source": [
        "state_values = {s: 0 for s in mdp.get_all_states()}\n",
        "\n",
        "for i in range(10):\n",
        "    print(\"after iteration %i\" % i)\n",
        "    state_values = value_iteration(mdp, state_values, num_iter=1)\n",
        "    draw_policy(mdp, state_values)\n",
        "# please ignore iter 0 at each step"
      ]
    },
    {
      "cell_type": "code",
      "execution_count": 38,
      "metadata": {
        "id": "-9JLFxVgQKw2",
        "outputId": "a35a4ae0-3f5f-4ab0-f82f-f72ee60fa660",
        "colab": {
          "base_uri": "https://localhost:8080/",
          "height": 307
        }
      },
      "outputs": [
        {
          "output_type": "stream",
          "name": "stdout",
          "text": [
            "after iteration 29\n",
            "iter    0   |   diff: 0.00058   |   V(start): 0.089 \n"
          ]
        },
        {
          "output_type": "display_data",
          "data": {
            "text/plain": [
              "<Figure size 300x300 with 1 Axes>"
            ],
            "image/png": "[encoded data removed]"
          },
          "metadata": {}
        }
      ],
      "source": [
        "from IPython.display import clear_output\n",
        "from time import sleep\n",
        "mdp = FrozenLakeEnv(map_name='8x8', slip_chance=0.3)\n",
        "state_values = {s: 0 for s in mdp.get_all_states()}\n",
        "\n",
        "for i in range(30):\n",
        "    clear_output(True)\n",
        "    print(\"after iteration %i\" % i)\n",
        "    state_values = value_iteration(mdp, state_values, num_iter=1)\n",
        "    draw_policy(mdp, state_values)\n",
        "    sleep(0.5)\n",
        "# please ignore iter 0 at each step"
      ]
    },
    {
      "cell_type": "markdown",
      "metadata": {
        "id": "HWKfIvg0QKw2"
      },
      "source": [
        "Massive tests"
      ]
    },
    {
      "cell_type": "code",
      "execution_count": 39,
      "metadata": {
        "id": "A4542C09QKw2",
        "outputId": "ad797f3b-09f7-4df0-9dea-c61cc53e4224",
        "colab": {
          "base_uri": "https://localhost:8080/"
        }
      },
      "outputs": [
        {
          "output_type": "stream",
          "name": "stdout",
          "text": [
            "iter    0   |   diff: 1.00000   |   V(start): 0.000 \n",
            "iter    1   |   diff: 0.90000   |   V(start): 0.000 \n",
            "iter    2   |   diff: 0.81000   |   V(start): 0.000 \n",
            "iter    3   |   diff: 0.72900   |   V(start): 0.000 \n",
            "iter    4   |   diff: 0.65610   |   V(start): 0.000 \n",
            "iter    5   |   diff: 0.59049   |   V(start): 0.590 \n",
            "iter    6   |   diff: 0.00000   |   V(start): 0.590 \n",
            "average reward:  1.0\n",
            "Well done!\n"
          ]
        }
      ],
      "source": [
        "mdp = FrozenLakeEnv(slip_chance=0)\n",
        "state_values = value_iteration(mdp)\n",
        "\n",
        "total_rewards = []\n",
        "for game_i in range(1000):\n",
        "    s = mdp.reset()\n",
        "    rewards = []\n",
        "    for t in range(100):\n",
        "        s, r, done, _ = mdp.step(\n",
        "            get_optimal_action(mdp, state_values, s, gamma))\n",
        "        rewards.append(r)\n",
        "        if done:\n",
        "            break\n",
        "    total_rewards.append(np.sum(rewards))\n",
        "\n",
        "print(\"average reward: \", np.mean(total_rewards))\n",
        "assert(1.0 <= np.mean(total_rewards) <= 1.0)\n",
        "print(\"Well done!\")"
      ]
    },
    {
      "cell_type": "code",
      "execution_count": 40,
      "metadata": {
        "id": "m4O6e-p4QKw2",
        "outputId": "876ab65d-cdbe-4016-c857-3fc78a94bea9",
        "colab": {
          "base_uri": "https://localhost:8080/"
        }
      },
      "outputs": [
        {
          "output_type": "stream",
          "name": "stdout",
          "text": [
            "iter    0   |   diff: 0.90000   |   V(start): 0.000 \n",
            "iter    1   |   diff: 0.72900   |   V(start): 0.000 \n",
            "iter    2   |   diff: 0.62330   |   V(start): 0.000 \n",
            "iter    3   |   diff: 0.50487   |   V(start): 0.000 \n",
            "iter    4   |   diff: 0.40894   |   V(start): 0.000 \n",
            "iter    5   |   diff: 0.34868   |   V(start): 0.349 \n",
            "iter    6   |   diff: 0.06529   |   V(start): 0.410 \n",
            "iter    7   |   diff: 0.05832   |   V(start): 0.468 \n",
            "iter    8   |   diff: 0.01139   |   V(start): 0.480 \n",
            "iter    9   |   diff: 0.00764   |   V(start): 0.487 \n",
            "iter   10   |   diff: 0.00164   |   V(start): 0.489 \n",
            "iter   11   |   diff: 0.00094   |   V(start): 0.490 \n",
            "iter   12   |   diff: 0.00022   |   V(start): 0.490 \n",
            "iter   13   |   diff: 0.00011   |   V(start): 0.490 \n",
            "iter   14   |   diff: 0.00003   |   V(start): 0.490 \n",
            "iter   15   |   diff: 0.00001   |   V(start): 0.490 \n",
            "iter   16   |   diff: 0.00000   |   V(start): 0.490 \n",
            "average reward:  0.874\n",
            "Well done!\n"
          ]
        }
      ],
      "source": [
        "# Measure agent's average reward\n",
        "mdp = FrozenLakeEnv(slip_chance=0.1)\n",
        "state_values = value_iteration(mdp)\n",
        "\n",
        "total_rewards = []\n",
        "for game_i in range(1000):\n",
        "    s = mdp.reset()\n",
        "    rewards = []\n",
        "    for t in range(100):\n",
        "        s, r, done, _ = mdp.step(\n",
        "            get_optimal_action(mdp, state_values, s, gamma))\n",
        "        rewards.append(r)\n",
        "        if done:\n",
        "            break\n",
        "    total_rewards.append(np.sum(rewards))\n",
        "\n",
        "print(\"average reward: \", np.mean(total_rewards))\n",
        "assert(0.8 <= np.mean(total_rewards) <= 0.95)\n",
        "print(\"Well done!\")"
      ]
    },
    {
      "cell_type": "code",
      "execution_count": 41,
      "metadata": {
        "id": "7-6F3YBEQKxA",
        "outputId": "174fe132-c736-4a12-b6a5-147237b0b983",
        "colab": {
          "base_uri": "https://localhost:8080/"
        },
        "collapsed": true
      },
      "outputs": [
        {
          "output_type": "stream",
          "name": "stdout",
          "text": [
            "iter    0   |   diff: 0.75000   |   V(start): 0.000 \n",
            "iter    1   |   diff: 0.50625   |   V(start): 0.000 \n",
            "iter    2   |   diff: 0.39867   |   V(start): 0.000 \n",
            "iter    3   |   diff: 0.26910   |   V(start): 0.000 \n",
            "iter    4   |   diff: 0.18164   |   V(start): 0.000 \n",
            "iter    5   |   diff: 0.14013   |   V(start): 0.140 \n",
            "iter    6   |   diff: 0.07028   |   V(start): 0.199 \n",
            "iter    7   |   diff: 0.06030   |   V(start): 0.260 \n",
            "iter    8   |   diff: 0.02594   |   V(start): 0.285 \n",
            "iter    9   |   diff: 0.01918   |   V(start): 0.305 \n",
            "iter   10   |   diff: 0.00858   |   V(start): 0.313 \n",
            "iter   11   |   diff: 0.00560   |   V(start): 0.319 \n",
            "iter   12   |   diff: 0.00260   |   V(start): 0.321 \n",
            "iter   13   |   diff: 0.00159   |   V(start): 0.323 \n",
            "iter   14   |   diff: 0.00076   |   V(start): 0.324 \n",
            "iter   15   |   diff: 0.00045   |   V(start): 0.324 \n",
            "iter   16   |   diff: 0.00022   |   V(start): 0.324 \n",
            "iter   17   |   diff: 0.00012   |   V(start): 0.325 \n",
            "iter   18   |   diff: 0.00006   |   V(start): 0.325 \n",
            "iter   19   |   diff: 0.00003   |   V(start): 0.325 \n",
            "iter   20   |   diff: 0.00002   |   V(start): 0.325 \n",
            "iter   21   |   diff: 0.00001   |   V(start): 0.325 \n",
            "average reward:  0.652\n",
            "Well done!\n"
          ]
        }
      ],
      "source": [
        "# Measure agent's average reward\n",
        "mdp = FrozenLakeEnv(slip_chance=0.25)\n",
        "state_values = value_iteration(mdp)\n",
        "\n",
        "total_rewards = []\n",
        "for game_i in range(1000):\n",
        "    s = mdp.reset()\n",
        "    rewards = []\n",
        "    for t in range(100):\n",
        "        s, r, done, _ = mdp.step(\n",
        "            get_optimal_action(mdp, state_values, s, gamma))\n",
        "        rewards.append(r)\n",
        "        if done:\n",
        "            break\n",
        "    total_rewards.append(np.sum(rewards))\n",
        "\n",
        "print(\"average reward: \", np.mean(total_rewards))\n",
        "assert(0.6 <= np.mean(total_rewards) <= 0.7)\n",
        "print(\"Well done!\")"
      ]
    },
    {
      "cell_type": "code",
      "execution_count": 42,
      "metadata": {
        "id": "kAzMSO8wQKxB",
        "outputId": "0620e477-4bc8-4a21-c373-f015ba85c364",
        "colab": {
          "base_uri": "https://localhost:8080/"
        }
      },
      "outputs": [
        {
          "output_type": "stream",
          "name": "stdout",
          "text": [
            "iter    0   |   diff: 0.80000   |   V(start): 0.000 \n",
            "iter    1   |   diff: 0.57600   |   V(start): 0.000 \n",
            "iter    2   |   diff: 0.41472   |   V(start): 0.000 \n",
            "iter    3   |   diff: 0.29860   |   V(start): 0.000 \n",
            "iter    4   |   diff: 0.24186   |   V(start): 0.000 \n",
            "iter    5   |   diff: 0.19349   |   V(start): 0.000 \n",
            "iter    6   |   diff: 0.15325   |   V(start): 0.000 \n",
            "iter    7   |   diff: 0.12288   |   V(start): 0.000 \n",
            "iter    8   |   diff: 0.09930   |   V(start): 0.000 \n",
            "iter    9   |   diff: 0.08037   |   V(start): 0.000 \n",
            "iter   10   |   diff: 0.06426   |   V(start): 0.000 \n",
            "iter   11   |   diff: 0.05129   |   V(start): 0.000 \n",
            "iter   12   |   diff: 0.04330   |   V(start): 0.000 \n",
            "iter   13   |   diff: 0.03802   |   V(start): 0.033 \n",
            "iter   14   |   diff: 0.03332   |   V(start): 0.058 \n",
            "iter   15   |   diff: 0.02910   |   V(start): 0.087 \n",
            "iter   16   |   diff: 0.01855   |   V(start): 0.106 \n",
            "iter   17   |   diff: 0.01403   |   V(start): 0.120 \n",
            "iter   18   |   diff: 0.00810   |   V(start): 0.128 \n",
            "iter   19   |   diff: 0.00555   |   V(start): 0.133 \n",
            "iter   20   |   diff: 0.00321   |   V(start): 0.137 \n",
            "iter   21   |   diff: 0.00247   |   V(start): 0.138 \n",
            "iter   22   |   diff: 0.00147   |   V(start): 0.139 \n",
            "iter   23   |   diff: 0.00104   |   V(start): 0.140 \n",
            "iter   24   |   diff: 0.00058   |   V(start): 0.140 \n",
            "iter   25   |   diff: 0.00036   |   V(start): 0.141 \n",
            "iter   26   |   diff: 0.00024   |   V(start): 0.141 \n",
            "iter   27   |   diff: 0.00018   |   V(start): 0.141 \n",
            "iter   28   |   diff: 0.00012   |   V(start): 0.141 \n",
            "iter   29   |   diff: 0.00007   |   V(start): 0.141 \n",
            "iter   30   |   diff: 0.00004   |   V(start): 0.141 \n",
            "iter   31   |   diff: 0.00003   |   V(start): 0.141 \n",
            "iter   32   |   diff: 0.00001   |   V(start): 0.141 \n",
            "iter   33   |   diff: 0.00001   |   V(start): 0.141 \n",
            "average reward:  0.726\n",
            "Well done!\n"
          ]
        }
      ],
      "source": [
        "# Measure agent's average reward\n",
        "mdp = FrozenLakeEnv(slip_chance=0.2, map_name='8x8')\n",
        "state_values = value_iteration(mdp)\n",
        "\n",
        "total_rewards = []\n",
        "for game_i in range(1000):\n",
        "    s = mdp.reset()\n",
        "    rewards = []\n",
        "    for t in range(100):\n",
        "        s, r, done, _ = mdp.step(\n",
        "            get_optimal_action(mdp, state_values, s, gamma))\n",
        "        rewards.append(r)\n",
        "        if done:\n",
        "            break\n",
        "    total_rewards.append(np.sum(rewards))\n",
        "\n",
        "print(\"average reward: \", np.mean(total_rewards))\n",
        "assert(0.6 <= np.mean(total_rewards) <= 0.8)\n",
        "print(\"Well done!\")"
      ]
    },
    {
      "cell_type": "markdown",
      "metadata": {
        "id": "9w8brKcpQKxB"
      },
      "source": [
        "# HW Part 1: Value iteration convergence\n",
        "\n",
        "### Find an MDP for which value iteration takes long to converge  (1 pts)\n",
        "\n",
        "When we ran value iteration on the small frozen lake problem, the last iteration where an action changed was iteration 6--i.e., value iteration computed the optimal policy at iteration 6. Are there any guarantees regarding how many iterations it'll take value iteration to compute the optimal policy? There are no such guarantees without additional assumptions--we can construct the MDP in such a way that the greedy policy will change after arbitrarily many iterations.\n",
        "\n",
        "Your task: define an MDP with at most 3 states and 2 actions, such that when you run value iteration, the optimal action changes at iteration >= 50. Use discount=0.95. (However, note that the discount doesn't matter here--you can construct an appropriate MDP with any discount.)\n",
        "\n",
        "Note: value function must change at least once after iteration >=50, not necessarily change on every iteration till >=50."
      ]
    },
    {
      "cell_type": "code",
      "source": [
        "from collections import defaultdict\n",
        "\n",
        "def generate_mdp_hw1(n_bamboo=50):\n",
        "  states = [f\"s{i}\" for i in range(1, n_bamboo + 2)]\n",
        "  actions = ['a0', 'a1']\n",
        "  transition_probs = defaultdict(lambda: defaultdict(dict))\n",
        "  rewards = defaultdict(lambda: defaultdict(dict))\n",
        "  for i in range(n_bamboo - 2):\n",
        "    transition_probs[states[i]][actions[1]][states[i+1]] = 1.0\n",
        "\n",
        "  transition_probs[states[n_bamboo - 2]][actions[1]][states[n_bamboo - 1]] = 1.0\n",
        "  rewards[states[n_bamboo - 2]][actions[1]][states[n_bamboo - 1]] = 10000000.0\n",
        "\n",
        "  transition_probs[states[n_bamboo - 1]][actions[1]][states[n_bamboo - 1]] = 1.0\n",
        "  transition_probs[states[n_bamboo]][actions[1]][states[n_bamboo]] = 1.0\n",
        "\n",
        "  transition_probs[states[0]][actions[0]][states[n_bamboo]] = 1.0\n",
        "  rewards[states[0]][actions[0]][states[n_bamboo]] = 0.000001\n",
        "\n",
        "\n",
        "  return transition_probs, rewards"
      ],
      "metadata": {
        "id": "JDuzsIe6o7CL"
      },
      "execution_count": 43,
      "outputs": []
    },
    {
      "cell_type": "code",
      "execution_count": 44,
      "metadata": {
        "id": "66mc1QlZQKxB",
        "collapsed": true,
        "outputId": "e2c7f7aa-c0f4-42f9-ecb7-d97de82d9ac9",
        "colab": {
          "base_uri": "https://localhost:8080/",
          "height": 290
        }
      },
      "outputs": [
        {
          "output_type": "display_data",
          "data": {
            "image/svg+xml": "<?xml version=\"1.0\" encoding=\"UTF-8\" standalone=\"no\"?>\n<!DOCTYPE svg PUBLIC \"-//W3C//DTD SVG 1.1//EN\"\n \"http://www.w3.org/Graphics/SVG/1.1/DTD/svg11.dtd\">\n<!-- Generated by graphviz version 2.43.0 (0)\n -->\n<!-- Title: MDP Pages: 1 -->\n<svg width=\"15779pt\" height=\"186pt\"\n viewBox=\"0.00 0.00 15779.26 186.00\" xmlns=\"http://www.w3.org/2000/svg\" xmlns:xlink=\"http://www.w3.org/1999/xlink\">\n<g id=\"graph0\" class=\"graph\" transform=\"scale(1 1) rotate(0) translate(4 182)\">\n<title>MDP</title>\n<polygon fill=\"white\" stroke=\"transparent\" points=\"-4,4 -4,-182 15775.26,-182 15775.26,4 -4,4\"/>\n<!-- s1 -->\n<g id=\"node1\" class=\"node\">\n<title>s1</title>\n<ellipse fill=\"#85ff75\" stroke=\"#85ff75\" cx=\"40\" cy=\"-94\" rx=\"36\" ry=\"36\"/>\n<ellipse fill=\"none\" stroke=\"#85ff75\" cx=\"40\" cy=\"-94\" rx=\"40\" ry=\"40\"/>\n<text text-anchor=\"middle\" x=\"40\" y=\"-87.8\" font-family=\"Arial\" font-size=\"24.00\">s1</text>\n</g>\n<!-- s1&#45;a1 -->\n<g id=\"node2\" class=\"node\">\n<title>s1&#45;a1</title>\n<ellipse fill=\"lightpink\" stroke=\"lightpink\" cx=\"144.58\" cy=\"-134\" rx=\"27.65\" ry=\"27.65\"/>\n<text text-anchor=\"middle\" x=\"144.58\" y=\"-129\" font-family=\"Arial\" font-size=\"20.00\">a1</text>\n</g>\n<!-- s1&#45;&gt;s1&#45;a1 -->\n<g id=\"edge1\" class=\"edge\">\n<title>s1&#45;&gt;s1&#45;a1</title>\n<path fill=\"none\" stroke=\"red\" stroke-width=\"2\" d=\"M77.45,-108.22C87.75,-112.23 98.92,-116.59 109.1,-120.56\"/>\n<polygon fill=\"red\" stroke=\"red\" stroke-width=\"2\" points=\"107.91,-123.85 118.5,-124.22 110.45,-117.33 107.91,-123.85\"/>\n</g>\n<!-- s1&#45;a0 -->\n<g id=\"node4\" class=\"node\">\n<title>s1&#45;a0</title>\n<ellipse fill=\"lightpink\" stroke=\"lightpink\" cx=\"144.58\" cy=\"-58\" rx=\"27.65\" ry=\"27.65\"/>\n<text text-anchor=\"middle\" x=\"144.58\" y=\"-53\" font-family=\"Arial\" font-size=\"20.00\">a0</text>\n</g>\n<!-- s1&#45;&gt;s1&#45;a0 -->\n<g id=\"edge3\" class=\"edge\">\n<title>s1&#45;&gt;s1&#45;a0</title>\n<path fill=\"none\" stroke=\"red\" stroke-width=\"2\" d=\"M78.03,-81C88.02,-77.5 98.79,-73.72 108.65,-70.26\"/>\n<polygon fill=\"red\" stroke=\"red\" stroke-width=\"2\" points=\"109.88,-73.54 118.16,-66.92 107.56,-66.93 109.88,-73.54\"/>\n</g>\n<!-- s2 -->\n<g id=\"node3\" class=\"node\">\n<title>s2</title>\n<ellipse fill=\"#85ff75\" stroke=\"#85ff75\" cx=\"411.15\" cy=\"-138\" rx=\"36\" ry=\"36\"/>\n<ellipse fill=\"none\" stroke=\"#85ff75\" cx=\"411.15\" cy=\"-138\" rx=\"40\" ry=\"40\"/>\n<text text-anchor=\"middle\" x=\"411.15\" y=\"-131.8\" font-family=\"Arial\" font-size=\"24.00\">s2</text>\n</g>\n<!-- s1&#45;a1&#45;&gt;s2 -->\n<g id=\"edge2\" class=\"edge\">\n<title>s1&#45;a1&#45;&gt;s2</title>\n<path fill=\"none\" stroke=\"blue\" stroke-dasharray=\"5,2\" d=\"M172.4,-134.41C216.46,-135.07 304.82,-136.41 360.53,-137.25\"/>\n<polygon fill=\"blue\" stroke=\"blue\" points=\"360.82,-140.75 370.87,-137.41 360.93,-133.76 360.82,-140.75\"/>\n<text text-anchor=\"middle\" x=\"271.65\" y=\"-142.2\" font-family=\"Arial\" font-size=\"16.00\">p = 1.0</text>\n</g>\n<!-- s2&#45;a1 -->\n<g id=\"node6\" class=\"node\">\n<title>s2&#45;a1</title>\n<ellipse fill=\"lightpink\" stroke=\"lightpink\" cx=\"564.73\" cy=\"-138\" rx=\"27.65\" ry=\"27.65\"/>\n<text text-anchor=\"middle\" x=\"564.73\" y=\"-133\" font-family=\"Arial\" font-size=\"20.00\">a1</text>\n</g>\n<!-- s2&#45;&gt;s2&#45;a1 -->\n<g id=\"edge5\" class=\"edge\">\n<title>s2&#45;&gt;s2&#45;a1</title>\n<path fill=\"none\" stroke=\"red\" stroke-width=\"2\" d=\"M451.19,-138C474.47,-138 503.85,-138 526.75,-138\"/>\n<polygon fill=\"red\" stroke=\"red\" stroke-width=\"2\" points=\"526.77,-141.5 536.77,-138 526.77,-134.5 526.77,-141.5\"/>\n</g>\n<!-- s61 -->\n<g id=\"node5\" class=\"node\">\n<title>s61</title>\n<ellipse fill=\"#85ff75\" stroke=\"#85ff75\" cx=\"411.15\" cy=\"-40\" rx=\"36\" ry=\"36\"/>\n<ellipse fill=\"none\" stroke=\"#85ff75\" cx=\"411.15\" cy=\"-40\" rx=\"40\" ry=\"40\"/>\n<text text-anchor=\"middle\" x=\"411.15\" y=\"-33.8\" font-family=\"Arial\" font-size=\"24.00\">s61</text>\n</g>\n<!-- s1&#45;a0&#45;&gt;s61 -->\n<g id=\"edge4\" class=\"edge\">\n<title>s1&#45;a0&#45;&gt;s61</title>\n<path fill=\"none\" stroke=\"blue\" stroke-dasharray=\"5,2\" d=\"M172.4,-56.18C216.55,-53.17 305.18,-47.14 360.88,-43.35\"/>\n<polygon fill=\"blue\" stroke=\"blue\" points=\"361.13,-46.84 370.87,-42.67 360.66,-39.86 361.13,-46.84\"/>\n<text text-anchor=\"middle\" x=\"271.65\" y=\"-60.2\" font-family=\"Arial\" font-size=\"16.00\">p = 1.0 &#160;reward =1e&#45;06</text>\n</g>\n<!-- s61&#45;a1 -->\n<g id=\"node123\" class=\"node\">\n<title>s61&#45;a1</title>\n<ellipse fill=\"lightpink\" stroke=\"lightpink\" cx=\"564.73\" cy=\"-51\" rx=\"27.65\" ry=\"27.65\"/>\n<text text-anchor=\"middle\" x=\"564.73\" y=\"-46\" font-family=\"Arial\" font-size=\"20.00\">a1</text>\n</g>\n<!-- s61&#45;&gt;s61&#45;a1 -->\n<g id=\"edge123\" class=\"edge\">\n<title>s61&#45;&gt;s61&#45;a1</title>\n<path fill=\"none\" stroke=\"red\" stroke-width=\"2\" d=\"M449.6,-51.31C456.06,-52.84 462.76,-54.17 469.15,-55 491.19,-57.85 496.95,-55.99 519.15,-55 521.67,-54.89 524.26,-54.74 526.87,-54.57\"/>\n<polygon fill=\"red\" stroke=\"red\" stroke-width=\"2\" points=\"527.18,-58.05 536.89,-53.8 526.65,-51.07 527.18,-58.05\"/>\n</g>\n<!-- s3 -->\n<g id=\"node7\" class=\"node\">\n<title>s3</title>\n<ellipse fill=\"#85ff75\" stroke=\"#85ff75\" cx=\"718.31\" cy=\"-138\" rx=\"36\" ry=\"36\"/>\n<ellipse fill=\"none\" stroke=\"#85ff75\" cx=\"718.31\" cy=\"-138\" rx=\"40\" ry=\"40\"/>\n<text text-anchor=\"middle\" x=\"718.31\" y=\"-131.8\" font-family=\"Arial\" font-size=\"24.00\">s3</text>\n</g>\n<!-- s2&#45;a1&#45;&gt;s3 -->\n<g id=\"edge6\" class=\"edge\">\n<title>s2&#45;a1&#45;&gt;s3</title>\n<path fill=\"none\" stroke=\"blue\" stroke-dasharray=\"5,2\" d=\"M592.48,-138C613.4,-138 643.04,-138 668.2,-138\"/>\n<polygon fill=\"blue\" stroke=\"blue\" points=\"668.3,-141.5 678.3,-138 668.3,-134.5 668.3,-141.5\"/>\n<text text-anchor=\"middle\" x=\"635.31\" y=\"-143.2\" font-family=\"Arial\" font-size=\"16.00\">p = 1.0</text>\n</g>\n<!-- s3&#45;a1 -->\n<g id=\"node8\" class=\"node\">\n<title>s3&#45;a1</title>\n<ellipse fill=\"lightpink\" stroke=\"lightpink\" cx=\"822.89\" cy=\"-138\" rx=\"27.65\" ry=\"27.65\"/>\n<text text-anchor=\"middle\" x=\"822.89\" y=\"-133\" font-family=\"Arial\" font-size=\"20.00\">a1</text>\n</g>\n<!-- s3&#45;&gt;s3&#45;a1 -->\n<g id=\"edge7\" class=\"edge\">\n<title>s3&#45;&gt;s3&#45;a1</title>\n<path fill=\"none\" stroke=\"red\" stroke-width=\"2\" d=\"M758.38,-138C767.08,-138 776.27,-138 784.88,-138\"/>\n<polygon fill=\"red\" stroke=\"red\" stroke-width=\"2\" points=\"785.01,-141.5 795.01,-138 785.01,-134.5 785.01,-141.5\"/>\n</g>\n<!-- s4 -->\n<g id=\"node9\" class=\"node\">\n<title>s4</title>\n<ellipse fill=\"#85ff75\" stroke=\"#85ff75\" cx=\"976.46\" cy=\"-138\" rx=\"36\" ry=\"36\"/>\n<ellipse fill=\"none\" stroke=\"#85ff75\" cx=\"976.46\" cy=\"-138\" rx=\"40\" ry=\"40\"/>\n<text text-anchor=\"middle\" x=\"976.46\" y=\"-131.8\" font-family=\"Arial\" font-size=\"24.00\">s4</text>\n</g>\n<!-- s3&#45;a1&#45;&gt;s4 -->\n<g id=\"edge8\" class=\"edge\">\n<title>s3&#45;a1&#45;&gt;s4</title>\n<path fill=\"none\" stroke=\"blue\" stroke-dasharray=\"5,2\" d=\"M850.64,-138C871.55,-138 901.2,-138 926.35,-138\"/>\n<polygon fill=\"blue\" stroke=\"blue\" points=\"926.46,-141.5 936.46,-138 926.46,-134.5 926.46,-141.5\"/>\n<text text-anchor=\"middle\" x=\"893.46\" y=\"-143.2\" font-family=\"Arial\" font-size=\"16.00\">p = 1.0</text>\n</g>\n<!-- s4&#45;a1 -->\n<g id=\"node10\" class=\"node\">\n<title>s4&#45;a1</title>\n<ellipse fill=\"lightpink\" stroke=\"lightpink\" cx=\"1081.04\" cy=\"-138\" rx=\"27.65\" ry=\"27.65\"/>\n<text text-anchor=\"middle\" x=\"1081.04\" y=\"-133\" font-family=\"Arial\" font-size=\"20.00\">a1</text>\n</g>\n<!-- s4&#45;&gt;s4&#45;a1 -->\n<g id=\"edge9\" class=\"edge\">\n<title>s4&#45;&gt;s4&#45;a1</title>\n<path fill=\"none\" stroke=\"red\" stroke-width=\"2\" d=\"M1016.54,-138C1025.23,-138 1034.42,-138 1043.03,-138\"/>\n<polygon fill=\"red\" stroke=\"red\" stroke-width=\"2\" points=\"1043.17,-141.5 1053.17,-138 1043.17,-134.5 1043.17,-141.5\"/>\n</g>\n<!-- s5 -->\n<g id=\"node11\" class=\"node\">\n<title>s5</title>\n<ellipse fill=\"#85ff75\" stroke=\"#85ff75\" cx=\"1234.62\" cy=\"-138\" rx=\"36\" ry=\"36\"/>\n<ellipse fill=\"none\" stroke=\"#85ff75\" cx=\"1234.62\" cy=\"-138\" rx=\"40\" ry=\"40\"/>\n<text text-anchor=\"middle\" x=\"1234.62\" y=\"-131.8\" font-family=\"Arial\" font-size=\"24.00\">s5</text>\n</g>\n<!-- s4&#45;a1&#45;&gt;s5 -->\n<g id=\"edge10\" class=\"edge\">\n<title>s4&#45;a1&#45;&gt;s5</title>\n<path fill=\"none\" stroke=\"blue\" stroke-dasharray=\"5,2\" d=\"M1108.79,-138C1129.71,-138 1159.35,-138 1184.51,-138\"/>\n<polygon fill=\"blue\" stroke=\"blue\" points=\"1184.61,-141.5 1194.61,-138 1184.61,-134.5 1184.61,-141.5\"/>\n<text text-anchor=\"middle\" x=\"1151.62\" y=\"-143.2\" font-family=\"Arial\" font-size=\"16.00\">p = 1.0</text>\n</g>\n<!-- s5&#45;a1 -->\n<g id=\"node12\" class=\"node\">\n<title>s5&#45;a1</title>\n<ellipse fill=\"lightpink\" stroke=\"lightpink\" cx=\"1339.19\" cy=\"-138\" rx=\"27.65\" ry=\"27.65\"/>\n<text text-anchor=\"middle\" x=\"1339.19\" y=\"-133\" font-family=\"Arial\" font-size=\"20.00\">a1</text>\n</g>\n<!-- s5&#45;&gt;s5&#45;a1 -->\n<g id=\"edge11\" class=\"edge\">\n<title>s5&#45;&gt;s5&#45;a1</title>\n<path fill=\"none\" stroke=\"red\" stroke-width=\"2\" d=\"M1274.69,-138C1283.38,-138 1292.58,-138 1301.18,-138\"/>\n<polygon fill=\"red\" stroke=\"red\" stroke-width=\"2\" points=\"1301.32,-141.5 1311.32,-138 1301.32,-134.5 1301.32,-141.5\"/>\n</g>\n<!-- s6 -->\n<g id=\"node13\" class=\"node\">\n<title>s6</title>\n<ellipse fill=\"#85ff75\" stroke=\"#85ff75\" cx=\"1492.77\" cy=\"-138\" rx=\"36\" ry=\"36\"/>\n<ellipse fill=\"none\" stroke=\"#85ff75\" cx=\"1492.77\" cy=\"-138\" rx=\"40\" ry=\"40\"/>\n<text text-anchor=\"middle\" x=\"1492.77\" y=\"-131.8\" font-family=\"Arial\" font-size=\"24.00\">s6</text>\n</g>\n<!-- s5&#45;a1&#45;&gt;s6 -->\n<g id=\"edge12\" class=\"edge\">\n<title>s5&#45;a1&#45;&gt;s6</title>\n<path fill=\"none\" stroke=\"blue\" stroke-dasharray=\"5,2\" d=\"M1366.94,-138C1387.86,-138 1417.51,-138 1442.66,-138\"/>\n<polygon fill=\"blue\" stroke=\"blue\" points=\"1442.77,-141.5 1452.77,-138 1442.77,-134.5 1442.77,-141.5\"/>\n<text text-anchor=\"middle\" x=\"1409.77\" y=\"-143.2\" font-family=\"Arial\" font-size=\"16.00\">p = 1.0</text>\n</g>\n<!-- s6&#45;a1 -->\n<g id=\"node14\" class=\"node\">\n<title>s6&#45;a1</title>\n<ellipse fill=\"lightpink\" stroke=\"lightpink\" cx=\"1597.35\" cy=\"-138\" rx=\"27.65\" ry=\"27.65\"/>\n<text text-anchor=\"middle\" x=\"1597.35\" y=\"-133\" font-family=\"Arial\" font-size=\"20.00\">a1</text>\n</g>\n<!-- s6&#45;&gt;s6&#45;a1 -->\n<g id=\"edge13\" class=\"edge\">\n<title>s6&#45;&gt;s6&#45;a1</title>\n<path fill=\"none\" stroke=\"red\" stroke-width=\"2\" d=\"M1532.84,-138C1541.54,-138 1550.73,-138 1559.34,-138\"/>\n<polygon fill=\"red\" stroke=\"red\" stroke-width=\"2\" points=\"1559.48,-141.5 1569.48,-138 1559.48,-134.5 1559.48,-141.5\"/>\n</g>\n<!-- s7 -->\n<g id=\"node15\" class=\"node\">\n<title>s7</title>\n<ellipse fill=\"#85ff75\" stroke=\"#85ff75\" cx=\"1750.93\" cy=\"-138\" rx=\"36\" ry=\"36\"/>\n<ellipse fill=\"none\" stroke=\"#85ff75\" cx=\"1750.93\" cy=\"-138\" rx=\"40\" ry=\"40\"/>\n<text text-anchor=\"middle\" x=\"1750.93\" y=\"-131.8\" font-family=\"Arial\" font-size=\"24.00\">s7</text>\n</g>\n<!-- s6&#45;a1&#45;&gt;s7 -->\n<g id=\"edge14\" class=\"edge\">\n<title>s6&#45;a1&#45;&gt;s7</title>\n<path fill=\"none\" stroke=\"blue\" stroke-dasharray=\"5,2\" d=\"M1625.1,-138C1646.01,-138 1675.66,-138 1700.82,-138\"/>\n<polygon fill=\"blue\" stroke=\"blue\" points=\"1700.92,-141.5 1710.92,-138 1700.92,-134.5 1700.92,-141.5\"/>\n<text text-anchor=\"middle\" x=\"1667.93\" y=\"-143.2\" font-family=\"Arial\" font-size=\"16.00\">p = 1.0</text>\n</g>\n<!-- s7&#45;a1 -->\n<g id=\"node16\" class=\"node\">\n<title>s7&#45;a1</title>\n<ellipse fill=\"lightpink\" stroke=\"lightpink\" cx=\"1855.5\" cy=\"-138\" rx=\"27.65\" ry=\"27.65\"/>\n<text text-anchor=\"middle\" x=\"1855.5\" y=\"-133\" font-family=\"Arial\" font-size=\"20.00\">a1</text>\n</g>\n<!-- s7&#45;&gt;s7&#45;a1 -->\n<g id=\"edge15\" class=\"edge\">\n<title>s7&#45;&gt;s7&#45;a1</title>\n<path fill=\"none\" stroke=\"red\" stroke-width=\"2\" d=\"M1791,-138C1799.69,-138 1808.88,-138 1817.49,-138\"/>\n<polygon fill=\"red\" stroke=\"red\" stroke-width=\"2\" points=\"1817.63,-141.5 1827.63,-138 1817.63,-134.5 1817.63,-141.5\"/>\n</g>\n<!-- s8 -->\n<g id=\"node17\" class=\"node\">\n<title>s8</title>\n<ellipse fill=\"#85ff75\" stroke=\"#85ff75\" cx=\"2009.08\" cy=\"-138\" rx=\"36\" ry=\"36\"/>\n<ellipse fill=\"none\" stroke=\"#85ff75\" cx=\"2009.08\" cy=\"-138\" rx=\"40\" ry=\"40\"/>\n<text text-anchor=\"middle\" x=\"2009.08\" y=\"-131.8\" font-family=\"Arial\" font-size=\"24.00\">s8</text>\n</g>\n<!-- s7&#45;a1&#45;&gt;s8 -->\n<g id=\"edge16\" class=\"edge\">\n<title>s7&#45;a1&#45;&gt;s8</title>\n<path fill=\"none\" stroke=\"blue\" stroke-dasharray=\"5,2\" d=\"M1883.25,-138C1904.17,-138 1933.82,-138 1958.97,-138\"/>\n<polygon fill=\"blue\" stroke=\"blue\" points=\"1959.08,-141.5 1969.08,-138 1959.08,-134.5 1959.08,-141.5\"/>\n<text text-anchor=\"middle\" x=\"1926.08\" y=\"-143.2\" font-family=\"Arial\" font-size=\"16.00\">p = 1.0</text>\n</g>\n<!-- s8&#45;a1 -->\n<g id=\"node18\" class=\"node\">\n<title>s8&#45;a1</title>\n<ellipse fill=\"lightpink\" stroke=\"lightpink\" cx=\"2113.66\" cy=\"-138\" rx=\"27.65\" ry=\"27.65\"/>\n<text text-anchor=\"middle\" x=\"2113.66\" y=\"-133\" font-family=\"Arial\" font-size=\"20.00\">a1</text>\n</g>\n<!-- s8&#45;&gt;s8&#45;a1 -->\n<g id=\"edge17\" class=\"edge\">\n<title>s8&#45;&gt;s8&#45;a1</title>\n<path fill=\"none\" stroke=\"red\" stroke-width=\"2\" d=\"M2049.15,-138C2057.85,-138 2067.04,-138 2075.65,-138\"/>\n<polygon fill=\"red\" stroke=\"red\" stroke-width=\"2\" points=\"2075.79,-141.5 2085.79,-138 2075.79,-134.5 2075.79,-141.5\"/>\n</g>\n<!-- s9 -->\n<g id=\"node19\" class=\"node\">\n<title>s9</title>\n<ellipse fill=\"#85ff75\" stroke=\"#85ff75\" cx=\"2267.23\" cy=\"-138\" rx=\"36\" ry=\"36\"/>\n<ellipse fill=\"none\" stroke=\"#85ff75\" cx=\"2267.23\" cy=\"-138\" rx=\"40\" ry=\"40\"/>\n<text text-anchor=\"middle\" x=\"2267.23\" y=\"-131.8\" font-family=\"Arial\" font-size=\"24.00\">s9</text>\n</g>\n<!-- s8&#45;a1&#45;&gt;s9 -->\n<g id=\"edge18\" class=\"edge\">\n<title>s8&#45;a1&#45;&gt;s9</title>\n<path fill=\"none\" stroke=\"blue\" stroke-dasharray=\"5,2\" d=\"M2141.41,-138C2162.32,-138 2191.97,-138 2217.12,-138\"/>\n<polygon fill=\"blue\" stroke=\"blue\" points=\"2217.23,-141.5 2227.23,-138 2217.23,-134.5 2217.23,-141.5\"/>\n<text text-anchor=\"middle\" x=\"2184.23\" y=\"-143.2\" font-family=\"Arial\" font-size=\"16.00\">p = 1.0</text>\n</g>\n<!-- s9&#45;a1 -->\n<g id=\"node20\" class=\"node\">\n<title>s9&#45;a1</title>\n<ellipse fill=\"lightpink\" stroke=\"lightpink\" cx=\"2371.81\" cy=\"-138\" rx=\"27.65\" ry=\"27.65\"/>\n<text text-anchor=\"middle\" x=\"2371.81\" y=\"-133\" font-family=\"Arial\" font-size=\"20.00\">a1</text>\n</g>\n<!-- s9&#45;&gt;s9&#45;a1 -->\n<g id=\"edge19\" class=\"edge\">\n<title>s9&#45;&gt;s9&#45;a1</title>\n<path fill=\"none\" stroke=\"red\" stroke-width=\"2\" d=\"M2307.31,-138C2316,-138 2325.19,-138 2333.8,-138\"/>\n<polygon fill=\"red\" stroke=\"red\" stroke-width=\"2\" points=\"2333.94,-141.5 2343.94,-138 2333.94,-134.5 2333.94,-141.5\"/>\n</g>\n<!-- s10 -->\n<g id=\"node21\" class=\"node\">\n<title>s10</title>\n<ellipse fill=\"#85ff75\" stroke=\"#85ff75\" cx=\"2525.39\" cy=\"-138\" rx=\"36\" ry=\"36\"/>\n<ellipse fill=\"none\" stroke=\"#85ff75\" cx=\"2525.39\" cy=\"-138\" rx=\"40\" ry=\"40\"/>\n<text text-anchor=\"middle\" x=\"2525.39\" y=\"-131.8\" font-family=\"Arial\" font-size=\"24.00\">s10</text>\n</g>\n<!-- s9&#45;a1&#45;&gt;s10 -->\n<g id=\"edge20\" class=\"edge\">\n<title>s9&#45;a1&#45;&gt;s10</title>\n<path fill=\"none\" stroke=\"blue\" stroke-dasharray=\"5,2\" d=\"M2399.56,-138C2420.48,-138 2450.12,-138 2475.28,-138\"/>\n<polygon fill=\"blue\" stroke=\"blue\" points=\"2475.38,-141.5 2485.38,-138 2475.38,-134.5 2475.38,-141.5\"/>\n<text text-anchor=\"middle\" x=\"2442.39\" y=\"-143.2\" font-family=\"Arial\" font-size=\"16.00\">p = 1.0</text>\n</g>\n<!-- s10&#45;a1 -->\n<g id=\"node22\" class=\"node\">\n<title>s10&#45;a1</title>\n<ellipse fill=\"lightpink\" stroke=\"lightpink\" cx=\"2629.97\" cy=\"-138\" rx=\"27.65\" ry=\"27.65\"/>\n<text text-anchor=\"middle\" x=\"2629.97\" y=\"-133\" font-family=\"Arial\" font-size=\"20.00\">a1</text>\n</g>\n<!-- s10&#45;&gt;s10&#45;a1 -->\n<g id=\"edge21\" class=\"edge\">\n<title>s10&#45;&gt;s10&#45;a1</title>\n<path fill=\"none\" stroke=\"red\" stroke-width=\"2\" d=\"M2565.46,-138C2574.16,-138 2583.35,-138 2591.96,-138\"/>\n<polygon fill=\"red\" stroke=\"red\" stroke-width=\"2\" points=\"2592.09,-141.5 2602.09,-138 2592.09,-134.5 2592.09,-141.5\"/>\n</g>\n<!-- s11 -->\n<g id=\"node23\" class=\"node\">\n<title>s11</title>\n<ellipse fill=\"#85ff75\" stroke=\"#85ff75\" cx=\"2783.54\" cy=\"-138\" rx=\"36\" ry=\"36\"/>\n<ellipse fill=\"none\" stroke=\"#85ff75\" cx=\"2783.54\" cy=\"-138\" rx=\"40\" ry=\"40\"/>\n<text text-anchor=\"middle\" x=\"2783.54\" y=\"-131.8\" font-family=\"Arial\" font-size=\"24.00\">s11</text>\n</g>\n<!-- s10&#45;a1&#45;&gt;s11 -->\n<g id=\"edge22\" class=\"edge\">\n<title>s10&#45;a1&#45;&gt;s11</title>\n<path fill=\"none\" stroke=\"blue\" stroke-dasharray=\"5,2\" d=\"M2657.72,-138C2678.63,-138 2708.28,-138 2733.43,-138\"/>\n<polygon fill=\"blue\" stroke=\"blue\" points=\"2733.54,-141.5 2743.54,-138 2733.54,-134.5 2733.54,-141.5\"/>\n<text text-anchor=\"middle\" x=\"2700.54\" y=\"-143.2\" font-family=\"Arial\" font-size=\"16.00\">p = 1.0</text>\n</g>\n<!-- s11&#45;a1 -->\n<g id=\"node24\" class=\"node\">\n<title>s11&#45;a1</title>\n<ellipse fill=\"lightpink\" stroke=\"lightpink\" cx=\"2888.12\" cy=\"-138\" rx=\"27.65\" ry=\"27.65\"/>\n<text text-anchor=\"middle\" x=\"2888.12\" y=\"-133\" font-family=\"Arial\" font-size=\"20.00\">a1</text>\n</g>\n<!-- s11&#45;&gt;s11&#45;a1 -->\n<g id=\"edge23\" class=\"edge\">\n<title>s11&#45;&gt;s11&#45;a1</title>\n<path fill=\"none\" stroke=\"red\" stroke-width=\"2\" d=\"M2823.62,-138C2832.31,-138 2841.5,-138 2850.11,-138\"/>\n<polygon fill=\"red\" stroke=\"red\" stroke-width=\"2\" points=\"2850.25,-141.5 2860.25,-138 2850.25,-134.5 2850.25,-141.5\"/>\n</g>\n<!-- s12 -->\n<g id=\"node25\" class=\"node\">\n<title>s12</title>\n<ellipse fill=\"#85ff75\" stroke=\"#85ff75\" cx=\"3041.7\" cy=\"-138\" rx=\"36\" ry=\"36\"/>\n<ellipse fill=\"none\" stroke=\"#85ff75\" cx=\"3041.7\" cy=\"-138\" rx=\"40\" ry=\"40\"/>\n<text text-anchor=\"middle\" x=\"3041.7\" y=\"-131.8\" font-family=\"Arial\" font-size=\"24.00\">s12</text>\n</g>\n<!-- s11&#45;a1&#45;&gt;s12 -->\n<g id=\"edge24\" class=\"edge\">\n<title>s11&#45;a1&#45;&gt;s12</title>\n<path fill=\"none\" stroke=\"blue\" stroke-dasharray=\"5,2\" d=\"M2915.87,-138C2936.79,-138 2966.43,-138 2991.59,-138\"/>\n<polygon fill=\"blue\" stroke=\"blue\" points=\"2991.69,-141.5 3001.69,-138 2991.69,-134.5 2991.69,-141.5\"/>\n<text text-anchor=\"middle\" x=\"2958.7\" y=\"-143.2\" font-family=\"Arial\" font-size=\"16.00\">p = 1.0</text>\n</g>\n<!-- s12&#45;a1 -->\n<g id=\"node26\" class=\"node\">\n<title>s12&#45;a1</title>\n<ellipse fill=\"lightpink\" stroke=\"lightpink\" cx=\"3146.27\" cy=\"-138\" rx=\"27.65\" ry=\"27.65\"/>\n<text text-anchor=\"middle\" x=\"3146.27\" y=\"-133\" font-family=\"Arial\" font-size=\"20.00\">a1</text>\n</g>\n<!-- s12&#45;&gt;s12&#45;a1 -->\n<g id=\"edge25\" class=\"edge\">\n<title>s12&#45;&gt;s12&#45;a1</title>\n<path fill=\"none\" stroke=\"red\" stroke-width=\"2\" d=\"M3081.77,-138C3090.46,-138 3099.66,-138 3108.26,-138\"/>\n<polygon fill=\"red\" stroke=\"red\" stroke-width=\"2\" points=\"3108.4,-141.5 3118.4,-138 3108.4,-134.5 3108.4,-141.5\"/>\n</g>\n<!-- s13 -->\n<g id=\"node27\" class=\"node\">\n<title>s13</title>\n<ellipse fill=\"#85ff75\" stroke=\"#85ff75\" cx=\"3299.85\" cy=\"-138\" rx=\"36\" ry=\"36\"/>\n<ellipse fill=\"none\" stroke=\"#85ff75\" cx=\"3299.85\" cy=\"-138\" rx=\"40\" ry=\"40\"/>\n<text text-anchor=\"middle\" x=\"3299.85\" y=\"-131.8\" font-family=\"Arial\" font-size=\"24.00\">s13</text>\n</g>\n<!-- s12&#45;a1&#45;&gt;s13 -->\n<g id=\"edge26\" class=\"edge\">\n<title>s12&#45;a1&#45;&gt;s13</title>\n<path fill=\"none\" stroke=\"blue\" stroke-dasharray=\"5,2\" d=\"M3174.02,-138C3194.94,-138 3224.59,-138 3249.74,-138\"/>\n<polygon fill=\"blue\" stroke=\"blue\" points=\"3249.85,-141.5 3259.85,-138 3249.85,-134.5 3249.85,-141.5\"/>\n<text text-anchor=\"middle\" x=\"3216.85\" y=\"-143.2\" font-family=\"Arial\" font-size=\"16.00\">p = 1.0</text>\n</g>\n<!-- s13&#45;a1 -->\n<g id=\"node28\" class=\"node\">\n<title>s13&#45;a1</title>\n<ellipse fill=\"lightpink\" stroke=\"lightpink\" cx=\"3404.43\" cy=\"-138\" rx=\"27.65\" ry=\"27.65\"/>\n<text text-anchor=\"middle\" x=\"3404.43\" y=\"-133\" font-family=\"Arial\" font-size=\"20.00\">a1</text>\n</g>\n<!-- s13&#45;&gt;s13&#45;a1 -->\n<g id=\"edge27\" class=\"edge\">\n<title>s13&#45;&gt;s13&#45;a1</title>\n<path fill=\"none\" stroke=\"red\" stroke-width=\"2\" d=\"M3339.92,-138C3348.62,-138 3357.81,-138 3366.42,-138\"/>\n<polygon fill=\"red\" stroke=\"red\" stroke-width=\"2\" points=\"3366.56,-141.5 3376.56,-138 3366.56,-134.5 3366.56,-141.5\"/>\n</g>\n<!-- s14 -->\n<g id=\"node29\" class=\"node\">\n<title>s14</title>\n<ellipse fill=\"#85ff75\" stroke=\"#85ff75\" cx=\"3558.01\" cy=\"-138\" rx=\"36\" ry=\"36\"/>\n<ellipse fill=\"none\" stroke=\"#85ff75\" cx=\"3558.01\" cy=\"-138\" rx=\"40\" ry=\"40\"/>\n<text text-anchor=\"middle\" x=\"3558.01\" y=\"-131.8\" font-family=\"Arial\" font-size=\"24.00\">s14</text>\n</g>\n<!-- s13&#45;a1&#45;&gt;s14 -->\n<g id=\"edge28\" class=\"edge\">\n<title>s13&#45;a1&#45;&gt;s14</title>\n<path fill=\"none\" stroke=\"blue\" stroke-dasharray=\"5,2\" d=\"M3432.18,-138C3453.09,-138 3482.74,-138 3507.9,-138\"/>\n<polygon fill=\"blue\" stroke=\"blue\" points=\"3508,-141.5 3518,-138 3508,-134.5 3508,-141.5\"/>\n<text text-anchor=\"middle\" x=\"3475.01\" y=\"-143.2\" font-family=\"Arial\" font-size=\"16.00\">p = 1.0</text>\n</g>\n<!-- s14&#45;a1 -->\n<g id=\"node30\" class=\"node\">\n<title>s14&#45;a1</title>\n<ellipse fill=\"lightpink\" stroke=\"lightpink\" cx=\"3662.58\" cy=\"-138\" rx=\"27.65\" ry=\"27.65\"/>\n<text text-anchor=\"middle\" x=\"3662.58\" y=\"-133\" font-family=\"Arial\" font-size=\"20.00\">a1</text>\n</g>\n<!-- s14&#45;&gt;s14&#45;a1 -->\n<g id=\"edge29\" class=\"edge\">\n<title>s14&#45;&gt;s14&#45;a1</title>\n<path fill=\"none\" stroke=\"red\" stroke-width=\"2\" d=\"M3598.08,-138C3606.77,-138 3615.96,-138 3624.57,-138\"/>\n<polygon fill=\"red\" stroke=\"red\" stroke-width=\"2\" points=\"3624.71,-141.5 3634.71,-138 3624.71,-134.5 3624.71,-141.5\"/>\n</g>\n<!-- s15 -->\n<g id=\"node31\" class=\"node\">\n<title>s15</title>\n<ellipse fill=\"#85ff75\" stroke=\"#85ff75\" cx=\"3816.16\" cy=\"-138\" rx=\"36\" ry=\"36\"/>\n<ellipse fill=\"none\" stroke=\"#85ff75\" cx=\"3816.16\" cy=\"-138\" rx=\"40\" ry=\"40\"/>\n<text text-anchor=\"middle\" x=\"3816.16\" y=\"-131.8\" font-family=\"Arial\" font-size=\"24.00\">s15</text>\n</g>\n<!-- s14&#45;a1&#45;&gt;s15 -->\n<g id=\"edge30\" class=\"edge\">\n<title>s14&#45;a1&#45;&gt;s15</title>\n<path fill=\"none\" stroke=\"blue\" stroke-dasharray=\"5,2\" d=\"M3690.33,-138C3711.25,-138 3740.9,-138 3766.05,-138\"/>\n<polygon fill=\"blue\" stroke=\"blue\" points=\"3766.16,-141.5 3776.16,-138 3766.16,-134.5 3766.16,-141.5\"/>\n<text text-anchor=\"middle\" x=\"3733.16\" y=\"-143.2\" font-family=\"Arial\" font-size=\"16.00\">p = 1.0</text>\n</g>\n<!-- s15&#45;a1 -->\n<g id=\"node32\" class=\"node\">\n<title>s15&#45;a1</title>\n<ellipse fill=\"lightpink\" stroke=\"lightpink\" cx=\"3920.74\" cy=\"-138\" rx=\"27.65\" ry=\"27.65\"/>\n<text text-anchor=\"middle\" x=\"3920.74\" y=\"-133\" font-family=\"Arial\" font-size=\"20.00\">a1</text>\n</g>\n<!-- s15&#45;&gt;s15&#45;a1 -->\n<g id=\"edge31\" class=\"edge\">\n<title>s15&#45;&gt;s15&#45;a1</title>\n<path fill=\"none\" stroke=\"red\" stroke-width=\"2\" d=\"M3856.23,-138C3864.93,-138 3874.12,-138 3882.73,-138\"/>\n<polygon fill=\"red\" stroke=\"red\" stroke-width=\"2\" points=\"3882.87,-141.5 3892.87,-138 3882.87,-134.5 3882.87,-141.5\"/>\n</g>\n<!-- s16 -->\n<g id=\"node33\" class=\"node\">\n<title>s16</title>\n<ellipse fill=\"#85ff75\" stroke=\"#85ff75\" cx=\"4074.31\" cy=\"-138\" rx=\"36\" ry=\"36\"/>\n<ellipse fill=\"none\" stroke=\"#85ff75\" cx=\"4074.31\" cy=\"-138\" rx=\"40\" ry=\"40\"/>\n<text text-anchor=\"middle\" x=\"4074.31\" y=\"-131.8\" font-family=\"Arial\" font-size=\"24.00\">s16</text>\n</g>\n<!-- s15&#45;a1&#45;&gt;s16 -->\n<g id=\"edge32\" class=\"edge\">\n<title>s15&#45;a1&#45;&gt;s16</title>\n<path fill=\"none\" stroke=\"blue\" stroke-dasharray=\"5,2\" d=\"M3948.49,-138C3969.4,-138 3999.05,-138 4024.2,-138\"/>\n<polygon fill=\"blue\" stroke=\"blue\" points=\"4024.31,-141.5 4034.31,-138 4024.31,-134.5 4024.31,-141.5\"/>\n<text text-anchor=\"middle\" x=\"3991.31\" y=\"-143.2\" font-family=\"Arial\" font-size=\"16.00\">p = 1.0</text>\n</g>\n<!-- s16&#45;a1 -->\n<g id=\"node34\" class=\"node\">\n<title>s16&#45;a1</title>\n<ellipse fill=\"lightpink\" stroke=\"lightpink\" cx=\"4178.89\" cy=\"-138\" rx=\"27.65\" ry=\"27.65\"/>\n<text text-anchor=\"middle\" x=\"4178.89\" y=\"-133\" font-family=\"Arial\" font-size=\"20.00\">a1</text>\n</g>\n<!-- s16&#45;&gt;s16&#45;a1 -->\n<g id=\"edge33\" class=\"edge\">\n<title>s16&#45;&gt;s16&#45;a1</title>\n<path fill=\"none\" stroke=\"red\" stroke-width=\"2\" d=\"M4114.39,-138C4123.08,-138 4132.27,-138 4140.88,-138\"/>\n<polygon fill=\"red\" stroke=\"red\" stroke-width=\"2\" points=\"4141.02,-141.5 4151.02,-138 4141.02,-134.5 4141.02,-141.5\"/>\n</g>\n<!-- s17 -->\n<g id=\"node35\" class=\"node\">\n<title>s17</title>\n<ellipse fill=\"#85ff75\" stroke=\"#85ff75\" cx=\"4332.47\" cy=\"-138\" rx=\"36\" ry=\"36\"/>\n<ellipse fill=\"none\" stroke=\"#85ff75\" cx=\"4332.47\" cy=\"-138\" rx=\"40\" ry=\"40\"/>\n<text text-anchor=\"middle\" x=\"4332.47\" y=\"-131.8\" font-family=\"Arial\" font-size=\"24.00\">s17</text>\n</g>\n<!-- s16&#45;a1&#45;&gt;s17 -->\n<g id=\"edge34\" class=\"edge\">\n<title>s16&#45;a1&#45;&gt;s17</title>\n<path fill=\"none\" stroke=\"blue\" stroke-dasharray=\"5,2\" d=\"M4206.64,-138C4227.56,-138 4257.21,-138 4282.36,-138\"/>\n<polygon fill=\"blue\" stroke=\"blue\" points=\"4282.47,-141.5 4292.47,-138 4282.47,-134.5 4282.47,-141.5\"/>\n<text text-anchor=\"middle\" x=\"4249.47\" y=\"-143.2\" font-family=\"Arial\" font-size=\"16.00\">p = 1.0</text>\n</g>\n<!-- s17&#45;a1 -->\n<g id=\"node36\" class=\"node\">\n<title>s17&#45;a1</title>\n<ellipse fill=\"lightpink\" stroke=\"lightpink\" cx=\"4437.05\" cy=\"-138\" rx=\"27.65\" ry=\"27.65\"/>\n<text text-anchor=\"middle\" x=\"4437.05\" y=\"-133\" font-family=\"Arial\" font-size=\"20.00\">a1</text>\n</g>\n<!-- s17&#45;&gt;s17&#45;a1 -->\n<g id=\"edge35\" class=\"edge\">\n<title>s17&#45;&gt;s17&#45;a1</title>\n<path fill=\"none\" stroke=\"red\" stroke-width=\"2\" d=\"M4372.54,-138C4381.24,-138 4390.43,-138 4399.04,-138\"/>\n<polygon fill=\"red\" stroke=\"red\" stroke-width=\"2\" points=\"4399.18,-141.5 4409.18,-138 4399.18,-134.5 4399.18,-141.5\"/>\n</g>\n<!-- s18 -->\n<g id=\"node37\" class=\"node\">\n<title>s18</title>\n<ellipse fill=\"#85ff75\" stroke=\"#85ff75\" cx=\"4590.62\" cy=\"-138\" rx=\"36\" ry=\"36\"/>\n<ellipse fill=\"none\" stroke=\"#85ff75\" cx=\"4590.62\" cy=\"-138\" rx=\"40\" ry=\"40\"/>\n<text text-anchor=\"middle\" x=\"4590.62\" y=\"-131.8\" font-family=\"Arial\" font-size=\"24.00\">s18</text>\n</g>\n<!-- s17&#45;a1&#45;&gt;s18 -->\n<g id=\"edge36\" class=\"edge\">\n<title>s17&#45;a1&#45;&gt;s18</title>\n<path fill=\"none\" stroke=\"blue\" stroke-dasharray=\"5,2\" d=\"M4464.8,-138C4485.71,-138 4515.36,-138 4540.51,-138\"/>\n<polygon fill=\"blue\" stroke=\"blue\" points=\"4540.62,-141.5 4550.62,-138 4540.62,-134.5 4540.62,-141.5\"/>\n<text text-anchor=\"middle\" x=\"4507.62\" y=\"-143.2\" font-family=\"Arial\" font-size=\"16.00\">p = 1.0</text>\n</g>\n<!-- s18&#45;a1 -->\n<g id=\"node38\" class=\"node\">\n<title>s18&#45;a1</title>\n<ellipse fill=\"lightpink\" stroke=\"lightpink\" cx=\"4695.2\" cy=\"-138\" rx=\"27.65\" ry=\"27.65\"/>\n<text text-anchor=\"middle\" x=\"4695.2\" y=\"-133\" font-family=\"Arial\" font-size=\"20.00\">a1</text>\n</g>\n<!-- s18&#45;&gt;s18&#45;a1 -->\n<g id=\"edge37\" class=\"edge\">\n<title>s18&#45;&gt;s18&#45;a1</title>\n<path fill=\"none\" stroke=\"red\" stroke-width=\"2\" d=\"M4630.7,-138C4639.39,-138 4648.58,-138 4657.19,-138\"/>\n<polygon fill=\"red\" stroke=\"red\" stroke-width=\"2\" points=\"4657.33,-141.5 4667.33,-138 4657.33,-134.5 4657.33,-141.5\"/>\n</g>\n<!-- s19 -->\n<g id=\"node39\" class=\"node\">\n<title>s19</title>\n<ellipse fill=\"#85ff75\" stroke=\"#85ff75\" cx=\"4848.78\" cy=\"-138\" rx=\"36\" ry=\"36\"/>\n<ellipse fill=\"none\" stroke=\"#85ff75\" cx=\"4848.78\" cy=\"-138\" rx=\"40\" ry=\"40\"/>\n<text text-anchor=\"middle\" x=\"4848.78\" y=\"-131.8\" font-family=\"Arial\" font-size=\"24.00\">s19</text>\n</g>\n<!-- s18&#45;a1&#45;&gt;s19 -->\n<g id=\"edge38\" class=\"edge\">\n<title>s18&#45;a1&#45;&gt;s19</title>\n<path fill=\"none\" stroke=\"blue\" stroke-dasharray=\"5,2\" d=\"M4722.95,-138C4743.87,-138 4773.51,-138 4798.67,-138\"/>\n<polygon fill=\"blue\" stroke=\"blue\" points=\"4798.77,-141.5 4808.77,-138 4798.77,-134.5 4798.77,-141.5\"/>\n<text text-anchor=\"middle\" x=\"4765.78\" y=\"-143.2\" font-family=\"Arial\" font-size=\"16.00\">p = 1.0</text>\n</g>\n<!-- s19&#45;a1 -->\n<g id=\"node40\" class=\"node\">\n<title>s19&#45;a1</title>\n<ellipse fill=\"lightpink\" stroke=\"lightpink\" cx=\"4953.36\" cy=\"-138\" rx=\"27.65\" ry=\"27.65\"/>\n<text text-anchor=\"middle\" x=\"4953.36\" y=\"-133\" font-family=\"Arial\" font-size=\"20.00\">a1</text>\n</g>\n<!-- s19&#45;&gt;s19&#45;a1 -->\n<g id=\"edge39\" class=\"edge\">\n<title>s19&#45;&gt;s19&#45;a1</title>\n<path fill=\"none\" stroke=\"red\" stroke-width=\"2\" d=\"M4888.85,-138C4897.54,-138 4906.74,-138 4915.35,-138\"/>\n<polygon fill=\"red\" stroke=\"red\" stroke-width=\"2\" points=\"4915.48,-141.5 4925.48,-138 4915.48,-134.5 4915.48,-141.5\"/>\n</g>\n<!-- s20 -->\n<g id=\"node41\" class=\"node\">\n<title>s20</title>\n<ellipse fill=\"#85ff75\" stroke=\"#85ff75\" cx=\"5106.93\" cy=\"-138\" rx=\"36\" ry=\"36\"/>\n<ellipse fill=\"none\" stroke=\"#85ff75\" cx=\"5106.93\" cy=\"-138\" rx=\"40\" ry=\"40\"/>\n<text text-anchor=\"middle\" x=\"5106.93\" y=\"-131.8\" font-family=\"Arial\" font-size=\"24.00\">s20</text>\n</g>\n<!-- s19&#45;a1&#45;&gt;s20 -->\n<g id=\"edge40\" class=\"edge\">\n<title>s19&#45;a1&#45;&gt;s20</title>\n<path fill=\"none\" stroke=\"blue\" stroke-dasharray=\"5,2\" d=\"M4981.11,-138C5002.02,-138 5031.67,-138 5056.82,-138\"/>\n<polygon fill=\"blue\" stroke=\"blue\" points=\"5056.93,-141.5 5066.93,-138 5056.93,-134.5 5056.93,-141.5\"/>\n<text text-anchor=\"middle\" x=\"5023.93\" y=\"-143.2\" font-family=\"Arial\" font-size=\"16.00\">p = 1.0</text>\n</g>\n<!-- s20&#45;a1 -->\n<g id=\"node42\" class=\"node\">\n<title>s20&#45;a1</title>\n<ellipse fill=\"lightpink\" stroke=\"lightpink\" cx=\"5211.51\" cy=\"-138\" rx=\"27.65\" ry=\"27.65\"/>\n<text text-anchor=\"middle\" x=\"5211.51\" y=\"-133\" font-family=\"Arial\" font-size=\"20.00\">a1</text>\n</g>\n<!-- s20&#45;&gt;s20&#45;a1 -->\n<g id=\"edge41\" class=\"edge\">\n<title>s20&#45;&gt;s20&#45;a1</title>\n<path fill=\"none\" stroke=\"red\" stroke-width=\"2\" d=\"M5147,-138C5155.7,-138 5164.89,-138 5173.5,-138\"/>\n<polygon fill=\"red\" stroke=\"red\" stroke-width=\"2\" points=\"5173.64,-141.5 5183.64,-138 5173.64,-134.5 5173.64,-141.5\"/>\n</g>\n<!-- s21 -->\n<g id=\"node43\" class=\"node\">\n<title>s21</title>\n<ellipse fill=\"#85ff75\" stroke=\"#85ff75\" cx=\"5365.09\" cy=\"-138\" rx=\"36\" ry=\"36\"/>\n<ellipse fill=\"none\" stroke=\"#85ff75\" cx=\"5365.09\" cy=\"-138\" rx=\"40\" ry=\"40\"/>\n<text text-anchor=\"middle\" x=\"5365.09\" y=\"-131.8\" font-family=\"Arial\" font-size=\"24.00\">s21</text>\n</g>\n<!-- s20&#45;a1&#45;&gt;s21 -->\n<g id=\"edge42\" class=\"edge\">\n<title>s20&#45;a1&#45;&gt;s21</title>\n<path fill=\"none\" stroke=\"blue\" stroke-dasharray=\"5,2\" d=\"M5239.26,-138C5260.17,-138 5289.82,-138 5314.98,-138\"/>\n<polygon fill=\"blue\" stroke=\"blue\" points=\"5315.08,-141.5 5325.08,-138 5315.08,-134.5 5315.08,-141.5\"/>\n<text text-anchor=\"middle\" x=\"5282.09\" y=\"-143.2\" font-family=\"Arial\" font-size=\"16.00\">p = 1.0</text>\n</g>\n<!-- s21&#45;a1 -->\n<g id=\"node44\" class=\"node\">\n<title>s21&#45;a1</title>\n<ellipse fill=\"lightpink\" stroke=\"lightpink\" cx=\"5469.66\" cy=\"-138\" rx=\"27.65\" ry=\"27.65\"/>\n<text text-anchor=\"middle\" x=\"5469.66\" y=\"-133\" font-family=\"Arial\" font-size=\"20.00\">a1</text>\n</g>\n<!-- s21&#45;&gt;s21&#45;a1 -->\n<g id=\"edge43\" class=\"edge\">\n<title>s21&#45;&gt;s21&#45;a1</title>\n<path fill=\"none\" stroke=\"red\" stroke-width=\"2\" d=\"M5405.16,-138C5413.85,-138 5423.05,-138 5431.65,-138\"/>\n<polygon fill=\"red\" stroke=\"red\" stroke-width=\"2\" points=\"5431.79,-141.5 5441.79,-138 5431.79,-134.5 5431.79,-141.5\"/>\n</g>\n<!-- s22 -->\n<g id=\"node45\" class=\"node\">\n<title>s22</title>\n<ellipse fill=\"#85ff75\" stroke=\"#85ff75\" cx=\"5623.24\" cy=\"-138\" rx=\"36\" ry=\"36\"/>\n<ellipse fill=\"none\" stroke=\"#85ff75\" cx=\"5623.24\" cy=\"-138\" rx=\"40\" ry=\"40\"/>\n<text text-anchor=\"middle\" x=\"5623.24\" y=\"-131.8\" font-family=\"Arial\" font-size=\"24.00\">s22</text>\n</g>\n<!-- s21&#45;a1&#45;&gt;s22 -->\n<g id=\"edge44\" class=\"edge\">\n<title>s21&#45;a1&#45;&gt;s22</title>\n<path fill=\"none\" stroke=\"blue\" stroke-dasharray=\"5,2\" d=\"M5497.41,-138C5518.33,-138 5547.98,-138 5573.13,-138\"/>\n<polygon fill=\"blue\" stroke=\"blue\" points=\"5573.24,-141.5 5583.24,-138 5573.24,-134.5 5573.24,-141.5\"/>\n<text text-anchor=\"middle\" x=\"5540.24\" y=\"-143.2\" font-family=\"Arial\" font-size=\"16.00\">p = 1.0</text>\n</g>\n<!-- s22&#45;a1 -->\n<g id=\"node46\" class=\"node\">\n<title>s22&#45;a1</title>\n<ellipse fill=\"lightpink\" stroke=\"lightpink\" cx=\"5727.82\" cy=\"-138\" rx=\"27.65\" ry=\"27.65\"/>\n<text text-anchor=\"middle\" x=\"5727.82\" y=\"-133\" font-family=\"Arial\" font-size=\"20.00\">a1</text>\n</g>\n<!-- s22&#45;&gt;s22&#45;a1 -->\n<g id=\"edge45\" class=\"edge\">\n<title>s22&#45;&gt;s22&#45;a1</title>\n<path fill=\"none\" stroke=\"red\" stroke-width=\"2\" d=\"M5663.31,-138C5672.01,-138 5681.2,-138 5689.81,-138\"/>\n<polygon fill=\"red\" stroke=\"red\" stroke-width=\"2\" points=\"5689.95,-141.5 5699.95,-138 5689.95,-134.5 5689.95,-141.5\"/>\n</g>\n<!-- s23 -->\n<g id=\"node47\" class=\"node\">\n<title>s23</title>\n<ellipse fill=\"#85ff75\" stroke=\"#85ff75\" cx=\"5881.4\" cy=\"-138\" rx=\"36\" ry=\"36\"/>\n<ellipse fill=\"none\" stroke=\"#85ff75\" cx=\"5881.4\" cy=\"-138\" rx=\"40\" ry=\"40\"/>\n<text text-anchor=\"middle\" x=\"5881.4\" y=\"-131.8\" font-family=\"Arial\" font-size=\"24.00\">s23</text>\n</g>\n<!-- s22&#45;a1&#45;&gt;s23 -->\n<g id=\"edge46\" class=\"edge\">\n<title>s22&#45;a1&#45;&gt;s23</title>\n<path fill=\"none\" stroke=\"blue\" stroke-dasharray=\"5,2\" d=\"M5755.57,-138C5776.48,-138 5806.13,-138 5831.28,-138\"/>\n<polygon fill=\"blue\" stroke=\"blue\" points=\"5831.39,-141.5 5841.39,-138 5831.39,-134.5 5831.39,-141.5\"/>\n<text text-anchor=\"middle\" x=\"5798.4\" y=\"-143.2\" font-family=\"Arial\" font-size=\"16.00\">p = 1.0</text>\n</g>\n<!-- s23&#45;a1 -->\n<g id=\"node48\" class=\"node\">\n<title>s23&#45;a1</title>\n<ellipse fill=\"lightpink\" stroke=\"lightpink\" cx=\"5985.97\" cy=\"-138\" rx=\"27.65\" ry=\"27.65\"/>\n<text text-anchor=\"middle\" x=\"5985.97\" y=\"-133\" font-family=\"Arial\" font-size=\"20.00\">a1</text>\n</g>\n<!-- s23&#45;&gt;s23&#45;a1 -->\n<g id=\"edge47\" class=\"edge\">\n<title>s23&#45;&gt;s23&#45;a1</title>\n<path fill=\"none\" stroke=\"red\" stroke-width=\"2\" d=\"M5921.47,-138C5930.16,-138 5939.35,-138 5947.96,-138\"/>\n<polygon fill=\"red\" stroke=\"red\" stroke-width=\"2\" points=\"5948.1,-141.5 5958.1,-138 5948.1,-134.5 5948.1,-141.5\"/>\n</g>\n<!-- s24 -->\n<g id=\"node49\" class=\"node\">\n<title>s24</title>\n<ellipse fill=\"#85ff75\" stroke=\"#85ff75\" cx=\"6139.55\" cy=\"-138\" rx=\"36\" ry=\"36\"/>\n<ellipse fill=\"none\" stroke=\"#85ff75\" cx=\"6139.55\" cy=\"-138\" rx=\"40\" ry=\"40\"/>\n<text text-anchor=\"middle\" x=\"6139.55\" y=\"-131.8\" font-family=\"Arial\" font-size=\"24.00\">s24</text>\n</g>\n<!-- s23&#45;a1&#45;&gt;s24 -->\n<g id=\"edge48\" class=\"edge\">\n<title>s23&#45;a1&#45;&gt;s24</title>\n<path fill=\"none\" stroke=\"blue\" stroke-dasharray=\"5,2\" d=\"M6013.72,-138C6034.64,-138 6064.29,-138 6089.44,-138\"/>\n<polygon fill=\"blue\" stroke=\"blue\" points=\"6089.55,-141.5 6099.55,-138 6089.55,-134.5 6089.55,-141.5\"/>\n<text text-anchor=\"middle\" x=\"6056.55\" y=\"-143.2\" font-family=\"Arial\" font-size=\"16.00\">p = 1.0</text>\n</g>\n<!-- s24&#45;a1 -->\n<g id=\"node50\" class=\"node\">\n<title>s24&#45;a1</title>\n<ellipse fill=\"lightpink\" stroke=\"lightpink\" cx=\"6244.13\" cy=\"-138\" rx=\"27.65\" ry=\"27.65\"/>\n<text text-anchor=\"middle\" x=\"6244.13\" y=\"-133\" font-family=\"Arial\" font-size=\"20.00\">a1</text>\n</g>\n<!-- s24&#45;&gt;s24&#45;a1 -->\n<g id=\"edge49\" class=\"edge\">\n<title>s24&#45;&gt;s24&#45;a1</title>\n<path fill=\"none\" stroke=\"red\" stroke-width=\"2\" d=\"M6179.62,-138C6188.32,-138 6197.51,-138 6206.12,-138\"/>\n<polygon fill=\"red\" stroke=\"red\" stroke-width=\"2\" points=\"6206.26,-141.5 6216.26,-138 6206.26,-134.5 6206.26,-141.5\"/>\n</g>\n<!-- s25 -->\n<g id=\"node51\" class=\"node\">\n<title>s25</title>\n<ellipse fill=\"#85ff75\" stroke=\"#85ff75\" cx=\"6397.7\" cy=\"-138\" rx=\"36\" ry=\"36\"/>\n<ellipse fill=\"none\" stroke=\"#85ff75\" cx=\"6397.7\" cy=\"-138\" rx=\"40\" ry=\"40\"/>\n<text text-anchor=\"middle\" x=\"6397.7\" y=\"-131.8\" font-family=\"Arial\" font-size=\"24.00\">s25</text>\n</g>\n<!-- s24&#45;a1&#45;&gt;s25 -->\n<g id=\"edge50\" class=\"edge\">\n<title>s24&#45;a1&#45;&gt;s25</title>\n<path fill=\"none\" stroke=\"blue\" stroke-dasharray=\"5,2\" d=\"M6271.88,-138C6292.79,-138 6322.44,-138 6347.59,-138\"/>\n<polygon fill=\"blue\" stroke=\"blue\" points=\"6347.7,-141.5 6357.7,-138 6347.7,-134.5 6347.7,-141.5\"/>\n<text text-anchor=\"middle\" x=\"6314.7\" y=\"-143.2\" font-family=\"Arial\" font-size=\"16.00\">p = 1.0</text>\n</g>\n<!-- s25&#45;a1 -->\n<g id=\"node52\" class=\"node\">\n<title>s25&#45;a1</title>\n<ellipse fill=\"lightpink\" stroke=\"lightpink\" cx=\"6502.28\" cy=\"-138\" rx=\"27.65\" ry=\"27.65\"/>\n<text text-anchor=\"middle\" x=\"6502.28\" y=\"-133\" font-family=\"Arial\" font-size=\"20.00\">a1</text>\n</g>\n<!-- s25&#45;&gt;s25&#45;a1 -->\n<g id=\"edge51\" class=\"edge\">\n<title>s25&#45;&gt;s25&#45;a1</title>\n<path fill=\"none\" stroke=\"red\" stroke-width=\"2\" d=\"M6437.78,-138C6446.47,-138 6455.66,-138 6464.27,-138\"/>\n<polygon fill=\"red\" stroke=\"red\" stroke-width=\"2\" points=\"6464.41,-141.5 6474.41,-138 6464.41,-134.5 6464.41,-141.5\"/>\n</g>\n<!-- s26 -->\n<g id=\"node53\" class=\"node\">\n<title>s26</title>\n<ellipse fill=\"#85ff75\" stroke=\"#85ff75\" cx=\"6655.86\" cy=\"-138\" rx=\"36\" ry=\"36\"/>\n<ellipse fill=\"none\" stroke=\"#85ff75\" cx=\"6655.86\" cy=\"-138\" rx=\"40\" ry=\"40\"/>\n<text text-anchor=\"middle\" x=\"6655.86\" y=\"-131.8\" font-family=\"Arial\" font-size=\"24.00\">s26</text>\n</g>\n<!-- s25&#45;a1&#45;&gt;s26 -->\n<g id=\"edge52\" class=\"edge\">\n<title>s25&#45;a1&#45;&gt;s26</title>\n<path fill=\"none\" stroke=\"blue\" stroke-dasharray=\"5,2\" d=\"M6530.03,-138C6550.95,-138 6580.59,-138 6605.75,-138\"/>\n<polygon fill=\"blue\" stroke=\"blue\" points=\"6605.85,-141.5 6615.85,-138 6605.85,-134.5 6605.85,-141.5\"/>\n<text text-anchor=\"middle\" x=\"6572.86\" y=\"-143.2\" font-family=\"Arial\" font-size=\"16.00\">p = 1.0</text>\n</g>\n<!-- s26&#45;a1 -->\n<g id=\"node54\" class=\"node\">\n<title>s26&#45;a1</title>\n<ellipse fill=\"lightpink\" stroke=\"lightpink\" cx=\"6760.44\" cy=\"-138\" rx=\"27.65\" ry=\"27.65\"/>\n<text text-anchor=\"middle\" x=\"6760.44\" y=\"-133\" font-family=\"Arial\" font-size=\"20.00\">a1</text>\n</g>\n<!-- s26&#45;&gt;s26&#45;a1 -->\n<g id=\"edge53\" class=\"edge\">\n<title>s26&#45;&gt;s26&#45;a1</title>\n<path fill=\"none\" stroke=\"red\" stroke-width=\"2\" d=\"M6695.93,-138C6704.63,-138 6713.82,-138 6722.43,-138\"/>\n<polygon fill=\"red\" stroke=\"red\" stroke-width=\"2\" points=\"6722.56,-141.5 6732.56,-138 6722.56,-134.5 6722.56,-141.5\"/>\n</g>\n<!-- s27 -->\n<g id=\"node55\" class=\"node\">\n<title>s27</title>\n<ellipse fill=\"#85ff75\" stroke=\"#85ff75\" cx=\"6914.01\" cy=\"-138\" rx=\"36\" ry=\"36\"/>\n<ellipse fill=\"none\" stroke=\"#85ff75\" cx=\"6914.01\" cy=\"-138\" rx=\"40\" ry=\"40\"/>\n<text text-anchor=\"middle\" x=\"6914.01\" y=\"-131.8\" font-family=\"Arial\" font-size=\"24.00\">s27</text>\n</g>\n<!-- s26&#45;a1&#45;&gt;s27 -->\n<g id=\"edge54\" class=\"edge\">\n<title>s26&#45;a1&#45;&gt;s27</title>\n<path fill=\"none\" stroke=\"blue\" stroke-dasharray=\"5,2\" d=\"M6788.19,-138C6809.1,-138 6838.75,-138 6863.9,-138\"/>\n<polygon fill=\"blue\" stroke=\"blue\" points=\"6864.01,-141.5 6874.01,-138 6864.01,-134.5 6864.01,-141.5\"/>\n<text text-anchor=\"middle\" x=\"6831.01\" y=\"-143.2\" font-family=\"Arial\" font-size=\"16.00\">p = 1.0</text>\n</g>\n<!-- s27&#45;a1 -->\n<g id=\"node56\" class=\"node\">\n<title>s27&#45;a1</title>\n<ellipse fill=\"lightpink\" stroke=\"lightpink\" cx=\"7018.59\" cy=\"-138\" rx=\"27.65\" ry=\"27.65\"/>\n<text text-anchor=\"middle\" x=\"7018.59\" y=\"-133\" font-family=\"Arial\" font-size=\"20.00\">a1</text>\n</g>\n<!-- s27&#45;&gt;s27&#45;a1 -->\n<g id=\"edge55\" class=\"edge\">\n<title>s27&#45;&gt;s27&#45;a1</title>\n<path fill=\"none\" stroke=\"red\" stroke-width=\"2\" d=\"M6954.09,-138C6962.78,-138 6971.97,-138 6980.58,-138\"/>\n<polygon fill=\"red\" stroke=\"red\" stroke-width=\"2\" points=\"6980.72,-141.5 6990.72,-138 6980.72,-134.5 6980.72,-141.5\"/>\n</g>\n<!-- s28 -->\n<g id=\"node57\" class=\"node\">\n<title>s28</title>\n<ellipse fill=\"#85ff75\" stroke=\"#85ff75\" cx=\"7172.17\" cy=\"-138\" rx=\"36\" ry=\"36\"/>\n<ellipse fill=\"none\" stroke=\"#85ff75\" cx=\"7172.17\" cy=\"-138\" rx=\"40\" ry=\"40\"/>\n<text text-anchor=\"middle\" x=\"7172.17\" y=\"-131.8\" font-family=\"Arial\" font-size=\"24.00\">s28</text>\n</g>\n<!-- s27&#45;a1&#45;&gt;s28 -->\n<g id=\"edge56\" class=\"edge\">\n<title>s27&#45;a1&#45;&gt;s28</title>\n<path fill=\"none\" stroke=\"blue\" stroke-dasharray=\"5,2\" d=\"M7046.34,-138C7067.26,-138 7096.9,-138 7122.06,-138\"/>\n<polygon fill=\"blue\" stroke=\"blue\" points=\"7122.16,-141.5 7132.16,-138 7122.16,-134.5 7122.16,-141.5\"/>\n<text text-anchor=\"middle\" x=\"7089.17\" y=\"-143.2\" font-family=\"Arial\" font-size=\"16.00\">p = 1.0</text>\n</g>\n<!-- s28&#45;a1 -->\n<g id=\"node58\" class=\"node\">\n<title>s28&#45;a1</title>\n<ellipse fill=\"lightpink\" stroke=\"lightpink\" cx=\"7276.74\" cy=\"-138\" rx=\"27.65\" ry=\"27.65\"/>\n<text text-anchor=\"middle\" x=\"7276.74\" y=\"-133\" font-family=\"Arial\" font-size=\"20.00\">a1</text>\n</g>\n<!-- s28&#45;&gt;s28&#45;a1 -->\n<g id=\"edge57\" class=\"edge\">\n<title>s28&#45;&gt;s28&#45;a1</title>\n<path fill=\"none\" stroke=\"red\" stroke-width=\"2\" d=\"M7212.24,-138C7220.93,-138 7230.13,-138 7238.73,-138\"/>\n<polygon fill=\"red\" stroke=\"red\" stroke-width=\"2\" points=\"7238.87,-141.5 7248.87,-138 7238.87,-134.5 7238.87,-141.5\"/>\n</g>\n<!-- s29 -->\n<g id=\"node59\" class=\"node\">\n<title>s29</title>\n<ellipse fill=\"#85ff75\" stroke=\"#85ff75\" cx=\"7430.32\" cy=\"-138\" rx=\"36\" ry=\"36\"/>\n<ellipse fill=\"none\" stroke=\"#85ff75\" cx=\"7430.32\" cy=\"-138\" rx=\"40\" ry=\"40\"/>\n<text text-anchor=\"middle\" x=\"7430.32\" y=\"-131.8\" font-family=\"Arial\" font-size=\"24.00\">s29</text>\n</g>\n<!-- s28&#45;a1&#45;&gt;s29 -->\n<g id=\"edge58\" class=\"edge\">\n<title>s28&#45;a1&#45;&gt;s29</title>\n<path fill=\"none\" stroke=\"blue\" stroke-dasharray=\"5,2\" d=\"M7304.49,-138C7325.41,-138 7355.06,-138 7380.21,-138\"/>\n<polygon fill=\"blue\" stroke=\"blue\" points=\"7380.32,-141.5 7390.32,-138 7380.32,-134.5 7380.32,-141.5\"/>\n<text text-anchor=\"middle\" x=\"7347.32\" y=\"-143.2\" font-family=\"Arial\" font-size=\"16.00\">p = 1.0</text>\n</g>\n<!-- s29&#45;a1 -->\n<g id=\"node60\" class=\"node\">\n<title>s29&#45;a1</title>\n<ellipse fill=\"lightpink\" stroke=\"lightpink\" cx=\"7534.9\" cy=\"-138\" rx=\"27.65\" ry=\"27.65\"/>\n<text text-anchor=\"middle\" x=\"7534.9\" y=\"-133\" font-family=\"Arial\" font-size=\"20.00\">a1</text>\n</g>\n<!-- s29&#45;&gt;s29&#45;a1 -->\n<g id=\"edge59\" class=\"edge\">\n<title>s29&#45;&gt;s29&#45;a1</title>\n<path fill=\"none\" stroke=\"red\" stroke-width=\"2\" d=\"M7470.39,-138C7479.09,-138 7488.28,-138 7496.89,-138\"/>\n<polygon fill=\"red\" stroke=\"red\" stroke-width=\"2\" points=\"7497.03,-141.5 7507.03,-138 7497.03,-134.5 7497.03,-141.5\"/>\n</g>\n<!-- s30 -->\n<g id=\"node61\" class=\"node\">\n<title>s30</title>\n<ellipse fill=\"#85ff75\" stroke=\"#85ff75\" cx=\"7688.48\" cy=\"-138\" rx=\"36\" ry=\"36\"/>\n<ellipse fill=\"none\" stroke=\"#85ff75\" cx=\"7688.48\" cy=\"-138\" rx=\"40\" ry=\"40\"/>\n<text text-anchor=\"middle\" x=\"7688.48\" y=\"-131.8\" font-family=\"Arial\" font-size=\"24.00\">s30</text>\n</g>\n<!-- s29&#45;a1&#45;&gt;s30 -->\n<g id=\"edge60\" class=\"edge\">\n<title>s29&#45;a1&#45;&gt;s30</title>\n<path fill=\"none\" stroke=\"blue\" stroke-dasharray=\"5,2\" d=\"M7562.65,-138C7583.56,-138 7613.21,-138 7638.37,-138\"/>\n<polygon fill=\"blue\" stroke=\"blue\" points=\"7638.47,-141.5 7648.47,-138 7638.47,-134.5 7638.47,-141.5\"/>\n<text text-anchor=\"middle\" x=\"7605.48\" y=\"-143.2\" font-family=\"Arial\" font-size=\"16.00\">p = 1.0</text>\n</g>\n<!-- s30&#45;a1 -->\n<g id=\"node62\" class=\"node\">\n<title>s30&#45;a1</title>\n<ellipse fill=\"lightpink\" stroke=\"lightpink\" cx=\"7793.05\" cy=\"-138\" rx=\"27.65\" ry=\"27.65\"/>\n<text text-anchor=\"middle\" x=\"7793.05\" y=\"-133\" font-family=\"Arial\" font-size=\"20.00\">a1</text>\n</g>\n<!-- s30&#45;&gt;s30&#45;a1 -->\n<g id=\"edge61\" class=\"edge\">\n<title>s30&#45;&gt;s30&#45;a1</title>\n<path fill=\"none\" stroke=\"red\" stroke-width=\"2\" d=\"M7728.55,-138C7737.24,-138 7746.43,-138 7755.04,-138\"/>\n<polygon fill=\"red\" stroke=\"red\" stroke-width=\"2\" points=\"7755.18,-141.5 7765.18,-138 7755.18,-134.5 7755.18,-141.5\"/>\n</g>\n<!-- s31 -->\n<g id=\"node63\" class=\"node\">\n<title>s31</title>\n<ellipse fill=\"#85ff75\" stroke=\"#85ff75\" cx=\"7946.63\" cy=\"-138\" rx=\"36\" ry=\"36\"/>\n<ellipse fill=\"none\" stroke=\"#85ff75\" cx=\"7946.63\" cy=\"-138\" rx=\"40\" ry=\"40\"/>\n<text text-anchor=\"middle\" x=\"7946.63\" y=\"-131.8\" font-family=\"Arial\" font-size=\"24.00\">s31</text>\n</g>\n<!-- s30&#45;a1&#45;&gt;s31 -->\n<g id=\"edge62\" class=\"edge\">\n<title>s30&#45;a1&#45;&gt;s31</title>\n<path fill=\"none\" stroke=\"blue\" stroke-dasharray=\"5,2\" d=\"M7820.8,-138C7841.72,-138 7871.37,-138 7896.52,-138\"/>\n<polygon fill=\"blue\" stroke=\"blue\" points=\"7896.63,-141.5 7906.63,-138 7896.63,-134.5 7896.63,-141.5\"/>\n<text text-anchor=\"middle\" x=\"7863.63\" y=\"-143.2\" font-family=\"Arial\" font-size=\"16.00\">p = 1.0</text>\n</g>\n<!-- s31&#45;a1 -->\n<g id=\"node64\" class=\"node\">\n<title>s31&#45;a1</title>\n<ellipse fill=\"lightpink\" stroke=\"lightpink\" cx=\"8051.21\" cy=\"-138\" rx=\"27.65\" ry=\"27.65\"/>\n<text text-anchor=\"middle\" x=\"8051.21\" y=\"-133\" font-family=\"Arial\" font-size=\"20.00\">a1</text>\n</g>\n<!-- s31&#45;&gt;s31&#45;a1 -->\n<g id=\"edge63\" class=\"edge\">\n<title>s31&#45;&gt;s31&#45;a1</title>\n<path fill=\"none\" stroke=\"red\" stroke-width=\"2\" d=\"M7986.7,-138C7995.4,-138 8004.59,-138 8013.2,-138\"/>\n<polygon fill=\"red\" stroke=\"red\" stroke-width=\"2\" points=\"8013.34,-141.5 8023.34,-138 8013.34,-134.5 8013.34,-141.5\"/>\n</g>\n<!-- s32 -->\n<g id=\"node65\" class=\"node\">\n<title>s32</title>\n<ellipse fill=\"#85ff75\" stroke=\"#85ff75\" cx=\"8204.78\" cy=\"-138\" rx=\"36\" ry=\"36\"/>\n<ellipse fill=\"none\" stroke=\"#85ff75\" cx=\"8204.78\" cy=\"-138\" rx=\"40\" ry=\"40\"/>\n<text text-anchor=\"middle\" x=\"8204.78\" y=\"-131.8\" font-family=\"Arial\" font-size=\"24.00\">s32</text>\n</g>\n<!-- s31&#45;a1&#45;&gt;s32 -->\n<g id=\"edge64\" class=\"edge\">\n<title>s31&#45;a1&#45;&gt;s32</title>\n<path fill=\"none\" stroke=\"blue\" stroke-dasharray=\"5,2\" d=\"M8078.96,-138C8099.87,-138 8129.52,-138 8154.67,-138\"/>\n<polygon fill=\"blue\" stroke=\"blue\" points=\"8154.78,-141.5 8164.78,-138 8154.78,-134.5 8154.78,-141.5\"/>\n<text text-anchor=\"middle\" x=\"8121.78\" y=\"-143.2\" font-family=\"Arial\" font-size=\"16.00\">p = 1.0</text>\n</g>\n<!-- s32&#45;a1 -->\n<g id=\"node66\" class=\"node\">\n<title>s32&#45;a1</title>\n<ellipse fill=\"lightpink\" stroke=\"lightpink\" cx=\"8309.36\" cy=\"-138\" rx=\"27.65\" ry=\"27.65\"/>\n<text text-anchor=\"middle\" x=\"8309.36\" y=\"-133\" font-family=\"Arial\" font-size=\"20.00\">a1</text>\n</g>\n<!-- s32&#45;&gt;s32&#45;a1 -->\n<g id=\"edge65\" class=\"edge\">\n<title>s32&#45;&gt;s32&#45;a1</title>\n<path fill=\"none\" stroke=\"red\" stroke-width=\"2\" d=\"M8244.86,-138C8253.55,-138 8262.74,-138 8271.35,-138\"/>\n<polygon fill=\"red\" stroke=\"red\" stroke-width=\"2\" points=\"8271.49,-141.5 8281.49,-138 8271.49,-134.5 8271.49,-141.5\"/>\n</g>\n<!-- s33 -->\n<g id=\"node67\" class=\"node\">\n<title>s33</title>\n<ellipse fill=\"#85ff75\" stroke=\"#85ff75\" cx=\"8462.94\" cy=\"-138\" rx=\"36\" ry=\"36\"/>\n<ellipse fill=\"none\" stroke=\"#85ff75\" cx=\"8462.94\" cy=\"-138\" rx=\"40\" ry=\"40\"/>\n<text text-anchor=\"middle\" x=\"8462.94\" y=\"-131.8\" font-family=\"Arial\" font-size=\"24.00\">s33</text>\n</g>\n<!-- s32&#45;a1&#45;&gt;s33 -->\n<g id=\"edge66\" class=\"edge\">\n<title>s32&#45;a1&#45;&gt;s33</title>\n<path fill=\"none\" stroke=\"blue\" stroke-dasharray=\"5,2\" d=\"M8337.11,-138C8358.03,-138 8387.67,-138 8412.83,-138\"/>\n<polygon fill=\"blue\" stroke=\"blue\" points=\"8412.93,-141.5 8422.93,-138 8412.93,-134.5 8412.93,-141.5\"/>\n<text text-anchor=\"middle\" x=\"8379.94\" y=\"-143.2\" font-family=\"Arial\" font-size=\"16.00\">p = 1.0</text>\n</g>\n<!-- s33&#45;a1 -->\n<g id=\"node68\" class=\"node\">\n<title>s33&#45;a1</title>\n<ellipse fill=\"lightpink\" stroke=\"lightpink\" cx=\"8567.52\" cy=\"-138\" rx=\"27.65\" ry=\"27.65\"/>\n<text text-anchor=\"middle\" x=\"8567.52\" y=\"-133\" font-family=\"Arial\" font-size=\"20.00\">a1</text>\n</g>\n<!-- s33&#45;&gt;s33&#45;a1 -->\n<g id=\"edge67\" class=\"edge\">\n<title>s33&#45;&gt;s33&#45;a1</title>\n<path fill=\"none\" stroke=\"red\" stroke-width=\"2\" d=\"M8503.01,-138C8511.71,-138 8520.9,-138 8529.51,-138\"/>\n<polygon fill=\"red\" stroke=\"red\" stroke-width=\"2\" points=\"8529.64,-141.5 8539.64,-138 8529.64,-134.5 8529.64,-141.5\"/>\n</g>\n<!-- s34 -->\n<g id=\"node69\" class=\"node\">\n<title>s34</title>\n<ellipse fill=\"#85ff75\" stroke=\"#85ff75\" cx=\"8721.09\" cy=\"-138\" rx=\"36\" ry=\"36\"/>\n<ellipse fill=\"none\" stroke=\"#85ff75\" cx=\"8721.09\" cy=\"-138\" rx=\"40\" ry=\"40\"/>\n<text text-anchor=\"middle\" x=\"8721.09\" y=\"-131.8\" font-family=\"Arial\" font-size=\"24.00\">s34</text>\n</g>\n<!-- s33&#45;a1&#45;&gt;s34 -->\n<g id=\"edge68\" class=\"edge\">\n<title>s33&#45;a1&#45;&gt;s34</title>\n<path fill=\"none\" stroke=\"blue\" stroke-dasharray=\"5,2\" d=\"M8595.27,-138C8616.18,-138 8645.83,-138 8670.98,-138\"/>\n<polygon fill=\"blue\" stroke=\"blue\" points=\"8671.09,-141.5 8681.09,-138 8671.09,-134.5 8671.09,-141.5\"/>\n<text text-anchor=\"middle\" x=\"8638.09\" y=\"-143.2\" font-family=\"Arial\" font-size=\"16.00\">p = 1.0</text>\n</g>\n<!-- s34&#45;a1 -->\n<g id=\"node70\" class=\"node\">\n<title>s34&#45;a1</title>\n<ellipse fill=\"lightpink\" stroke=\"lightpink\" cx=\"8825.67\" cy=\"-138\" rx=\"27.65\" ry=\"27.65\"/>\n<text text-anchor=\"middle\" x=\"8825.67\" y=\"-133\" font-family=\"Arial\" font-size=\"20.00\">a1</text>\n</g>\n<!-- s34&#45;&gt;s34&#45;a1 -->\n<g id=\"edge69\" class=\"edge\">\n<title>s34&#45;&gt;s34&#45;a1</title>\n<path fill=\"none\" stroke=\"red\" stroke-width=\"2\" d=\"M8761.17,-138C8769.86,-138 8779.05,-138 8787.66,-138\"/>\n<polygon fill=\"red\" stroke=\"red\" stroke-width=\"2\" points=\"8787.8,-141.5 8797.8,-138 8787.8,-134.5 8787.8,-141.5\"/>\n</g>\n<!-- s35 -->\n<g id=\"node71\" class=\"node\">\n<title>s35</title>\n<ellipse fill=\"#85ff75\" stroke=\"#85ff75\" cx=\"8979.25\" cy=\"-138\" rx=\"36\" ry=\"36\"/>\n<ellipse fill=\"none\" stroke=\"#85ff75\" cx=\"8979.25\" cy=\"-138\" rx=\"40\" ry=\"40\"/>\n<text text-anchor=\"middle\" x=\"8979.25\" y=\"-131.8\" font-family=\"Arial\" font-size=\"24.00\">s35</text>\n</g>\n<!-- s34&#45;a1&#45;&gt;s35 -->\n<g id=\"edge70\" class=\"edge\">\n<title>s34&#45;a1&#45;&gt;s35</title>\n<path fill=\"none\" stroke=\"blue\" stroke-dasharray=\"5,2\" d=\"M8853.42,-138C8874.34,-138 8903.98,-138 8929.14,-138\"/>\n<polygon fill=\"blue\" stroke=\"blue\" points=\"8929.24,-141.5 8939.24,-138 8929.24,-134.5 8929.24,-141.5\"/>\n<text text-anchor=\"middle\" x=\"8896.25\" y=\"-143.2\" font-family=\"Arial\" font-size=\"16.00\">p = 1.0</text>\n</g>\n<!-- s35&#45;a1 -->\n<g id=\"node72\" class=\"node\">\n<title>s35&#45;a1</title>\n<ellipse fill=\"lightpink\" stroke=\"lightpink\" cx=\"9083.82\" cy=\"-138\" rx=\"27.65\" ry=\"27.65\"/>\n<text text-anchor=\"middle\" x=\"9083.82\" y=\"-133\" font-family=\"Arial\" font-size=\"20.00\">a1</text>\n</g>\n<!-- s35&#45;&gt;s35&#45;a1 -->\n<g id=\"edge71\" class=\"edge\">\n<title>s35&#45;&gt;s35&#45;a1</title>\n<path fill=\"none\" stroke=\"red\" stroke-width=\"2\" d=\"M9019.32,-138C9028.01,-138 9037.21,-138 9045.81,-138\"/>\n<polygon fill=\"red\" stroke=\"red\" stroke-width=\"2\" points=\"9045.95,-141.5 9055.95,-138 9045.95,-134.5 9045.95,-141.5\"/>\n</g>\n<!-- s36 -->\n<g id=\"node73\" class=\"node\">\n<title>s36</title>\n<ellipse fill=\"#85ff75\" stroke=\"#85ff75\" cx=\"9237.4\" cy=\"-138\" rx=\"36\" ry=\"36\"/>\n<ellipse fill=\"none\" stroke=\"#85ff75\" cx=\"9237.4\" cy=\"-138\" rx=\"40\" ry=\"40\"/>\n<text text-anchor=\"middle\" x=\"9237.4\" y=\"-131.8\" font-family=\"Arial\" font-size=\"24.00\">s36</text>\n</g>\n<!-- s35&#45;a1&#45;&gt;s36 -->\n<g id=\"edge72\" class=\"edge\">\n<title>s35&#45;a1&#45;&gt;s36</title>\n<path fill=\"none\" stroke=\"blue\" stroke-dasharray=\"5,2\" d=\"M9111.57,-138C9132.49,-138 9162.14,-138 9187.29,-138\"/>\n<polygon fill=\"blue\" stroke=\"blue\" points=\"9187.4,-141.5 9197.4,-138 9187.4,-134.5 9187.4,-141.5\"/>\n<text text-anchor=\"middle\" x=\"9154.4\" y=\"-143.2\" font-family=\"Arial\" font-size=\"16.00\">p = 1.0</text>\n</g>\n<!-- s36&#45;a1 -->\n<g id=\"node74\" class=\"node\">\n<title>s36&#45;a1</title>\n<ellipse fill=\"lightpink\" stroke=\"lightpink\" cx=\"9341.98\" cy=\"-138\" rx=\"27.65\" ry=\"27.65\"/>\n<text text-anchor=\"middle\" x=\"9341.98\" y=\"-133\" font-family=\"Arial\" font-size=\"20.00\">a1</text>\n</g>\n<!-- s36&#45;&gt;s36&#45;a1 -->\n<g id=\"edge73\" class=\"edge\">\n<title>s36&#45;&gt;s36&#45;a1</title>\n<path fill=\"none\" stroke=\"red\" stroke-width=\"2\" d=\"M9277.47,-138C9286.17,-138 9295.36,-138 9303.97,-138\"/>\n<polygon fill=\"red\" stroke=\"red\" stroke-width=\"2\" points=\"9304.11,-141.5 9314.11,-138 9304.11,-134.5 9304.11,-141.5\"/>\n</g>\n<!-- s37 -->\n<g id=\"node75\" class=\"node\">\n<title>s37</title>\n<ellipse fill=\"#85ff75\" stroke=\"#85ff75\" cx=\"9495.56\" cy=\"-138\" rx=\"36\" ry=\"36\"/>\n<ellipse fill=\"none\" stroke=\"#85ff75\" cx=\"9495.56\" cy=\"-138\" rx=\"40\" ry=\"40\"/>\n<text text-anchor=\"middle\" x=\"9495.56\" y=\"-131.8\" font-family=\"Arial\" font-size=\"24.00\">s37</text>\n</g>\n<!-- s36&#45;a1&#45;&gt;s37 -->\n<g id=\"edge74\" class=\"edge\">\n<title>s36&#45;a1&#45;&gt;s37</title>\n<path fill=\"none\" stroke=\"blue\" stroke-dasharray=\"5,2\" d=\"M9369.73,-138C9390.64,-138 9420.29,-138 9445.45,-138\"/>\n<polygon fill=\"blue\" stroke=\"blue\" points=\"9445.55,-141.5 9455.55,-138 9445.55,-134.5 9445.55,-141.5\"/>\n<text text-anchor=\"middle\" x=\"9412.56\" y=\"-143.2\" font-family=\"Arial\" font-size=\"16.00\">p = 1.0</text>\n</g>\n<!-- s37&#45;a1 -->\n<g id=\"node76\" class=\"node\">\n<title>s37&#45;a1</title>\n<ellipse fill=\"lightpink\" stroke=\"lightpink\" cx=\"9600.13\" cy=\"-138\" rx=\"27.65\" ry=\"27.65\"/>\n<text text-anchor=\"middle\" x=\"9600.13\" y=\"-133\" font-family=\"Arial\" font-size=\"20.00\">a1</text>\n</g>\n<!-- s37&#45;&gt;s37&#45;a1 -->\n<g id=\"edge75\" class=\"edge\">\n<title>s37&#45;&gt;s37&#45;a1</title>\n<path fill=\"none\" stroke=\"red\" stroke-width=\"2\" d=\"M9535.63,-138C9544.32,-138 9553.51,-138 9562.12,-138\"/>\n<polygon fill=\"red\" stroke=\"red\" stroke-width=\"2\" points=\"9562.26,-141.5 9572.26,-138 9562.26,-134.5 9562.26,-141.5\"/>\n</g>\n<!-- s38 -->\n<g id=\"node77\" class=\"node\">\n<title>s38</title>\n<ellipse fill=\"#85ff75\" stroke=\"#85ff75\" cx=\"9753.71\" cy=\"-138\" rx=\"36\" ry=\"36\"/>\n<ellipse fill=\"none\" stroke=\"#85ff75\" cx=\"9753.71\" cy=\"-138\" rx=\"40\" ry=\"40\"/>\n<text text-anchor=\"middle\" x=\"9753.71\" y=\"-131.8\" font-family=\"Arial\" font-size=\"24.00\">s38</text>\n</g>\n<!-- s37&#45;a1&#45;&gt;s38 -->\n<g id=\"edge76\" class=\"edge\">\n<title>s37&#45;a1&#45;&gt;s38</title>\n<path fill=\"none\" stroke=\"blue\" stroke-dasharray=\"5,2\" d=\"M9627.88,-138C9648.8,-138 9678.45,-138 9703.6,-138\"/>\n<polygon fill=\"blue\" stroke=\"blue\" points=\"9703.71,-141.5 9713.71,-138 9703.71,-134.5 9703.71,-141.5\"/>\n<text text-anchor=\"middle\" x=\"9670.71\" y=\"-143.2\" font-family=\"Arial\" font-size=\"16.00\">p = 1.0</text>\n</g>\n<!-- s38&#45;a1 -->\n<g id=\"node78\" class=\"node\">\n<title>s38&#45;a1</title>\n<ellipse fill=\"lightpink\" stroke=\"lightpink\" cx=\"9858.29\" cy=\"-138\" rx=\"27.65\" ry=\"27.65\"/>\n<text text-anchor=\"middle\" x=\"9858.29\" y=\"-133\" font-family=\"Arial\" font-size=\"20.00\">a1</text>\n</g>\n<!-- s38&#45;&gt;s38&#45;a1 -->\n<g id=\"edge77\" class=\"edge\">\n<title>s38&#45;&gt;s38&#45;a1</title>\n<path fill=\"none\" stroke=\"red\" stroke-width=\"2\" d=\"M9793.78,-138C9802.48,-138 9811.67,-138 9820.28,-138\"/>\n<polygon fill=\"red\" stroke=\"red\" stroke-width=\"2\" points=\"9820.42,-141.5 9830.42,-138 9820.42,-134.5 9820.42,-141.5\"/>\n</g>\n<!-- s39 -->\n<g id=\"node79\" class=\"node\">\n<title>s39</title>\n<ellipse fill=\"#85ff75\" stroke=\"#85ff75\" cx=\"10011.86\" cy=\"-138\" rx=\"36\" ry=\"36\"/>\n<ellipse fill=\"none\" stroke=\"#85ff75\" cx=\"10011.86\" cy=\"-138\" rx=\"40\" ry=\"40\"/>\n<text text-anchor=\"middle\" x=\"10011.86\" y=\"-131.8\" font-family=\"Arial\" font-size=\"24.00\">s39</text>\n</g>\n<!-- s38&#45;a1&#45;&gt;s39 -->\n<g id=\"edge78\" class=\"edge\">\n<title>s38&#45;a1&#45;&gt;s39</title>\n<path fill=\"none\" stroke=\"blue\" stroke-dasharray=\"5,2\" d=\"M9886.04,-138C9906.95,-138 9936.6,-138 9961.75,-138\"/>\n<polygon fill=\"blue\" stroke=\"blue\" points=\"9961.86,-141.5 9971.86,-138 9961.86,-134.5 9961.86,-141.5\"/>\n<text text-anchor=\"middle\" x=\"9928.86\" y=\"-143.2\" font-family=\"Arial\" font-size=\"16.00\">p = 1.0</text>\n</g>\n<!-- s39&#45;a1 -->\n<g id=\"node80\" class=\"node\">\n<title>s39&#45;a1</title>\n<ellipse fill=\"lightpink\" stroke=\"lightpink\" cx=\"10116.44\" cy=\"-138\" rx=\"27.65\" ry=\"27.65\"/>\n<text text-anchor=\"middle\" x=\"10116.44\" y=\"-133\" font-family=\"Arial\" font-size=\"20.00\">a1</text>\n</g>\n<!-- s39&#45;&gt;s39&#45;a1 -->\n<g id=\"edge79\" class=\"edge\">\n<title>s39&#45;&gt;s39&#45;a1</title>\n<path fill=\"none\" stroke=\"red\" stroke-width=\"2\" d=\"M10051.94,-138C10060.63,-138 10069.82,-138 10078.43,-138\"/>\n<polygon fill=\"red\" stroke=\"red\" stroke-width=\"2\" points=\"10078.57,-141.5 10088.57,-138 10078.57,-134.5 10078.57,-141.5\"/>\n</g>\n<!-- s40 -->\n<g id=\"node81\" class=\"node\">\n<title>s40</title>\n<ellipse fill=\"#85ff75\" stroke=\"#85ff75\" cx=\"10270.02\" cy=\"-138\" rx=\"36\" ry=\"36\"/>\n<ellipse fill=\"none\" stroke=\"#85ff75\" cx=\"10270.02\" cy=\"-138\" rx=\"40\" ry=\"40\"/>\n<text text-anchor=\"middle\" x=\"10270.02\" y=\"-131.8\" font-family=\"Arial\" font-size=\"24.00\">s40</text>\n</g>\n<!-- s39&#45;a1&#45;&gt;s40 -->\n<g id=\"edge80\" class=\"edge\">\n<title>s39&#45;a1&#45;&gt;s40</title>\n<path fill=\"none\" stroke=\"blue\" stroke-dasharray=\"5,2\" d=\"M10144.19,-138C10165.11,-138 10194.75,-138 10219.91,-138\"/>\n<polygon fill=\"blue\" stroke=\"blue\" points=\"10220.01,-141.5 10230.01,-138 10220.01,-134.5 10220.01,-141.5\"/>\n<text text-anchor=\"middle\" x=\"10187.02\" y=\"-143.2\" font-family=\"Arial\" font-size=\"16.00\">p = 1.0</text>\n</g>\n<!-- s40&#45;a1 -->\n<g id=\"node82\" class=\"node\">\n<title>s40&#45;a1</title>\n<ellipse fill=\"lightpink\" stroke=\"lightpink\" cx=\"10374.6\" cy=\"-138\" rx=\"27.65\" ry=\"27.65\"/>\n<text text-anchor=\"middle\" x=\"10374.6\" y=\"-133\" font-family=\"Arial\" font-size=\"20.00\">a1</text>\n</g>\n<!-- s40&#45;&gt;s40&#45;a1 -->\n<g id=\"edge81\" class=\"edge\">\n<title>s40&#45;&gt;s40&#45;a1</title>\n<path fill=\"none\" stroke=\"red\" stroke-width=\"2\" d=\"M10310.09,-138C10318.79,-138 10327.98,-138 10336.59,-138\"/>\n<polygon fill=\"red\" stroke=\"red\" stroke-width=\"2\" points=\"10336.72,-141.5 10346.72,-138 10336.72,-134.5 10336.72,-141.5\"/>\n</g>\n<!-- s41 -->\n<g id=\"node83\" class=\"node\">\n<title>s41</title>\n<ellipse fill=\"#85ff75\" stroke=\"#85ff75\" cx=\"10528.17\" cy=\"-138\" rx=\"36\" ry=\"36\"/>\n<ellipse fill=\"none\" stroke=\"#85ff75\" cx=\"10528.17\" cy=\"-138\" rx=\"40\" ry=\"40\"/>\n<text text-anchor=\"middle\" x=\"10528.17\" y=\"-131.8\" font-family=\"Arial\" font-size=\"24.00\">s41</text>\n</g>\n<!-- s40&#45;a1&#45;&gt;s41 -->\n<g id=\"edge82\" class=\"edge\">\n<title>s40&#45;a1&#45;&gt;s41</title>\n<path fill=\"none\" stroke=\"blue\" stroke-dasharray=\"5,2\" d=\"M10402.35,-138C10423.26,-138 10452.91,-138 10478.06,-138\"/>\n<polygon fill=\"blue\" stroke=\"blue\" points=\"10478.17,-141.5 10488.17,-138 10478.17,-134.5 10478.17,-141.5\"/>\n<text text-anchor=\"middle\" x=\"10445.17\" y=\"-143.2\" font-family=\"Arial\" font-size=\"16.00\">p = 1.0</text>\n</g>\n<!-- s41&#45;a1 -->\n<g id=\"node84\" class=\"node\">\n<title>s41&#45;a1</title>\n<ellipse fill=\"lightpink\" stroke=\"lightpink\" cx=\"10632.75\" cy=\"-138\" rx=\"27.65\" ry=\"27.65\"/>\n<text text-anchor=\"middle\" x=\"10632.75\" y=\"-133\" font-family=\"Arial\" font-size=\"20.00\">a1</text>\n</g>\n<!-- s41&#45;&gt;s41&#45;a1 -->\n<g id=\"edge83\" class=\"edge\">\n<title>s41&#45;&gt;s41&#45;a1</title>\n<path fill=\"none\" stroke=\"red\" stroke-width=\"2\" d=\"M10568.25,-138C10576.94,-138 10586.13,-138 10594.74,-138\"/>\n<polygon fill=\"red\" stroke=\"red\" stroke-width=\"2\" points=\"10594.88,-141.5 10604.88,-138 10594.88,-134.5 10594.88,-141.5\"/>\n</g>\n<!-- s42 -->\n<g id=\"node85\" class=\"node\">\n<title>s42</title>\n<ellipse fill=\"#85ff75\" stroke=\"#85ff75\" cx=\"10786.33\" cy=\"-138\" rx=\"36\" ry=\"36\"/>\n<ellipse fill=\"none\" stroke=\"#85ff75\" cx=\"10786.33\" cy=\"-138\" rx=\"40\" ry=\"40\"/>\n<text text-anchor=\"middle\" x=\"10786.33\" y=\"-131.8\" font-family=\"Arial\" font-size=\"24.00\">s42</text>\n</g>\n<!-- s41&#45;a1&#45;&gt;s42 -->\n<g id=\"edge84\" class=\"edge\">\n<title>s41&#45;a1&#45;&gt;s42</title>\n<path fill=\"none\" stroke=\"blue\" stroke-dasharray=\"5,2\" d=\"M10660.5,-138C10681.42,-138 10711.06,-138 10736.22,-138\"/>\n<polygon fill=\"blue\" stroke=\"blue\" points=\"10736.32,-141.5 10746.32,-138 10736.32,-134.5 10736.32,-141.5\"/>\n<text text-anchor=\"middle\" x=\"10703.33\" y=\"-143.2\" font-family=\"Arial\" font-size=\"16.00\">p = 1.0</text>\n</g>\n<!-- s42&#45;a1 -->\n<g id=\"node86\" class=\"node\">\n<title>s42&#45;a1</title>\n<ellipse fill=\"lightpink\" stroke=\"lightpink\" cx=\"10890.9\" cy=\"-138\" rx=\"27.65\" ry=\"27.65\"/>\n<text text-anchor=\"middle\" x=\"10890.9\" y=\"-133\" font-family=\"Arial\" font-size=\"20.00\">a1</text>\n</g>\n<!-- s42&#45;&gt;s42&#45;a1 -->\n<g id=\"edge85\" class=\"edge\">\n<title>s42&#45;&gt;s42&#45;a1</title>\n<path fill=\"none\" stroke=\"red\" stroke-width=\"2\" d=\"M10826.4,-138C10835.09,-138 10844.29,-138 10852.89,-138\"/>\n<polygon fill=\"red\" stroke=\"red\" stroke-width=\"2\" points=\"10853.03,-141.5 10863.03,-138 10853.03,-134.5 10853.03,-141.5\"/>\n</g>\n<!-- s43 -->\n<g id=\"node87\" class=\"node\">\n<title>s43</title>\n<ellipse fill=\"#85ff75\" stroke=\"#85ff75\" cx=\"11044.48\" cy=\"-138\" rx=\"36\" ry=\"36\"/>\n<ellipse fill=\"none\" stroke=\"#85ff75\" cx=\"11044.48\" cy=\"-138\" rx=\"40\" ry=\"40\"/>\n<text text-anchor=\"middle\" x=\"11044.48\" y=\"-131.8\" font-family=\"Arial\" font-size=\"24.00\">s43</text>\n</g>\n<!-- s42&#45;a1&#45;&gt;s43 -->\n<g id=\"edge86\" class=\"edge\">\n<title>s42&#45;a1&#45;&gt;s43</title>\n<path fill=\"none\" stroke=\"blue\" stroke-dasharray=\"5,2\" d=\"M10918.65,-138C10939.57,-138 10969.22,-138 10994.37,-138\"/>\n<polygon fill=\"blue\" stroke=\"blue\" points=\"10994.48,-141.5 11004.48,-138 10994.48,-134.5 10994.48,-141.5\"/>\n<text text-anchor=\"middle\" x=\"10961.48\" y=\"-143.2\" font-family=\"Arial\" font-size=\"16.00\">p = 1.0</text>\n</g>\n<!-- s43&#45;a1 -->\n<g id=\"node88\" class=\"node\">\n<title>s43&#45;a1</title>\n<ellipse fill=\"lightpink\" stroke=\"lightpink\" cx=\"11149.06\" cy=\"-138\" rx=\"27.65\" ry=\"27.65\"/>\n<text text-anchor=\"middle\" x=\"11149.06\" y=\"-133\" font-family=\"Arial\" font-size=\"20.00\">a1</text>\n</g>\n<!-- s43&#45;&gt;s43&#45;a1 -->\n<g id=\"edge87\" class=\"edge\">\n<title>s43&#45;&gt;s43&#45;a1</title>\n<path fill=\"none\" stroke=\"red\" stroke-width=\"2\" d=\"M11084.55,-138C11093.25,-138 11102.44,-138 11111.05,-138\"/>\n<polygon fill=\"red\" stroke=\"red\" stroke-width=\"2\" points=\"11111.19,-141.5 11121.19,-138 11111.19,-134.5 11111.19,-141.5\"/>\n</g>\n<!-- s44 -->\n<g id=\"node89\" class=\"node\">\n<title>s44</title>\n<ellipse fill=\"#85ff75\" stroke=\"#85ff75\" cx=\"11302.64\" cy=\"-138\" rx=\"36\" ry=\"36\"/>\n<ellipse fill=\"none\" stroke=\"#85ff75\" cx=\"11302.64\" cy=\"-138\" rx=\"40\" ry=\"40\"/>\n<text text-anchor=\"middle\" x=\"11302.64\" y=\"-131.8\" font-family=\"Arial\" font-size=\"24.00\">s44</text>\n</g>\n<!-- s43&#45;a1&#45;&gt;s44 -->\n<g id=\"edge88\" class=\"edge\">\n<title>s43&#45;a1&#45;&gt;s44</title>\n<path fill=\"none\" stroke=\"blue\" stroke-dasharray=\"5,2\" d=\"M11176.81,-138C11197.72,-138 11227.37,-138 11252.53,-138\"/>\n<polygon fill=\"blue\" stroke=\"blue\" points=\"11252.63,-141.5 11262.63,-138 11252.63,-134.5 11252.63,-141.5\"/>\n<text text-anchor=\"middle\" x=\"11219.64\" y=\"-143.2\" font-family=\"Arial\" font-size=\"16.00\">p = 1.0</text>\n</g>\n<!-- s44&#45;a1 -->\n<g id=\"node90\" class=\"node\">\n<title>s44&#45;a1</title>\n<ellipse fill=\"lightpink\" stroke=\"lightpink\" cx=\"11407.21\" cy=\"-138\" rx=\"27.65\" ry=\"27.65\"/>\n<text text-anchor=\"middle\" x=\"11407.21\" y=\"-133\" font-family=\"Arial\" font-size=\"20.00\">a1</text>\n</g>\n<!-- s44&#45;&gt;s44&#45;a1 -->\n<g id=\"edge89\" class=\"edge\">\n<title>s44&#45;&gt;s44&#45;a1</title>\n<path fill=\"none\" stroke=\"red\" stroke-width=\"2\" d=\"M11342.71,-138C11351.4,-138 11360.59,-138 11369.2,-138\"/>\n<polygon fill=\"red\" stroke=\"red\" stroke-width=\"2\" points=\"11369.34,-141.5 11379.34,-138 11369.34,-134.5 11369.34,-141.5\"/>\n</g>\n<!-- s45 -->\n<g id=\"node91\" class=\"node\">\n<title>s45</title>\n<ellipse fill=\"#85ff75\" stroke=\"#85ff75\" cx=\"11560.79\" cy=\"-138\" rx=\"36\" ry=\"36\"/>\n<ellipse fill=\"none\" stroke=\"#85ff75\" cx=\"11560.79\" cy=\"-138\" rx=\"40\" ry=\"40\"/>\n<text text-anchor=\"middle\" x=\"11560.79\" y=\"-131.8\" font-family=\"Arial\" font-size=\"24.00\">s45</text>\n</g>\n<!-- s44&#45;a1&#45;&gt;s45 -->\n<g id=\"edge90\" class=\"edge\">\n<title>s44&#45;a1&#45;&gt;s45</title>\n<path fill=\"none\" stroke=\"blue\" stroke-dasharray=\"5,2\" d=\"M11434.96,-138C11455.88,-138 11485.53,-138 11510.68,-138\"/>\n<polygon fill=\"blue\" stroke=\"blue\" points=\"11510.79,-141.5 11520.79,-138 11510.79,-134.5 11510.79,-141.5\"/>\n<text text-anchor=\"middle\" x=\"11477.79\" y=\"-143.2\" font-family=\"Arial\" font-size=\"16.00\">p = 1.0</text>\n</g>\n<!-- s45&#45;a1 -->\n<g id=\"node92\" class=\"node\">\n<title>s45&#45;a1</title>\n<ellipse fill=\"lightpink\" stroke=\"lightpink\" cx=\"11665.37\" cy=\"-138\" rx=\"27.65\" ry=\"27.65\"/>\n<text text-anchor=\"middle\" x=\"11665.37\" y=\"-133\" font-family=\"Arial\" font-size=\"20.00\">a1</text>\n</g>\n<!-- s45&#45;&gt;s45&#45;a1 -->\n<g id=\"edge91\" class=\"edge\">\n<title>s45&#45;&gt;s45&#45;a1</title>\n<path fill=\"none\" stroke=\"red\" stroke-width=\"2\" d=\"M11600.86,-138C11609.56,-138 11618.75,-138 11627.36,-138\"/>\n<polygon fill=\"red\" stroke=\"red\" stroke-width=\"2\" points=\"11627.5,-141.5 11637.5,-138 11627.5,-134.5 11627.5,-141.5\"/>\n</g>\n<!-- s46 -->\n<g id=\"node93\" class=\"node\">\n<title>s46</title>\n<ellipse fill=\"#85ff75\" stroke=\"#85ff75\" cx=\"11818.94\" cy=\"-138\" rx=\"36\" ry=\"36\"/>\n<ellipse fill=\"none\" stroke=\"#85ff75\" cx=\"11818.94\" cy=\"-138\" rx=\"40\" ry=\"40\"/>\n<text text-anchor=\"middle\" x=\"11818.94\" y=\"-131.8\" font-family=\"Arial\" font-size=\"24.00\">s46</text>\n</g>\n<!-- s45&#45;a1&#45;&gt;s46 -->\n<g id=\"edge92\" class=\"edge\">\n<title>s45&#45;a1&#45;&gt;s46</title>\n<path fill=\"none\" stroke=\"blue\" stroke-dasharray=\"5,2\" d=\"M11693.12,-138C11714.03,-138 11743.68,-138 11768.83,-138\"/>\n<polygon fill=\"blue\" stroke=\"blue\" points=\"11768.94,-141.5 11778.94,-138 11768.94,-134.5 11768.94,-141.5\"/>\n<text text-anchor=\"middle\" x=\"11735.94\" y=\"-143.2\" font-family=\"Arial\" font-size=\"16.00\">p = 1.0</text>\n</g>\n<!-- s46&#45;a1 -->\n<g id=\"node94\" class=\"node\">\n<title>s46&#45;a1</title>\n<ellipse fill=\"lightpink\" stroke=\"lightpink\" cx=\"11923.52\" cy=\"-138\" rx=\"27.65\" ry=\"27.65\"/>\n<text text-anchor=\"middle\" x=\"11923.52\" y=\"-133\" font-family=\"Arial\" font-size=\"20.00\">a1</text>\n</g>\n<!-- s46&#45;&gt;s46&#45;a1 -->\n<g id=\"edge93\" class=\"edge\">\n<title>s46&#45;&gt;s46&#45;a1</title>\n<path fill=\"none\" stroke=\"red\" stroke-width=\"2\" d=\"M11859.02,-138C11867.71,-138 11876.9,-138 11885.51,-138\"/>\n<polygon fill=\"red\" stroke=\"red\" stroke-width=\"2\" points=\"11885.65,-141.5 11895.65,-138 11885.65,-134.5 11885.65,-141.5\"/>\n</g>\n<!-- s47 -->\n<g id=\"node95\" class=\"node\">\n<title>s47</title>\n<ellipse fill=\"#85ff75\" stroke=\"#85ff75\" cx=\"12077.1\" cy=\"-138\" rx=\"36\" ry=\"36\"/>\n<ellipse fill=\"none\" stroke=\"#85ff75\" cx=\"12077.1\" cy=\"-138\" rx=\"40\" ry=\"40\"/>\n<text text-anchor=\"middle\" x=\"12077.1\" y=\"-131.8\" font-family=\"Arial\" font-size=\"24.00\">s47</text>\n</g>\n<!-- s46&#45;a1&#45;&gt;s47 -->\n<g id=\"edge94\" class=\"edge\">\n<title>s46&#45;a1&#45;&gt;s47</title>\n<path fill=\"none\" stroke=\"blue\" stroke-dasharray=\"5,2\" d=\"M11951.27,-138C11972.19,-138 12001.84,-138 12026.99,-138\"/>\n<polygon fill=\"blue\" stroke=\"blue\" points=\"12027.1,-141.5 12037.1,-138 12027.09,-134.5 12027.1,-141.5\"/>\n<text text-anchor=\"middle\" x=\"11994.1\" y=\"-143.2\" font-family=\"Arial\" font-size=\"16.00\">p = 1.0</text>\n</g>\n<!-- s47&#45;a1 -->\n<g id=\"node96\" class=\"node\">\n<title>s47&#45;a1</title>\n<ellipse fill=\"lightpink\" stroke=\"lightpink\" cx=\"12181.68\" cy=\"-138\" rx=\"27.65\" ry=\"27.65\"/>\n<text text-anchor=\"middle\" x=\"12181.68\" y=\"-133\" font-family=\"Arial\" font-size=\"20.00\">a1</text>\n</g>\n<!-- s47&#45;&gt;s47&#45;a1 -->\n<g id=\"edge95\" class=\"edge\">\n<title>s47&#45;&gt;s47&#45;a1</title>\n<path fill=\"none\" stroke=\"red\" stroke-width=\"2\" d=\"M12117.17,-138C12125.87,-138 12135.06,-138 12143.67,-138\"/>\n<polygon fill=\"red\" stroke=\"red\" stroke-width=\"2\" points=\"12143.8,-141.5 12153.8,-138 12143.8,-134.5 12143.8,-141.5\"/>\n</g>\n<!-- s48 -->\n<g id=\"node97\" class=\"node\">\n<title>s48</title>\n<ellipse fill=\"#85ff75\" stroke=\"#85ff75\" cx=\"12335.25\" cy=\"-138\" rx=\"36\" ry=\"36\"/>\n<ellipse fill=\"none\" stroke=\"#85ff75\" cx=\"12335.25\" cy=\"-138\" rx=\"40\" ry=\"40\"/>\n<text text-anchor=\"middle\" x=\"12335.25\" y=\"-131.8\" font-family=\"Arial\" font-size=\"24.00\">s48</text>\n</g>\n<!-- s47&#45;a1&#45;&gt;s48 -->\n<g id=\"edge96\" class=\"edge\">\n<title>s47&#45;a1&#45;&gt;s48</title>\n<path fill=\"none\" stroke=\"blue\" stroke-dasharray=\"5,2\" d=\"M12209.43,-138C12230.34,-138 12259.99,-138 12285.14,-138\"/>\n<polygon fill=\"blue\" stroke=\"blue\" points=\"12285.25,-141.5 12295.25,-138 12285.25,-134.5 12285.25,-141.5\"/>\n<text text-anchor=\"middle\" x=\"12252.25\" y=\"-143.2\" font-family=\"Arial\" font-size=\"16.00\">p = 1.0</text>\n</g>\n<!-- s48&#45;a1 -->\n<g id=\"node98\" class=\"node\">\n<title>s48&#45;a1</title>\n<ellipse fill=\"lightpink\" stroke=\"lightpink\" cx=\"12439.83\" cy=\"-138\" rx=\"27.65\" ry=\"27.65\"/>\n<text text-anchor=\"middle\" x=\"12439.83\" y=\"-133\" font-family=\"Arial\" font-size=\"20.00\">a1</text>\n</g>\n<!-- s48&#45;&gt;s48&#45;a1 -->\n<g id=\"edge97\" class=\"edge\">\n<title>s48&#45;&gt;s48&#45;a1</title>\n<path fill=\"none\" stroke=\"red\" stroke-width=\"2\" d=\"M12375.33,-138C12384.02,-138 12393.21,-138 12401.82,-138\"/>\n<polygon fill=\"red\" stroke=\"red\" stroke-width=\"2\" points=\"12401.96,-141.5 12411.96,-138 12401.96,-134.5 12401.96,-141.5\"/>\n</g>\n<!-- s49 -->\n<g id=\"node99\" class=\"node\">\n<title>s49</title>\n<ellipse fill=\"#85ff75\" stroke=\"#85ff75\" cx=\"12593.41\" cy=\"-138\" rx=\"36\" ry=\"36\"/>\n<ellipse fill=\"none\" stroke=\"#85ff75\" cx=\"12593.41\" cy=\"-138\" rx=\"40\" ry=\"40\"/>\n<text text-anchor=\"middle\" x=\"12593.41\" y=\"-131.8\" font-family=\"Arial\" font-size=\"24.00\">s49</text>\n</g>\n<!-- s48&#45;a1&#45;&gt;s49 -->\n<g id=\"edge98\" class=\"edge\">\n<title>s48&#45;a1&#45;&gt;s49</title>\n<path fill=\"none\" stroke=\"blue\" stroke-dasharray=\"5,2\" d=\"M12467.58,-138C12488.5,-138 12518.14,-138 12543.3,-138\"/>\n<polygon fill=\"blue\" stroke=\"blue\" points=\"12543.4,-141.5 12553.4,-138 12543.4,-134.5 12543.4,-141.5\"/>\n<text text-anchor=\"middle\" x=\"12510.41\" y=\"-143.2\" font-family=\"Arial\" font-size=\"16.00\">p = 1.0</text>\n</g>\n<!-- s49&#45;a1 -->\n<g id=\"node100\" class=\"node\">\n<title>s49&#45;a1</title>\n<ellipse fill=\"lightpink\" stroke=\"lightpink\" cx=\"12697.98\" cy=\"-138\" rx=\"27.65\" ry=\"27.65\"/>\n<text text-anchor=\"middle\" x=\"12697.98\" y=\"-133\" font-family=\"Arial\" font-size=\"20.00\">a1</text>\n</g>\n<!-- s49&#45;&gt;s49&#45;a1 -->\n<g id=\"edge99\" class=\"edge\">\n<title>s49&#45;&gt;s49&#45;a1</title>\n<path fill=\"none\" stroke=\"red\" stroke-width=\"2\" d=\"M12633.48,-138C12642.17,-138 12651.37,-138 12659.97,-138\"/>\n<polygon fill=\"red\" stroke=\"red\" stroke-width=\"2\" points=\"12660.11,-141.5 12670.11,-138 12660.11,-134.5 12660.11,-141.5\"/>\n</g>\n<!-- s50 -->\n<g id=\"node101\" class=\"node\">\n<title>s50</title>\n<ellipse fill=\"#85ff75\" stroke=\"#85ff75\" cx=\"12851.56\" cy=\"-138\" rx=\"36\" ry=\"36\"/>\n<ellipse fill=\"none\" stroke=\"#85ff75\" cx=\"12851.56\" cy=\"-138\" rx=\"40\" ry=\"40\"/>\n<text text-anchor=\"middle\" x=\"12851.56\" y=\"-131.8\" font-family=\"Arial\" font-size=\"24.00\">s50</text>\n</g>\n<!-- s49&#45;a1&#45;&gt;s50 -->\n<g id=\"edge100\" class=\"edge\">\n<title>s49&#45;a1&#45;&gt;s50</title>\n<path fill=\"none\" stroke=\"blue\" stroke-dasharray=\"5,2\" d=\"M12725.73,-138C12746.65,-138 12776.3,-138 12801.45,-138\"/>\n<polygon fill=\"blue\" stroke=\"blue\" points=\"12801.56,-141.5 12811.56,-138 12801.56,-134.5 12801.56,-141.5\"/>\n<text text-anchor=\"middle\" x=\"12768.56\" y=\"-143.2\" font-family=\"Arial\" font-size=\"16.00\">p = 1.0</text>\n</g>\n<!-- s50&#45;a1 -->\n<g id=\"node102\" class=\"node\">\n<title>s50&#45;a1</title>\n<ellipse fill=\"lightpink\" stroke=\"lightpink\" cx=\"12956.14\" cy=\"-138\" rx=\"27.65\" ry=\"27.65\"/>\n<text text-anchor=\"middle\" x=\"12956.14\" y=\"-133\" font-family=\"Arial\" font-size=\"20.00\">a1</text>\n</g>\n<!-- s50&#45;&gt;s50&#45;a1 -->\n<g id=\"edge101\" class=\"edge\">\n<title>s50&#45;&gt;s50&#45;a1</title>\n<path fill=\"none\" stroke=\"red\" stroke-width=\"2\" d=\"M12891.63,-138C12900.33,-138 12909.52,-138 12918.13,-138\"/>\n<polygon fill=\"red\" stroke=\"red\" stroke-width=\"2\" points=\"12918.27,-141.5 12928.27,-138 12918.27,-134.5 12918.27,-141.5\"/>\n</g>\n<!-- s51 -->\n<g id=\"node103\" class=\"node\">\n<title>s51</title>\n<ellipse fill=\"#85ff75\" stroke=\"#85ff75\" cx=\"13109.72\" cy=\"-138\" rx=\"36\" ry=\"36\"/>\n<ellipse fill=\"none\" stroke=\"#85ff75\" cx=\"13109.72\" cy=\"-138\" rx=\"40\" ry=\"40\"/>\n<text text-anchor=\"middle\" x=\"13109.72\" y=\"-131.8\" font-family=\"Arial\" font-size=\"24.00\">s51</text>\n</g>\n<!-- s50&#45;a1&#45;&gt;s51 -->\n<g id=\"edge102\" class=\"edge\">\n<title>s50&#45;a1&#45;&gt;s51</title>\n<path fill=\"none\" stroke=\"blue\" stroke-dasharray=\"5,2\" d=\"M12983.89,-138C13004.8,-138 13034.45,-138 13059.61,-138\"/>\n<polygon fill=\"blue\" stroke=\"blue\" points=\"13059.71,-141.5 13069.71,-138 13059.71,-134.5 13059.71,-141.5\"/>\n<text text-anchor=\"middle\" x=\"13026.72\" y=\"-143.2\" font-family=\"Arial\" font-size=\"16.00\">p = 1.0</text>\n</g>\n<!-- s51&#45;a1 -->\n<g id=\"node104\" class=\"node\">\n<title>s51&#45;a1</title>\n<ellipse fill=\"lightpink\" stroke=\"lightpink\" cx=\"13214.29\" cy=\"-138\" rx=\"27.65\" ry=\"27.65\"/>\n<text text-anchor=\"middle\" x=\"13214.29\" y=\"-133\" font-family=\"Arial\" font-size=\"20.00\">a1</text>\n</g>\n<!-- s51&#45;&gt;s51&#45;a1 -->\n<g id=\"edge103\" class=\"edge\">\n<title>s51&#45;&gt;s51&#45;a1</title>\n<path fill=\"none\" stroke=\"red\" stroke-width=\"2\" d=\"M13149.79,-138C13158.48,-138 13167.68,-138 13176.28,-138\"/>\n<polygon fill=\"red\" stroke=\"red\" stroke-width=\"2\" points=\"13176.42,-141.5 13186.42,-138 13176.42,-134.5 13176.42,-141.5\"/>\n</g>\n<!-- s52 -->\n<g id=\"node105\" class=\"node\">\n<title>s52</title>\n<ellipse fill=\"#85ff75\" stroke=\"#85ff75\" cx=\"13367.87\" cy=\"-138\" rx=\"36\" ry=\"36\"/>\n<ellipse fill=\"none\" stroke=\"#85ff75\" cx=\"13367.87\" cy=\"-138\" rx=\"40\" ry=\"40\"/>\n<text text-anchor=\"middle\" x=\"13367.87\" y=\"-131.8\" font-family=\"Arial\" font-size=\"24.00\">s52</text>\n</g>\n<!-- s51&#45;a1&#45;&gt;s52 -->\n<g id=\"edge104\" class=\"edge\">\n<title>s51&#45;a1&#45;&gt;s52</title>\n<path fill=\"none\" stroke=\"blue\" stroke-dasharray=\"5,2\" d=\"M13242.04,-138C13262.96,-138 13292.61,-138 13317.76,-138\"/>\n<polygon fill=\"blue\" stroke=\"blue\" points=\"13317.87,-141.5 13327.87,-138 13317.87,-134.5 13317.87,-141.5\"/>\n<text text-anchor=\"middle\" x=\"13284.87\" y=\"-143.2\" font-family=\"Arial\" font-size=\"16.00\">p = 1.0</text>\n</g>\n<!-- s52&#45;a1 -->\n<g id=\"node106\" class=\"node\">\n<title>s52&#45;a1</title>\n<ellipse fill=\"lightpink\" stroke=\"lightpink\" cx=\"13472.45\" cy=\"-138\" rx=\"27.65\" ry=\"27.65\"/>\n<text text-anchor=\"middle\" x=\"13472.45\" y=\"-133\" font-family=\"Arial\" font-size=\"20.00\">a1</text>\n</g>\n<!-- s52&#45;&gt;s52&#45;a1 -->\n<g id=\"edge105\" class=\"edge\">\n<title>s52&#45;&gt;s52&#45;a1</title>\n<path fill=\"none\" stroke=\"red\" stroke-width=\"2\" d=\"M13407.94,-138C13416.64,-138 13425.83,-138 13434.44,-138\"/>\n<polygon fill=\"red\" stroke=\"red\" stroke-width=\"2\" points=\"13434.58,-141.5 13444.58,-138 13434.58,-134.5 13434.58,-141.5\"/>\n</g>\n<!-- s53 -->\n<g id=\"node107\" class=\"node\">\n<title>s53</title>\n<ellipse fill=\"#85ff75\" stroke=\"#85ff75\" cx=\"13626.03\" cy=\"-138\" rx=\"36\" ry=\"36\"/>\n<ellipse fill=\"none\" stroke=\"#85ff75\" cx=\"13626.03\" cy=\"-138\" rx=\"40\" ry=\"40\"/>\n<text text-anchor=\"middle\" x=\"13626.03\" y=\"-131.8\" font-family=\"Arial\" font-size=\"24.00\">s53</text>\n</g>\n<!-- s52&#45;a1&#45;&gt;s53 -->\n<g id=\"edge106\" class=\"edge\">\n<title>s52&#45;a1&#45;&gt;s53</title>\n<path fill=\"none\" stroke=\"blue\" stroke-dasharray=\"5,2\" d=\"M13500.2,-138C13521.11,-138 13550.76,-138 13575.91,-138\"/>\n<polygon fill=\"blue\" stroke=\"blue\" points=\"13576.02,-141.5 13586.02,-138 13576.02,-134.5 13576.02,-141.5\"/>\n<text text-anchor=\"middle\" x=\"13543.03\" y=\"-143.2\" font-family=\"Arial\" font-size=\"16.00\">p = 1.0</text>\n</g>\n<!-- s53&#45;a1 -->\n<g id=\"node108\" class=\"node\">\n<title>s53&#45;a1</title>\n<ellipse fill=\"lightpink\" stroke=\"lightpink\" cx=\"13730.6\" cy=\"-138\" rx=\"27.65\" ry=\"27.65\"/>\n<text text-anchor=\"middle\" x=\"13730.6\" y=\"-133\" font-family=\"Arial\" font-size=\"20.00\">a1</text>\n</g>\n<!-- s53&#45;&gt;s53&#45;a1 -->\n<g id=\"edge107\" class=\"edge\">\n<title>s53&#45;&gt;s53&#45;a1</title>\n<path fill=\"none\" stroke=\"red\" stroke-width=\"2\" d=\"M13666.1,-138C13674.79,-138 13683.98,-138 13692.59,-138\"/>\n<polygon fill=\"red\" stroke=\"red\" stroke-width=\"2\" points=\"13692.73,-141.5 13702.73,-138 13692.73,-134.5 13692.73,-141.5\"/>\n</g>\n<!-- s54 -->\n<g id=\"node109\" class=\"node\">\n<title>s54</title>\n<ellipse fill=\"#85ff75\" stroke=\"#85ff75\" cx=\"13884.18\" cy=\"-138\" rx=\"36\" ry=\"36\"/>\n<ellipse fill=\"none\" stroke=\"#85ff75\" cx=\"13884.18\" cy=\"-138\" rx=\"40\" ry=\"40\"/>\n<text text-anchor=\"middle\" x=\"13884.18\" y=\"-131.8\" font-family=\"Arial\" font-size=\"24.00\">s54</text>\n</g>\n<!-- s53&#45;a1&#45;&gt;s54 -->\n<g id=\"edge108\" class=\"edge\">\n<title>s53&#45;a1&#45;&gt;s54</title>\n<path fill=\"none\" stroke=\"blue\" stroke-dasharray=\"5,2\" d=\"M13758.35,-138C13779.27,-138 13808.92,-138 13834.07,-138\"/>\n<polygon fill=\"blue\" stroke=\"blue\" points=\"13834.18,-141.5 13844.18,-138 13834.18,-134.5 13834.18,-141.5\"/>\n<text text-anchor=\"middle\" x=\"13801.18\" y=\"-143.2\" font-family=\"Arial\" font-size=\"16.00\">p = 1.0</text>\n</g>\n<!-- s54&#45;a1 -->\n<g id=\"node110\" class=\"node\">\n<title>s54&#45;a1</title>\n<ellipse fill=\"lightpink\" stroke=\"lightpink\" cx=\"13988.76\" cy=\"-138\" rx=\"27.65\" ry=\"27.65\"/>\n<text text-anchor=\"middle\" x=\"13988.76\" y=\"-133\" font-family=\"Arial\" font-size=\"20.00\">a1</text>\n</g>\n<!-- s54&#45;&gt;s54&#45;a1 -->\n<g id=\"edge109\" class=\"edge\">\n<title>s54&#45;&gt;s54&#45;a1</title>\n<path fill=\"none\" stroke=\"red\" stroke-width=\"2\" d=\"M13924.25,-138C13932.95,-138 13942.14,-138 13950.75,-138\"/>\n<polygon fill=\"red\" stroke=\"red\" stroke-width=\"2\" points=\"13950.89,-141.5 13960.89,-138 13950.89,-134.5 13950.89,-141.5\"/>\n</g>\n<!-- s55 -->\n<g id=\"node111\" class=\"node\">\n<title>s55</title>\n<ellipse fill=\"#85ff75\" stroke=\"#85ff75\" cx=\"14142.33\" cy=\"-138\" rx=\"36\" ry=\"36\"/>\n<ellipse fill=\"none\" stroke=\"#85ff75\" cx=\"14142.33\" cy=\"-138\" rx=\"40\" ry=\"40\"/>\n<text text-anchor=\"middle\" x=\"14142.33\" y=\"-131.8\" font-family=\"Arial\" font-size=\"24.00\">s55</text>\n</g>\n<!-- s54&#45;a1&#45;&gt;s55 -->\n<g id=\"edge110\" class=\"edge\">\n<title>s54&#45;a1&#45;&gt;s55</title>\n<path fill=\"none\" stroke=\"blue\" stroke-dasharray=\"5,2\" d=\"M14016.51,-138C14037.42,-138 14067.07,-138 14092.22,-138\"/>\n<polygon fill=\"blue\" stroke=\"blue\" points=\"14092.33,-141.5 14102.33,-138 14092.33,-134.5 14092.33,-141.5\"/>\n<text text-anchor=\"middle\" x=\"14059.33\" y=\"-143.2\" font-family=\"Arial\" font-size=\"16.00\">p = 1.0</text>\n</g>\n<!-- s55&#45;a1 -->\n<g id=\"node112\" class=\"node\">\n<title>s55&#45;a1</title>\n<ellipse fill=\"lightpink\" stroke=\"lightpink\" cx=\"14246.91\" cy=\"-138\" rx=\"27.65\" ry=\"27.65\"/>\n<text text-anchor=\"middle\" x=\"14246.91\" y=\"-133\" font-family=\"Arial\" font-size=\"20.00\">a1</text>\n</g>\n<!-- s55&#45;&gt;s55&#45;a1 -->\n<g id=\"edge111\" class=\"edge\">\n<title>s55&#45;&gt;s55&#45;a1</title>\n<path fill=\"none\" stroke=\"red\" stroke-width=\"2\" d=\"M14182.41,-138C14191.1,-138 14200.29,-138 14208.9,-138\"/>\n<polygon fill=\"red\" stroke=\"red\" stroke-width=\"2\" points=\"14209.04,-141.5 14219.04,-138 14209.04,-134.5 14209.04,-141.5\"/>\n</g>\n<!-- s56 -->\n<g id=\"node113\" class=\"node\">\n<title>s56</title>\n<ellipse fill=\"#85ff75\" stroke=\"#85ff75\" cx=\"14400.49\" cy=\"-138\" rx=\"36\" ry=\"36\"/>\n<ellipse fill=\"none\" stroke=\"#85ff75\" cx=\"14400.49\" cy=\"-138\" rx=\"40\" ry=\"40\"/>\n<text text-anchor=\"middle\" x=\"14400.49\" y=\"-131.8\" font-family=\"Arial\" font-size=\"24.00\">s56</text>\n</g>\n<!-- s55&#45;a1&#45;&gt;s56 -->\n<g id=\"edge112\" class=\"edge\">\n<title>s55&#45;a1&#45;&gt;s56</title>\n<path fill=\"none\" stroke=\"blue\" stroke-dasharray=\"5,2\" d=\"M14274.66,-138C14295.58,-138 14325.22,-138 14350.38,-138\"/>\n<polygon fill=\"blue\" stroke=\"blue\" points=\"14350.48,-141.5 14360.48,-138 14350.48,-134.5 14350.48,-141.5\"/>\n<text text-anchor=\"middle\" x=\"14317.49\" y=\"-143.2\" font-family=\"Arial\" font-size=\"16.00\">p = 1.0</text>\n</g>\n<!-- s56&#45;a1 -->\n<g id=\"node114\" class=\"node\">\n<title>s56&#45;a1</title>\n<ellipse fill=\"lightpink\" stroke=\"lightpink\" cx=\"14505.07\" cy=\"-138\" rx=\"27.65\" ry=\"27.65\"/>\n<text text-anchor=\"middle\" x=\"14505.07\" y=\"-133\" font-family=\"Arial\" font-size=\"20.00\">a1</text>\n</g>\n<!-- s56&#45;&gt;s56&#45;a1 -->\n<g id=\"edge113\" class=\"edge\">\n<title>s56&#45;&gt;s56&#45;a1</title>\n<path fill=\"none\" stroke=\"red\" stroke-width=\"2\" d=\"M14440.56,-138C14449.26,-138 14458.45,-138 14467.06,-138\"/>\n<polygon fill=\"red\" stroke=\"red\" stroke-width=\"2\" points=\"14467.19,-141.5 14477.19,-138 14467.19,-134.5 14467.19,-141.5\"/>\n</g>\n<!-- s57 -->\n<g id=\"node115\" class=\"node\">\n<title>s57</title>\n<ellipse fill=\"#85ff75\" stroke=\"#85ff75\" cx=\"14658.64\" cy=\"-138\" rx=\"36\" ry=\"36\"/>\n<ellipse fill=\"none\" stroke=\"#85ff75\" cx=\"14658.64\" cy=\"-138\" rx=\"40\" ry=\"40\"/>\n<text text-anchor=\"middle\" x=\"14658.64\" y=\"-131.8\" font-family=\"Arial\" font-size=\"24.00\">s57</text>\n</g>\n<!-- s56&#45;a1&#45;&gt;s57 -->\n<g id=\"edge114\" class=\"edge\">\n<title>s56&#45;a1&#45;&gt;s57</title>\n<path fill=\"none\" stroke=\"blue\" stroke-dasharray=\"5,2\" d=\"M14532.82,-138C14553.73,-138 14583.38,-138 14608.53,-138\"/>\n<polygon fill=\"blue\" stroke=\"blue\" points=\"14608.64,-141.5 14618.64,-138 14608.64,-134.5 14608.64,-141.5\"/>\n<text text-anchor=\"middle\" x=\"14575.64\" y=\"-143.2\" font-family=\"Arial\" font-size=\"16.00\">p = 1.0</text>\n</g>\n<!-- s57&#45;a1 -->\n<g id=\"node116\" class=\"node\">\n<title>s57&#45;a1</title>\n<ellipse fill=\"lightpink\" stroke=\"lightpink\" cx=\"14763.22\" cy=\"-138\" rx=\"27.65\" ry=\"27.65\"/>\n<text text-anchor=\"middle\" x=\"14763.22\" y=\"-133\" font-family=\"Arial\" font-size=\"20.00\">a1</text>\n</g>\n<!-- s57&#45;&gt;s57&#45;a1 -->\n<g id=\"edge115\" class=\"edge\">\n<title>s57&#45;&gt;s57&#45;a1</title>\n<path fill=\"none\" stroke=\"red\" stroke-width=\"2\" d=\"M14698.72,-138C14707.41,-138 14716.6,-138 14725.21,-138\"/>\n<polygon fill=\"red\" stroke=\"red\" stroke-width=\"2\" points=\"14725.35,-141.5 14735.35,-138 14725.35,-134.5 14725.35,-141.5\"/>\n</g>\n<!-- s58 -->\n<g id=\"node117\" class=\"node\">\n<title>s58</title>\n<ellipse fill=\"#85ff75\" stroke=\"#85ff75\" cx=\"14916.8\" cy=\"-138\" rx=\"36\" ry=\"36\"/>\n<ellipse fill=\"none\" stroke=\"#85ff75\" cx=\"14916.8\" cy=\"-138\" rx=\"40\" ry=\"40\"/>\n<text text-anchor=\"middle\" x=\"14916.8\" y=\"-131.8\" font-family=\"Arial\" font-size=\"24.00\">s58</text>\n</g>\n<!-- s57&#45;a1&#45;&gt;s58 -->\n<g id=\"edge116\" class=\"edge\">\n<title>s57&#45;a1&#45;&gt;s58</title>\n<path fill=\"none\" stroke=\"blue\" stroke-dasharray=\"5,2\" d=\"M14790.97,-138C14811.89,-138 14841.53,-138 14866.69,-138\"/>\n<polygon fill=\"blue\" stroke=\"blue\" points=\"14866.79,-141.5 14876.79,-138 14866.79,-134.5 14866.79,-141.5\"/>\n<text text-anchor=\"middle\" x=\"14833.8\" y=\"-143.2\" font-family=\"Arial\" font-size=\"16.00\">p = 1.0</text>\n</g>\n<!-- s58&#45;a1 -->\n<g id=\"node118\" class=\"node\">\n<title>s58&#45;a1</title>\n<ellipse fill=\"lightpink\" stroke=\"lightpink\" cx=\"15021.37\" cy=\"-138\" rx=\"27.65\" ry=\"27.65\"/>\n<text text-anchor=\"middle\" x=\"15021.37\" y=\"-133\" font-family=\"Arial\" font-size=\"20.00\">a1</text>\n</g>\n<!-- s58&#45;&gt;s58&#45;a1 -->\n<g id=\"edge117\" class=\"edge\">\n<title>s58&#45;&gt;s58&#45;a1</title>\n<path fill=\"none\" stroke=\"red\" stroke-width=\"2\" d=\"M14956.87,-138C14965.56,-138 14974.76,-138 14983.36,-138\"/>\n<polygon fill=\"red\" stroke=\"red\" stroke-width=\"2\" points=\"14983.5,-141.5 14993.5,-138 14983.5,-134.5 14983.5,-141.5\"/>\n</g>\n<!-- s59 -->\n<g id=\"node119\" class=\"node\">\n<title>s59</title>\n<ellipse fill=\"#85ff75\" stroke=\"#85ff75\" cx=\"15174.95\" cy=\"-138\" rx=\"36\" ry=\"36\"/>\n<ellipse fill=\"none\" stroke=\"#85ff75\" cx=\"15174.95\" cy=\"-138\" rx=\"40\" ry=\"40\"/>\n<text text-anchor=\"middle\" x=\"15174.95\" y=\"-131.8\" font-family=\"Arial\" font-size=\"24.00\">s59</text>\n</g>\n<!-- s58&#45;a1&#45;&gt;s59 -->\n<g id=\"edge118\" class=\"edge\">\n<title>s58&#45;a1&#45;&gt;s59</title>\n<path fill=\"none\" stroke=\"blue\" stroke-dasharray=\"5,2\" d=\"M15049.12,-138C15070.04,-138 15099.69,-138 15124.84,-138\"/>\n<polygon fill=\"blue\" stroke=\"blue\" points=\"15124.95,-141.5 15134.95,-138 15124.95,-134.5 15124.95,-141.5\"/>\n<text text-anchor=\"middle\" x=\"15091.95\" y=\"-143.2\" font-family=\"Arial\" font-size=\"16.00\">p = 1.0</text>\n</g>\n<!-- s59&#45;a1 -->\n<g id=\"node120\" class=\"node\">\n<title>s59&#45;a1</title>\n<ellipse fill=\"lightpink\" stroke=\"lightpink\" cx=\"15279.53\" cy=\"-138\" rx=\"27.65\" ry=\"27.65\"/>\n<text text-anchor=\"middle\" x=\"15279.53\" y=\"-133\" font-family=\"Arial\" font-size=\"20.00\">a1</text>\n</g>\n<!-- s59&#45;&gt;s59&#45;a1 -->\n<g id=\"edge119\" class=\"edge\">\n<title>s59&#45;&gt;s59&#45;a1</title>\n<path fill=\"none\" stroke=\"red\" stroke-width=\"2\" d=\"M15215.02,-138C15223.72,-138 15232.91,-138 15241.52,-138\"/>\n<polygon fill=\"red\" stroke=\"red\" stroke-width=\"2\" points=\"15241.66,-141.5 15251.66,-138 15241.66,-134.5 15241.66,-141.5\"/>\n</g>\n<!-- s60 -->\n<g id=\"node121\" class=\"node\">\n<title>s60</title>\n<ellipse fill=\"#85ff75\" stroke=\"#85ff75\" cx=\"15590.11\" cy=\"-138\" rx=\"36\" ry=\"36\"/>\n<ellipse fill=\"none\" stroke=\"#85ff75\" cx=\"15590.11\" cy=\"-138\" rx=\"40\" ry=\"40\"/>\n<text text-anchor=\"middle\" x=\"15590.11\" y=\"-131.8\" font-family=\"Arial\" font-size=\"24.00\">s60</text>\n</g>\n<!-- s59&#45;a1&#45;&gt;s60 -->\n<g id=\"edge120\" class=\"edge\">\n<title>s59&#45;a1&#45;&gt;s60</title>\n<path fill=\"none\" stroke=\"blue\" stroke-dasharray=\"5,2\" d=\"M15307.37,-138C15359.22,-138 15473.82,-138 15539.77,-138\"/>\n<polygon fill=\"blue\" stroke=\"blue\" points=\"15539.92,-141.5 15549.92,-138 15539.92,-134.5 15539.92,-141.5\"/>\n<text text-anchor=\"middle\" x=\"15428.61\" y=\"-143.2\" font-family=\"Arial\" font-size=\"16.00\">p = 1.0 &#160;reward =10000000.0</text>\n</g>\n<!-- s60&#45;a1 -->\n<g id=\"node122\" class=\"node\">\n<title>s60&#45;a1</title>\n<ellipse fill=\"lightpink\" stroke=\"lightpink\" cx=\"15743.68\" cy=\"-138\" rx=\"27.65\" ry=\"27.65\"/>\n<text text-anchor=\"middle\" x=\"15743.68\" y=\"-133\" font-family=\"Arial\" font-size=\"20.00\">a1</text>\n</g>\n<!-- s60&#45;&gt;s60&#45;a1 -->\n<g id=\"edge121\" class=\"edge\">\n<title>s60&#45;&gt;s60&#45;a1</title>\n<path fill=\"none\" stroke=\"red\" stroke-width=\"2\" d=\"M15630.34,-140.34C15636.29,-140.61 15642.36,-140.85 15648.11,-141 15670.32,-141.58 15675.9,-141.75 15698.11,-141 15700.62,-140.92 15703.2,-140.8 15705.81,-140.68\"/>\n<polygon fill=\"red\" stroke=\"red\" stroke-width=\"2\" points=\"15706.04,-144.17 15715.82,-140.1 15705.64,-137.18 15706.04,-144.17\"/>\n</g>\n<!-- s60&#45;a1&#45;&gt;s60 -->\n<g id=\"edge122\" class=\"edge\">\n<title>s60&#45;a1&#45;&gt;s60</title>\n<path fill=\"none\" stroke=\"blue\" stroke-dasharray=\"5,2\" d=\"M15718.73,-125.71C15712.21,-122.95 15705.03,-120.41 15698.11,-119 15676.33,-114.55 15670.04,-115.44 15648.11,-119 15644.65,-119.56 15641.13,-120.3 15637.61,-121.16\"/>\n<polygon fill=\"blue\" stroke=\"blue\" points=\"15636.48,-117.84 15627.77,-123.87 15638.34,-124.59 15636.48,-117.84\"/>\n<text text-anchor=\"middle\" x=\"15673.11\" y=\"-124.2\" font-family=\"Arial\" font-size=\"16.00\">p = 1.0</text>\n</g>\n<!-- s61&#45;a1&#45;&gt;s61 -->\n<g id=\"edge124\" class=\"edge\">\n<title>s61&#45;a1&#45;&gt;s61</title>\n<path fill=\"none\" stroke=\"blue\" stroke-dasharray=\"5,2\" d=\"M539.72,-39.35C533.2,-36.73 526.04,-34.34 519.15,-33 500.19,-29.32 479.02,-29.77 460.54,-31.61\"/>\n<polygon fill=\"blue\" stroke=\"blue\" points=\"460.12,-28.14 450.59,-32.76 460.92,-35.09 460.12,-28.14\"/>\n<text text-anchor=\"middle\" x=\"494.15\" y=\"-38.2\" font-family=\"Arial\" font-size=\"16.00\">p = 1.0</text>\n</g>\n</g>\n</svg>\n",
            "text/plain": [
              "<graphviz.graphs.Digraph at 0x7f1ecc09b6d0>"
            ]
          },
          "metadata": {}
        }
      ],
      "source": [
        "transition_probs, rewards = generate_mdp_hw1(60)\n",
        "\n",
        "gamma = 0.95\n",
        "\n",
        "from mdp import MDP\n",
        "from numpy import random\n",
        "mdp = MDP(transition_probs, rewards, initial_state='s1')\n",
        "# Feel free to change the initial_state\n",
        "display(plot_graph(mdp))"
      ]
    },
    {
      "cell_type": "code",
      "execution_count": 49,
      "metadata": {
        "id": "S4kz73i-QKxB",
        "collapsed": true,
        "outputId": "14eabc3f-8673-41a2-a86d-feff309929c4",
        "colab": {
          "base_uri": "https://localhost:8080/"
        }
      },
      "outputs": [
        {
          "output_type": "stream",
          "name": "stdout",
          "text": [
            "after iteration 0\n",
            "N actions changed = 0 \n",
            "\n",
            "after iteration 1\n",
            "N actions changed = 0 \n",
            "\n",
            "after iteration 2\n",
            "N actions changed = 0 \n",
            "\n",
            "after iteration 3\n",
            "N actions changed = 0 \n",
            "\n",
            "after iteration 4\n",
            "N actions changed = 0 \n",
            "\n",
            "after iteration 5\n",
            "N actions changed = 0 \n",
            "\n",
            "after iteration 6\n",
            "N actions changed = 0 \n",
            "\n",
            "after iteration 7\n",
            "N actions changed = 0 \n",
            "\n",
            "after iteration 8\n",
            "N actions changed = 0 \n",
            "\n",
            "after iteration 9\n",
            "N actions changed = 0 \n",
            "\n",
            "after iteration 10\n",
            "N actions changed = 0 \n",
            "\n",
            "after iteration 11\n",
            "N actions changed = 0 \n",
            "\n",
            "after iteration 12\n",
            "N actions changed = 0 \n",
            "\n",
            "after iteration 13\n",
            "N actions changed = 0 \n",
            "\n",
            "after iteration 14\n",
            "N actions changed = 0 \n",
            "\n",
            "after iteration 15\n",
            "N actions changed = 0 \n",
            "\n",
            "after iteration 16\n",
            "N actions changed = 0 \n",
            "\n",
            "after iteration 17\n",
            "N actions changed = 0 \n",
            "\n",
            "after iteration 18\n",
            "N actions changed = 0 \n",
            "\n",
            "after iteration 19\n",
            "N actions changed = 0 \n",
            "\n",
            "after iteration 20\n",
            "N actions changed = 0 \n",
            "\n",
            "after iteration 21\n",
            "N actions changed = 0 \n",
            "\n",
            "after iteration 22\n",
            "N actions changed = 0 \n",
            "\n",
            "after iteration 23\n",
            "N actions changed = 0 \n",
            "\n",
            "after iteration 24\n",
            "N actions changed = 0 \n",
            "\n",
            "after iteration 25\n",
            "N actions changed = 0 \n",
            "\n",
            "after iteration 26\n",
            "N actions changed = 0 \n",
            "\n",
            "after iteration 27\n",
            "N actions changed = 0 \n",
            "\n",
            "after iteration 28\n",
            "N actions changed = 0 \n",
            "\n",
            "after iteration 29\n",
            "N actions changed = 0 \n",
            "\n",
            "after iteration 30\n",
            "N actions changed = 0 \n",
            "\n",
            "after iteration 31\n",
            "N actions changed = 0 \n",
            "\n",
            "after iteration 32\n",
            "N actions changed = 0 \n",
            "\n",
            "after iteration 33\n",
            "N actions changed = 0 \n",
            "\n",
            "after iteration 34\n",
            "N actions changed = 0 \n",
            "\n",
            "after iteration 35\n",
            "N actions changed = 0 \n",
            "\n",
            "after iteration 36\n",
            "N actions changed = 0 \n",
            "\n",
            "after iteration 37\n",
            "N actions changed = 0 \n",
            "\n",
            "after iteration 38\n",
            "N actions changed = 0 \n",
            "\n",
            "after iteration 39\n",
            "N actions changed = 0 \n",
            "\n",
            "after iteration 40\n",
            "N actions changed = 0 \n",
            "\n",
            "after iteration 41\n",
            "N actions changed = 0 \n",
            "\n",
            "after iteration 42\n",
            "N actions changed = 0 \n",
            "\n",
            "after iteration 43\n",
            "N actions changed = 0 \n",
            "\n",
            "after iteration 44\n",
            "N actions changed = 0 \n",
            "\n",
            "after iteration 45\n",
            "N actions changed = 0 \n",
            "\n",
            "after iteration 46\n",
            "N actions changed = 0 \n",
            "\n",
            "after iteration 47\n",
            "N actions changed = 0 \n",
            "\n",
            "after iteration 48\n",
            "N actions changed = 0 \n",
            "\n",
            "after iteration 49\n",
            "N actions changed = 0 \n",
            "\n",
            "after iteration 50\n",
            "N actions changed = 0 \n",
            "\n",
            "after iteration 51\n",
            "N actions changed = 0 \n",
            "\n",
            "after iteration 52\n",
            "N actions changed = 0 \n",
            "\n",
            "after iteration 53\n",
            "N actions changed = 0 \n",
            "\n",
            "after iteration 54\n",
            "N actions changed = 0 \n",
            "\n",
            "after iteration 55\n",
            "N actions changed = 0 \n",
            "\n",
            "after iteration 56\n",
            "N actions changed = 0 \n",
            "\n",
            "after iteration 57\n",
            "N actions changed = 1 \n",
            "\n",
            "Yaa you'd win, hihihaha\n"
          ]
        }
      ],
      "source": [
        "state_values = {s: 0 for s in mdp.get_all_states()}\n",
        "policy = np.array([get_optimal_action(mdp, state_values, state, gamma)\n",
        "                   for state in sorted(mdp.get_all_states())])\n",
        "\n",
        "for i in range(100):\n",
        "    print(\"after iteration %i\" % i)\n",
        "    state_values = value_iteration(mdp, state_values, num_iter=1, log=False)\n",
        "\n",
        "    new_policy = np.array([get_optimal_action(mdp, state_values, state, gamma)\n",
        "                           for state in sorted(mdp.get_all_states())])\n",
        "\n",
        "    n_changes = (policy != new_policy).sum()\n",
        "    print(\"N actions changed = %i \\n\" % n_changes)\n",
        "    policy = new_policy\n",
        "\n",
        "    if i >= 50 and n_changes != 0:\n",
        "      print(\"Yaa you'd win, hihihaha\")\n",
        "      break\n",
        "\n",
        "# please ignore iter 0 at each step"
      ]
    },
    {
      "cell_type": "markdown",
      "metadata": {
        "id": "EF3K_hXiQKxB"
      },
      "source": [
        "### Value iteration convervence proof (1 pts)\n",
        "**Note:** Assume that $\\mathcal{S}, \\mathcal{A}$ are finite.\n",
        "\n",
        "Update of value function in value iteration can be rewritten in a form of Bellman operator:\n",
        "\n",
        "$$(TV)(s) = \\max_{a \\in \\mathcal{A}}\\mathbb{E}\\left[ r_{t+1} + \\gamma V(s_{t+1}) | s_t = s, a_t = a\\right]$$\n",
        "\n",
        "Value iteration algorithm with Bellman operator:\n",
        "\n",
        "---\n",
        "&nbsp;&nbsp; Initialize $V_0$\n",
        "\n",
        "&nbsp;&nbsp; **for** $k = 0,1,2,...$ **do**\n",
        "\n",
        "&nbsp;&nbsp;&nbsp;&nbsp; $V_{k+1} \\leftarrow TV_k$\n",
        "\n",
        "&nbsp;&nbsp;**end for**\n",
        "\n",
        "---\n",
        "\n",
        "In [lecture](https://docs.google.com/presentation/d/1lz2oIUTvd2MHWKEQSH8hquS66oe4MZ_eRvVViZs2uuE/edit#slide=id.g4fd6bae29e_2_4) we established contraction property of bellman operator:\n",
        "\n",
        "$$\n",
        "||TV - TU||_{\\infty} \\le \\gamma ||V - U||_{\\infty}\n",
        "$$\n",
        "\n",
        "For all $V, U$\n",
        "\n",
        "Using contraction property of Bellman operator, Banach fixed-point theorem and Bellman equations prove that value function converges to $V^*$ in value iterateion$\n",
        "\n",
        "*Доказывается очевидно в уме, сопоставляя все факты*"
      ]
    },
    {
      "cell_type": "markdown",
      "metadata": {
        "id": "BlcQ24X5QKxB"
      },
      "source": [
        "### Asynchronious value iteration (2 pts)\n",
        "\n",
        "Consider the following algorithm:\n",
        "\n",
        "---\n",
        "\n",
        "Initialize $V_0$\n",
        "\n",
        "**for** $k = 0,1,2,...$ **do**\n",
        "\n",
        "&nbsp;&nbsp;&nbsp;&nbsp; Select some state $s_k \\in \\mathcal{S}$    \n",
        "\n",
        "&nbsp;&nbsp;&nbsp;&nbsp; $V(s_k) := (TV)(s_k)$\n",
        "\n",
        "**end for**\n",
        "\n",
        "---\n",
        "\n",
        "\n",
        "Note that unlike common value iteration, here we update only a single state at a time.\n",
        "\n",
        "**Homework.** Prove the following proposition:\n",
        "\n",
        "If for all $s \\in \\mathcal{S}$, $s$ appears in the sequence $(s_0, s_1, ...)$ infinitely often, then $V$ converges to $V*$\n",
        "\n",
        "*Доказывается очевидно*\n"
      ]
    },
    {
      "cell_type": "markdown",
      "metadata": {
        "id": "O8dfrU4wQKxB"
      },
      "source": [
        "# HW Part 2: Policy iteration\n",
        "\n",
        "## Policy iteration implementateion (3 pts)\n",
        "\n",
        "Let's implement exact policy iteration (PI), which has the following pseudocode:\n",
        "\n",
        "---\n",
        "Initialize $\\pi_0$   `// random or fixed action`\n",
        "\n",
        "For $n=0, 1, 2, \\dots$\n",
        "- Compute the state-value function $V^{\\pi_{n}}$\n",
        "- Using $V^{\\pi_{n}}$, compute the state-action-value function $Q^{\\pi_{n}}$\n",
        "- Compute new policy $\\pi_{n+1}(s) = \\operatorname*{argmax}_a Q^{\\pi_{n}}(s,a)$\n",
        "---\n",
        "\n",
        "Unlike VI, policy iteration has to maintain a policy - chosen actions from all states - and estimate $V^{\\pi_{n}}$ based on this policy. It only changes policy once values converged.\n",
        "\n",
        "\n",
        "Below are a few helpers that you may or may not use in your implementation."
      ]
    },
    {
      "cell_type": "code",
      "execution_count": 145,
      "metadata": {
        "id": "gKCIx9KHQKxC",
        "outputId": "dcc9d13e-5e5b-48f8-d498-2dac08e64c64",
        "colab": {
          "base_uri": "https://localhost:8080/",
          "height": 395
        }
      },
      "outputs": [
        {
          "output_type": "display_data",
          "data": {
            "image/svg+xml": "<?xml version=\"1.0\" encoding=\"UTF-8\" standalone=\"no\"?>\n<!DOCTYPE svg PUBLIC \"-//W3C//DTD SVG 1.1//EN\"\n \"http://www.w3.org/Graphics/SVG/1.1/DTD/svg11.dtd\">\n<!-- Generated by graphviz version 2.43.0 (0)\n -->\n<!-- Title: MDP Pages: 1 -->\n<svg width=\"1027pt\" height=\"280pt\"\n viewBox=\"0.00 0.00 1027.46 280.00\" xmlns=\"http://www.w3.org/2000/svg\" xmlns:xlink=\"http://www.w3.org/1999/xlink\">\n<g id=\"graph0\" class=\"graph\" transform=\"scale(1 1) rotate(0) translate(4 276)\">\n<title>MDP</title>\n<polygon fill=\"white\" stroke=\"transparent\" points=\"-4,4 -4,-276 1023.46,-276 1023.46,4 -4,4\"/>\n<!-- s0 -->\n<g id=\"node1\" class=\"node\">\n<title>s0</title>\n<ellipse fill=\"#85ff75\" stroke=\"#85ff75\" cx=\"40\" cy=\"-102\" rx=\"36\" ry=\"36\"/>\n<ellipse fill=\"none\" stroke=\"#85ff75\" cx=\"40\" cy=\"-102\" rx=\"40\" ry=\"40\"/>\n<text text-anchor=\"middle\" x=\"40\" y=\"-95.8\" font-family=\"Arial\" font-size=\"24.00\">s0</text>\n</g>\n<!-- s0&#45;a0 -->\n<g id=\"node2\" class=\"node\">\n<title>s0&#45;a0</title>\n<ellipse fill=\"lightpink\" stroke=\"lightpink\" cx=\"193.58\" cy=\"-146\" rx=\"27.65\" ry=\"27.65\"/>\n<text text-anchor=\"middle\" x=\"193.58\" y=\"-141\" font-family=\"Arial\" font-size=\"20.00\">a0</text>\n</g>\n<!-- s0&#45;&gt;s0&#45;a0 -->\n<g id=\"edge1\" class=\"edge\">\n<title>s0&#45;&gt;s0&#45;a0</title>\n<path fill=\"none\" stroke=\"red\" stroke-width=\"2\" d=\"M79.19,-110.49C99.74,-115.34 125.44,-121.88 148,-129 151.34,-130.05 154.79,-131.22 158.23,-132.44\"/>\n<polygon fill=\"red\" stroke=\"red\" stroke-width=\"2\" points=\"157.17,-135.78 167.77,-135.95 159.59,-129.21 157.17,-135.78\"/>\n</g>\n<!-- s0&#45;a1 -->\n<g id=\"node4\" class=\"node\">\n<title>s0&#45;a1</title>\n<ellipse fill=\"lightpink\" stroke=\"lightpink\" cx=\"193.58\" cy=\"-219\" rx=\"27.65\" ry=\"27.65\"/>\n<text text-anchor=\"middle\" x=\"193.58\" y=\"-214\" font-family=\"Arial\" font-size=\"20.00\">a1</text>\n</g>\n<!-- s0&#45;&gt;s0&#45;a1 -->\n<g id=\"edge4\" class=\"edge\">\n<title>s0&#45;&gt;s0&#45;a1</title>\n<path fill=\"none\" stroke=\"red\" stroke-width=\"2\" d=\"M66.9,-131.7C76.21,-141.57 87.12,-152.26 98,-161 117.23,-176.44 140.89,-190.94 159.73,-201.59\"/>\n<polygon fill=\"red\" stroke=\"red\" stroke-width=\"2\" points=\"158.11,-204.69 168.55,-206.49 161.51,-198.57 158.11,-204.69\"/>\n</g>\n<!-- s0&#45;a0&#45;&gt;s0 -->\n<g id=\"edge2\" class=\"edge\">\n<title>s0&#45;a0&#45;&gt;s0</title>\n<path fill=\"none\" stroke=\"blue\" stroke-dasharray=\"5,2\" d=\"M166.14,-141.8C146.98,-138.42 120.58,-133.07 98,-126 94.19,-124.81 90.28,-123.45 86.39,-122.01\"/>\n<polygon fill=\"blue\" stroke=\"blue\" points=\"87.39,-118.65 76.8,-118.29 84.85,-125.17 87.39,-118.65\"/>\n<text text-anchor=\"middle\" x=\"123\" y=\"-144.2\" font-family=\"Arial\" font-size=\"16.00\">p = 0.5</text>\n</g>\n<!-- s2 -->\n<g id=\"node3\" class=\"node\">\n<title>s2</title>\n<ellipse fill=\"#85ff75\" stroke=\"#85ff75\" cx=\"433.15\" cy=\"-158\" rx=\"36\" ry=\"36\"/>\n<ellipse fill=\"none\" stroke=\"#85ff75\" cx=\"433.15\" cy=\"-158\" rx=\"40\" ry=\"40\"/>\n<text text-anchor=\"middle\" x=\"433.15\" y=\"-151.8\" font-family=\"Arial\" font-size=\"24.00\">s2</text>\n</g>\n<!-- s0&#45;a0&#45;&gt;s2 -->\n<g id=\"edge3\" class=\"edge\">\n<title>s0&#45;a0&#45;&gt;s2</title>\n<path fill=\"none\" stroke=\"blue\" stroke-dasharray=\"5,2\" d=\"M221.37,-147.35C260.45,-149.33 333.78,-153.03 382.8,-155.51\"/>\n<polygon fill=\"blue\" stroke=\"blue\" points=\"382.71,-159.01 392.87,-156.02 383.06,-152.02 382.71,-159.01\"/>\n<text text-anchor=\"middle\" x=\"307.15\" y=\"-161.2\" font-family=\"Arial\" font-size=\"16.00\">p = 0.5</text>\n</g>\n<!-- s2&#45;a0 -->\n<g id=\"node8\" class=\"node\">\n<title>s2&#45;a0</title>\n<ellipse fill=\"lightpink\" stroke=\"lightpink\" cx=\"666.73\" cy=\"-129\" rx=\"27.65\" ry=\"27.65\"/>\n<text text-anchor=\"middle\" x=\"666.73\" y=\"-124\" font-family=\"Arial\" font-size=\"20.00\">a0</text>\n</g>\n<!-- s2&#45;&gt;s2&#45;a0 -->\n<g id=\"edge13\" class=\"edge\">\n<title>s2&#45;&gt;s2&#45;a0</title>\n<path fill=\"none\" stroke=\"red\" stroke-width=\"2\" d=\"M473.22,-157.9C511.32,-157.14 570.74,-154.2 621.15,-144 624.36,-143.35 627.64,-142.54 630.92,-141.63\"/>\n<polygon fill=\"red\" stroke=\"red\" stroke-width=\"2\" points=\"632.03,-144.95 640.57,-138.68 629.99,-138.26 632.03,-144.95\"/>\n</g>\n<!-- s2&#45;a1 -->\n<g id=\"node9\" class=\"node\">\n<title>s2&#45;a1</title>\n<ellipse fill=\"lightpink\" stroke=\"lightpink\" cx=\"666.73\" cy=\"-56\" rx=\"27.65\" ry=\"27.65\"/>\n<text text-anchor=\"middle\" x=\"666.73\" y=\"-51\" font-family=\"Arial\" font-size=\"20.00\">a1</text>\n</g>\n<!-- s2&#45;&gt;s2&#45;a1 -->\n<g id=\"edge16\" class=\"edge\">\n<title>s2&#45;&gt;s2&#45;a1</title>\n<path fill=\"none\" stroke=\"red\" stroke-width=\"2\" d=\"M459.55,-127.43C468.67,-118.1 479.58,-108.58 491.15,-102 534.67,-77.25 591.85,-65.48 628.7,-60.12\"/>\n<polygon fill=\"red\" stroke=\"red\" stroke-width=\"2\" points=\"629.55,-63.54 638.98,-58.72 628.6,-56.6 629.55,-63.54\"/>\n</g>\n<!-- s0&#45;a1&#45;&gt;s2 -->\n<g id=\"edge5\" class=\"edge\">\n<title>s0&#45;a1&#45;&gt;s2</title>\n<path fill=\"none\" stroke=\"blue\" stroke-dasharray=\"5,2\" d=\"M220.83,-214.02C256.19,-207.09 320.94,-193.61 375.15,-178 378.53,-177.03 382,-175.97 385.48,-174.86\"/>\n<polygon fill=\"blue\" stroke=\"blue\" points=\"386.85,-178.09 395.25,-171.64 384.66,-171.44 386.85,-178.09\"/>\n<text text-anchor=\"middle\" x=\"307.15\" y=\"-214.2\" font-family=\"Arial\" font-size=\"16.00\">p = 1</text>\n</g>\n<!-- s1 -->\n<g id=\"node5\" class=\"node\">\n<title>s1</title>\n<ellipse fill=\"#85ff75\" stroke=\"#85ff75\" cx=\"829.31\" cy=\"-106\" rx=\"36\" ry=\"36\"/>\n<ellipse fill=\"none\" stroke=\"#85ff75\" cx=\"829.31\" cy=\"-106\" rx=\"40\" ry=\"40\"/>\n<text text-anchor=\"middle\" x=\"829.31\" y=\"-99.8\" font-family=\"Arial\" font-size=\"24.00\">s1</text>\n</g>\n<!-- s1&#45;a0 -->\n<g id=\"node6\" class=\"node\">\n<title>s1&#45;a0</title>\n<ellipse fill=\"lightpink\" stroke=\"lightpink\" cx=\"991.89\" cy=\"-70\" rx=\"27.65\" ry=\"27.65\"/>\n<text text-anchor=\"middle\" x=\"991.89\" y=\"-65\" font-family=\"Arial\" font-size=\"20.00\">a0</text>\n</g>\n<!-- s1&#45;&gt;s1&#45;a0 -->\n<g id=\"edge6\" class=\"edge\">\n<title>s1&#45;&gt;s1&#45;a0</title>\n<path fill=\"none\" stroke=\"red\" stroke-width=\"2\" d=\"M868.77,-97.38C894.87,-91.53 929.14,-83.84 954.73,-78.1\"/>\n<polygon fill=\"red\" stroke=\"red\" stroke-width=\"2\" points=\"955.78,-81.46 964.77,-75.85 954.25,-74.63 955.78,-81.46\"/>\n</g>\n<!-- s1&#45;a1 -->\n<g id=\"node7\" class=\"node\">\n<title>s1&#45;a1</title>\n<ellipse fill=\"lightpink\" stroke=\"lightpink\" cx=\"991.89\" cy=\"-152\" rx=\"27.65\" ry=\"27.65\"/>\n<text text-anchor=\"middle\" x=\"991.89\" y=\"-147\" font-family=\"Arial\" font-size=\"20.00\">a1</text>\n</g>\n<!-- s1&#45;&gt;s1&#45;a1 -->\n<g id=\"edge10\" class=\"edge\">\n<title>s1&#45;&gt;s1&#45;a1</title>\n<path fill=\"none\" stroke=\"red\" stroke-width=\"2\" d=\"M868.91,-113.23C891.7,-117.92 920.95,-124.72 946.31,-133 949.88,-134.17 953.56,-135.5 957.2,-136.92\"/>\n<polygon fill=\"red\" stroke=\"red\" stroke-width=\"2\" points=\"956.07,-140.24 966.65,-140.77 958.71,-133.75 956.07,-140.24\"/>\n</g>\n<!-- s1&#45;a0&#45;&gt;s0 -->\n<g id=\"edge7\" class=\"edge\">\n<title>s1&#45;a0&#45;&gt;s0</title>\n<path fill=\"none\" stroke=\"blue\" stroke-dasharray=\"5,2\" d=\"M969.32,-53.76C939.66,-33.09 883.83,0 830.31,0 192.58,0 192.58,0 192.58,0 145.12,0 101.35,-34.85 73.18,-63.8\"/>\n<polygon fill=\"blue\" stroke=\"blue\" points=\"70.33,-61.72 66.01,-71.4 75.42,-66.53 70.33,-61.72\"/>\n<text text-anchor=\"middle\" x=\"556.15\" y=\"-5.2\" font-family=\"Arial\" font-size=\"16.00\">p = 0.7 &#160;reward =5</text>\n</g>\n<!-- s1&#45;a0&#45;&gt;s2 -->\n<g id=\"edge9\" class=\"edge\">\n<title>s1&#45;a0&#45;&gt;s2</title>\n<path fill=\"none\" stroke=\"blue\" stroke-dasharray=\"5,2\" d=\"M976.18,-92.88C972.04,-99.83 967.74,-107.59 964.31,-115 954.04,-137.2 966.23,-152.81 946.31,-167 873.08,-219.15 596.05,-183.31 482.82,-165.94\"/>\n<polygon fill=\"blue\" stroke=\"blue\" points=\"483.13,-162.44 472.71,-164.37 482.05,-169.36 483.13,-162.44\"/>\n<text text-anchor=\"middle\" x=\"741.81\" y=\"-198.2\" font-family=\"Arial\" font-size=\"16.00\">p = 0.2</text>\n</g>\n<!-- s1&#45;a0&#45;&gt;s1 -->\n<g id=\"edge8\" class=\"edge\">\n<title>s1&#45;a0&#45;&gt;s1</title>\n<path fill=\"none\" stroke=\"blue\" stroke-dasharray=\"5,2\" d=\"M965.45,-61.19C944.01,-55.18 912.84,-49.83 887.31,-59 879.67,-61.74 872.32,-66 865.59,-70.86\"/>\n<polygon fill=\"blue\" stroke=\"blue\" points=\"863.13,-68.34 857.42,-77.26 867.45,-73.85 863.13,-68.34\"/>\n<text text-anchor=\"middle\" x=\"916.81\" y=\"-64.2\" font-family=\"Arial\" font-size=\"16.00\">p = 0.1</text>\n</g>\n<!-- s1&#45;a1&#45;&gt;s2 -->\n<g id=\"edge12\" class=\"edge\">\n<title>s1&#45;a1&#45;&gt;s2</title>\n<path fill=\"none\" stroke=\"blue\" stroke-dasharray=\"5,2\" d=\"M975.76,-174.51C968.13,-183.88 958.01,-193.77 946.31,-199 761.62,-281.52 682.98,-263.23 491.15,-199 484.63,-196.82 478.21,-193.6 472.17,-189.92\"/>\n<polygon fill=\"blue\" stroke=\"blue\" points=\"473.89,-186.86 463.62,-184.25 470.02,-192.69 473.89,-186.86\"/>\n<text text-anchor=\"middle\" x=\"741.81\" y=\"-259.2\" font-family=\"Arial\" font-size=\"16.00\">p = 0.05</text>\n</g>\n<!-- s1&#45;a1&#45;&gt;s1 -->\n<g id=\"edge11\" class=\"edge\">\n<title>s1&#45;a1&#45;&gt;s1</title>\n<path fill=\"none\" stroke=\"blue\" stroke-dasharray=\"5,2\" d=\"M964.57,-147.83C943.42,-144.14 913.09,-138.09 887.31,-130 883.5,-128.81 879.59,-127.45 875.7,-126.01\"/>\n<polygon fill=\"blue\" stroke=\"blue\" points=\"876.7,-122.64 866.11,-122.28 874.16,-129.17 876.7,-122.64\"/>\n<text text-anchor=\"middle\" x=\"916.81\" y=\"-150.2\" font-family=\"Arial\" font-size=\"16.00\">p = 0.95</text>\n</g>\n<!-- s2&#45;a0&#45;&gt;s0 -->\n<g id=\"edge14\" class=\"edge\">\n<title>s2&#45;a0&#45;&gt;s0</title>\n<path fill=\"none\" stroke=\"blue\" stroke-dasharray=\"5,2\" d=\"M643.55,-113.66C636.68,-109.73 628.88,-106.03 621.15,-104 429.75,-53.64 190.36,-79.41 89.43,-94.11\"/>\n<polygon fill=\"blue\" stroke=\"blue\" points=\"88.91,-90.65 79.53,-95.58 89.93,-97.58 88.91,-90.65\"/>\n<text text-anchor=\"middle\" x=\"307.15\" y=\"-84.2\" font-family=\"Arial\" font-size=\"16.00\">p = 0.4</text>\n</g>\n<!-- s2&#45;a0&#45;&gt;s1 -->\n<g id=\"edge15\" class=\"edge\">\n<title>s2&#45;a0&#45;&gt;s1</title>\n<path fill=\"none\" stroke=\"blue\" stroke-dasharray=\"5,2\" d=\"M694.25,-125.2C717.33,-121.9 751.4,-117.02 779.41,-113\"/>\n<polygon fill=\"blue\" stroke=\"blue\" points=\"780.03,-116.45 789.43,-111.57 779.03,-109.52 780.03,-116.45\"/>\n<text text-anchor=\"middle\" x=\"741.81\" y=\"-128.2\" font-family=\"Arial\" font-size=\"16.00\">p = 0.6</text>\n</g>\n<!-- s2&#45;a1&#45;&gt;s0 -->\n<g id=\"edge17\" class=\"edge\">\n<title>s2&#45;a1&#45;&gt;s0</title>\n<path fill=\"none\" stroke=\"blue\" stroke-dasharray=\"5,2\" d=\"M639.17,-53.76C571.97,-48.55 389.78,-37.17 239.15,-53 175.37,-59.7 159.89,-66.17 98,-83 94.63,-83.92 91.16,-84.92 87.68,-85.97\"/>\n<polygon fill=\"blue\" stroke=\"blue\" points=\"86.42,-82.7 77.92,-89.02 88.51,-89.38 86.42,-82.7\"/>\n<text text-anchor=\"middle\" x=\"307.15\" y=\"-58.2\" font-family=\"Arial\" font-size=\"16.00\">p = 0.3 &#160;reward =&#45;1</text>\n</g>\n<!-- s2&#45;a1&#45;&gt;s2 -->\n<g id=\"edge19\" class=\"edge\">\n<title>s2&#45;a1&#45;&gt;s2</title>\n<path fill=\"none\" stroke=\"blue\" stroke-dasharray=\"5,2\" d=\"M647.47,-76.44C639.99,-83.65 630.82,-91.16 621.15,-96 568.47,-122.39 545.87,-100.13 491.15,-122 485.72,-124.17 480.24,-126.87 474.93,-129.8\"/>\n<polygon fill=\"blue\" stroke=\"blue\" points=\"473.07,-126.83 466.21,-134.91 476.61,-132.87 473.07,-126.83\"/>\n<text text-anchor=\"middle\" x=\"556.15\" y=\"-127.2\" font-family=\"Arial\" font-size=\"16.00\">p = 0.4</text>\n</g>\n<!-- s2&#45;a1&#45;&gt;s1 -->\n<g id=\"edge18\" class=\"edge\">\n<title>s2&#45;a1&#45;&gt;s1</title>\n<path fill=\"none\" stroke=\"blue\" stroke-dasharray=\"5,2\" d=\"M693.18,-63.92C716.67,-71.24 752.17,-82.29 780.89,-91.23\"/>\n<polygon fill=\"blue\" stroke=\"blue\" points=\"780.14,-94.67 790.73,-94.3 782.22,-87.98 780.14,-94.67\"/>\n<text text-anchor=\"middle\" x=\"741.81\" y=\"-92.2\" font-family=\"Arial\" font-size=\"16.00\">p = 0.3</text>\n</g>\n</g>\n</svg>\n",
            "text/plain": [
              "<graphviz.graphs.Digraph at 0x7f1eaf451a50>"
            ]
          },
          "metadata": {}
        }
      ],
      "source": [
        "transition_probs = {\n",
        "    's0': {\n",
        "        'a0': {'s0': 0.5, 's2': 0.5},\n",
        "        'a1': {'s2': 1}\n",
        "    },\n",
        "    's1': {\n",
        "        'a0': {'s0': 0.7, 's1': 0.1, 's2': 0.2},\n",
        "        'a1': {'s1': 0.95, 's2': 0.05}\n",
        "    },\n",
        "    's2': {\n",
        "        'a0': {'s0': 0.4, 's1': 0.6},\n",
        "        'a1': {'s0': 0.3, 's1': 0.3, 's2': 0.4}\n",
        "    }\n",
        "}\n",
        "rewards = {\n",
        "    's1': {'a0': {'s0': +5}},\n",
        "    's2': {'a1': {'s0': -1}}\n",
        "}\n",
        "\n",
        "from mdp import MDP\n",
        "mdp = MDP(transition_probs, rewards, initial_state='s0')\n",
        "\n",
        "display(plot_graph(mdp))"
      ]
    },
    {
      "cell_type": "markdown",
      "metadata": {
        "id": "UzpvXEKYQKxC"
      },
      "source": [
        "Let's write a function called `compute_vpi` that computes the state-value function $V^{\\pi}$ for an arbitrary policy $\\pi$.\n",
        "\n",
        "Unlike VI, this time you must find the exact solution, not just a single iteration.\n",
        "\n",
        "Recall that $V^{\\pi}$ satisfies the following linear equation:\n",
        "$$V^{\\pi}(s) = \\sum_{s'} P(s,\\pi(s),s')[ R(s,\\pi(s),s') + \\gamma V^{\\pi}(s')]$$\n",
        "\n",
        "You'll have to solve a linear system in your code. (Find an exact solution, e.g., with `np.linalg.solve`.)"
      ]
    },
    {
      "cell_type": "code",
      "execution_count": 146,
      "metadata": {
        "id": "j1RsgJX1QKxC"
      },
      "outputs": [],
      "source": [
        "def compute_vpi(mdp, policy, gamma):\n",
        "    \"\"\"\n",
        "    Computes V^pi(s) FOR ALL STATES under given policy.\n",
        "    :param policy: a dict of currently chosen actions {s : a}\n",
        "    :returns: a dict {state : V^pi(state) for all states}\n",
        "    \"\"\"\n",
        "    # v = A * v + b\n",
        "    n = mdp.n_states\n",
        "    b = np.zeros(n)\n",
        "    A = np.zeros(shape=(n, n))\n",
        "    states_to_idx = {s : i for i, s in enumerate(mdp.get_all_states())}\n",
        "    for state in mdp.get_all_states():\n",
        "      state_idx = states_to_idx[state]\n",
        "      action = policy[state]\n",
        "      if action is None:\n",
        "        continue\n",
        "      for next_state in mdp.get_next_states(state, action):\n",
        "        next_state_idx = states_to_idx[next_state]\n",
        "        b[state_idx] += mdp.get_transition_prob(state, action, next_state) * mdp.get_reward(state, action, next_state)\n",
        "        A[state_idx][next_state_idx] += mdp.get_transition_prob(state, action, next_state) * gamma\n",
        "    answer = np.linalg.solve(np.eye(n) - A, b)\n",
        "    return {s: answer[i] for i, s in enumerate(mdp.get_all_states())}"
      ]
    },
    {
      "cell_type": "code",
      "execution_count": 147,
      "metadata": {
        "id": "eHGhkJCkQKxC",
        "outputId": "251188a7-bb10-49da-cc3d-646ea96c048a",
        "colab": {
          "base_uri": "https://localhost:8080/"
        }
      },
      "outputs": [
        {
          "output_type": "stream",
          "name": "stdout",
          "text": [
            "{'s0': np.float64(6.432568550643525), 's1': np.float64(10.086737548964734), 's2': np.float64(7.109681029658636)}\n"
          ]
        }
      ],
      "source": [
        "test_policy = {s: np.random.choice(\n",
        "    mdp.get_possible_actions(s)) for s in mdp.get_all_states()}\n",
        "new_vpi = compute_vpi(mdp, test_policy, gamma)\n",
        "print(new_vpi)\n",
        "\n",
        "assert type(\n",
        "    new_vpi) is dict, \"compute_vpi must return a dict {state : V^pi(state) for all states}\""
      ]
    },
    {
      "cell_type": "markdown",
      "metadata": {
        "id": "VCshcSbiQKxC"
      },
      "source": [
        "Once we've got new state values, it's time to update our policy."
      ]
    },
    {
      "cell_type": "code",
      "execution_count": 148,
      "metadata": {
        "id": "VB07QDE3QKxC"
      },
      "outputs": [],
      "source": [
        "def compute_new_policy(mdp, vpi, gamma):\n",
        "    \"\"\"\n",
        "    Computes new policy as argmax of state values\n",
        "    :param vpi: a dict {state : V^pi(state) for all states}\n",
        "    :returns: a dict {state : optimal action for all states}\n",
        "    \"\"\"\n",
        "    policy = {}\n",
        "    for state in mdp.get_all_states():\n",
        "      actions = mdp.get_possible_actions(state)\n",
        "      if not actions:\n",
        "        policy[state] = None\n",
        "        continue\n",
        "      policy[state] = actions[np.argmax(\n",
        "          [sum([mdp.get_transition_prob(state, action, next_state) * (mdp.get_reward(state, action, next_state) + gamma * vpi[next_state]) for next_state in mdp.get_next_states(state, action)]) for action in actions]\n",
        "      )]\n",
        "    return policy"
      ]
    },
    {
      "cell_type": "code",
      "execution_count": 149,
      "metadata": {
        "id": "Wn72Q-QMQKxC",
        "outputId": "d5b1aba4-6eb7-4146-f393-fbf6395abb3b",
        "colab": {
          "base_uri": "https://localhost:8080/"
        }
      },
      "outputs": [
        {
          "output_type": "stream",
          "name": "stdout",
          "text": [
            "{'s0': 'a1', 's1': 'a0', 's2': 'a0'}\n"
          ]
        }
      ],
      "source": [
        "new_policy = compute_new_policy(mdp, new_vpi, gamma)\n",
        "\n",
        "print(new_policy)\n",
        "\n",
        "assert type(\n",
        "    new_policy) is dict, \"compute_new_policy must return a dict {state : optimal action for all states}\""
      ]
    },
    {
      "cell_type": "markdown",
      "metadata": {
        "id": "yvdwWk_mQKxD"
      },
      "source": [
        "__Main loop__"
      ]
    },
    {
      "cell_type": "code",
      "execution_count": 150,
      "metadata": {
        "id": "LoO2yDEPQKxD"
      },
      "outputs": [],
      "source": [
        "def policy_iteration(mdp, policy=None, gamma=0.9, num_iter=1000, min_difference=1e-5, log=True):\n",
        "    \"\"\"\n",
        "    Run the policy iteration loop for num_iter iterations or till difference between V(s) is below min_difference.\n",
        "    If policy is not given, initialize it at random.\n",
        "    \"\"\"\n",
        "    n = mdp.n_states\n",
        "    if policy is None:\n",
        "      policy = {}\n",
        "      for s in mdp.get_all_states():\n",
        "          actions = mdp.get_possible_actions(s)\n",
        "          if actions:\n",
        "              policy[s] = np.random.choice(actions)\n",
        "          else:\n",
        "              policy[s] = None\n",
        "\n",
        "    vpi = compute_vpi(mdp, policy, gamma)\n",
        "    for iter in range(num_iter):\n",
        "      # vpi = compute_vpi(mdp, policy, gamma)\n",
        "      policy = compute_new_policy(mdp, vpi, gamma)\n",
        "      new_vpi = compute_vpi(mdp, policy, gamma)\n",
        "      diff = max(abs(new_vpi[s] - vpi[s])\n",
        "                   for s in mdp.get_all_states())\n",
        "      if log:\n",
        "        print(f\"diff on iteration {iter} is {diff}\")\n",
        "      vpi = new_vpi\n",
        "      if diff < min_difference:\n",
        "        if log:\n",
        "          print(\"policy iteration ended\")\n",
        "        break\n",
        "    return vpi, policy"
      ]
    },
    {
      "cell_type": "markdown",
      "metadata": {
        "id": "6Hd96gUQQKxD"
      },
      "source": [
        "__Your PI Results__"
      ]
    },
    {
      "cell_type": "code",
      "source": [
        "# Measure agent's average reward\n",
        "from time import time\n",
        "mdp = FrozenLakeEnv(slip_chance=0.5, map_name='8x8')\n",
        "\n",
        "start = time()\n",
        "VI_state_values = value_iteration(mdp, log=False)\n",
        "print(f\"VI calculed for {time() - start:.4f} seconds\")\n",
        "\n",
        "start = time()\n",
        "PI_state_values, _ = policy_iteration(mdp, policy=None, log=False)\n",
        "print(f\"PI calculed for {time() - start:.4f} seconds\")\n",
        "\n",
        "\n",
        "total_rewards = []\n",
        "for game_i in range(1000):\n",
        "    s = mdp.reset()\n",
        "    rewards = []\n",
        "    for t in range(100):\n",
        "        s, r, done, _ = mdp.step(\n",
        "            get_optimal_action(mdp, VI_state_values, s, gamma))\n",
        "        rewards.append(r)\n",
        "        if done:\n",
        "            break\n",
        "    total_rewards.append(np.sum(rewards))\n",
        "\n",
        "print(\"average VI reward: \", np.mean(total_rewards))\n",
        "\n",
        "\n",
        "total_rewards = []\n",
        "for game_i in range(1000):\n",
        "    s = mdp.reset()\n",
        "    rewards = []\n",
        "    for t in range(100):\n",
        "        s, r, done, _ = mdp.step(\n",
        "            get_optimal_action(mdp, PI_state_values, s, gamma))\n",
        "        rewards.append(r)\n",
        "        if done:\n",
        "            break\n",
        "    total_rewards.append(np.sum(rewards))\n",
        "\n",
        "print(\"average PI reward: \", np.mean(total_rewards))"
      ],
      "metadata": {
        "id": "sde3-RbGaxSR",
        "outputId": "d3d70f81-691e-4383-8bda-c1d2a8dbb096",
        "colab": {
          "base_uri": "https://localhost:8080/"
        }
      },
      "execution_count": 153,
      "outputs": [
        {
          "output_type": "stream",
          "name": "stdout",
          "text": [
            "VI calculed for 0.1828 seconds\n",
            "PI calculed for 0.0912 seconds\n",
            "average VI reward:  0.362\n",
            "average PI reward:  0.366\n"
          ]
        }
      ]
    },
    {
      "cell_type": "code",
      "execution_count": null,
      "metadata": {
        "id": "x5-DTXG0QKxD"
      },
      "outputs": [],
      "source": [
        "<YOUR CODE: compare PI and VI on the MDP from bonus 1, then on small & large FrozenLake>"
      ]
    },
    {
      "cell_type": "markdown",
      "metadata": {
        "id": "Aw1WXwabQKxD"
      },
      "source": [
        "## Policy iteration convergence (3 pts)\n",
        "\n",
        "**Note:** Assume that $\\mathcal{S}, \\mathcal{A}$ are finite.\n",
        "\n",
        "We can define another Bellman operator:\n",
        "\n",
        "$$(T_{\\pi}V)(s) = \\mathbb{E}_{r, s'|s, a = \\pi(s)}\\left[r + \\gamma V(s')\\right]$$\n",
        "\n",
        "And rewrite policy iteration algorithm in operator form:\n",
        "\n",
        "\n",
        "---\n",
        "\n",
        "Initialize $\\pi_0$\n",
        "\n",
        "**for** $k = 0,1,2,...$ **do**\n",
        "\n",
        "&nbsp;&nbsp;&nbsp;&nbsp; Solve $V_k = T_{\\pi_k}V_k$   \n",
        "\n",
        "&nbsp;&nbsp;&nbsp;&nbsp; Select $\\pi_{k+1}$ s.t. $T_{\\pi_{k+1}}V_k = TV_k$\n",
        "\n",
        "**end for**\n",
        "\n",
        "---\n",
        "\n",
        "To prove convergence of the algorithm we need to prove two properties: contraction an monotonicity.\n",
        "\n",
        "#### Monotonicity (0.5 pts)\n",
        "\n",
        "For all $V, U$ if $V(s) \\le U(s)$   $\\forall s \\in \\mathcal{S}$ then $(T_\\pi V)(s) \\le (T_\\pi U)(s)$   $\\forall s \\in  \\mathcal{S}$\n",
        "\n",
        "*<-- Your proof here -->*\n",
        "\n",
        "#### Contraction (1 pts)\n",
        "\n",
        "$$\n",
        "||T_\\pi V - T_\\pi U||_{\\infty} \\le \\gamma ||V - U||_{\\infty}\n",
        "$$\n",
        "\n",
        "For all $V, U$\n",
        "\n",
        "*<-- Your proof here -->*\n",
        "\n",
        "#### Convergence (1.5 pts)\n",
        "\n",
        "Prove that there exists iteration $k_0$ such that $\\pi_k = \\pi^*$ for all $k \\ge k_0$\n",
        "\n",
        "*<-- Your proof here -->*"
      ]
    }
  ],
  "metadata": {
    "kernelspec": {
      "display_name": "Python 3",
      "language": "python",
      "name": "python3"
    },
    "language_info": {
      "codemirror_mode": {
        "name": "ipython",
        "version": 3
      },
      "file_extension": ".py",
      "mimetype": "text/x-python",
      "name": "python",
      "nbconvert_exporter": "python",
      "pygments_lexer": "ipython3",
      "version": "3.8.10"
    },
    "colab": {
      "provenance": []
    }
  },
  "nbformat": 4,
  "nbformat_minor": 0
}