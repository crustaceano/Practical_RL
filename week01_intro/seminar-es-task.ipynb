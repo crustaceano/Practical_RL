{
  "cells": [
    {
      "cell_type": "markdown",
      "metadata": {
        "id": "WaibQmS2eWhT"
      },
      "source": [
        "## Evolution Strategies\n",
        "\n",
        "![img](https://t4.ftcdn.net/jpg/00/17/46/81/240_F_17468143_wY3hsHyfNYoMdG9BlC56HI4JA7pNu63h.jpg)\n",
        "\n",
        "[The paper about the algorithm](https://arxiv.org/abs/1703.03864)\n",
        "\n",
        "Plan:\n",
        "* Study how to use OpenAI gym\n",
        "* Basic prototype of evolutionary strategies that works in one thread on CartPole\n",
        "* Modify the code to make them work in parallel\n",
        "* Use the algorithm to solve the LunarLander\n",
        "* Analyse the influence of hyperparameters"
      ]
    },
    {
      "cell_type": "code",
      "execution_count": 1,
      "metadata": {
        "id": "vIEqiu78eWhY",
        "outputId": "74734e76-60dd-4109-c87c-b68864635293",
        "colab": {
          "base_uri": "https://localhost:8080/"
        }
      },
      "outputs": [
        {
          "output_type": "stream",
          "name": "stdout",
          "text": [
            "W: Skipping acquire of configured file 'main/source/Sources' as repository 'https://r2u.stat.illinois.edu/ubuntu jammy InRelease' does not seem to provide it (sources.list entry misspelt?)\n",
            "Selecting previously unselected package libfontenc1:amd64.\n",
            "(Reading database ... 126209 files and directories currently installed.)\n",
            "Preparing to unpack .../0-libfontenc1_1%3a1.1.4-1build3_amd64.deb ...\n",
            "Unpacking libfontenc1:amd64 (1:1.1.4-1build3) ...\n",
            "Selecting previously unselected package libxfont2:amd64.\n",
            "Preparing to unpack .../1-libxfont2_1%3a2.0.5-1build1_amd64.deb ...\n",
            "Unpacking libxfont2:amd64 (1:2.0.5-1build1) ...\n",
            "Selecting previously unselected package libxkbfile1:amd64.\n",
            "Preparing to unpack .../2-libxkbfile1_1%3a1.1.0-1build3_amd64.deb ...\n",
            "Unpacking libxkbfile1:amd64 (1:1.1.0-1build3) ...\n",
            "Selecting previously unselected package x11-xkb-utils.\n",
            "Preparing to unpack .../3-x11-xkb-utils_7.7+5build4_amd64.deb ...\n",
            "Unpacking x11-xkb-utils (7.7+5build4) ...\n",
            "Selecting previously unselected package xfonts-encodings.\n",
            "Preparing to unpack .../4-xfonts-encodings_1%3a1.0.5-0ubuntu2_all.deb ...\n",
            "Unpacking xfonts-encodings (1:1.0.5-0ubuntu2) ...\n",
            "Selecting previously unselected package xfonts-utils.\n",
            "Preparing to unpack .../5-xfonts-utils_1%3a7.7+6build2_amd64.deb ...\n",
            "Unpacking xfonts-utils (1:7.7+6build2) ...\n",
            "Selecting previously unselected package xfonts-base.\n",
            "Preparing to unpack .../6-xfonts-base_1%3a1.0.5_all.deb ...\n",
            "Unpacking xfonts-base (1:1.0.5) ...\n",
            "Selecting previously unselected package xserver-common.\n",
            "Preparing to unpack .../7-xserver-common_2%3a21.1.4-2ubuntu1.7~22.04.13_all.deb ...\n",
            "Unpacking xserver-common (2:21.1.4-2ubuntu1.7~22.04.13) ...\n",
            "Selecting previously unselected package xvfb.\n",
            "Preparing to unpack .../8-xvfb_2%3a21.1.4-2ubuntu1.7~22.04.13_amd64.deb ...\n",
            "Unpacking xvfb (2:21.1.4-2ubuntu1.7~22.04.13) ...\n",
            "Setting up libfontenc1:amd64 (1:1.1.4-1build3) ...\n",
            "Setting up xfonts-encodings (1:1.0.5-0ubuntu2) ...\n",
            "Setting up libxkbfile1:amd64 (1:1.1.0-1build3) ...\n",
            "Setting up libxfont2:amd64 (1:2.0.5-1build1) ...\n",
            "Setting up x11-xkb-utils (7.7+5build4) ...\n",
            "Setting up xfonts-utils (1:7.7+6build2) ...\n",
            "Setting up xfonts-base (1:1.0.5) ...\n",
            "Setting up xserver-common (2:21.1.4-2ubuntu1.7~22.04.13) ...\n",
            "Setting up xvfb (2:21.1.4-2ubuntu1.7~22.04.13) ...\n",
            "Processing triggers for man-db (2.10.2-1) ...\n",
            "Processing triggers for fontconfig (2.13.1-4.2ubuntu5) ...\n",
            "Processing triggers for libc-bin (2.35-0ubuntu3.8) ...\n",
            "/sbin/ldconfig.real: /usr/local/lib/libhwloc.so.15 is not a symbolic link\n",
            "\n",
            "/sbin/ldconfig.real: /usr/local/lib/libtcm.so.1 is not a symbolic link\n",
            "\n",
            "/sbin/ldconfig.real: /usr/local/lib/libtbbmalloc_proxy.so.2 is not a symbolic link\n",
            "\n",
            "/sbin/ldconfig.real: /usr/local/lib/libtbbbind_2_0.so.3 is not a symbolic link\n",
            "\n",
            "/sbin/ldconfig.real: /usr/local/lib/libtbbmalloc.so.2 is not a symbolic link\n",
            "\n",
            "/sbin/ldconfig.real: /usr/local/lib/libtbb.so.12 is not a symbolic link\n",
            "\n",
            "/sbin/ldconfig.real: /usr/local/lib/libur_adapter_opencl.so.0 is not a symbolic link\n",
            "\n",
            "/sbin/ldconfig.real: /usr/local/lib/libtbbbind.so.3 is not a symbolic link\n",
            "\n",
            "/sbin/ldconfig.real: /usr/local/lib/libtcm_debug.so.1 is not a symbolic link\n",
            "\n",
            "/sbin/ldconfig.real: /usr/local/lib/libur_adapter_level_zero.so.0 is not a symbolic link\n",
            "\n",
            "/sbin/ldconfig.real: /usr/local/lib/libur_loader.so.0 is not a symbolic link\n",
            "\n",
            "/sbin/ldconfig.real: /usr/local/lib/libumf.so.0 is not a symbolic link\n",
            "\n",
            "/sbin/ldconfig.real: /usr/local/lib/libtbbbind_2_5.so.3 is not a symbolic link\n",
            "\n",
            "Starting virtual X frame buffer: Xvfb.\n"
          ]
        }
      ],
      "source": [
        "import sys, os\n",
        "\n",
        "!wget -q https://raw.githubusercontent.com/yandexdataschool/Practical_RL/master/setup_colab.sh -O- | bash\n",
        "!touch .setup_complete\n",
        "\n",
        "# This code creates a virtual display to draw game images on.\n",
        "# It will have no effect if your machine has a monitor.\n",
        "if type(os.environ.get(\"DISPLAY\")) is not str or len(os.environ.get(\"DISPLAY\")) == 0:\n",
        "    !bash ../xvfb start\n",
        "    os.environ['DISPLAY'] = ':1'"
      ]
    },
    {
      "cell_type": "code",
      "execution_count": 2,
      "metadata": {
        "id": "Yu97tzfzeWhb"
      },
      "outputs": [],
      "source": [
        "import numpy as np\n",
        "import matplotlib.pyplot as plt\n",
        "\n",
        "import torch\n",
        "import torch.nn as nn\n",
        "import time\n",
        "from copy import deepcopy\n",
        "from joblib import Parallel, delayed\n",
        "from IPython.display import clear_output\n",
        "from IPython import display\n",
        "\n",
        "%matplotlib inline"
      ]
    },
    {
      "cell_type": "markdown",
      "metadata": {
        "id": "rqGn4KVMeWhc"
      },
      "source": [
        "# OpenAI gym environment"
      ]
    },
    {
      "cell_type": "code",
      "execution_count": 3,
      "metadata": {
        "id": "WEFTU8kfeWhc",
        "outputId": "5259e63c-ba8d-442b-f000-778555a1d17b",
        "colab": {
          "base_uri": "https://localhost:8080/",
          "height": 928
        }
      },
      "outputs": [
        {
          "output_type": "stream",
          "name": "stderr",
          "text": [
            "/usr/local/lib/python3.11/dist-packages/gymnasium/envs/registration.py:519: DeprecationWarning: \u001b[33mWARN: The environment CartPole-v0 is out of date. You should consider upgrading to version `v1`.\u001b[0m\n",
            "  logger.deprecation(\n"
          ]
        },
        {
          "output_type": "stream",
          "name": "stdout",
          "text": [
            "Initial observation: [ 0.00606859  0.00441464 -0.02025578 -0.01669946]\n"
          ]
        },
        {
          "output_type": "display_data",
          "data": {
            "text/plain": [
              "<Figure size 640x480 with 1 Axes>"
            ],
            "image/png": "[encoded data removed]"
          },
          "metadata": {}
        },
        {
          "output_type": "stream",
          "name": "stdout",
          "text": [
            "At each step it returns:\n",
            "new observation code: [ 0.00615688 -0.19041105 -0.02058977  0.26952434]\n",
            "reward: 1.0\n",
            "is game over?: False\n"
          ]
        },
        {
          "output_type": "display_data",
          "data": {
            "text/plain": [
              "<Figure size 640x480 with 1 Axes>"
            ],
            "image/png": "[encoded data removed]"
          },
          "metadata": {}
        },
        {
          "output_type": "stream",
          "name": "stdout",
          "text": [
            "Observation space: Box([-4.8               -inf -0.41887903        -inf], [4.8               inf 0.41887903        inf], (4,), float32)\n",
            "Action space: Discrete(2)\n",
            "State size: 4\n",
            "Number of actions: 2\n"
          ]
        }
      ],
      "source": [
        "import gymnasium as gym\n",
        "import matplotlib.pyplot as plt\n",
        "\n",
        "# Создаём окружение\n",
        "tmp_env = gym.make(\"CartPole-v0\", render_mode=\"rgb_array\")\n",
        "\n",
        "# Получаем размерность состояния и количество действий\n",
        "state_size = tmp_env.observation_space.shape[0]\n",
        "n_actions = tmp_env.action_space.n\n",
        "\n",
        "# Инициализация окружения\n",
        "initial_obs, initial_info = tmp_env.reset()\n",
        "print(\"Initial observation:\", initial_obs)\n",
        "\n",
        "# Визуализируем начальное состояние\n",
        "plt.imshow(tmp_env.render())\n",
        "plt.axis(\"off\")  # Отключаем оси\n",
        "plt.show()\n",
        "\n",
        "# Совершаем действие 0 и получаем результат\n",
        "new_s, reward, terminated, truncated, _ = tmp_env.step(0)\n",
        "done = terminated or truncated\n",
        "\n",
        "print(\"At each step it returns:\")\n",
        "print(\"new observation code:\", new_s)\n",
        "print(\"reward:\", reward)\n",
        "print(\"is game over?:\", done)\n",
        "\n",
        "# Визуализируем новое состояние\n",
        "plt.imshow(tmp_env.render())\n",
        "plt.axis(\"off\")\n",
        "plt.show()\n",
        "\n",
        "# Вывод информации о пространстве состояний и действиях\n",
        "print(\"Observation space:\", tmp_env.observation_space)\n",
        "print(\"Action space:\", tmp_env.action_space)\n",
        "print(\"State size:\", state_size)\n",
        "print(\"Number of actions:\", n_actions)\n",
        "\n",
        "# Закрываем окружение после использования\n",
        "tmp_env.close()"
      ]
    },
    {
      "cell_type": "markdown",
      "metadata": {
        "id": "62L4io82eWhe"
      },
      "source": [
        "### How to interact with the environment"
      ]
    },
    {
      "cell_type": "code",
      "execution_count": 4,
      "metadata": {
        "id": "n91pKQWKeWhe",
        "outputId": "b66d0e16-c759-4193-b5d7-bf7cd39ac435",
        "colab": {
          "base_uri": "https://localhost:8080/"
        }
      },
      "outputs": [
        {
          "output_type": "stream",
          "name": "stdout",
          "text": [
            "At each step it returns:\n",
            "new observation code: [ 0.00234866 -0.38523322 -0.01519928  0.55564266]\n",
            "reward: 1.0\n",
            "is game over?: False\n"
          ]
        }
      ],
      "source": [
        "# print(\"Initial observation:\", tmp_env.reset())\n",
        "new_s, reward, terminated, truncated, _ = tmp_env.step(0)\n",
        "# new_s, reward, done, _ = tmp_env.step(0)\n",
        "print(\"At each step it returns:\")\n",
        "\n",
        "print(\"new observation code:\", new_s)\n",
        "print(\"reward:\", reward)\n",
        "print(\"is game over?:\", done)"
      ]
    },
    {
      "cell_type": "markdown",
      "metadata": {
        "id": "c4LdxDQKeWhf"
      },
      "source": [
        "### Display an episode"
      ]
    },
    {
      "cell_type": "code",
      "execution_count": 5,
      "metadata": {
        "id": "kSh4FGy_eWhf"
      },
      "outputs": [],
      "source": [
        "def display_session(env, agent, t_max=500):\n",
        "    total_reward = 0\n",
        "    plt.figure(figsize=(4, 3))\n",
        "    display.clear_output(wait=True)\n",
        "\n",
        "    s = env.reset()[0]\n",
        "\n",
        "    for t in range(t_max):\n",
        "        plt.gca().clear()\n",
        "\n",
        "        a = agent.get_action(torch.tensor(s).float())\n",
        "        new_s, r, done, truncated, _ = env.step(a)\n",
        "        s = new_s\n",
        "        total_reward += r\n",
        "        # Draw game image on display.\n",
        "        plt.imshow(env.render())\n",
        "\n",
        "        display.display(plt.gcf())\n",
        "        display.clear_output(wait=True)\n",
        "\n",
        "        if done or truncated:\n",
        "            break\n",
        "\n",
        "    return total_reward"
      ]
    },
    {
      "cell_type": "markdown",
      "metadata": {
        "id": "Ibdu_zEbeWhg"
      },
      "source": [
        "### Random policy"
      ]
    },
    {
      "cell_type": "code",
      "execution_count": 6,
      "metadata": {
        "id": "tlmjpJl2eWhg"
      },
      "outputs": [],
      "source": [
        "class RandomPolicy:\n",
        "    def __init__(self, n_actions):\n",
        "        self.n_actions = n_actions\n",
        "\n",
        "    def get_action(self, state):\n",
        "        return np.random.choice(self.n_actions)"
      ]
    },
    {
      "cell_type": "code",
      "execution_count": 7,
      "metadata": {
        "id": "_IcD3enEeWhh",
        "outputId": "f3e81aee-386d-49d5-f924-cdf9ab481437",
        "colab": {
          "base_uri": "https://localhost:8080/",
          "height": 289
        }
      },
      "outputs": [
        {
          "output_type": "stream",
          "name": "stdout",
          "text": [
            "Total reward:  14.0\n"
          ]
        },
        {
          "output_type": "display_data",
          "data": {
            "text/plain": [
              "<Figure size 400x300 with 1 Axes>"
            ],
            "image/png": "[encoded data removed]"
          },
          "metadata": {}
        }
      ],
      "source": [
        "total_reward = display_session(tmp_env, RandomPolicy(n_actions), t_max=10**4)\n",
        "print('Total reward: ', total_reward)"
      ]
    },
    {
      "cell_type": "markdown",
      "metadata": {
        "id": "dpOQdFBSeWhh"
      },
      "source": [
        "# The challenge of the day"
      ]
    },
    {
      "cell_type": "markdown",
      "metadata": {
        "id": "CbYm95fUeWhh"
      },
      "source": [
        "![Algorithm](https://i.ibb.co/zFm6BrB/Screenshot-from-2021-09-17-13-38-00.png)"
      ]
    },
    {
      "cell_type": "markdown",
      "metadata": {
        "id": "thzYU-DVeWhh"
      },
      "source": [
        "### Model evaluation"
      ]
    },
    {
      "cell_type": "code",
      "execution_count": 8,
      "metadata": {
        "id": "7LqbSiMueWhi"
      },
      "outputs": [],
      "source": [
        "def generate_session(env, agent, t_max=500):\n",
        "    total_reward = 0\n",
        "    s = env.reset()[0]\n",
        "\n",
        "    for t in range(t_max):\n",
        "        a = agent.get_action(torch.tensor(s).float())\n",
        "        new_s, r, done, truncated, info = env.step(a)\n",
        "        total_reward += r\n",
        "        s = new_s\n",
        "\n",
        "        if done or truncated:\n",
        "            break\n",
        "\n",
        "    return total_reward\n",
        "\n",
        "\n",
        "def score(env, agent, n=10, t_max=500):\n",
        "    return np.mean([generate_session(env, agent, t_max) for _ in range(n)])"
      ]
    },
    {
      "cell_type": "markdown",
      "metadata": {
        "id": "P8buKQU9eWhi"
      },
      "source": [
        "### Modification of the model using a noise"
      ]
    },
    {
      "cell_type": "code",
      "source": [
        "state_size"
      ],
      "metadata": {
        "id": "unouRRQrq8rM",
        "outputId": "a36f1555-ba5a-438d-8c03-2e298670cec9",
        "colab": {
          "base_uri": "https://localhost:8080/"
        }
      },
      "execution_count": 9,
      "outputs": [
        {
          "output_type": "execute_result",
          "data": {
            "text/plain": [
              "4"
            ]
          },
          "metadata": {},
          "execution_count": 9
        }
      ]
    },
    {
      "cell_type": "code",
      "source": [
        "import torch\n",
        "import torch.nn as nn\n",
        "import torch.nn.functional as F\n",
        "\n",
        "model = nn.Sequential(\n",
        "    nn.Linear(state_size, 10),\n",
        "    nn.ReLU(),\n",
        "    nn.Linear(10, n_actions)\n",
        ")"
      ],
      "metadata": {
        "id": "jD5U79wNqeZn"
      },
      "execution_count": 10,
      "outputs": []
    },
    {
      "cell_type": "code",
      "source": [
        "params_vector = torch.cat([p.view(-1) for p in model.parameters()])\n",
        "params_vector.shape"
      ],
      "metadata": {
        "id": "QF04v4l9qkPs",
        "outputId": "e3cb7b39-c2c5-404b-a97a-69636b4fbfe3",
        "colab": {
          "base_uri": "https://localhost:8080/"
        }
      },
      "execution_count": 11,
      "outputs": [
        {
          "output_type": "execute_result",
          "data": {
            "text/plain": [
              "torch.Size([72])"
            ]
          },
          "metadata": {},
          "execution_count": 11
        }
      ]
    },
    {
      "cell_type": "code",
      "execution_count": 12,
      "metadata": {
        "id": "3l2iLcDfeWhi"
      },
      "outputs": [],
      "source": [
        "def add_noise_to_model(model, noise, copy=False):\n",
        "    \"\"\"\n",
        "    Добавляет одномерный шум к параметрам модели.\n",
        "\n",
        "    :param model: модель, к которой добавляется шум\n",
        "    :param noise: одномерный шум, добавляемый к параметрам модели\n",
        "    :param copy: если True, то создается копия модели (по умолчанию False)\n",
        "    :return: зашумленная модель\n",
        "    \"\"\"\n",
        "    if copy:\n",
        "        model = deepcopy(model)\n",
        "\n",
        "    model_params_raveled = torch.cat([p.view(-1) for p in model.parameters()])\n",
        "\n",
        "    with torch.no_grad():\n",
        "        model_params_raveled += noise\n",
        "\n",
        "        idx = 0\n",
        "        for param in model.parameters():\n",
        "            param_length = param.numel()  # Размер параметра\n",
        "            param.data = model_params_raveled[idx:idx + param_length].view(param.shape)\n",
        "            idx += param_length\n",
        "\n",
        "    return model"
      ]
    },
    {
      "cell_type": "code",
      "source": [
        "from sklearn.preprocessing import StandardScaler\n",
        "scaler = StandardScaler()\n",
        "def normalize_reward(rewards):\n",
        "  return scaler.fit_transform(np.array(rewards).reshape(-1, 1)).squeeze()"
      ],
      "metadata": {
        "id": "5aKGawzawL_F"
      },
      "execution_count": 13,
      "outputs": []
    },
    {
      "cell_type": "code",
      "source": [
        "normalize_reward([1, 2, 3, 4])"
      ],
      "metadata": {
        "id": "k3C1YVC8wePr",
        "outputId": "eec9516a-f1ff-413d-c04a-aa0d70ed10c3",
        "colab": {
          "base_uri": "https://localhost:8080/"
        }
      },
      "execution_count": 14,
      "outputs": [
        {
          "output_type": "execute_result",
          "data": {
            "text/plain": [
              "array([-1.34164079, -0.4472136 ,  0.4472136 ,  1.34164079])"
            ]
          },
          "metadata": {},
          "execution_count": 14
        }
      ]
    },
    {
      "cell_type": "markdown",
      "metadata": {
        "id": "JBs7AIWteWhi"
      },
      "source": [
        "### Controller of the evolution\n",
        "\n",
        "#### Task 1: Implement the algorithm"
      ]
    },
    {
      "cell_type": "code",
      "execution_count": 15,
      "metadata": {
        "id": "FT6KpaWQeWhj"
      },
      "outputs": [],
      "source": [
        "class EvolutionManager:\n",
        "    def __init__(self, get_env_function, lr=0.001, std=0.01, n_samples = 64, normalize=False, early_stopper=None):\n",
        "        super().__init__()\n",
        "\n",
        "        self.lr = lr\n",
        "        self.std = std\n",
        "        self.normalize = normalize\n",
        "        self.n_samples = n_samples\n",
        "        self.mean_reward_history = []\n",
        "        self.early_stopper = early_stopper\n",
        "\n",
        "        self.env = get_env_function()\n",
        "\n",
        "    def get_noised_model(self, model):\n",
        "        noised_model = deepcopy(model)\n",
        "        with torch.no_grad():\n",
        "          for param in noised_model.parameters():\n",
        "              param += self.std * torch.randn_like(param)\n",
        "        return noised_model\n",
        "\n",
        "    def optimize(self, model, noises, rewards):\n",
        "        if self.normalize:\n",
        "          rewards = normalize_reward(rewards)\n",
        "\n",
        "        with torch.no_grad():\n",
        "          model_params_raveled = torch.cat([p.view(-1) for p in model.parameters()])\n",
        "          for i in range(len(noises)):\n",
        "            model_params_raveled += self.lr / (self.n_samples * self.std) * rewards[i] * noises[i]\n",
        "\n",
        "        idx = 0\n",
        "        for param in model.parameters():\n",
        "            param_length = param.numel()  # Количество элементов в параметре\n",
        "            param.data = model_params_raveled[idx:idx + param_length].view(param.shape)\n",
        "            idx += param_length\n",
        "\n",
        "    def validation_step(self, model):\n",
        "        val_reward = score(self.env, model, 15)\n",
        "\n",
        "    def step(self, model):\n",
        "        with torch.no_grad():\n",
        "          rewards = torch.zeros(self.n_samples)\n",
        "          model_params_raveled = torch.cat([p.view(-1) for p in model.parameters()])\n",
        "\n",
        "          noises = torch.tensor(np.random.randn(self.n_samples, model_params_raveled.numel()))\n",
        "\n",
        "          for i in range(self.n_samples):\n",
        "            noised_model = add_noise_to_model(model, noises[i], copy=True)\n",
        "            rewards[i] = score(self.env, noised_model)\n",
        "\n",
        "          # self.update_log(np.array(rewards))\n",
        "          self.optimize(model, noises, rewards)\n",
        "\n",
        "          val_loss = self.validation_step(model)\n",
        "          self.update_log(np.array(rewards), val_loss=val_loss)\n",
        "\n",
        "          if self.early_stopper is not None:\n",
        "            if self.early_stopper(val_loss):\n",
        "              print(\"Early stopping\")\n",
        "              return False\n",
        "\n",
        "\n",
        "\n",
        "    def update_log(self, rewards, val_loss=None):\n",
        "        mean_reward = np.mean(rewards)\n",
        "        self.mean_reward_history.append(mean_reward)\n",
        "\n",
        "        clear_output(True)\n",
        "        print(\"last mean reward = %.3f\" % mean_reward)\n",
        "        plt.figure(figsize=[8, 4])\n",
        "        plt.subplot(1, 3, 2)\n",
        "        plt.plot(self.mean_reward_history, label='Mean rewards')\n",
        "        plt.legend()\n",
        "        plt.grid()\n",
        "\n",
        "        plt.subplot(1, 3, 3)\n",
        "        plt.hist(rewards)\n",
        "        plt.grid()\n",
        "\n",
        "        plt.show()\n"
      ]
    },
    {
      "cell_type": "markdown",
      "metadata": {
        "id": "Yyq19p29eWhj"
      },
      "source": [
        "#### Task 2: Implement a neural network-based policy"
      ]
    },
    {
      "cell_type": "markdown",
      "metadata": {
        "id": "tEhDeKfleWhj"
      },
      "source": [
        "### Neural policy"
      ]
    },
    {
      "cell_type": "code",
      "source": [
        "!pip install lightning"
      ],
      "metadata": {
        "collapsed": true,
        "id": "FvB0omFG0uRl",
        "outputId": "adba537d-868d-4805-ecbb-a3a7707b59d1",
        "colab": {
          "base_uri": "https://localhost:8080/"
        }
      },
      "execution_count": 16,
      "outputs": [
        {
          "output_type": "stream",
          "name": "stdout",
          "text": [
            "Collecting lightning\n",
            "  Downloading lightning-2.5.1-py3-none-any.whl.metadata (39 kB)\n",
            "Requirement already satisfied: PyYAML<8.0,>=5.4 in /usr/local/lib/python3.11/dist-packages (from lightning) (6.0.2)\n",
            "Requirement already satisfied: fsspec<2026.0,>=2022.5.0 in /usr/local/lib/python3.11/dist-packages (from fsspec[http]<2026.0,>=2022.5.0->lightning) (2025.3.0)\n",
            "Collecting lightning-utilities<2.0,>=0.10.0 (from lightning)\n",
            "  Downloading lightning_utilities-0.14.2-py3-none-any.whl.metadata (5.6 kB)\n",
            "Requirement already satisfied: packaging<25.0,>=20.0 in /usr/local/lib/python3.11/dist-packages (from lightning) (24.2)\n",
            "Requirement already satisfied: torch<4.0,>=2.1.0 in /usr/local/lib/python3.11/dist-packages (from lightning) (2.6.0+cu124)\n",
            "Collecting torchmetrics<3.0,>=0.7.0 (from lightning)\n",
            "  Downloading torchmetrics-1.7.0-py3-none-any.whl.metadata (21 kB)\n",
            "Requirement already satisfied: tqdm<6.0,>=4.57.0 in /usr/local/lib/python3.11/dist-packages (from lightning) (4.67.1)\n",
            "Requirement already satisfied: typing-extensions<6.0,>=4.4.0 in /usr/local/lib/python3.11/dist-packages (from lightning) (4.12.2)\n",
            "Collecting pytorch-lightning (from lightning)\n",
            "  Downloading pytorch_lightning-2.5.1-py3-none-any.whl.metadata (20 kB)\n",
            "Requirement already satisfied: aiohttp!=4.0.0a0,!=4.0.0a1 in /usr/local/lib/python3.11/dist-packages (from fsspec[http]<2026.0,>=2022.5.0->lightning) (3.11.14)\n",
            "Requirement already satisfied: setuptools in /usr/local/lib/python3.11/dist-packages (from lightning-utilities<2.0,>=0.10.0->lightning) (75.1.0)\n",
            "Requirement already satisfied: filelock in /usr/local/lib/python3.11/dist-packages (from torch<4.0,>=2.1.0->lightning) (3.18.0)\n",
            "Requirement already satisfied: networkx in /usr/local/lib/python3.11/dist-packages (from torch<4.0,>=2.1.0->lightning) (3.4.2)\n",
            "Requirement already satisfied: jinja2 in /usr/local/lib/python3.11/dist-packages (from torch<4.0,>=2.1.0->lightning) (3.1.6)\n",
            "Collecting nvidia-cuda-nvrtc-cu12==12.4.127 (from torch<4.0,>=2.1.0->lightning)\n",
            "  Downloading nvidia_cuda_nvrtc_cu12-12.4.127-py3-none-manylinux2014_x86_64.whl.metadata (1.5 kB)\n",
            "Collecting nvidia-cuda-runtime-cu12==12.4.127 (from torch<4.0,>=2.1.0->lightning)\n",
            "  Downloading nvidia_cuda_runtime_cu12-12.4.127-py3-none-manylinux2014_x86_64.whl.metadata (1.5 kB)\n",
            "Collecting nvidia-cuda-cupti-cu12==12.4.127 (from torch<4.0,>=2.1.0->lightning)\n",
            "  Downloading nvidia_cuda_cupti_cu12-12.4.127-py3-none-manylinux2014_x86_64.whl.metadata (1.6 kB)\n",
            "Collecting nvidia-cudnn-cu12==9.1.0.70 (from torch<4.0,>=2.1.0->lightning)\n",
            "  Downloading nvidia_cudnn_cu12-9.1.0.70-py3-none-manylinux2014_x86_64.whl.metadata (1.6 kB)\n",
            "Collecting nvidia-cublas-cu12==12.4.5.8 (from torch<4.0,>=2.1.0->lightning)\n",
            "  Downloading nvidia_cublas_cu12-12.4.5.8-py3-none-manylinux2014_x86_64.whl.metadata (1.5 kB)\n",
            "Collecting nvidia-cufft-cu12==11.2.1.3 (from torch<4.0,>=2.1.0->lightning)\n",
            "  Downloading nvidia_cufft_cu12-11.2.1.3-py3-none-manylinux2014_x86_64.whl.metadata (1.5 kB)\n",
            "Collecting nvidia-curand-cu12==10.3.5.147 (from torch<4.0,>=2.1.0->lightning)\n",
            "  Downloading nvidia_curand_cu12-10.3.5.147-py3-none-manylinux2014_x86_64.whl.metadata (1.5 kB)\n",
            "Collecting nvidia-cusolver-cu12==11.6.1.9 (from torch<4.0,>=2.1.0->lightning)\n",
            "  Downloading nvidia_cusolver_cu12-11.6.1.9-py3-none-manylinux2014_x86_64.whl.metadata (1.6 kB)\n",
            "Collecting nvidia-cusparse-cu12==12.3.1.170 (from torch<4.0,>=2.1.0->lightning)\n",
            "  Downloading nvidia_cusparse_cu12-12.3.1.170-py3-none-manylinux2014_x86_64.whl.metadata (1.6 kB)\n",
            "Requirement already satisfied: nvidia-cusparselt-cu12==0.6.2 in /usr/local/lib/python3.11/dist-packages (from torch<4.0,>=2.1.0->lightning) (0.6.2)\n",
            "Requirement already satisfied: nvidia-nccl-cu12==2.21.5 in /usr/local/lib/python3.11/dist-packages (from torch<4.0,>=2.1.0->lightning) (2.21.5)\n",
            "Requirement already satisfied: nvidia-nvtx-cu12==12.4.127 in /usr/local/lib/python3.11/dist-packages (from torch<4.0,>=2.1.0->lightning) (12.4.127)\n",
            "Collecting nvidia-nvjitlink-cu12==12.4.127 (from torch<4.0,>=2.1.0->lightning)\n",
            "  Downloading nvidia_nvjitlink_cu12-12.4.127-py3-none-manylinux2014_x86_64.whl.metadata (1.5 kB)\n",
            "Requirement already satisfied: triton==3.2.0 in /usr/local/lib/python3.11/dist-packages (from torch<4.0,>=2.1.0->lightning) (3.2.0)\n",
            "Requirement already satisfied: sympy==1.13.1 in /usr/local/lib/python3.11/dist-packages (from torch<4.0,>=2.1.0->lightning) (1.13.1)\n",
            "Requirement already satisfied: mpmath<1.4,>=1.1.0 in /usr/local/lib/python3.11/dist-packages (from sympy==1.13.1->torch<4.0,>=2.1.0->lightning) (1.3.0)\n",
            "Requirement already satisfied: numpy>1.20.0 in /usr/local/lib/python3.11/dist-packages (from torchmetrics<3.0,>=0.7.0->lightning) (2.0.2)\n",
            "Requirement already satisfied: aiohappyeyeballs>=2.3.0 in /usr/local/lib/python3.11/dist-packages (from aiohttp!=4.0.0a0,!=4.0.0a1->fsspec[http]<2026.0,>=2022.5.0->lightning) (2.6.1)\n",
            "Requirement already satisfied: aiosignal>=1.1.2 in /usr/local/lib/python3.11/dist-packages (from aiohttp!=4.0.0a0,!=4.0.0a1->fsspec[http]<2026.0,>=2022.5.0->lightning) (1.3.2)\n",
            "Requirement already satisfied: attrs>=17.3.0 in /usr/local/lib/python3.11/dist-packages (from aiohttp!=4.0.0a0,!=4.0.0a1->fsspec[http]<2026.0,>=2022.5.0->lightning) (25.3.0)\n",
            "Requirement already satisfied: frozenlist>=1.1.1 in /usr/local/lib/python3.11/dist-packages (from aiohttp!=4.0.0a0,!=4.0.0a1->fsspec[http]<2026.0,>=2022.5.0->lightning) (1.5.0)\n",
            "Requirement already satisfied: multidict<7.0,>=4.5 in /usr/local/lib/python3.11/dist-packages (from aiohttp!=4.0.0a0,!=4.0.0a1->fsspec[http]<2026.0,>=2022.5.0->lightning) (6.2.0)\n",
            "Requirement already satisfied: propcache>=0.2.0 in /usr/local/lib/python3.11/dist-packages (from aiohttp!=4.0.0a0,!=4.0.0a1->fsspec[http]<2026.0,>=2022.5.0->lightning) (0.3.0)\n",
            "Requirement already satisfied: yarl<2.0,>=1.17.0 in /usr/local/lib/python3.11/dist-packages (from aiohttp!=4.0.0a0,!=4.0.0a1->fsspec[http]<2026.0,>=2022.5.0->lightning) (1.18.3)\n",
            "Requirement already satisfied: MarkupSafe>=2.0 in /usr/local/lib/python3.11/dist-packages (from jinja2->torch<4.0,>=2.1.0->lightning) (3.0.2)\n",
            "Requirement already satisfied: idna>=2.0 in /usr/local/lib/python3.11/dist-packages (from yarl<2.0,>=1.17.0->aiohttp!=4.0.0a0,!=4.0.0a1->fsspec[http]<2026.0,>=2022.5.0->lightning) (3.10)\n",
            "Downloading lightning-2.5.1-py3-none-any.whl (818 kB)\n",
            "\u001b[2K   \u001b[90m━━━━━━━━━━━━━━━━━━━━━━━━━━━━━━━━━━━━━━━━\u001b[0m \u001b[32m818.9/818.9 kB\u001b[0m \u001b[31m22.3 MB/s\u001b[0m eta \u001b[36m0:00:00\u001b[0m\n",
            "\u001b[?25hDownloading lightning_utilities-0.14.2-py3-none-any.whl (28 kB)\n",
            "Downloading nvidia_cublas_cu12-12.4.5.8-py3-none-manylinux2014_x86_64.whl (363.4 MB)\n",
            "\u001b[2K   \u001b[90m━━━━━━━━━━━━━━━━━━━━━━━━━━━━━━━━━━━━━━━━\u001b[0m \u001b[32m363.4/363.4 MB\u001b[0m \u001b[31m1.5 MB/s\u001b[0m eta \u001b[36m0:00:00\u001b[0m\n",
            "\u001b[?25hDownloading nvidia_cuda_cupti_cu12-12.4.127-py3-none-manylinux2014_x86_64.whl (13.8 MB)\n",
            "\u001b[2K   \u001b[90m━━━━━━━━━━━━━━━━━━━━━━━━━━━━━━━━━━━━━━━━\u001b[0m \u001b[32m13.8/13.8 MB\u001b[0m \u001b[31m91.2 MB/s\u001b[0m eta \u001b[36m0:00:00\u001b[0m\n",
            "\u001b[?25hDownloading nvidia_cuda_nvrtc_cu12-12.4.127-py3-none-manylinux2014_x86_64.whl (24.6 MB)\n",
            "\u001b[2K   \u001b[90m━━━━━━━━━━━━━━━━━━━━━━━━━━━━━━━━━━━━━━━━\u001b[0m \u001b[32m24.6/24.6 MB\u001b[0m \u001b[31m66.8 MB/s\u001b[0m eta \u001b[36m0:00:00\u001b[0m\n",
            "\u001b[?25hDownloading nvidia_cuda_runtime_cu12-12.4.127-py3-none-manylinux2014_x86_64.whl (883 kB)\n",
            "\u001b[2K   \u001b[90m━━━━━━━━━━━━━━━━━━━━━━━━━━━━━━━━━━━━━━━━\u001b[0m \u001b[32m883.7/883.7 kB\u001b[0m \u001b[31m48.4 MB/s\u001b[0m eta \u001b[36m0:00:00\u001b[0m\n",
            "\u001b[?25hDownloading nvidia_cudnn_cu12-9.1.0.70-py3-none-manylinux2014_x86_64.whl (664.8 MB)\n",
            "\u001b[2K   \u001b[90m━━━━━━━━━━━━━━━━━━━━━━━━━━━━━━━━━━━━━━━━\u001b[0m \u001b[32m664.8/664.8 MB\u001b[0m \u001b[31m897.9 kB/s\u001b[0m eta \u001b[36m0:00:00\u001b[0m\n",
            "\u001b[?25hDownloading nvidia_cufft_cu12-11.2.1.3-py3-none-manylinux2014_x86_64.whl (211.5 MB)\n",
            "\u001b[2K   \u001b[90m━━━━━━━━━━━━━━━━━━━━━━━━━━━━━━━━━━━━━━━━\u001b[0m \u001b[32m211.5/211.5 MB\u001b[0m \u001b[31m6.3 MB/s\u001b[0m eta \u001b[36m0:00:00\u001b[0m\n",
            "\u001b[?25hDownloading nvidia_curand_cu12-10.3.5.147-py3-none-manylinux2014_x86_64.whl (56.3 MB)\n",
            "\u001b[2K   \u001b[90m━━━━━━━━━━━━━━━━━━━━━━━━━━━━━━━━━━━━━━━━\u001b[0m \u001b[32m56.3/56.3 MB\u001b[0m \u001b[31m12.1 MB/s\u001b[0m eta \u001b[36m0:00:00\u001b[0m\n",
            "\u001b[?25hDownloading nvidia_cusolver_cu12-11.6.1.9-py3-none-manylinux2014_x86_64.whl (127.9 MB)\n",
            "\u001b[2K   \u001b[90m━━━━━━━━━━━━━━━━━━━━━━━━━━━━━━━━━━━━━━━━\u001b[0m \u001b[32m127.9/127.9 MB\u001b[0m \u001b[31m7.5 MB/s\u001b[0m eta \u001b[36m0:00:00\u001b[0m\n",
            "\u001b[?25hDownloading nvidia_cusparse_cu12-12.3.1.170-py3-none-manylinux2014_x86_64.whl (207.5 MB)\n",
            "\u001b[2K   \u001b[90m━━━━━━━━━━━━━━━━━━━━━━━━━━━━━━━━━━━━━━━━\u001b[0m \u001b[32m207.5/207.5 MB\u001b[0m \u001b[31m5.8 MB/s\u001b[0m eta \u001b[36m0:00:00\u001b[0m\n",
            "\u001b[?25hDownloading nvidia_nvjitlink_cu12-12.4.127-py3-none-manylinux2014_x86_64.whl (21.1 MB)\n",
            "\u001b[2K   \u001b[90m━━━━━━━━━━━━━━━━━━━━━━━━━━━━━━━━━━━━━━━━\u001b[0m \u001b[32m21.1/21.1 MB\u001b[0m \u001b[31m82.0 MB/s\u001b[0m eta \u001b[36m0:00:00\u001b[0m\n",
            "\u001b[?25hDownloading torchmetrics-1.7.0-py3-none-any.whl (960 kB)\n",
            "\u001b[2K   \u001b[90m━━━━━━━━━━━━━━━━━━━━━━━━━━━━━━━━━━━━━━━━\u001b[0m \u001b[32m960.9/960.9 kB\u001b[0m \u001b[31m42.9 MB/s\u001b[0m eta \u001b[36m0:00:00\u001b[0m\n",
            "\u001b[?25hDownloading pytorch_lightning-2.5.1-py3-none-any.whl (822 kB)\n",
            "\u001b[2K   \u001b[90m━━━━━━━━━━━━━━━━━━━━━━━━━━━━━━━━━━━━━━━━\u001b[0m \u001b[32m823.0/823.0 kB\u001b[0m \u001b[31m47.2 MB/s\u001b[0m eta \u001b[36m0:00:00\u001b[0m\n",
            "\u001b[?25hInstalling collected packages: nvidia-nvjitlink-cu12, nvidia-curand-cu12, nvidia-cufft-cu12, nvidia-cuda-runtime-cu12, nvidia-cuda-nvrtc-cu12, nvidia-cuda-cupti-cu12, nvidia-cublas-cu12, lightning-utilities, nvidia-cusparse-cu12, nvidia-cudnn-cu12, nvidia-cusolver-cu12, torchmetrics, pytorch-lightning, lightning\n",
            "  Attempting uninstall: nvidia-nvjitlink-cu12\n",
            "    Found existing installation: nvidia-nvjitlink-cu12 12.5.82\n",
            "    Uninstalling nvidia-nvjitlink-cu12-12.5.82:\n",
            "      Successfully uninstalled nvidia-nvjitlink-cu12-12.5.82\n",
            "  Attempting uninstall: nvidia-curand-cu12\n",
            "    Found existing installation: nvidia-curand-cu12 10.3.6.82\n",
            "    Uninstalling nvidia-curand-cu12-10.3.6.82:\n",
            "      Successfully uninstalled nvidia-curand-cu12-10.3.6.82\n",
            "  Attempting uninstall: nvidia-cufft-cu12\n",
            "    Found existing installation: nvidia-cufft-cu12 11.2.3.61\n",
            "    Uninstalling nvidia-cufft-cu12-11.2.3.61:\n",
            "      Successfully uninstalled nvidia-cufft-cu12-11.2.3.61\n",
            "  Attempting uninstall: nvidia-cuda-runtime-cu12\n",
            "    Found existing installation: nvidia-cuda-runtime-cu12 12.5.82\n",
            "    Uninstalling nvidia-cuda-runtime-cu12-12.5.82:\n",
            "      Successfully uninstalled nvidia-cuda-runtime-cu12-12.5.82\n",
            "  Attempting uninstall: nvidia-cuda-nvrtc-cu12\n",
            "    Found existing installation: nvidia-cuda-nvrtc-cu12 12.5.82\n",
            "    Uninstalling nvidia-cuda-nvrtc-cu12-12.5.82:\n",
            "      Successfully uninstalled nvidia-cuda-nvrtc-cu12-12.5.82\n",
            "  Attempting uninstall: nvidia-cuda-cupti-cu12\n",
            "    Found existing installation: nvidia-cuda-cupti-cu12 12.5.82\n",
            "    Uninstalling nvidia-cuda-cupti-cu12-12.5.82:\n",
            "      Successfully uninstalled nvidia-cuda-cupti-cu12-12.5.82\n",
            "  Attempting uninstall: nvidia-cublas-cu12\n",
            "    Found existing installation: nvidia-cublas-cu12 12.5.3.2\n",
            "    Uninstalling nvidia-cublas-cu12-12.5.3.2:\n",
            "      Successfully uninstalled nvidia-cublas-cu12-12.5.3.2\n",
            "  Attempting uninstall: nvidia-cusparse-cu12\n",
            "    Found existing installation: nvidia-cusparse-cu12 12.5.1.3\n",
            "    Uninstalling nvidia-cusparse-cu12-12.5.1.3:\n",
            "      Successfully uninstalled nvidia-cusparse-cu12-12.5.1.3\n",
            "  Attempting uninstall: nvidia-cudnn-cu12\n",
            "    Found existing installation: nvidia-cudnn-cu12 9.3.0.75\n",
            "    Uninstalling nvidia-cudnn-cu12-9.3.0.75:\n",
            "      Successfully uninstalled nvidia-cudnn-cu12-9.3.0.75\n",
            "  Attempting uninstall: nvidia-cusolver-cu12\n",
            "    Found existing installation: nvidia-cusolver-cu12 11.6.3.83\n",
            "    Uninstalling nvidia-cusolver-cu12-11.6.3.83:\n",
            "      Successfully uninstalled nvidia-cusolver-cu12-11.6.3.83\n",
            "Successfully installed lightning-2.5.1 lightning-utilities-0.14.2 nvidia-cublas-cu12-12.4.5.8 nvidia-cuda-cupti-cu12-12.4.127 nvidia-cuda-nvrtc-cu12-12.4.127 nvidia-cuda-runtime-cu12-12.4.127 nvidia-cudnn-cu12-9.1.0.70 nvidia-cufft-cu12-11.2.1.3 nvidia-curand-cu12-10.3.5.147 nvidia-cusolver-cu12-11.6.1.9 nvidia-cusparse-cu12-12.3.1.170 nvidia-nvjitlink-cu12-12.4.127 pytorch-lightning-2.5.1 torchmetrics-1.7.0\n"
          ]
        }
      ]
    },
    {
      "cell_type": "code",
      "execution_count": 66,
      "metadata": {
        "id": "g80718azeWhj"
      },
      "outputs": [],
      "source": [
        "class MLPPolicy(L.LightningModule):\n",
        "    def __init__(self, state_size, n_actions, hidden_state_size=10):\n",
        "        super().__init__()\n",
        "        self.model = nn.Sequential(\n",
        "            nn.Linear(state_size, hidden_state_size),\n",
        "            nn.ReLU(),\n",
        "            nn.Linear(hidden_state_size, n_actions),\n",
        "            nn.Softmax(dim=-1)\n",
        "        )\n",
        "\n",
        "    def get_action(self, state):\n",
        "        probs = self.model(state)\n",
        "        return np.random.choice(n_actions, p=probs.detach().numpy())\n",
        "\n",
        "    def validation_step(self, env, n = 15, t_max=500):\n",
        "        val_reward = score(self.env, self.model, n=n, t_max=t_max)\n",
        "        self.log('val_reward', val_reward)\n",
        "        return val_reward"
      ]
    },
    {
      "cell_type": "markdown",
      "metadata": {
        "id": "lP1kXISJeWhj"
      },
      "source": [
        "### Environment 1: CartPole-v0"
      ]
    },
    {
      "cell_type": "code",
      "execution_count": 68,
      "metadata": {
        "id": "5Jkg6Wl1eWhk"
      },
      "outputs": [],
      "source": [
        "def get_env_function():\n",
        "    env = gym.make('CartPole-v0').env\n",
        "    return env"
      ]
    },
    {
      "cell_type": "markdown",
      "source": [
        "**Initialize Early Stopper**"
      ],
      "metadata": {
        "id": "XjtAVOtB4RAx"
      }
    },
    {
      "cell_type": "code",
      "source": [
        "import lightning as L\n",
        "from lightning.pytorch.callbacks import EarlyStopping\n",
        "\n",
        "early_stopping = EarlyStopping(monitor=\"val_reward\", patience=5)"
      ],
      "metadata": {
        "id": "op9wNIHr4aCf"
      },
      "execution_count": 17,
      "outputs": []
    },
    {
      "cell_type": "code",
      "source": [],
      "metadata": {
        "id": "QxeNN6AG5PP7",
        "outputId": "15ddd4d4-4864-406a-a66d-0162c04e5762",
        "colab": {
          "base_uri": "https://localhost:8080/",
          "height": 141
        }
      },
      "execution_count": 19,
      "outputs": [
        {
          "output_type": "error",
          "ename": "TypeError",
          "evalue": "'EarlyStopping' object is not callable",
          "traceback": [
            "\u001b[0;31m---------------------------------------------------------------------------\u001b[0m",
            "\u001b[0;31mTypeError\u001b[0m                                 Traceback (most recent call last)",
            "\u001b[0;32m<ipython-input-19-549a4a0346a2>\u001b[0m in \u001b[0;36m<cell line: 0>\u001b[0;34m()\u001b[0m\n\u001b[0;32m----> 1\u001b[0;31m \u001b[0mearly_stopping\u001b[0m\u001b[0;34m(\u001b[0m\u001b[0;36m10\u001b[0m\u001b[0;34m)\u001b[0m\u001b[0;34m\u001b[0m\u001b[0;34m\u001b[0m\u001b[0m\n\u001b[0m",
            "\u001b[0;31mTypeError\u001b[0m: 'EarlyStopping' object is not callable"
          ]
        }
      ]
    },
    {
      "cell_type": "code",
      "execution_count": 69,
      "metadata": {
        "id": "eE6W4uoEeWhk"
      },
      "outputs": [],
      "source": [
        "n_states = tmp_env.observation_space.shape[0]\n",
        "n_actions = tmp_env.action_space.n\n",
        "model = MLPPolicy(n_states, n_actions, 20)"
      ]
    },
    {
      "cell_type": "code",
      "execution_count": 70,
      "metadata": {
        "id": "BrqDgb6neWhk",
        "outputId": "06f7f72a-cea8-4797-b815-bf972a15e6a8",
        "colab": {
          "base_uri": "https://localhost:8080/",
          "height": 406
        }
      },
      "outputs": [
        {
          "output_type": "stream",
          "name": "stdout",
          "text": [
            "last mean reward = 14.391\n"
          ]
        },
        {
          "output_type": "display_data",
          "data": {
            "text/plain": [
              "<Figure size 800x400 with 2 Axes>"
            ],
            "image/png": "[encoded data removed]"
          },
          "metadata": {}
        },
        {
          "output_type": "stream",
          "name": "stdout",
          "text": [
            "6.673166036605835\n"
          ]
        }
      ],
      "source": [
        "algorithm = EvolutionManager(get_env_function, n_samples=200, early_stopper=early_stopping)\n",
        "\n",
        "for i in range(100):\n",
        "    t = time.time()\n",
        "    algorithm.step(model)\n",
        "    print(time.time() - t)"
      ]
    },
    {
      "cell_type": "markdown",
      "metadata": {
        "id": "1FY72Kg3eWhl"
      },
      "source": [
        "#### Task 3: Implement and compare the parallelized version of the algorithm"
      ]
    },
    {
      "cell_type": "code",
      "execution_count": null,
      "metadata": {
        "id": "E621s_8seWhl"
      },
      "outputs": [],
      "source": [
        "model = <>"
      ]
    },
    {
      "cell_type": "code",
      "execution_count": null,
      "metadata": {
        "id": "RGejb_SceWhl",
        "outputId": "3f4b08ae-8fe7-4b3c-ae74-ed6bb5f75f5a"
      },
      "outputs": [
        {
          "name": "stdout",
          "output_type": "stream",
          "text": [
            "last mean reward = 353.210\n"
          ]
        },
        {
          "data": {
            "image/png": "[encoded data removed]",
            "text/plain": [
              "<Figure size 576x288 with 2 Axes>"
            ]
          },
          "metadata": {
            "needs_background": "light"
          },
          "output_type": "display_data"
        },
        {
          "name": "stdout",
          "output_type": "stream",
          "text": [
            "26.267060041427612\n"
          ]
        }
      ],
      "source": [
        "algorithm = <>\n",
        "\n",
        "for i in range(15):\n",
        "    t = time.time()\n",
        "    algorithm.step(model)\n",
        "    print(time.time() - t)"
      ]
    },
    {
      "cell_type": "markdown",
      "metadata": {
        "id": "gXvwyv98eWhm"
      },
      "source": [
        "### Environment 2: LunarLanderContinuous-v2"
      ]
    },
    {
      "cell_type": "code",
      "execution_count": null,
      "metadata": {
        "id": "4oP5qc0XeWhm",
        "outputId": "10afa0a5-ed3a-4c7d-9eb0-f2f57d9873b3"
      },
      "outputs": [
        {
          "name": "stdout",
          "output_type": "stream",
          "text": [
            "last mean reward = 155.350\n"
          ]
        },
        {
          "data": {
            "image/png": "[encoded data removed]",
            "text/plain": [
              "<Figure size 576x288 with 2 Axes>"
            ]
          },
          "metadata": {
            "needs_background": "light"
          },
          "output_type": "display_data"
        }
      ],
      "source": [
        "def get_env_function():\n",
        "    env = gym.make('LunarLanderContinuous-v2').env\n",
        "    return env\n",
        "tmp_env = get_env_function()\n",
        "n_states = tmp_env.observation_space.shape[0]\n",
        "n_actions = tmp_env.action_space.shape[0]\n",
        "model = <>\n",
        "algorithm = <>\n",
        "for i in range(1000):\n",
        "    algorithm.step(model)"
      ]
    },
    {
      "cell_type": "code",
      "execution_count": null,
      "metadata": {
        "id": "SW1GjuRXeWhm",
        "outputId": "9f521dc1-97ad-4aaa-d591-af9cedf50f63"
      },
      "outputs": [
        {
          "data": {
            "text/plain": [
              "297.1928817226966"
            ]
          },
          "execution_count": 17,
          "metadata": {},
          "output_type": "execute_result"
        },
        {
          "data": {
            "image/png": "[encoded data removed]",
            "text/plain": [
              "<Figure size 288x216 with 1 Axes>"
            ]
          },
          "metadata": {
            "needs_background": "light"
          },
          "output_type": "display_data"
        }
      ],
      "source": [
        "display_session(tmp_env, model, t_max=500)"
      ]
    },
    {
      "cell_type": "markdown",
      "metadata": {
        "id": "yJI7Y9tWeWhn"
      },
      "source": [
        "### Task 3: Hyperparameter's analysis"
      ]
    },
    {
      "cell_type": "markdown",
      "metadata": {
        "id": "sthGqJbLeWhn"
      },
      "source": [
        "Now we are going to do some experimental analysis of the algorithm.\n",
        "\n",
        "Plan:\n",
        "- to learn something about the *std* parameter\n",
        "- to learn something about the *learning rate* parameter\n",
        "- to learn something about the *n_samples* parameter"
      ]
    },
    {
      "cell_type": "code",
      "execution_count": null,
      "metadata": {
        "id": "7eBmn92aeWhn"
      },
      "outputs": [],
      "source": []
    }
  ],
  "metadata": {
    "kernelspec": {
      "display_name": "Python 3",
      "language": "python",
      "name": "python3"
    },
    "language_info": {
      "codemirror_mode": {
        "name": "ipython",
        "version": 3
      },
      "file_extension": ".py",
      "mimetype": "text/x-python",
      "name": "python",
      "nbconvert_exporter": "python",
      "pygments_lexer": "ipython3",
      "version": "3.8.5"
    },
    "colab": {
      "provenance": []
    }
  },
  "nbformat": 4,
  "nbformat_minor": 0
}