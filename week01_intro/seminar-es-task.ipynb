{
  "cells": [
    {
      "cell_type": "markdown",
      "metadata": {
        "id": "WaibQmS2eWhT"
      },
      "source": [
        "## Evolution Strategies\n",
        "\n",
        "![img](https://t4.ftcdn.net/jpg/00/17/46/81/240_F_17468143_wY3hsHyfNYoMdG9BlC56HI4JA7pNu63h.jpg)\n",
        "\n",
        "[The paper about the algorithm](https://arxiv.org/abs/1703.03864)\n",
        "\n",
        "Plan:\n",
        "* Study how to use OpenAI gym\n",
        "* Basic prototype of evolutionary strategies that works in one thread on CartPole\n",
        "* Modify the code to make them work in parallel\n",
        "* Use the algorithm to solve the LunarLander\n",
        "* Analyse the influence of hyperparameters"
      ]
    },
    {
      "cell_type": "code",
      "source": [
        "!rm -rf roms"
      ],
      "metadata": {
        "id": "v7nFX9Vf63FD"
      },
      "execution_count": 10,
      "outputs": []
    },
    {
      "cell_type": "code",
      "execution_count": 12,
      "metadata": {
        "id": "vIEqiu78eWhY",
        "outputId": "dee6faa4-ff4e-4425-f293-d84b3ae25792",
        "colab": {
          "base_uri": "https://localhost:8080/"
        }
      },
      "outputs": [
        {
          "output_type": "stream",
          "name": "stdout",
          "text": [
            "W: Skipping acquire of configured file 'main/source/Sources' as repository 'https://r2u.stat.illinois.edu/ubuntu jammy InRelease' does not seem to provide it (sources.list entry misspelt?)\n"
          ]
        }
      ],
      "source": [
        "import sys, os\n",
        "\n",
        "!wget -q https://raw.githubusercontent.com/yandexdataschool/Practical_RL/master/setup_colab.sh -O- | bash\n",
        "!touch .setup_complete\n",
        "\n",
        "# This code creates a virtual display to draw game images on.\n",
        "# It will have no effect if your machine has a monitor.\n",
        "if type(os.environ.get(\"DISPLAY\")) is not str or len(os.environ.get(\"DISPLAY\")) == 0:\n",
        "    !bash ../xvfb start\n",
        "    os.environ['DISPLAY'] = ':1'"
      ]
    },
    {
      "cell_type": "code",
      "execution_count": 13,
      "metadata": {
        "id": "Yu97tzfzeWhb"
      },
      "outputs": [],
      "source": [
        "import numpy as np\n",
        "import matplotlib.pyplot as plt\n",
        "\n",
        "import torch\n",
        "import torch.nn as nn\n",
        "import time\n",
        "from copy import deepcopy\n",
        "from joblib import Parallel, delayed\n",
        "from IPython.display import clear_output\n",
        "from IPython import display\n",
        "\n",
        "%matplotlib inline"
      ]
    },
    {
      "cell_type": "markdown",
      "metadata": {
        "id": "rqGn4KVMeWhc"
      },
      "source": [
        "# OpenAI gym environment"
      ]
    },
    {
      "cell_type": "code",
      "execution_count": 35,
      "metadata": {
        "id": "WEFTU8kfeWhc",
        "outputId": "038b0cf5-1d71-4198-ba58-8d2901092cba",
        "colab": {
          "base_uri": "https://localhost:8080/",
          "height": 873
        }
      },
      "outputs": [
        {
          "output_type": "stream",
          "name": "stdout",
          "text": [
            "Initial observation: [ 0.0031615   0.04797926 -0.02837433 -0.02960745]\n"
          ]
        },
        {
          "output_type": "display_data",
          "data": {
            "text/plain": [
              "<Figure size 640x480 with 1 Axes>"
            ],
            "image/png": "[encoded data removed]"
          },
          "metadata": {}
        },
        {
          "output_type": "stream",
          "name": "stdout",
          "text": [
            "At each step it returns:\n",
            "new observation code: [ 0.00412109 -0.14672454 -0.02896648  0.25398976]\n",
            "reward: 1.0\n",
            "is game over?: False\n"
          ]
        },
        {
          "output_type": "display_data",
          "data": {
            "text/plain": [
              "<Figure size 640x480 with 1 Axes>"
            ],
            "image/png": "[encoded data removed]"
          },
          "metadata": {}
        },
        {
          "output_type": "stream",
          "name": "stdout",
          "text": [
            "Observation space: Box([-4.8               -inf -0.41887903        -inf], [4.8               inf 0.41887903        inf], (4,), float32)\n",
            "Action space: Discrete(2)\n",
            "State size: 4\n",
            "Number of actions: 2\n"
          ]
        }
      ],
      "source": [
        "import gymnasium as gym\n",
        "import matplotlib.pyplot as plt\n",
        "\n",
        "# Создаём окружение\n",
        "tmp_env = gym.make(\"CartPole-v0\", render_mode=\"rgb_array\")\n",
        "\n",
        "# Получаем размерность состояния и количество действий\n",
        "state_size = tmp_env.observation_space.shape[0]\n",
        "n_actions = tmp_env.action_space.n\n",
        "\n",
        "# Инициализация окружения\n",
        "initial_obs, initial_info = tmp_env.reset()\n",
        "print(\"Initial observation:\", initial_obs)\n",
        "\n",
        "# Визуализируем начальное состояние\n",
        "plt.imshow(tmp_env.render())\n",
        "plt.axis(\"off\")  # Отключаем оси\n",
        "plt.show()\n",
        "\n",
        "# Совершаем действие 0 и получаем результат\n",
        "new_s, reward, terminated, truncated, _ = tmp_env.step(0)\n",
        "done = terminated or truncated\n",
        "\n",
        "print(\"At each step it returns:\")\n",
        "print(\"new observation code:\", new_s)\n",
        "print(\"reward:\", reward)\n",
        "print(\"is game over?:\", done)\n",
        "\n",
        "# Визуализируем новое состояние\n",
        "plt.imshow(tmp_env.render())\n",
        "plt.axis(\"off\")\n",
        "plt.show()\n",
        "\n",
        "# Вывод информации о пространстве состояний и действиях\n",
        "print(\"Observation space:\", tmp_env.observation_space)\n",
        "print(\"Action space:\", tmp_env.action_space)\n",
        "print(\"State size:\", state_size)\n",
        "print(\"Number of actions:\", n_actions)\n",
        "\n",
        "# Закрываем окружение после использования\n",
        "tmp_env.close()"
      ]
    },
    {
      "cell_type": "markdown",
      "metadata": {
        "id": "62L4io82eWhe"
      },
      "source": [
        "### How to interact with the environment"
      ]
    },
    {
      "cell_type": "code",
      "execution_count": 40,
      "metadata": {
        "id": "n91pKQWKeWhe",
        "outputId": "337ba5d6-9ae7-431d-8779-60516d9d7920",
        "colab": {
          "base_uri": "https://localhost:8080/"
        }
      },
      "outputs": [
        {
          "output_type": "stream",
          "name": "stdout",
          "text": [
            "At each step it returns:\n",
            "new observation code: [-0.02259523 -0.9931848   0.04100101  1.4435692 ]\n",
            "reward: 1.0\n",
            "is game over?: False\n"
          ]
        }
      ],
      "source": [
        "# print(\"Initial observation:\", tmp_env.reset())\n",
        "new_s, reward, terminated, truncated, _ = tmp_env.step(0)\n",
        "# new_s, reward, done, _ = tmp_env.step(0)\n",
        "print(\"At each step it returns:\")\n",
        "\n",
        "print(\"new observation code:\", new_s)\n",
        "print(\"reward:\", reward)\n",
        "print(\"is game over?:\", done)"
      ]
    },
    {
      "cell_type": "markdown",
      "metadata": {
        "id": "c4LdxDQKeWhf"
      },
      "source": [
        "### Display an episode"
      ]
    },
    {
      "cell_type": "code",
      "execution_count": 52,
      "metadata": {
        "id": "kSh4FGy_eWhf"
      },
      "outputs": [],
      "source": [
        "def display_session(env, agent, t_max=500):\n",
        "    total_reward = 0\n",
        "    plt.figure(figsize=(4, 3))\n",
        "    display.clear_output(wait=True)\n",
        "\n",
        "    s = env.reset()[0]\n",
        "\n",
        "    for t in range(t_max):\n",
        "        plt.gca().clear()\n",
        "\n",
        "        a = agent.get_action(torch.tensor(s).float())\n",
        "        new_s, r, done, truncated, _ = env.step(a)\n",
        "        s = new_s\n",
        "        total_reward += r\n",
        "        # Draw game image on display.\n",
        "        plt.imshow(env.render())\n",
        "\n",
        "        display.display(plt.gcf())\n",
        "        display.clear_output(wait=True)\n",
        "\n",
        "        if done or truncated:\n",
        "            break\n",
        "\n",
        "    return total_reward"
      ]
    },
    {
      "cell_type": "markdown",
      "metadata": {
        "id": "Ibdu_zEbeWhg"
      },
      "source": [
        "### Random policy"
      ]
    },
    {
      "cell_type": "code",
      "execution_count": 53,
      "metadata": {
        "id": "tlmjpJl2eWhg"
      },
      "outputs": [],
      "source": [
        "class RandomPolicy:\n",
        "    def __init__(self, n_actions):\n",
        "        self.n_actions = n_actions\n",
        "\n",
        "    def get_action(self, state):\n",
        "        return np.random.choice(self.n_actions)"
      ]
    },
    {
      "cell_type": "code",
      "execution_count": 54,
      "metadata": {
        "id": "_IcD3enEeWhh",
        "outputId": "4bf29f23-6615-454f-aa1d-19f02bc54125",
        "colab": {
          "base_uri": "https://localhost:8080/",
          "height": 289
        }
      },
      "outputs": [
        {
          "output_type": "stream",
          "name": "stdout",
          "text": [
            "Total reward:  16.0\n"
          ]
        },
        {
          "output_type": "display_data",
          "data": {
            "text/plain": [
              "<Figure size 400x300 with 1 Axes>"
            ],
            "image/png": "[encoded data removed]"
          },
          "metadata": {}
        }
      ],
      "source": [
        "total_reward = display_session(tmp_env, RandomPolicy(n_actions))\n",
        "print('Total reward: ', total_reward)"
      ]
    },
    {
      "cell_type": "markdown",
      "metadata": {
        "id": "dpOQdFBSeWhh"
      },
      "source": [
        "# The challenge of the day"
      ]
    },
    {
      "cell_type": "markdown",
      "metadata": {
        "id": "CbYm95fUeWhh"
      },
      "source": [
        "![Algorithm](https://i.ibb.co/zFm6BrB/Screenshot-from-2021-09-17-13-38-00.png)"
      ]
    },
    {
      "cell_type": "markdown",
      "metadata": {
        "id": "thzYU-DVeWhh"
      },
      "source": [
        "### Model evaluation"
      ]
    },
    {
      "cell_type": "code",
      "execution_count": 57,
      "metadata": {
        "id": "7LqbSiMueWhi"
      },
      "outputs": [],
      "source": [
        "def generate_session(env, agent, t_max=500):\n",
        "    total_reward = 0\n",
        "    s = env.reset()[0]\n",
        "\n",
        "    for t in range(t_max):\n",
        "        a = agent.get_action(torch.tensor(s).float())\n",
        "        new_s, r, done, truncated, info = env.step(a)\n",
        "        total_reward += r\n",
        "        s = new_s\n",
        "\n",
        "        if done or truncated:\n",
        "            break\n",
        "\n",
        "    return total_reward\n",
        "\n",
        "\n",
        "def score(env, agent, n=10, t_max=500):\n",
        "    return np.mean([generate_session(env, agent, t_max) for _ in range(n)])"
      ]
    },
    {
      "cell_type": "markdown",
      "metadata": {
        "id": "P8buKQU9eWhi"
      },
      "source": [
        "### Modification of the model using a noise"
      ]
    },
    {
      "cell_type": "code",
      "source": [
        "state_size"
      ],
      "metadata": {
        "id": "unouRRQrq8rM",
        "outputId": "ea1c0ab5-bd5c-4b2f-8559-fbfca0b4c438",
        "colab": {
          "base_uri": "https://localhost:8080/"
        }
      },
      "execution_count": 58,
      "outputs": [
        {
          "output_type": "execute_result",
          "data": {
            "text/plain": [
              "4"
            ]
          },
          "metadata": {},
          "execution_count": 58
        }
      ]
    },
    {
      "cell_type": "code",
      "source": [
        "import torch\n",
        "import torch.nn as nn\n",
        "import torch.nn.functional as F\n",
        "\n",
        "model = nn.Sequential(\n",
        "    nn.Linear(state_size, 10),\n",
        "    nn.ReLU(),\n",
        "    nn.Linear(10, n_actions)\n",
        ")"
      ],
      "metadata": {
        "id": "jD5U79wNqeZn"
      },
      "execution_count": 59,
      "outputs": []
    },
    {
      "cell_type": "code",
      "source": [
        "params_vector = torch.cat([p.view(-1) for p in model.parameters()])\n",
        "params_vector.shape"
      ],
      "metadata": {
        "id": "QF04v4l9qkPs",
        "outputId": "8d0b0b9f-f1cd-41af-a5c3-a95db1ce2ce2",
        "colab": {
          "base_uri": "https://localhost:8080/"
        }
      },
      "execution_count": 60,
      "outputs": [
        {
          "output_type": "execute_result",
          "data": {
            "text/plain": [
              "torch.Size([72])"
            ]
          },
          "metadata": {},
          "execution_count": 60
        }
      ]
    },
    {
      "cell_type": "code",
      "execution_count": 76,
      "metadata": {
        "id": "3l2iLcDfeWhi"
      },
      "outputs": [],
      "source": [
        "def add_noise_to_model(model, noise, copy=False):\n",
        "    \"\"\"\n",
        "    Добавляет одномерный шум к параметрам модели.\n",
        "\n",
        "    :param model: модель, к которой добавляется шум\n",
        "    :param noise: одномерный шум, добавляемый к параметрам модели\n",
        "    :param copy: если True, то создается копия модели (по умолчанию False)\n",
        "    :return: зашумленная модель\n",
        "    \"\"\"\n",
        "    if copy:\n",
        "        # Создаем глубокую копию модели, если указано\n",
        "        model = deepcopy(model)\n",
        "\n",
        "    # Плоская версия всех параметров модели (одномерный тензор)\n",
        "    model_params_raveled = torch.cat([p.view(-1) for p in model.parameters()])\n",
        "\n",
        "    with torch.no_grad():\n",
        "        # Добавляем одномерный шум к плоским параметрам\n",
        "        model_params_raveled += noise\n",
        "\n",
        "        # Перезаписываем параметры модели с учетом шума\n",
        "        idx = 0\n",
        "        for param in model.parameters():\n",
        "            param_length = param.numel()  # Размер параметра\n",
        "            param.data = model_params_raveled[idx:idx + param_length].view(param.shape)\n",
        "            idx += param_length\n",
        "\n",
        "    return model"
      ]
    },
    {
      "cell_type": "code",
      "source": [
        "from sklearn.preprocessing import StandardScaler\n",
        "scaler = StandardScaler()\n",
        "def normalize_reward(rewards):\n",
        "  return scaler.fit_transform(np.array(rewards).reshape(-1, 1)).squeeze()"
      ],
      "metadata": {
        "id": "5aKGawzawL_F"
      },
      "execution_count": 77,
      "outputs": []
    },
    {
      "cell_type": "code",
      "source": [
        "normalize_reward([1, 2, 3, 4])"
      ],
      "metadata": {
        "id": "k3C1YVC8wePr",
        "outputId": "7613b5a1-83cc-406f-d002-952eb650a438",
        "colab": {
          "base_uri": "https://localhost:8080/"
        }
      },
      "execution_count": 78,
      "outputs": [
        {
          "output_type": "execute_result",
          "data": {
            "text/plain": [
              "array([-1.34164079, -0.4472136 ,  0.4472136 ,  1.34164079])"
            ]
          },
          "metadata": {},
          "execution_count": 78
        }
      ]
    },
    {
      "cell_type": "markdown",
      "metadata": {
        "id": "JBs7AIWteWhi"
      },
      "source": [
        "### Controller of the evolution\n",
        "\n",
        "#### Task 1: Implement the algorithm"
      ]
    },
    {
      "cell_type": "code",
      "execution_count": 112,
      "metadata": {
        "id": "FT6KpaWQeWhj"
      },
      "outputs": [],
      "source": [
        "class EvolutionManager:\n",
        "    def __init__(self, get_env_function, lr=0.001, std=0.01, n_samples = 64, normalize=True):\n",
        "        super().__init__()\n",
        "\n",
        "        self.lr = lr\n",
        "        self.std = std\n",
        "        self.normalize = normalize\n",
        "        self.n_samples = n_samples\n",
        "        self.mean_reward_history = []\n",
        "\n",
        "        self.env = get_env_function()\n",
        "\n",
        "    def get_noised_model(self, model):\n",
        "        noised_model = deepcopy(model)\n",
        "        with torch.no_grad():\n",
        "          for param in noised_model.parameters():\n",
        "              param += self.std * torch.randn_like(param)\n",
        "        return noised_model\n",
        "\n",
        "    def optimize(self, model, noises, rewards):\n",
        "        if self.normalize:\n",
        "          rewards = normalize_reward(rewards)\n",
        "\n",
        "        with torch.no_grad():\n",
        "          model_params_raveled = torch.cat([p.view(-1) for p in model.parameters()])\n",
        "          for i in range(len(noises)):\n",
        "            model_params_raveled += self.lr / (self.n_samples * self.std) * rewards[i] * noises[i]\n",
        "\n",
        "        idx = 0\n",
        "        for param in model.parameters():\n",
        "            param_length = param.numel()  # Количество элементов в параметре\n",
        "            param.data = model_params_raveled[idx:idx + param_length].view(param.shape)\n",
        "            idx += param_length\n",
        "\n",
        "\n",
        "    def step(self, model):\n",
        "        with torch.no_grad():\n",
        "          rewards = torch.zeros(self.n_samples)\n",
        "          model_params_raveled = torch.cat([p.view(-1) for p in model.parameters()])\n",
        "          noises = torch.stack([torch.randn_like(model_params_raveled) for i in range(self.n_samples)])\n",
        "\n",
        "          for i in range(self.n_samples):\n",
        "            noised_model = add_noise_to_model(model, noises[i], copy=True)\n",
        "            rewards[i] = score(self.env, noised_model)\n",
        "\n",
        "          self.update_log(np.array(rewards))\n",
        "          self.optimize(model, noises, rewards)\n",
        "\n",
        "\n",
        "    def update_log(self, rewards):\n",
        "        mean_reward = np.mean(rewards)\n",
        "        self.mean_reward_history.append(mean_reward)\n",
        "\n",
        "        clear_output(True)\n",
        "        print(\"last mean reward = %.3f\" % mean_reward)\n",
        "        plt.figure(figsize=[8, 4])\n",
        "        plt.subplot(1, 2, 1)\n",
        "        plt.plot(self.mean_reward_history, label='Mean rewards')\n",
        "        plt.legend()\n",
        "        plt.grid()\n",
        "\n",
        "        plt.subplot(1, 2, 2)\n",
        "        plt.hist(rewards)\n",
        "        plt.grid()\n",
        "\n",
        "        plt.show()\n",
        ""
      ]
    },
    {
      "cell_type": "code",
      "source": [
        "# evol_manager = EvolutionManager(get_env_function=lambda: gym.make('CartPole-v0').env)"
      ],
      "metadata": {
        "id": "A1F8ohKlnw8q"
      },
      "execution_count": 113,
      "outputs": []
    },
    {
      "cell_type": "markdown",
      "metadata": {
        "id": "Yyq19p29eWhj"
      },
      "source": [
        "#### Task 2: Implement a neural network-based policy"
      ]
    },
    {
      "cell_type": "markdown",
      "metadata": {
        "id": "tEhDeKfleWhj"
      },
      "source": [
        "### Neural policy"
      ]
    },
    {
      "cell_type": "code",
      "execution_count": 114,
      "metadata": {
        "id": "g80718azeWhj"
      },
      "outputs": [],
      "source": [
        "class MLPPolicy(nn.Module):\n",
        "    def __init__(self, state_size, n_actions):\n",
        "        super().__init__()\n",
        "        self.model = nn.Sequential(\n",
        "            nn.Linear(state_size, 10),\n",
        "            nn.ReLU(),\n",
        "            nn.Linear(10, n_actions),\n",
        "            nn.Softmax(dim=-1)\n",
        "        )\n",
        "\n",
        "    def get_action(self, state):\n",
        "        probs = self.model(state)\n",
        "        return np.random.choice(n_actions, p=probs.detach().numpy())"
      ]
    },
    {
      "cell_type": "markdown",
      "metadata": {
        "id": "lP1kXISJeWhj"
      },
      "source": [
        "### Environment 1: CartPole-v0"
      ]
    },
    {
      "cell_type": "code",
      "source": [
        "# np.mean([1, 2, 3])"
      ],
      "metadata": {
        "id": "5Ab165KxAAED"
      },
      "execution_count": 115,
      "outputs": []
    },
    {
      "cell_type": "code",
      "execution_count": 116,
      "metadata": {
        "id": "5Jkg6Wl1eWhk"
      },
      "outputs": [],
      "source": [
        "def get_env_function():\n",
        "    env = gym.make('CartPole-v0').env\n",
        "    return env"
      ]
    },
    {
      "cell_type": "code",
      "execution_count": 117,
      "metadata": {
        "id": "eE6W4uoEeWhk"
      },
      "outputs": [],
      "source": [
        "n_states = tmp_env.observation_space.shape[0]\n",
        "n_actions = tmp_env.action_space.n\n",
        "model = MLPPolicy(n_states, n_actions)"
      ]
    },
    {
      "cell_type": "code",
      "execution_count": 118,
      "metadata": {
        "id": "BrqDgb6neWhk",
        "outputId": "6f7efeb5-ef4f-42e7-f761-e406c7dfa8d1",
        "colab": {
          "base_uri": "https://localhost:8080/",
          "height": 779
        }
      },
      "outputs": [
        {
          "output_type": "stream",
          "name": "stdout",
          "text": [
            "last mean reward = 16.021\n"
          ]
        },
        {
          "output_type": "display_data",
          "data": {
            "text/plain": [
              "<Figure size 800x400 with 2 Axes>"
            ],
            "image/png": "[encoded data removed]"
          },
          "metadata": {}
        },
        {
          "output_type": "stream",
          "name": "stderr",
          "text": [
            "<ipython-input-77-a7220eb2b19b>:4: DeprecationWarning: __array__ implementation doesn't accept a copy keyword, so passing copy=False failed. __array__ must implement 'dtype' and 'copy' keyword arguments. To learn more, see the migration guide https://numpy.org/devdocs/numpy_2_0_migration_guide.html#adapting-to-changes-in-the-copy-keyword\n",
            "  return scaler.fit_transform(np.array(rewards).reshape(-1, 1)).squeeze()\n"
          ]
        },
        {
          "output_type": "stream",
          "name": "stdout",
          "text": [
            "2.598125457763672\n"
          ]
        },
        {
          "output_type": "error",
          "ename": "KeyboardInterrupt",
          "evalue": "",
          "traceback": [
            "\u001b[0;31m---------------------------------------------------------------------------\u001b[0m",
            "\u001b[0;31mKeyboardInterrupt\u001b[0m                         Traceback (most recent call last)",
            "\u001b[0;32m<ipython-input-118-6d3bb777d040>\u001b[0m in \u001b[0;36m<cell line: 0>\u001b[0;34m()\u001b[0m\n\u001b[1;32m      3\u001b[0m \u001b[0;32mfor\u001b[0m \u001b[0mi\u001b[0m \u001b[0;32min\u001b[0m \u001b[0mrange\u001b[0m\u001b[0;34m(\u001b[0m\u001b[0;36m100\u001b[0m\u001b[0;34m)\u001b[0m\u001b[0;34m:\u001b[0m\u001b[0;34m\u001b[0m\u001b[0;34m\u001b[0m\u001b[0m\n\u001b[1;32m      4\u001b[0m     \u001b[0mt\u001b[0m \u001b[0;34m=\u001b[0m \u001b[0mtime\u001b[0m\u001b[0;34m.\u001b[0m\u001b[0mtime\u001b[0m\u001b[0;34m(\u001b[0m\u001b[0;34m)\u001b[0m\u001b[0;34m\u001b[0m\u001b[0;34m\u001b[0m\u001b[0m\n\u001b[0;32m----> 5\u001b[0;31m     \u001b[0malgorithm\u001b[0m\u001b[0;34m.\u001b[0m\u001b[0mstep\u001b[0m\u001b[0;34m(\u001b[0m\u001b[0mmodel\u001b[0m\u001b[0;34m)\u001b[0m\u001b[0;34m\u001b[0m\u001b[0;34m\u001b[0m\u001b[0m\n\u001b[0m\u001b[1;32m      6\u001b[0m     \u001b[0mprint\u001b[0m\u001b[0;34m(\u001b[0m\u001b[0mtime\u001b[0m\u001b[0;34m.\u001b[0m\u001b[0mtime\u001b[0m\u001b[0;34m(\u001b[0m\u001b[0;34m)\u001b[0m \u001b[0;34m-\u001b[0m \u001b[0mt\u001b[0m\u001b[0;34m)\u001b[0m\u001b[0;34m\u001b[0m\u001b[0;34m\u001b[0m\u001b[0m\n",
            "\u001b[0;32m<ipython-input-112-1a09b975c41d>\u001b[0m in \u001b[0;36mstep\u001b[0;34m(self, model)\u001b[0m\n\u001b[1;32m     42\u001b[0m           \u001b[0;32mfor\u001b[0m \u001b[0mi\u001b[0m \u001b[0;32min\u001b[0m \u001b[0mrange\u001b[0m\u001b[0;34m(\u001b[0m\u001b[0mself\u001b[0m\u001b[0;34m.\u001b[0m\u001b[0mn_samples\u001b[0m\u001b[0;34m)\u001b[0m\u001b[0;34m:\u001b[0m\u001b[0;34m\u001b[0m\u001b[0;34m\u001b[0m\u001b[0m\n\u001b[1;32m     43\u001b[0m             \u001b[0mnoised_model\u001b[0m \u001b[0;34m=\u001b[0m \u001b[0madd_noise_to_model\u001b[0m\u001b[0;34m(\u001b[0m\u001b[0mmodel\u001b[0m\u001b[0;34m,\u001b[0m \u001b[0mnoises\u001b[0m\u001b[0;34m[\u001b[0m\u001b[0mi\u001b[0m\u001b[0;34m]\u001b[0m\u001b[0;34m,\u001b[0m \u001b[0mcopy\u001b[0m\u001b[0;34m=\u001b[0m\u001b[0;32mTrue\u001b[0m\u001b[0;34m)\u001b[0m\u001b[0;34m\u001b[0m\u001b[0;34m\u001b[0m\u001b[0m\n\u001b[0;32m---> 44\u001b[0;31m             \u001b[0mrewards\u001b[0m\u001b[0;34m[\u001b[0m\u001b[0mi\u001b[0m\u001b[0;34m]\u001b[0m \u001b[0;34m=\u001b[0m \u001b[0mscore\u001b[0m\u001b[0;34m(\u001b[0m\u001b[0mself\u001b[0m\u001b[0;34m.\u001b[0m\u001b[0menv\u001b[0m\u001b[0;34m,\u001b[0m \u001b[0mnoised_model\u001b[0m\u001b[0;34m)\u001b[0m\u001b[0;34m\u001b[0m\u001b[0;34m\u001b[0m\u001b[0m\n\u001b[0m\u001b[1;32m     45\u001b[0m \u001b[0;34m\u001b[0m\u001b[0m\n\u001b[1;32m     46\u001b[0m           \u001b[0mself\u001b[0m\u001b[0;34m.\u001b[0m\u001b[0mupdate_log\u001b[0m\u001b[0;34m(\u001b[0m\u001b[0mnp\u001b[0m\u001b[0;34m.\u001b[0m\u001b[0marray\u001b[0m\u001b[0;34m(\u001b[0m\u001b[0mrewards\u001b[0m\u001b[0;34m)\u001b[0m\u001b[0;34m)\u001b[0m\u001b[0;34m\u001b[0m\u001b[0;34m\u001b[0m\u001b[0m\n",
            "\u001b[0;32m<ipython-input-57-a07672617214>\u001b[0m in \u001b[0;36mscore\u001b[0;34m(env, agent, n, t_max)\u001b[0m\n\u001b[1;32m     16\u001b[0m \u001b[0;34m\u001b[0m\u001b[0m\n\u001b[1;32m     17\u001b[0m \u001b[0;32mdef\u001b[0m \u001b[0mscore\u001b[0m\u001b[0;34m(\u001b[0m\u001b[0menv\u001b[0m\u001b[0;34m,\u001b[0m \u001b[0magent\u001b[0m\u001b[0;34m,\u001b[0m \u001b[0mn\u001b[0m\u001b[0;34m=\u001b[0m\u001b[0;36m10\u001b[0m\u001b[0;34m,\u001b[0m \u001b[0mt_max\u001b[0m\u001b[0;34m=\u001b[0m\u001b[0;36m500\u001b[0m\u001b[0;34m)\u001b[0m\u001b[0;34m:\u001b[0m\u001b[0;34m\u001b[0m\u001b[0;34m\u001b[0m\u001b[0m\n\u001b[0;32m---> 18\u001b[0;31m     \u001b[0;32mreturn\u001b[0m \u001b[0mnp\u001b[0m\u001b[0;34m.\u001b[0m\u001b[0mmean\u001b[0m\u001b[0;34m(\u001b[0m\u001b[0;34m[\u001b[0m\u001b[0mgenerate_session\u001b[0m\u001b[0;34m(\u001b[0m\u001b[0menv\u001b[0m\u001b[0;34m,\u001b[0m \u001b[0magent\u001b[0m\u001b[0;34m,\u001b[0m \u001b[0mt_max\u001b[0m\u001b[0;34m)\u001b[0m \u001b[0;32mfor\u001b[0m \u001b[0m_\u001b[0m \u001b[0;32min\u001b[0m \u001b[0mrange\u001b[0m\u001b[0;34m(\u001b[0m\u001b[0mn\u001b[0m\u001b[0;34m)\u001b[0m\u001b[0;34m]\u001b[0m\u001b[0;34m)\u001b[0m\u001b[0;34m\u001b[0m\u001b[0;34m\u001b[0m\u001b[0m\n\u001b[0m",
            "\u001b[0;32m<ipython-input-57-a07672617214>\u001b[0m in \u001b[0;36m<listcomp>\u001b[0;34m(.0)\u001b[0m\n\u001b[1;32m     16\u001b[0m \u001b[0;34m\u001b[0m\u001b[0m\n\u001b[1;32m     17\u001b[0m \u001b[0;32mdef\u001b[0m \u001b[0mscore\u001b[0m\u001b[0;34m(\u001b[0m\u001b[0menv\u001b[0m\u001b[0;34m,\u001b[0m \u001b[0magent\u001b[0m\u001b[0;34m,\u001b[0m \u001b[0mn\u001b[0m\u001b[0;34m=\u001b[0m\u001b[0;36m10\u001b[0m\u001b[0;34m,\u001b[0m \u001b[0mt_max\u001b[0m\u001b[0;34m=\u001b[0m\u001b[0;36m500\u001b[0m\u001b[0;34m)\u001b[0m\u001b[0;34m:\u001b[0m\u001b[0;34m\u001b[0m\u001b[0;34m\u001b[0m\u001b[0m\n\u001b[0;32m---> 18\u001b[0;31m     \u001b[0;32mreturn\u001b[0m \u001b[0mnp\u001b[0m\u001b[0;34m.\u001b[0m\u001b[0mmean\u001b[0m\u001b[0;34m(\u001b[0m\u001b[0;34m[\u001b[0m\u001b[0mgenerate_session\u001b[0m\u001b[0;34m(\u001b[0m\u001b[0menv\u001b[0m\u001b[0;34m,\u001b[0m \u001b[0magent\u001b[0m\u001b[0;34m,\u001b[0m \u001b[0mt_max\u001b[0m\u001b[0;34m)\u001b[0m \u001b[0;32mfor\u001b[0m \u001b[0m_\u001b[0m \u001b[0;32min\u001b[0m \u001b[0mrange\u001b[0m\u001b[0;34m(\u001b[0m\u001b[0mn\u001b[0m\u001b[0;34m)\u001b[0m\u001b[0;34m]\u001b[0m\u001b[0;34m)\u001b[0m\u001b[0;34m\u001b[0m\u001b[0;34m\u001b[0m\u001b[0m\n\u001b[0m",
            "\u001b[0;32m<ipython-input-57-a07672617214>\u001b[0m in \u001b[0;36mgenerate_session\u001b[0;34m(env, agent, t_max)\u001b[0m\n\u001b[1;32m      4\u001b[0m \u001b[0;34m\u001b[0m\u001b[0m\n\u001b[1;32m      5\u001b[0m     \u001b[0;32mfor\u001b[0m \u001b[0mt\u001b[0m \u001b[0;32min\u001b[0m \u001b[0mrange\u001b[0m\u001b[0;34m(\u001b[0m\u001b[0mt_max\u001b[0m\u001b[0;34m)\u001b[0m\u001b[0;34m:\u001b[0m\u001b[0;34m\u001b[0m\u001b[0;34m\u001b[0m\u001b[0m\n\u001b[0;32m----> 6\u001b[0;31m         \u001b[0ma\u001b[0m \u001b[0;34m=\u001b[0m \u001b[0magent\u001b[0m\u001b[0;34m.\u001b[0m\u001b[0mget_action\u001b[0m\u001b[0;34m(\u001b[0m\u001b[0mtorch\u001b[0m\u001b[0;34m.\u001b[0m\u001b[0mtensor\u001b[0m\u001b[0;34m(\u001b[0m\u001b[0ms\u001b[0m\u001b[0;34m)\u001b[0m\u001b[0;34m.\u001b[0m\u001b[0mfloat\u001b[0m\u001b[0;34m(\u001b[0m\u001b[0;34m)\u001b[0m\u001b[0;34m)\u001b[0m\u001b[0;34m\u001b[0m\u001b[0;34m\u001b[0m\u001b[0m\n\u001b[0m\u001b[1;32m      7\u001b[0m         \u001b[0mnew_s\u001b[0m\u001b[0;34m,\u001b[0m \u001b[0mr\u001b[0m\u001b[0;34m,\u001b[0m \u001b[0mdone\u001b[0m\u001b[0;34m,\u001b[0m \u001b[0mtruncated\u001b[0m\u001b[0;34m,\u001b[0m \u001b[0minfo\u001b[0m \u001b[0;34m=\u001b[0m \u001b[0menv\u001b[0m\u001b[0;34m.\u001b[0m\u001b[0mstep\u001b[0m\u001b[0;34m(\u001b[0m\u001b[0ma\u001b[0m\u001b[0;34m)\u001b[0m\u001b[0;34m\u001b[0m\u001b[0;34m\u001b[0m\u001b[0m\n\u001b[1;32m      8\u001b[0m         \u001b[0mtotal_reward\u001b[0m \u001b[0;34m+=\u001b[0m \u001b[0mr\u001b[0m\u001b[0;34m\u001b[0m\u001b[0;34m\u001b[0m\u001b[0m\n",
            "\u001b[0;32m<ipython-input-114-7ef9dd33099b>\u001b[0m in \u001b[0;36mget_action\u001b[0;34m(self, state)\u001b[0m\n\u001b[1;32m     10\u001b[0m \u001b[0;34m\u001b[0m\u001b[0m\n\u001b[1;32m     11\u001b[0m     \u001b[0;32mdef\u001b[0m \u001b[0mget_action\u001b[0m\u001b[0;34m(\u001b[0m\u001b[0mself\u001b[0m\u001b[0;34m,\u001b[0m \u001b[0mstate\u001b[0m\u001b[0;34m)\u001b[0m\u001b[0;34m:\u001b[0m\u001b[0;34m\u001b[0m\u001b[0;34m\u001b[0m\u001b[0m\n\u001b[0;32m---> 12\u001b[0;31m         \u001b[0mprobs\u001b[0m \u001b[0;34m=\u001b[0m \u001b[0mself\u001b[0m\u001b[0;34m.\u001b[0m\u001b[0mmodel\u001b[0m\u001b[0;34m(\u001b[0m\u001b[0mstate\u001b[0m\u001b[0;34m)\u001b[0m\u001b[0;34m\u001b[0m\u001b[0;34m\u001b[0m\u001b[0m\n\u001b[0m\u001b[1;32m     13\u001b[0m         \u001b[0;32mreturn\u001b[0m \u001b[0mnp\u001b[0m\u001b[0;34m.\u001b[0m\u001b[0mrandom\u001b[0m\u001b[0;34m.\u001b[0m\u001b[0mchoice\u001b[0m\u001b[0;34m(\u001b[0m\u001b[0mn_actions\u001b[0m\u001b[0;34m,\u001b[0m \u001b[0mp\u001b[0m\u001b[0;34m=\u001b[0m\u001b[0mprobs\u001b[0m\u001b[0;34m.\u001b[0m\u001b[0mdetach\u001b[0m\u001b[0;34m(\u001b[0m\u001b[0;34m)\u001b[0m\u001b[0;34m.\u001b[0m\u001b[0mnumpy\u001b[0m\u001b[0;34m(\u001b[0m\u001b[0;34m)\u001b[0m\u001b[0;34m)\u001b[0m\u001b[0;34m\u001b[0m\u001b[0;34m\u001b[0m\u001b[0m\n",
            "\u001b[0;32m/usr/local/lib/python3.11/dist-packages/torch/nn/modules/module.py\u001b[0m in \u001b[0;36m_wrapped_call_impl\u001b[0;34m(self, *args, **kwargs)\u001b[0m\n\u001b[1;32m   1737\u001b[0m             \u001b[0;32mreturn\u001b[0m \u001b[0mself\u001b[0m\u001b[0;34m.\u001b[0m\u001b[0m_compiled_call_impl\u001b[0m\u001b[0;34m(\u001b[0m\u001b[0;34m*\u001b[0m\u001b[0margs\u001b[0m\u001b[0;34m,\u001b[0m \u001b[0;34m**\u001b[0m\u001b[0mkwargs\u001b[0m\u001b[0;34m)\u001b[0m  \u001b[0;31m# type: ignore[misc]\u001b[0m\u001b[0;34m\u001b[0m\u001b[0;34m\u001b[0m\u001b[0m\n\u001b[1;32m   1738\u001b[0m         \u001b[0;32melse\u001b[0m\u001b[0;34m:\u001b[0m\u001b[0;34m\u001b[0m\u001b[0;34m\u001b[0m\u001b[0m\n\u001b[0;32m-> 1739\u001b[0;31m             \u001b[0;32mreturn\u001b[0m \u001b[0mself\u001b[0m\u001b[0;34m.\u001b[0m\u001b[0m_call_impl\u001b[0m\u001b[0;34m(\u001b[0m\u001b[0;34m*\u001b[0m\u001b[0margs\u001b[0m\u001b[0;34m,\u001b[0m \u001b[0;34m**\u001b[0m\u001b[0mkwargs\u001b[0m\u001b[0;34m)\u001b[0m\u001b[0;34m\u001b[0m\u001b[0;34m\u001b[0m\u001b[0m\n\u001b[0m\u001b[1;32m   1740\u001b[0m \u001b[0;34m\u001b[0m\u001b[0m\n\u001b[1;32m   1741\u001b[0m     \u001b[0;31m# torchrec tests the code consistency with the following code\u001b[0m\u001b[0;34m\u001b[0m\u001b[0;34m\u001b[0m\u001b[0m\n",
            "\u001b[0;32m/usr/local/lib/python3.11/dist-packages/torch/nn/modules/module.py\u001b[0m in \u001b[0;36m_call_impl\u001b[0;34m(self, *args, **kwargs)\u001b[0m\n\u001b[1;32m   1748\u001b[0m                 \u001b[0;32mor\u001b[0m \u001b[0m_global_backward_pre_hooks\u001b[0m \u001b[0;32mor\u001b[0m \u001b[0m_global_backward_hooks\u001b[0m\u001b[0;34m\u001b[0m\u001b[0;34m\u001b[0m\u001b[0m\n\u001b[1;32m   1749\u001b[0m                 or _global_forward_hooks or _global_forward_pre_hooks):\n\u001b[0;32m-> 1750\u001b[0;31m             \u001b[0;32mreturn\u001b[0m \u001b[0mforward_call\u001b[0m\u001b[0;34m(\u001b[0m\u001b[0;34m*\u001b[0m\u001b[0margs\u001b[0m\u001b[0;34m,\u001b[0m \u001b[0;34m**\u001b[0m\u001b[0mkwargs\u001b[0m\u001b[0;34m)\u001b[0m\u001b[0;34m\u001b[0m\u001b[0;34m\u001b[0m\u001b[0m\n\u001b[0m\u001b[1;32m   1751\u001b[0m \u001b[0;34m\u001b[0m\u001b[0m\n\u001b[1;32m   1752\u001b[0m         \u001b[0mresult\u001b[0m \u001b[0;34m=\u001b[0m \u001b[0;32mNone\u001b[0m\u001b[0;34m\u001b[0m\u001b[0;34m\u001b[0m\u001b[0m\n",
            "\u001b[0;32m/usr/local/lib/python3.11/dist-packages/torch/nn/modules/container.py\u001b[0m in \u001b[0;36mforward\u001b[0;34m(self, input)\u001b[0m\n\u001b[1;32m    248\u001b[0m     \u001b[0;32mdef\u001b[0m \u001b[0mforward\u001b[0m\u001b[0;34m(\u001b[0m\u001b[0mself\u001b[0m\u001b[0;34m,\u001b[0m \u001b[0minput\u001b[0m\u001b[0;34m)\u001b[0m\u001b[0;34m:\u001b[0m\u001b[0;34m\u001b[0m\u001b[0;34m\u001b[0m\u001b[0m\n\u001b[1;32m    249\u001b[0m         \u001b[0;32mfor\u001b[0m \u001b[0mmodule\u001b[0m \u001b[0;32min\u001b[0m \u001b[0mself\u001b[0m\u001b[0;34m:\u001b[0m\u001b[0;34m\u001b[0m\u001b[0;34m\u001b[0m\u001b[0m\n\u001b[0;32m--> 250\u001b[0;31m             \u001b[0minput\u001b[0m \u001b[0;34m=\u001b[0m \u001b[0mmodule\u001b[0m\u001b[0;34m(\u001b[0m\u001b[0minput\u001b[0m\u001b[0;34m)\u001b[0m\u001b[0;34m\u001b[0m\u001b[0;34m\u001b[0m\u001b[0m\n\u001b[0m\u001b[1;32m    251\u001b[0m         \u001b[0;32mreturn\u001b[0m \u001b[0minput\u001b[0m\u001b[0;34m\u001b[0m\u001b[0;34m\u001b[0m\u001b[0m\n\u001b[1;32m    252\u001b[0m \u001b[0;34m\u001b[0m\u001b[0m\n",
            "\u001b[0;32m/usr/local/lib/python3.11/dist-packages/torch/nn/modules/module.py\u001b[0m in \u001b[0;36m_wrapped_call_impl\u001b[0;34m(self, *args, **kwargs)\u001b[0m\n\u001b[1;32m   1737\u001b[0m             \u001b[0;32mreturn\u001b[0m \u001b[0mself\u001b[0m\u001b[0;34m.\u001b[0m\u001b[0m_compiled_call_impl\u001b[0m\u001b[0;34m(\u001b[0m\u001b[0;34m*\u001b[0m\u001b[0margs\u001b[0m\u001b[0;34m,\u001b[0m \u001b[0;34m**\u001b[0m\u001b[0mkwargs\u001b[0m\u001b[0;34m)\u001b[0m  \u001b[0;31m# type: ignore[misc]\u001b[0m\u001b[0;34m\u001b[0m\u001b[0;34m\u001b[0m\u001b[0m\n\u001b[1;32m   1738\u001b[0m         \u001b[0;32melse\u001b[0m\u001b[0;34m:\u001b[0m\u001b[0;34m\u001b[0m\u001b[0;34m\u001b[0m\u001b[0m\n\u001b[0;32m-> 1739\u001b[0;31m             \u001b[0;32mreturn\u001b[0m \u001b[0mself\u001b[0m\u001b[0;34m.\u001b[0m\u001b[0m_call_impl\u001b[0m\u001b[0;34m(\u001b[0m\u001b[0;34m*\u001b[0m\u001b[0margs\u001b[0m\u001b[0;34m,\u001b[0m \u001b[0;34m**\u001b[0m\u001b[0mkwargs\u001b[0m\u001b[0;34m)\u001b[0m\u001b[0;34m\u001b[0m\u001b[0;34m\u001b[0m\u001b[0m\n\u001b[0m\u001b[1;32m   1740\u001b[0m \u001b[0;34m\u001b[0m\u001b[0m\n\u001b[1;32m   1741\u001b[0m     \u001b[0;31m# torchrec tests the code consistency with the following code\u001b[0m\u001b[0;34m\u001b[0m\u001b[0;34m\u001b[0m\u001b[0m\n",
            "\u001b[0;32m/usr/local/lib/python3.11/dist-packages/torch/nn/modules/module.py\u001b[0m in \u001b[0;36m_call_impl\u001b[0;34m(self, *args, **kwargs)\u001b[0m\n\u001b[1;32m   1748\u001b[0m                 \u001b[0;32mor\u001b[0m \u001b[0m_global_backward_pre_hooks\u001b[0m \u001b[0;32mor\u001b[0m \u001b[0m_global_backward_hooks\u001b[0m\u001b[0;34m\u001b[0m\u001b[0;34m\u001b[0m\u001b[0m\n\u001b[1;32m   1749\u001b[0m                 or _global_forward_hooks or _global_forward_pre_hooks):\n\u001b[0;32m-> 1750\u001b[0;31m             \u001b[0;32mreturn\u001b[0m \u001b[0mforward_call\u001b[0m\u001b[0;34m(\u001b[0m\u001b[0;34m*\u001b[0m\u001b[0margs\u001b[0m\u001b[0;34m,\u001b[0m \u001b[0;34m**\u001b[0m\u001b[0mkwargs\u001b[0m\u001b[0;34m)\u001b[0m\u001b[0;34m\u001b[0m\u001b[0;34m\u001b[0m\u001b[0m\n\u001b[0m\u001b[1;32m   1751\u001b[0m \u001b[0;34m\u001b[0m\u001b[0m\n\u001b[1;32m   1752\u001b[0m         \u001b[0mresult\u001b[0m \u001b[0;34m=\u001b[0m \u001b[0;32mNone\u001b[0m\u001b[0;34m\u001b[0m\u001b[0;34m\u001b[0m\u001b[0m\n",
            "\u001b[0;32m/usr/local/lib/python3.11/dist-packages/torch/nn/modules/linear.py\u001b[0m in \u001b[0;36mforward\u001b[0;34m(self, input)\u001b[0m\n\u001b[1;32m    123\u001b[0m \u001b[0;34m\u001b[0m\u001b[0m\n\u001b[1;32m    124\u001b[0m     \u001b[0;32mdef\u001b[0m \u001b[0mforward\u001b[0m\u001b[0;34m(\u001b[0m\u001b[0mself\u001b[0m\u001b[0;34m,\u001b[0m \u001b[0minput\u001b[0m\u001b[0;34m:\u001b[0m \u001b[0mTensor\u001b[0m\u001b[0;34m)\u001b[0m \u001b[0;34m->\u001b[0m \u001b[0mTensor\u001b[0m\u001b[0;34m:\u001b[0m\u001b[0;34m\u001b[0m\u001b[0;34m\u001b[0m\u001b[0m\n\u001b[0;32m--> 125\u001b[0;31m         \u001b[0;32mreturn\u001b[0m \u001b[0mF\u001b[0m\u001b[0;34m.\u001b[0m\u001b[0mlinear\u001b[0m\u001b[0;34m(\u001b[0m\u001b[0minput\u001b[0m\u001b[0;34m,\u001b[0m \u001b[0mself\u001b[0m\u001b[0;34m.\u001b[0m\u001b[0mweight\u001b[0m\u001b[0;34m,\u001b[0m \u001b[0mself\u001b[0m\u001b[0;34m.\u001b[0m\u001b[0mbias\u001b[0m\u001b[0;34m)\u001b[0m\u001b[0;34m\u001b[0m\u001b[0;34m\u001b[0m\u001b[0m\n\u001b[0m\u001b[1;32m    126\u001b[0m \u001b[0;34m\u001b[0m\u001b[0m\n\u001b[1;32m    127\u001b[0m     \u001b[0;32mdef\u001b[0m \u001b[0mextra_repr\u001b[0m\u001b[0;34m(\u001b[0m\u001b[0mself\u001b[0m\u001b[0;34m)\u001b[0m \u001b[0;34m->\u001b[0m \u001b[0mstr\u001b[0m\u001b[0;34m:\u001b[0m\u001b[0;34m\u001b[0m\u001b[0;34m\u001b[0m\u001b[0m\n",
            "\u001b[0;31mKeyboardInterrupt\u001b[0m: "
          ]
        }
      ],
      "source": [
        "algorithm = EvolutionManager(get_env_function, n_samples=100)\n",
        "\n",
        "for i in range(100):\n",
        "    t = time.time()\n",
        "    algorithm.step(model)\n",
        "    print(time.time() - t)"
      ]
    },
    {
      "cell_type": "markdown",
      "metadata": {
        "id": "1FY72Kg3eWhl"
      },
      "source": [
        "#### Task 3: Implement and compare the parallelized version of the algorithm"
      ]
    },
    {
      "cell_type": "code",
      "execution_count": null,
      "metadata": {
        "id": "E621s_8seWhl"
      },
      "outputs": [],
      "source": [
        "model = <>"
      ]
    },
    {
      "cell_type": "code",
      "execution_count": null,
      "metadata": {
        "id": "RGejb_SceWhl",
        "outputId": "3f4b08ae-8fe7-4b3c-ae74-ed6bb5f75f5a"
      },
      "outputs": [
        {
          "name": "stdout",
          "output_type": "stream",
          "text": [
            "last mean reward = 353.210\n"
          ]
        },
        {
          "data": {
            "image/png": "[encoded data removed]",
            "text/plain": [
              "<Figure size 576x288 with 2 Axes>"
            ]
          },
          "metadata": {
            "needs_background": "light"
          },
          "output_type": "display_data"
        },
        {
          "name": "stdout",
          "output_type": "stream",
          "text": [
            "26.267060041427612\n"
          ]
        }
      ],
      "source": [
        "algorithm = <>\n",
        "\n",
        "for i in range(15):\n",
        "    t = time.time()\n",
        "    algorithm.step(model)\n",
        "    print(time.time() - t)"
      ]
    },
    {
      "cell_type": "markdown",
      "metadata": {
        "id": "gXvwyv98eWhm"
      },
      "source": [
        "### Environment 2: LunarLanderContinuous-v2"
      ]
    },
    {
      "cell_type": "code",
      "execution_count": null,
      "metadata": {
        "id": "4oP5qc0XeWhm",
        "outputId": "10afa0a5-ed3a-4c7d-9eb0-f2f57d9873b3"
      },
      "outputs": [
        {
          "name": "stdout",
          "output_type": "stream",
          "text": [
            "last mean reward = 155.350\n"
          ]
        },
        {
          "data": {
            "image/png": "[encoded data removed]",
            "text/plain": [
              "<Figure size 576x288 with 2 Axes>"
            ]
          },
          "metadata": {
            "needs_background": "light"
          },
          "output_type": "display_data"
        }
      ],
      "source": [
        "def get_env_function():\n",
        "    env = gym.make('LunarLanderContinuous-v2').env\n",
        "    return env\n",
        "tmp_env = get_env_function()\n",
        "n_states = tmp_env.observation_space.shape[0]\n",
        "n_actions = tmp_env.action_space.shape[0]\n",
        "model = <>\n",
        "algorithm = <>\n",
        "for i in range(1000):\n",
        "    algorithm.step(model)"
      ]
    },
    {
      "cell_type": "code",
      "execution_count": null,
      "metadata": {
        "id": "SW1GjuRXeWhm",
        "outputId": "9f521dc1-97ad-4aaa-d591-af9cedf50f63"
      },
      "outputs": [
        {
          "data": {
            "text/plain": [
              "297.1928817226966"
            ]
          },
          "execution_count": 17,
          "metadata": {},
          "output_type": "execute_result"
        },
        {
          "data": {
            "image/png": "[encoded data removed]",
            "text/plain": [
              "<Figure size 288x216 with 1 Axes>"
            ]
          },
          "metadata": {
            "needs_background": "light"
          },
          "output_type": "display_data"
        }
      ],
      "source": [
        "display_session(tmp_env, model, t_max=500)"
      ]
    },
    {
      "cell_type": "markdown",
      "metadata": {
        "id": "yJI7Y9tWeWhn"
      },
      "source": [
        "### Task 3: Hyperparameter's analysis"
      ]
    },
    {
      "cell_type": "markdown",
      "metadata": {
        "id": "sthGqJbLeWhn"
      },
      "source": [
        "Now we are going to do some experimental analysis of the algorithm.\n",
        "\n",
        "Plan:\n",
        "- to learn something about the *std* parameter\n",
        "- to learn something about the *learning rate* parameter\n",
        "- to learn something about the *n_samples* parameter"
      ]
    },
    {
      "cell_type": "code",
      "execution_count": null,
      "metadata": {
        "id": "7eBmn92aeWhn"
      },
      "outputs": [],
      "source": []
    }
  ],
  "metadata": {
    "kernelspec": {
      "display_name": "Python 3",
      "language": "python",
      "name": "python3"
    },
    "language_info": {
      "codemirror_mode": {
        "name": "ipython",
        "version": 3
      },
      "file_extension": ".py",
      "mimetype": "text/x-python",
      "name": "python",
      "nbconvert_exporter": "python",
      "pygments_lexer": "ipython3",
      "version": "3.8.5"
    },
    "colab": {
      "provenance": []
    }
  },
  "nbformat": 4,
  "nbformat_minor": 0
}